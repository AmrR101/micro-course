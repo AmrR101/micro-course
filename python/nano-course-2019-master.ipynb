{
 "cells": [
  {
   "cell_type": "markdown",
   "metadata": {
    "toc-hr-collapsed": false
   },
   "source": [
    "# A bioinformatics exercise\n",
    "This notebook uses a small bioinformatics exercise to show aspects of the Python programming \n",
    "language in the context of a real(ish) data processing activity.\n",
    "\n",
    "We will be reading, writing, and manipulating text files and running a small sequence alignment\n",
    "program.  Over the course of this we will cover programming topics such as:\n",
    "\n",
    "   * Built-in Python types including strings, ints, floats\n",
    "   * Python code blocks including if/then/else, for loops, functions,\n",
    "     and context managers\n",
    "   * Data structures like lists and dictionaries\n",
    "   * System calls, including multiprocessing Pools\n",
    "   \n",
    "Additional topics including Python packages and environments and the object-orientation of Python\n",
    "will be covered elsewhere.\n",
    "\n",
    "In this course we will often demonstrate something and then follow that with a quick excercise where you try something.  Then we'll go over what it should have looked like and take any questions. "
   ]
  },
  {
   "cell_type": "markdown",
   "metadata": {},
   "source": [
    "# 1. Navigating [JupyterLab](https://jupyterlab.readthedocs.io/)\n",
    "    \n",
    "  * you've already discovered the lefthand file navigator, double click to open files or enter a folder\n",
    "  * you will notice some blocks are text and some are code boxes\n",
    "  * double click on a text block and you will see the mark down version\n",
    "  * notice there is a play botton at the top of the file\n",
    "  * inside the text block you clicked on push the play button to see the formatted text\n",
    "  * code blocks are interpreted by python click in the code block below and type 1, then push the play button\n",
    "  * you will see the output of the code below the code block (note that you cannot click on this)\n",
    "  * jupyter by default gives any output of the last line in the code block\n",
    "  * jupyter also displays any output from functions in the code block\n"
   ]
  },
  {
   "cell_type": "code",
   "execution_count": 29,
   "metadata": {},
   "outputs": [
    {
     "data": {
      "text/plain": [
       "1"
      ]
     },
     "execution_count": 29,
     "metadata": {},
     "output_type": "execute_result"
    }
   ],
   "source": [
    "1"
   ]
  },
  {
   "cell_type": "code",
   "execution_count": 30,
   "metadata": {},
   "outputs": [
    {
     "data": {
      "text/plain": [
       "3"
      ]
     },
     "execution_count": 30,
     "metadata": {},
     "output_type": "execute_result"
    }
   ],
   "source": [
    "1\n",
    "2\n",
    "3"
   ]
  },
  {
   "cell_type": "code",
   "execution_count": 31,
   "metadata": {},
   "outputs": [
    {
     "name": "stdout",
     "output_type": "stream",
     "text": [
      "1\n",
      "2\n"
     ]
    },
    {
     "data": {
      "text/plain": [
       "3"
      ]
     },
     "execution_count": 31,
     "metadata": {},
     "output_type": "execute_result"
    }
   ],
   "source": [
    "print(1)\n",
    "print(2)\n",
    "3"
   ]
  },
  {
   "cell_type": "markdown",
   "metadata": {},
   "source": [
    "# 2. Numbers and strings at the interactive interpreter"
   ]
  },
  {
   "cell_type": "markdown",
   "metadata": {},
   "source": [
    "Math works as expected "
   ]
  },
  {
   "cell_type": "code",
   "execution_count": 32,
   "metadata": {},
   "outputs": [
    {
     "data": {
      "text/plain": [
       "2"
      ]
     },
     "execution_count": 32,
     "metadata": {},
     "output_type": "execute_result"
    }
   ],
   "source": [
    "1+1"
   ]
  },
  {
   "cell_type": "markdown",
   "metadata": {},
   "source": [
    "Strings are output by the interpreter with single quotes"
   ]
  },
  {
   "cell_type": "code",
   "execution_count": 33,
   "metadata": {},
   "outputs": [
    {
     "data": {
      "text/plain": [
       "'hello world'"
      ]
     },
     "execution_count": 33,
     "metadata": {},
     "output_type": "execute_result"
    }
   ],
   "source": [
    "'hello world'"
   ]
  },
  {
   "cell_type": "markdown",
   "metadata": {},
   "source": [
    "# 3. Hello world with the print function"
   ]
  },
  {
   "cell_type": "markdown",
   "metadata": {},
   "source": [
    "Let's try one more hello world, type \"print('hello world')\""
   ]
  },
  {
   "cell_type": "code",
   "execution_count": 34,
   "metadata": {},
   "outputs": [
    {
     "name": "stdout",
     "output_type": "stream",
     "text": [
      "hello world\n"
     ]
    }
   ],
   "source": [
    "print('hello world')"
   ]
  },
  {
   "cell_type": "markdown",
   "metadata": {},
   "source": [
    "print is a builtin python language function and 'hello world' is a parameter passed to the function.\n",
    "\n",
    "python language is open source:\n",
    "\n",
    "https://github.com/python/cpython/blob/master/Python/bltinmodule.c#L1821\n",
    "\n",
    "More about functions shortly."
   ]
  },
  {
   "cell_type": "markdown",
   "metadata": {},
   "source": [
    "# 4. Python types and variables"
   ]
  },
  {
   "cell_type": "markdown",
   "metadata": {},
   "source": [
    "Rahter than working with raw numbers and strings at the interpreter it can be handy to assign them to variables that can be used multiple times"
   ]
  },
  {
   "cell_type": "markdown",
   "metadata": {},
   "source": [
    "Let's create a variable called string (the name is a spoiler alert for the type, ha). In Python, the equal sign means \"assignment\".  Double equal (\"==\") tests equality."
   ]
  },
  {
   "cell_type": "code",
   "execution_count": 35,
   "metadata": {},
   "outputs": [],
   "source": [
    "string = 'hello world'"
   ]
  },
  {
   "cell_type": "code",
   "execution_count": 36,
   "metadata": {},
   "outputs": [
    {
     "name": "stdout",
     "output_type": "stream",
     "text": [
      "hello world\n"
     ]
    }
   ],
   "source": [
    "print(string)"
   ]
  },
  {
   "cell_type": "markdown",
   "metadata": {},
   "source": [
    "Use the function type() to see what python type 'hello world' is"
   ]
  },
  {
   "cell_type": "code",
   "execution_count": 37,
   "metadata": {},
   "outputs": [
    {
     "data": {
      "text/plain": [
       "str"
      ]
     },
     "execution_count": 37,
     "metadata": {},
     "output_type": "execute_result"
    }
   ],
   "source": [
    "type('hello world')"
   ]
  },
  {
   "cell_type": "markdown",
   "metadata": {},
   "source": [
    "All variables are objects in python, we'll examine more of what that means later, but str is a type of object.   Our variable string points to an object of the type str."
   ]
  },
  {
   "cell_type": "code",
   "execution_count": 38,
   "metadata": {},
   "outputs": [
    {
     "data": {
      "text/plain": [
       "str"
      ]
     },
     "execution_count": 38,
     "metadata": {},
     "output_type": "execute_result"
    }
   ],
   "source": [
    "type(string)"
   ]
  },
  {
   "cell_type": "markdown",
   "metadata": {},
   "source": [
    "### Exercise 4.1: Let's try some of Python's basic types"
   ]
  },
  {
   "cell_type": "markdown",
   "metadata": {},
   "source": [
    "Set a variable called number to 1, then check the type"
   ]
  },
  {
   "cell_type": "code",
   "execution_count": 39,
   "metadata": {},
   "outputs": [
    {
     "data": {
      "text/plain": [
       "int"
      ]
     },
     "execution_count": 39,
     "metadata": {},
     "output_type": "execute_result"
    }
   ],
   "source": [
    "number = 1\n",
    "type(number)"
   ]
  },
  {
   "cell_type": "markdown",
   "metadata": {},
   "source": [
    "Set a variable called number to '1' and see what the type is then"
   ]
  },
  {
   "cell_type": "code",
   "execution_count": 40,
   "metadata": {},
   "outputs": [
    {
     "data": {
      "text/plain": [
       "str"
      ]
     },
     "execution_count": 40,
     "metadata": {},
     "output_type": "execute_result"
    }
   ],
   "source": [
    "number = '1'\n",
    "type(number)"
   ]
  },
  {
   "cell_type": "markdown",
   "metadata": {},
   "source": [
    "Set a varialbe to the number 1.5 and see what type it is"
   ]
  },
  {
   "cell_type": "code",
   "execution_count": 41,
   "metadata": {},
   "outputs": [
    {
     "data": {
      "text/plain": [
       "float"
      ]
     },
     "execution_count": 41,
     "metadata": {},
     "output_type": "execute_result"
    }
   ],
   "source": [
    "number = 1.5\n",
    "type(number)"
   ]
  },
  {
   "cell_type": "markdown",
   "metadata": {},
   "source": [
    "Set a variable to True and see what type it is"
   ]
  },
  {
   "cell_type": "code",
   "execution_count": 42,
   "metadata": {},
   "outputs": [
    {
     "data": {
      "text/plain": [
       "bool"
      ]
     },
     "execution_count": 42,
     "metadata": {},
     "output_type": "execute_result"
    }
   ],
   "source": [
    "type(True)"
   ]
  },
  {
   "cell_type": "markdown",
   "metadata": {},
   "source": [
    "In preparation for reading an annotations file set a variable named file_name to the file path 'data/chr12/annotations.1.txt"
   ]
  },
  {
   "cell_type": "code",
   "execution_count": 43,
   "metadata": {},
   "outputs": [
    {
     "data": {
      "text/plain": [
       "'data/chr12/annotations.1.txt'"
      ]
     },
     "execution_count": 43,
     "metadata": {},
     "output_type": "execute_result"
    }
   ],
   "source": [
    "file_name = 'data/chr12/annotations.1.txt'\n",
    "file_name"
   ]
  },
  {
   "cell_type": "markdown",
   "metadata": {
    "toc-hr-collapsed": false
   },
   "source": [
    "# 5. String concatenation"
   ]
  },
  {
   "cell_type": "markdown",
   "metadata": {
    "toc-hr-collapsed": false
   },
   "source": [
    "Strings can be concatenated with the '+' operator.  Non-strings must be\n",
    "converted first with _str()_"
   ]
  },
  {
   "cell_type": "code",
   "execution_count": 44,
   "metadata": {},
   "outputs": [
    {
     "data": {
      "text/plain": [
       "'python is number 1'"
      ]
     },
     "execution_count": 44,
     "metadata": {},
     "output_type": "execute_result"
    }
   ],
   "source": [
    "'python ' + 'is ' + 'number ' + str(1)"
   ]
  },
  {
   "cell_type": "code",
   "execution_count": 45,
   "metadata": {},
   "outputs": [],
   "source": [
    "data_dir = 'data'\n",
    "project = 'chr12'\n",
    "name = 'annotations'\n",
    "version = 1\n",
    "ext = 'txt'"
   ]
  },
  {
   "cell_type": "markdown",
   "metadata": {},
   "source": [
    "### Exercise 5.1: use concatenation of the above variables to create a variable called file_name which is the same as the one from end end of Exercise 1  (file_name = 'data/chr12/annotations.1.txt')"
   ]
  },
  {
   "cell_type": "code",
   "execution_count": 46,
   "metadata": {},
   "outputs": [
    {
     "data": {
      "text/plain": [
       "'data/chr12/annotations.1.txt'"
      ]
     },
     "execution_count": 46,
     "metadata": {},
     "output_type": "execute_result"
    }
   ],
   "source": [
    "file_name = data_dir + '/' + project + '/' + name + '.' + str(version) + '.' + ext\n",
    "file_name"
   ]
  },
  {
   "cell_type": "markdown",
   "metadata": {},
   "source": [
    "# 6. Functions"
   ]
  },
  {
   "cell_type": "markdown",
   "metadata": {},
   "source": [
    "A function is a block of code that can be run on 0 or more arguments using the \"call\" operator _()_ and may return some value. "
   ]
  },
  {
   "cell_type": "code",
   "execution_count": 47,
   "metadata": {},
   "outputs": [
    {
     "name": "stdout",
     "output_type": "stream",
     "text": [
      "hello world\n"
     ]
    }
   ],
   "source": [
    "def hello_world():\n",
    "    print('hello world')\n",
    "    \n",
    "hello_world()"
   ]
  },
  {
   "cell_type": "code",
   "execution_count": 48,
   "metadata": {},
   "outputs": [
    {
     "data": {
      "text/plain": [
       "'Python is fun everyone should try it '"
      ]
     },
     "execution_count": 48,
     "metadata": {},
     "output_type": "execute_result"
    }
   ],
   "source": [
    "def python_is(descriptor, action):\n",
    "    string = 'Python is ' + str(descriptor) + ' everyone should ' + action + ' it '\n",
    "    return string\n",
    "\n",
    "python_is('fun', 'try')"
   ]
  },
  {
   "cell_type": "markdown",
   "metadata": {},
   "source": [
    "You can add a multiline comment, surrounded by ''', to a function for documentation.  Functions are objects too and you can see this comment by passing the object to the help function. "
   ]
  },
  {
   "cell_type": "code",
   "execution_count": 49,
   "metadata": {},
   "outputs": [
    {
     "data": {
      "text/plain": [
       "'Python is easy everyone should learn it '"
      ]
     },
     "execution_count": 49,
     "metadata": {},
     "output_type": "execute_result"
    }
   ],
   "source": [
    "def python_is(descriptor, action):\n",
    "    '''\n",
    "    Concatenates the string 'Python is ' with descriptor and ' everyone should ' with action \n",
    "    '''\n",
    "    string = 'Python is ' + str(descriptor) + ' everyone should ' + action + ' it '\n",
    "    return string\n",
    "\n",
    "python_is('easy', 'learn')"
   ]
  },
  {
   "cell_type": "code",
   "execution_count": 50,
   "metadata": {},
   "outputs": [
    {
     "name": "stdout",
     "output_type": "stream",
     "text": [
      "Help on function python_is in module __main__:\n",
      "\n",
      "python_is(descriptor, action)\n",
      "    Concatenates the string 'Python is ' with descriptor and ' everyone should ' with action\n",
      "\n"
     ]
    }
   ],
   "source": [
    "help(python_is)"
   ]
  },
  {
   "cell_type": "markdown",
   "metadata": {},
   "source": [
    "Positionsl arguments must be passed to the function in the order they are listed"
   ]
  },
  {
   "cell_type": "code",
   "execution_count": 51,
   "metadata": {},
   "outputs": [
    {
     "data": {
      "text/plain": [
       "'Python is learn everyone should easy it '"
      ]
     },
     "execution_count": 51,
     "metadata": {},
     "output_type": "execute_result"
    }
   ],
   "source": [
    "def python_is(descriptor, action):\n",
    "    '''\n",
    "    Concatenates the string 'Python is ' with descriptor and ' everyone should ' with action \n",
    "    '''\n",
    "    string = 'Python is ' + str(descriptor) + ' everyone should ' + action + ' it '\n",
    "    return string\n",
    "\n",
    "python_is('learn', 'easy')"
   ]
  },
  {
   "cell_type": "markdown",
   "metadata": {},
   "source": [
    "### Exercise 6.1: Make a function called get_annotation_file_name which takes the 5 variables we used in exercies 2 as parameters and returns the concatenated file path (hint you can copy paste that part from exercise 2)"
   ]
  },
  {
   "cell_type": "code",
   "execution_count": 52,
   "metadata": {},
   "outputs": [],
   "source": [
    "def get_annotation_file_name(\n",
    "    data_dir, \n",
    "    project, \n",
    "    version, \n",
    "    name, \n",
    "    ext):\n",
    "\n",
    "    '''\n",
    "    Concatenates data_dir and project_name for path.  \"annotations.<version>.<extension>\" is the file name.\n",
    "    '''\n",
    "\n",
    "    file_name = data_dir + '/' + project + '/' + name + '.' + str(version) + '.' + ext\n",
    "    return file_name"
   ]
  },
  {
   "cell_type": "markdown",
   "metadata": {},
   "source": [
    "use the below to call your function and test it"
   ]
  },
  {
   "cell_type": "code",
   "execution_count": 53,
   "metadata": {},
   "outputs": [
    {
     "data": {
      "text/plain": [
       "'data/chr12/annotations.1.txt'"
      ]
     },
     "execution_count": 53,
     "metadata": {},
     "output_type": "execute_result"
    }
   ],
   "source": [
    "get_annotation_file_name(data_dir, project, version, name, ext)"
   ]
  },
  {
   "cell_type": "markdown",
   "metadata": {
    "toc-hr-collapsed": false
   },
   "source": [
    "# 7. Function argumemnts"
   ]
  },
  {
   "cell_type": "markdown",
   "metadata": {},
   "source": [
    "You can specify defaults when it makes sense, but positional arguments must come first"
   ]
  },
  {
   "cell_type": "code",
   "execution_count": 54,
   "metadata": {},
   "outputs": [
    {
     "data": {
      "text/plain": [
       "'Python is easy everyone should learn it '"
      ]
     },
     "execution_count": 54,
     "metadata": {},
     "output_type": "execute_result"
    }
   ],
   "source": [
    "def python_is(descriptor, action = 'learn'):\n",
    "    '''\n",
    "    Concatenates the string 'Python is ' with descriptor and ' everyone should ' with action \n",
    "    '''\n",
    "    string = 'Python is ' + str(descriptor) + ' everyone should ' + action + ' it '\n",
    "    return string\n",
    "\n",
    "python_is('easy')"
   ]
  },
  {
   "cell_type": "markdown",
   "metadata": {},
   "source": [
    "Arguments that don't have a default must be specified"
   ]
  },
  {
   "cell_type": "code",
   "execution_count": 55,
   "metadata": {},
   "outputs": [
    {
     "ename": "TypeError",
     "evalue": "python_is() missing 1 required positional argument: 'descriptor'",
     "output_type": "error",
     "traceback": [
      "\u001b[0;31m---------------------------------------------------------------------------\u001b[0m",
      "\u001b[0;31mTypeError\u001b[0m                                 Traceback (most recent call last)",
      "\u001b[0;32m<ipython-input-55-04de3653ff4d>\u001b[0m in \u001b[0;36m<module>\u001b[0;34m\u001b[0m\n\u001b[0;32m----> 1\u001b[0;31m \u001b[0mresult\u001b[0m \u001b[0;34m=\u001b[0m \u001b[0mpython_is\u001b[0m\u001b[0;34m(\u001b[0m\u001b[0;34m)\u001b[0m\u001b[0;34m\u001b[0m\u001b[0;34m\u001b[0m\u001b[0m\n\u001b[0m",
      "\u001b[0;31mTypeError\u001b[0m: python_is() missing 1 required positional argument: 'descriptor'"
     ]
    }
   ],
   "source": [
    "result = python_is()"
   ]
  },
  {
   "cell_type": "markdown",
   "metadata": {},
   "source": [
    "They can also be treated as keyword arguments and specified in arbitrary order"
   ]
  },
  {
   "cell_type": "code",
   "execution_count": 57,
   "metadata": {},
   "outputs": [
    {
     "data": {
      "text/plain": [
       "'Python is useful everyone should enjoy it '"
      ]
     },
     "execution_count": 57,
     "metadata": {},
     "output_type": "execute_result"
    }
   ],
   "source": [
    "result = python_is(action='enjoy', descriptor='useful')\n",
    "result"
   ]
  },
  {
   "cell_type": "markdown",
   "metadata": {},
   "source": [
    "### Exercise 7: Defaults for annotation file name function"
   ]
  },
  {
   "cell_type": "markdown",
   "metadata": {},
   "source": [
    "#### 7.1. Copy the function you wrote from exercise 6 and add defaults for extension and name. "
   ]
  },
  {
   "cell_type": "code",
   "execution_count": 58,
   "metadata": {},
   "outputs": [],
   "source": [
    "def get_annotation_file_name(\n",
    "    data_dir, \n",
    "    project, \n",
    "    version, \n",
    "    name = 'annotations', \n",
    "    ext = 'txt'):\n",
    "\n",
    "    '''\n",
    "    Concatenates data_dir and project for path.  \"annotations.<version>.<extension>\" is the file name.\n",
    "    '''\n",
    "\n",
    "    file_name = data_dir + '/' + project + '/' + name + '.' + str(version) + '.' + ext\n",
    "    return file_name"
   ]
  },
  {
   "cell_type": "markdown",
   "metadata": {},
   "source": [
    "#### 7.2 Run our annotation file function with only the required arguments."
   ]
  },
  {
   "cell_type": "code",
   "execution_count": 59,
   "metadata": {},
   "outputs": [
    {
     "data": {
      "text/plain": [
       "'data/chr12/annotations.1.txt'"
      ]
     },
     "execution_count": 59,
     "metadata": {},
     "output_type": "execute_result"
    }
   ],
   "source": [
    "get_annotation_file_name(data_dir, project, version)"
   ]
  },
  {
   "cell_type": "markdown",
   "metadata": {},
   "source": [
    "#### 7.3. Specify the name with a different value"
   ]
  },
  {
   "cell_type": "code",
   "execution_count": 60,
   "metadata": {},
   "outputs": [
    {
     "data": {
      "text/plain": [
       "'data/chr12/anothername.1.txt'"
      ]
     },
     "execution_count": 60,
     "metadata": {},
     "output_type": "execute_result"
    }
   ],
   "source": [
    "get_annotation_file_name(data_dir, project, version, 'anothername')"
   ]
  },
  {
   "cell_type": "markdown",
   "metadata": {},
   "source": [
    "#### 7.4. Try specifying the arguments as keyword arguments in a different order than their position in the function definition"
   ]
  },
  {
   "cell_type": "code",
   "execution_count": 61,
   "metadata": {},
   "outputs": [
    {
     "data": {
      "text/plain": [
       "'data/chr13/annotations.3.csv'"
      ]
     },
     "execution_count": 61,
     "metadata": {},
     "output_type": "execute_result"
    }
   ],
   "source": [
    "get_annotation_file_name(ext='csv', data_dir=data_dir, version=3, project='chr13')"
   ]
  },
  {
   "cell_type": "markdown",
   "metadata": {
    "toc-hr-collapsed": false
   },
   "source": [
    "# 8. Formatted strings"
   ]
  },
  {
   "cell_type": "markdown",
   "metadata": {},
   "source": [
    "Python supports both positional and named string template substitution.  See the\n",
    "[Pyformat page](https://pyformat.info/) for details"
   ]
  },
  {
   "cell_type": "markdown",
   "metadata": {},
   "source": [
    "#### String concatentation is expensive because Python strings are immutable"
   ]
  },
  {
   "cell_type": "code",
   "execution_count": 62,
   "metadata": {},
   "outputs": [],
   "source": [
    "file_name = get_annotation_file_name(data_dir, project, version)"
   ]
  },
  {
   "cell_type": "code",
   "execution_count": 63,
   "metadata": {},
   "outputs": [
    {
     "ename": "TypeError",
     "evalue": "'str' object does not support item assignment",
     "output_type": "error",
     "traceback": [
      "\u001b[0;31m---------------------------------------------------------------------------\u001b[0m",
      "\u001b[0;31mTypeError\u001b[0m                                 Traceback (most recent call last)",
      "\u001b[0;32m<ipython-input-63-60185d1d2510>\u001b[0m in \u001b[0;36m<module>\u001b[0;34m\u001b[0m\n\u001b[0;32m----> 1\u001b[0;31m \u001b[0mfile_name\u001b[0m\u001b[0;34m[\u001b[0m\u001b[0;36m0\u001b[0m\u001b[0;34m]\u001b[0m \u001b[0;34m=\u001b[0m \u001b[0;34m'a'\u001b[0m\u001b[0;34m\u001b[0m\u001b[0;34m\u001b[0m\u001b[0m\n\u001b[0m",
      "\u001b[0;31mTypeError\u001b[0m: 'str' object does not support item assignment"
     ]
    }
   ],
   "source": [
    "file_name[0] = 'a'"
   ]
  },
  {
   "cell_type": "markdown",
   "metadata": {},
   "source": [
    "#### Old style string formatting is common"
   ]
  },
  {
   "cell_type": "code",
   "execution_count": 64,
   "metadata": {},
   "outputs": [
    {
     "data": {
      "text/plain": [
       "'52 Oxford Street Cambridge,MA'"
      ]
     },
     "execution_count": 64,
     "metadata": {},
     "output_type": "execute_result"
    }
   ],
   "source": [
    "address = '%d %s %s %s,%s' % (52, 'Oxford', 'Street', 'Cambridge', 'MA')\n",
    "address"
   ]
  },
  {
   "cell_type": "markdown",
   "metadata": {},
   "source": [
    "#### format function is more readable and powerful"
   ]
  },
  {
   "cell_type": "markdown",
   "metadata": {},
   "source": [
    "The format function of strings allows for positional substitution like old style\n",
    "formatting, but also supports named place holders and rich formatting options"
   ]
  },
  {
   "cell_type": "markdown",
   "metadata": {},
   "source": [
    "_format()_ is a good example of functions that are part of defined on object-oriented \n",
    "\"classes\" and used on instances called \"objects\"."
   ]
  },
  {
   "cell_type": "markdown",
   "metadata": {},
   "source": [
    "You can access the properties of an object, both its public functions and public properties through the dot notation (.)"
   ]
  },
  {
   "cell_type": "code",
   "execution_count": 65,
   "metadata": {},
   "outputs": [
    {
     "data": {
      "text/plain": [
       "'52 Oxford Street Cambridge,MA'"
      ]
     },
     "execution_count": 65,
     "metadata": {},
     "output_type": "execute_result"
    }
   ],
   "source": [
    "address = '{} {} {} {},{}'.format(52, 'Oxford', 'Street', 'Cambridge', 'MA')\n",
    "address"
   ]
  },
  {
   "cell_type": "markdown",
   "metadata": {},
   "source": [
    "Types can be enforced using type specifiers like ':d'"
   ]
  },
  {
   "cell_type": "code",
   "execution_count": 66,
   "metadata": {},
   "outputs": [
    {
     "data": {
      "text/plain": [
       "'52 Oxford Street Cambridge,MA'"
      ]
     },
     "execution_count": 66,
     "metadata": {},
     "output_type": "execute_result"
    }
   ],
   "source": [
    "address = '{:d} {} {} {},{}'.format(52, 'Oxford', 'Street', 'Cambridge', 'MA')\n",
    "address"
   ]
  },
  {
   "cell_type": "code",
   "execution_count": 67,
   "metadata": {},
   "outputs": [
    {
     "data": {
      "text/plain": [
       "'52 Oxford St. Cambridge,MA'"
      ]
     },
     "execution_count": 67,
     "metadata": {},
     "output_type": "execute_result"
    }
   ],
   "source": [
    "address = '{:d} {} {:.2}. {},{}'.format(52, 'Oxford', 'Street', 'Cambridge', 'MA')\n",
    "address"
   ]
  },
  {
   "cell_type": "markdown",
   "metadata": {},
   "source": [
    "Keyword arguments can be really helpful for readability"
   ]
  },
  {
   "cell_type": "code",
   "execution_count": 68,
   "metadata": {},
   "outputs": [
    {
     "data": {
      "text/plain": [
       "'52 Oxford St. Cambridge,MA'"
      ]
     },
     "execution_count": 68,
     "metadata": {},
     "output_type": "execute_result"
    }
   ],
   "source": [
    "address = '{number:d} {street} {suffix:.2}. {city},{state}'.format(\n",
    "    number=52, \n",
    "    street=\"Oxford\", \n",
    "    suffix=\"Street\",\n",
    "    city=\"Cambridge\", \n",
    "    state=\"MA\" \n",
    ")\n",
    "address"
   ]
  },
  {
   "cell_type": "markdown",
   "metadata": {},
   "source": [
    "### Exercise 8. use string formatting to rewrite the get_annotation_file_name function"
   ]
  },
  {
   "cell_type": "markdown",
   "metadata": {},
   "source": [
    "#### 8.1 use old style formatting "
   ]
  },
  {
   "cell_type": "code",
   "execution_count": 69,
   "metadata": {},
   "outputs": [],
   "source": [
    "def get_annotation_file_name(data_dir, project, version, name='annotations', ext='txt'):\n",
    "    '''Concatenates data_dir and project for path.  \"annotations.<version>.<extension>\" is the file name.'''\n",
    "    \n",
    "    return '%s/%s/%s.%d.%s' % (data_dir, project, name, version, ext)"
   ]
  },
  {
   "cell_type": "code",
   "execution_count": 70,
   "metadata": {},
   "outputs": [
    {
     "data": {
      "text/plain": [
       "'data/chr12/annotations.1.txt'"
      ]
     },
     "execution_count": 70,
     "metadata": {},
     "output_type": "execute_result"
    }
   ],
   "source": [
    "file_name = get_annotation_file_name(data_dir, project, version)\n",
    "file_name"
   ]
  },
  {
   "cell_type": "markdown",
   "metadata": {},
   "source": [
    "#### 8.2 use the format function to rewrite the get_annotation_file_name function"
   ]
  },
  {
   "cell_type": "code",
   "execution_count": 71,
   "metadata": {},
   "outputs": [],
   "source": [
    "def get_annotation_file_name(data_dir, project, version, name='annotations', ext='txt'):\n",
    "    '''Concatenates data_dir and project for path.  \"annotations.<version>.<extension>\" is the file name.'''\n",
    "\n",
    "    return '{data_dir}/{project}/{name}.{version:d}.{ext}'.format(\n",
    "        data_dir = data_dir, \n",
    "        project = project, \n",
    "        name = name, \n",
    "        version = version, \n",
    "        ext = ext\n",
    "    )"
   ]
  },
  {
   "cell_type": "code",
   "execution_count": 72,
   "metadata": {},
   "outputs": [
    {
     "data": {
      "text/plain": [
       "'data/chr12/annotations.1.txt'"
      ]
     },
     "execution_count": 72,
     "metadata": {},
     "output_type": "execute_result"
    }
   ],
   "source": [
    "file_name = get_annotation_file_name(data_dir, project, version)\n",
    "file_name"
   ]
  },
  {
   "cell_type": "markdown",
   "metadata": {
    "toc-hr-collapsed": true
   },
   "source": [
    "# 9. Lists "
   ]
  },
  {
   "cell_type": "markdown",
   "metadata": {},
   "source": [
    "Like arrays in other languages, Python lists are a group of items that can be indexed by an integer."
   ]
  },
  {
   "cell_type": "markdown",
   "metadata": {},
   "source": [
    "Lists are initialized with [] or list() and indexing starts with zero."
   ]
  },
  {
   "cell_type": "code",
   "execution_count": 73,
   "metadata": {},
   "outputs": [],
   "source": [
    "path_elements = ['nano-course', 'python', 'data', 'chr12']"
   ]
  },
  {
   "cell_type": "code",
   "execution_count": 74,
   "metadata": {},
   "outputs": [
    {
     "data": {
      "text/plain": [
       "'nano-course'"
      ]
     },
     "execution_count": 74,
     "metadata": {},
     "output_type": "execute_result"
    }
   ],
   "source": [
    "path_elements[0]"
   ]
  },
  {
   "cell_type": "code",
   "execution_count": 75,
   "metadata": {},
   "outputs": [
    {
     "data": {
      "text/plain": [
       "'data'"
      ]
     },
     "execution_count": 75,
     "metadata": {},
     "output_type": "execute_result"
    }
   ],
   "source": [
    "path_elements[2]"
   ]
  },
  {
   "cell_type": "markdown",
   "metadata": {},
   "source": [
    "Check the length with _len()_"
   ]
  },
  {
   "cell_type": "code",
   "execution_count": 76,
   "metadata": {},
   "outputs": [
    {
     "data": {
      "text/plain": [
       "4"
      ]
     },
     "execution_count": 76,
     "metadata": {},
     "output_type": "execute_result"
    }
   ],
   "source": [
    "len(path_elements)"
   ]
  },
  {
   "cell_type": "markdown",
   "metadata": {},
   "source": [
    "You can use negative indexes"
   ]
  },
  {
   "cell_type": "code",
   "execution_count": 77,
   "metadata": {},
   "outputs": [
    {
     "data": {
      "text/plain": [
       "'chr12'"
      ]
     },
     "execution_count": 77,
     "metadata": {},
     "output_type": "execute_result"
    }
   ],
   "source": [
    "path_elements[-1]"
   ]
  },
  {
   "cell_type": "markdown",
   "metadata": {},
   "source": [
    "Slices can be taken from lists using [:] notation.  Don't forget that the upper bound index is not included."
   ]
  },
  {
   "cell_type": "code",
   "execution_count": 78,
   "metadata": {},
   "outputs": [
    {
     "data": {
      "text/plain": [
       "['nano-course', 'python']"
      ]
     },
     "execution_count": 78,
     "metadata": {},
     "output_type": "execute_result"
    }
   ],
   "source": [
    "path_elements[0:2]"
   ]
  },
  {
   "cell_type": "markdown",
   "metadata": {},
   "source": [
    "And you can slice with negative indexes"
   ]
  },
  {
   "cell_type": "code",
   "execution_count": 79,
   "metadata": {},
   "outputs": [
    {
     "data": {
      "text/plain": [
       "['data']"
      ]
     },
     "execution_count": 79,
     "metadata": {},
     "output_type": "execute_result"
    }
   ],
   "source": [
    "path_elements[-2:-1]"
   ]
  },
  {
   "cell_type": "markdown",
   "metadata": {},
   "source": [
    "strings can be sliced just like lists "
   ]
  },
  {
   "cell_type": "code",
   "execution_count": 80,
   "metadata": {},
   "outputs": [
    {
     "data": {
      "text/plain": [
       "'G'"
      ]
     },
     "execution_count": 80,
     "metadata": {},
     "output_type": "execute_result"
    }
   ],
   "source": [
    "hello = 'Greetings'\n",
    "hello[0]"
   ]
  },
  {
   "cell_type": "markdown",
   "metadata": {},
   "source": [
    "if you leave a number out with the : notation it assumes you mean until the end or from the beginning"
   ]
  },
  {
   "cell_type": "code",
   "execution_count": 81,
   "metadata": {},
   "outputs": [
    {
     "data": {
      "text/plain": [
       "'Greet'"
      ]
     },
     "execution_count": 81,
     "metadata": {},
     "output_type": "execute_result"
    }
   ],
   "source": [
    "hello[:5]"
   ]
  },
  {
   "cell_type": "code",
   "execution_count": 82,
   "metadata": {},
   "outputs": [
    {
     "data": {
      "text/plain": [
       "'ings'"
      ]
     },
     "execution_count": 82,
     "metadata": {},
     "output_type": "execute_result"
    }
   ],
   "source": [
    "hello[5:]"
   ]
  },
  {
   "cell_type": "markdown",
   "metadata": {},
   "source": [
    "Lists can be appended to"
   ]
  },
  {
   "cell_type": "code",
   "execution_count": 83,
   "metadata": {},
   "outputs": [
    {
     "data": {
      "text/plain": [
       "['nano-course', 'python', 'data', 'chr12', 'annotations.1.txt']"
      ]
     },
     "execution_count": 83,
     "metadata": {},
     "output_type": "execute_result"
    }
   ],
   "source": [
    "path_elements.append('annotations.1.txt')\n",
    "path_elements"
   ]
  },
  {
   "cell_type": "markdown",
   "metadata": {},
   "source": [
    "and extended"
   ]
  },
  {
   "cell_type": "code",
   "execution_count": 84,
   "metadata": {},
   "outputs": [
    {
     "name": "stdout",
     "output_type": "stream",
     "text": [
      "['Users', 'maria', 'nano-course', 'python', 'data', 'chr12', 'annotations.1.txt']\n"
     ]
    }
   ],
   "source": [
    "full_path = ['Users','maria']\n",
    "full_path.extend(path_elements)\n",
    "print(full_path)"
   ]
  },
  {
   "cell_type": "markdown",
   "metadata": {},
   "source": [
    "List elements are mutable"
   ]
  },
  {
   "cell_type": "code",
   "execution_count": 85,
   "metadata": {},
   "outputs": [
    {
     "data": {
      "text/plain": [
       "['nano-course', 'R', 'data', 'chr12', 'annotations.1.txt']"
      ]
     },
     "execution_count": 85,
     "metadata": {},
     "output_type": "execute_result"
    }
   ],
   "source": [
    "path_elements[1] = 'R'\n",
    "path_elements"
   ]
  },
  {
   "cell_type": "markdown",
   "metadata": {},
   "source": [
    "You can also create an immutable list, a tuple, using parens.  These are generally used for data that does not changes and should remain together such as a commpound key like ('category', 'color') might be the key for a group of products. "
   ]
  },
  {
   "cell_type": "code",
   "execution_count": 86,
   "metadata": {},
   "outputs": [
    {
     "ename": "TypeError",
     "evalue": "'tuple' object does not support item assignment",
     "output_type": "error",
     "traceback": [
      "\u001b[0;31m---------------------------------------------------------------------------\u001b[0m",
      "\u001b[0;31mTypeError\u001b[0m                                 Traceback (most recent call last)",
      "\u001b[0;32m<ipython-input-86-b43ac49b262e>\u001b[0m in \u001b[0;36m<module>\u001b[0;34m\u001b[0m\n\u001b[1;32m      1\u001b[0m \u001b[0mpath_tuple\u001b[0m \u001b[0;34m=\u001b[0m \u001b[0;34m(\u001b[0m\u001b[0;34m'nano-course'\u001b[0m\u001b[0;34m,\u001b[0m \u001b[0;34m'python'\u001b[0m\u001b[0;34m,\u001b[0m \u001b[0;34m'data'\u001b[0m\u001b[0;34m,\u001b[0m \u001b[0;34m'chr12'\u001b[0m\u001b[0;34m)\u001b[0m\u001b[0;34m\u001b[0m\u001b[0;34m\u001b[0m\u001b[0m\n\u001b[0;32m----> 2\u001b[0;31m \u001b[0mpath_tuple\u001b[0m\u001b[0;34m[\u001b[0m\u001b[0;36m1\u001b[0m\u001b[0;34m]\u001b[0m \u001b[0;34m=\u001b[0m \u001b[0;34m'x'\u001b[0m\u001b[0;34m\u001b[0m\u001b[0;34m\u001b[0m\u001b[0m\n\u001b[0m",
      "\u001b[0;31mTypeError\u001b[0m: 'tuple' object does not support item assignment"
     ]
    }
   ],
   "source": [
    "path_tuple = ('nano-course', 'python', 'data', 'chr12')\n",
    "path_tuple[1] = 'x'"
   ]
  },
  {
   "cell_type": "markdown",
   "metadata": {},
   "source": [
    "## Exercise 9. try out lists"
   ]
  },
  {
   "cell_type": "markdown",
   "metadata": {},
   "source": [
    "#### 9.1 create a list called list1 with 3 objects 1, 2, 3"
   ]
  },
  {
   "cell_type": "code",
   "execution_count": 87,
   "metadata": {},
   "outputs": [
    {
     "data": {
      "text/plain": [
       "[1, 2, 3]"
      ]
     },
     "execution_count": 87,
     "metadata": {},
     "output_type": "execute_result"
    }
   ],
   "source": [
    "list1 = [1, 2, 3]\n",
    "list1"
   ]
  },
  {
   "cell_type": "markdown",
   "metadata": {},
   "source": [
    "#### 9.2 append 4, 5, and 6 to the list"
   ]
  },
  {
   "cell_type": "code",
   "execution_count": 88,
   "metadata": {},
   "outputs": [
    {
     "data": {
      "text/plain": [
       "[1, 2, 3, 4, 5, 6]"
      ]
     },
     "execution_count": 88,
     "metadata": {},
     "output_type": "execute_result"
    }
   ],
   "source": [
    "list1.append(4)\n",
    "list1.append(5)\n",
    "list1.append(6)\n",
    "list1"
   ]
  },
  {
   "cell_type": "markdown",
   "metadata": {},
   "source": [
    "#### 9.3 create a list2 with 7, 8, 9 and then extend list1 with list2"
   ]
  },
  {
   "cell_type": "code",
   "execution_count": 89,
   "metadata": {},
   "outputs": [
    {
     "data": {
      "text/plain": [
       "[1, 2, 3, 4, 5, 6, 7, 8, 9]"
      ]
     },
     "execution_count": 89,
     "metadata": {},
     "output_type": "execute_result"
    }
   ],
   "source": [
    "list2 = [7, 8, 9]\n",
    "list1.extend(list2)\n",
    "list1"
   ]
  },
  {
   "cell_type": "markdown",
   "metadata": {},
   "source": [
    "#### 9.4 print out the element 1 of the list1 and the element 9 of list1"
   ]
  },
  {
   "cell_type": "code",
   "execution_count": 90,
   "metadata": {},
   "outputs": [
    {
     "name": "stdout",
     "output_type": "stream",
     "text": [
      "9\n",
      "1\n",
      "9\n",
      "9\n"
     ]
    }
   ],
   "source": [
    "print(len(list1))\n",
    "print(list1[0])\n",
    "print(list1[8])\n",
    "print(list1[-1])"
   ]
  },
  {
   "cell_type": "markdown",
   "metadata": {},
   "source": [
    "# 10. Iterating, joining and spliting lists"
   ]
  },
  {
   "cell_type": "markdown",
   "metadata": {},
   "source": [
    "We can iterate a list with a for loop."
   ]
  },
  {
   "cell_type": "code",
   "execution_count": 91,
   "metadata": {},
   "outputs": [
    {
     "name": "stdout",
     "output_type": "stream",
     "text": [
      "nano-course\n",
      "R\n",
      "data\n",
      "chr12\n",
      "annotations.1.txt\n"
     ]
    }
   ],
   "source": [
    "for path_element in path_elements:\n",
    "    print(path_element)"
   ]
  },
  {
   "cell_type": "markdown",
   "metadata": {},
   "source": [
    "If you need the index, _enumerate()_"
   ]
  },
  {
   "cell_type": "code",
   "execution_count": 92,
   "metadata": {},
   "outputs": [
    {
     "name": "stdout",
     "output_type": "stream",
     "text": [
      "0 nano-course\n",
      "1 R\n",
      "2 data\n",
      "3 chr12\n",
      "4 annotations.1.txt\n"
     ]
    }
   ],
   "source": [
    "for i, path_element in enumerate(path_elements):\n",
    "    print(i, path_element)"
   ]
  },
  {
   "cell_type": "markdown",
   "metadata": {},
   "source": [
    "Strings act like lists..."
   ]
  },
  {
   "cell_type": "code",
   "execution_count": 93,
   "metadata": {},
   "outputs": [
    {
     "data": {
      "text/plain": [
       "'a'"
      ]
     },
     "execution_count": 93,
     "metadata": {},
     "output_type": "execute_result"
    }
   ],
   "source": [
    "data_dir[-1]"
   ]
  },
  {
   "cell_type": "code",
   "execution_count": 94,
   "metadata": {},
   "outputs": [
    {
     "name": "stdout",
     "output_type": "stream",
     "text": [
      "d\n",
      "a\n",
      "t\n",
      "a\n"
     ]
    }
   ],
   "source": [
    "for ch in data_dir:\n",
    "    print(ch)"
   ]
  },
  {
   "cell_type": "markdown",
   "metadata": {},
   "source": [
    "but they are not mutable"
   ]
  },
  {
   "cell_type": "code",
   "execution_count": 95,
   "metadata": {},
   "outputs": [
    {
     "ename": "TypeError",
     "evalue": "'str' object does not support item assignment",
     "output_type": "error",
     "traceback": [
      "\u001b[0;31m---------------------------------------------------------------------------\u001b[0m",
      "\u001b[0;31mTypeError\u001b[0m                                 Traceback (most recent call last)",
      "\u001b[0;32m<ipython-input-95-65f889a920be>\u001b[0m in \u001b[0;36m<module>\u001b[0;34m\u001b[0m\n\u001b[0;32m----> 1\u001b[0;31m \u001b[0mdata_dir\u001b[0m\u001b[0;34m[\u001b[0m\u001b[0;36m1\u001b[0m\u001b[0;34m]\u001b[0m \u001b[0;34m=\u001b[0m \u001b[0;34m'x'\u001b[0m\u001b[0;34m\u001b[0m\u001b[0;34m\u001b[0m\u001b[0m\n\u001b[0m",
      "\u001b[0;31mTypeError\u001b[0m: 'str' object does not support item assignment"
     ]
    }
   ],
   "source": [
    "data_dir[1] = 'x'"
   ]
  },
  {
   "cell_type": "markdown",
   "metadata": {},
   "source": [
    "#### You can join list elements into a string with the join function "
   ]
  },
  {
   "cell_type": "code",
   "execution_count": 96,
   "metadata": {},
   "outputs": [
    {
     "data": {
      "text/plain": [
       "'52 Oxford Street Cambridge MA'"
      ]
     },
     "execution_count": 96,
     "metadata": {},
     "output_type": "execute_result"
    }
   ],
   "source": [
    "address_list = ['52', 'Oxford', 'Street', 'Cambridge', 'MA']\n",
    "address_display = ' '.join(address_list)\n",
    "address_display"
   ]
  },
  {
   "cell_type": "markdown",
   "metadata": {},
   "source": [
    "#### You can also split a string into a list, space is the default seperator"
   ]
  },
  {
   "cell_type": "code",
   "execution_count": 97,
   "metadata": {},
   "outputs": [
    {
     "data": {
      "text/plain": [
       "['52', 'Oxford', 'Street', 'Cambridge', 'MA']"
      ]
     },
     "execution_count": 97,
     "metadata": {},
     "output_type": "execute_result"
    }
   ],
   "source": [
    "address_list2 = address_display.split()\n",
    "address_list2"
   ]
  },
  {
   "cell_type": "markdown",
   "metadata": {
    "toc-hr-collapsed": true
   },
   "source": [
    "## Exercise 10. More with lists "
   ]
  },
  {
   "cell_type": "markdown",
   "metadata": {},
   "source": [
    "#### 10.1 use join on path_elements to create a '/' sepearted path"
   ]
  },
  {
   "cell_type": "code",
   "execution_count": 98,
   "metadata": {},
   "outputs": [
    {
     "data": {
      "text/plain": [
       "'nano-course/R/data/chr12/annotations.1.txt'"
      ]
     },
     "execution_count": 98,
     "metadata": {},
     "output_type": "execute_result"
    }
   ],
   "source": [
    "'/'.join(path_elements)"
   ]
  },
  {
   "cell_type": "markdown",
   "metadata": {},
   "source": [
    "#### 10.2 We can redefine the function get_annotation_file_name using a list which contains 3 elements (data_dir, project, and a formatted string of the name, version, ext) then join with '/'"
   ]
  },
  {
   "cell_type": "code",
   "execution_count": 99,
   "metadata": {},
   "outputs": [],
   "source": [
    "def get_annotation_file_name(data_dir, project, version, name='annotations', ext='txt'):\n",
    "    '''Concatenates data_dir and project for path.  \"annotations.<version>.<extension>\" is the file name.'''\n",
    "    \n",
    "    path_elements = [data_dir, project, '{}.{:d}.{}'.format(name, version, ext)]\n",
    "    \n",
    "    return '/'.join(path_elements)"
   ]
  },
  {
   "cell_type": "code",
   "execution_count": 100,
   "metadata": {},
   "outputs": [
    {
     "data": {
      "text/plain": [
       "'data/chr12/annotations.1.txt'"
      ]
     },
     "execution_count": 100,
     "metadata": {},
     "output_type": "execute_result"
    }
   ],
   "source": [
    "file_name = get_annotation_file_name(data_dir, project, version)\n",
    "file_name"
   ]
  },
  {
   "cell_type": "markdown",
   "metadata": {},
   "source": [
    "#### 10.3 create a list of your own with atleast 3 items in it"
   ]
  },
  {
   "cell_type": "code",
   "execution_count": 101,
   "metadata": {},
   "outputs": [],
   "source": [
    "grocery = ['milk', 'berries', 'chocolate']"
   ]
  },
  {
   "cell_type": "markdown",
   "metadata": {},
   "source": [
    "#### 10.4 iterate over the list you created using a for loop and print out each element"
   ]
  },
  {
   "cell_type": "code",
   "execution_count": 102,
   "metadata": {},
   "outputs": [
    {
     "name": "stdout",
     "output_type": "stream",
     "text": [
      "milk\n",
      "berries\n",
      "chocolate\n"
     ]
    }
   ],
   "source": [
    "for item in grocery:\n",
    "    print(item)"
   ]
  },
  {
   "cell_type": "markdown",
   "metadata": {},
   "source": [
    "#### 10.5 split the following string into a list using the split() function"
   ]
  },
  {
   "cell_type": "code",
   "execution_count": 103,
   "metadata": {},
   "outputs": [
    {
     "data": {
      "text/plain": [
       "['Name', 'Email', 'Address', 'City', 'State', 'Country']"
      ]
     },
     "execution_count": 103,
     "metadata": {},
     "output_type": "execute_result"
    }
   ],
   "source": [
    "header = 'Name;Email;Address;City;State;Country'\n",
    "header.split(';')"
   ]
  },
  {
   "cell_type": "markdown",
   "metadata": {
    "toc-hr-collapsed": true
   },
   "source": [
    "# 11. Modules "
   ]
  },
  {
   "cell_type": "markdown",
   "metadata": {},
   "source": [
    "A module is a file with Python definitions and statements.  The _import_ statement allows you to use those definitions in your code"
   ]
  },
  {
   "cell_type": "markdown",
   "metadata": {},
   "source": [
    "The creation of modules is how Python libraries are made and shared.\n",
    "\n",
    "For example, if you're doing several projects with DNA sequence, you might like a module that had common DNA sequence manipulations.  In a file called dna.py you could define several functions and data that you might use repeatedly:\n",
    "\n",
    "```python\n",
    "DNA_COMPLEMENT = {\n",
    "    'A': 'T',\n",
    "    'T': 'A',\n",
    "    'C': 'G',\n",
    "    'G': 'C',\n",
    "}\n",
    "\n",
    "def reverse_complement(dna):\n",
    "    '''\n",
    "    Return the reverse complement of the DNA sequence\n",
    "    '''\n",
    "    complement = []\n",
    "    for base in reversed(dna):\n",
    "        complement.append(DNA_COMPLEMENT[base.upper()])\n",
    "    return complement\n",
    "\n",
    "\n",
    "def translate(dna, frame=0):\n",
    "    '''\n",
    "    Translate a string of dna sequence into protein sequence using the given frame\n",
    "    '''\n",
    "    protein_sequence = []\n",
    "    for i in range(frame, len(dna), 3):\n",
    "        ...\n",
    "    return ''.join(protein_sequence)\n",
    "\n",
    "def transcribe(dna):\n",
    "    '''\n",
    "    Convert DNA into RNA\n",
    "    '''\n",
    "    return dna.replace('T', 'U')\n",
    "```\n",
    "\n",
    "\n",
    "To use the functions in this file, you would have to either import the entire module and use the functions (via the dot operator):\n",
    "\n",
    "```python\n",
    "import dna\n",
    "\n",
    "transcript_sequence = 'TACGATCGATCGATCGATTATCGATCAGTCA'\n",
    "protein_sequence = dna.translate(transcript_sequence)\n",
    "```\n",
    "\n",
    "Or you could import specific functions from the file\n",
    "\n",
    "```python\n",
    "from dna import translate\n",
    "\n",
    "protein_sequence = translate('TACGATCGATCGATCGATTATCGATCAGTCA')\n",
    "``` \n",
    "    \n",
    "The _from_ keyword will get you to the thing you want to import, but the import is what you're allowed to use in your code"
   ]
  },
  {
   "cell_type": "markdown",
   "metadata": {
    "toc-hr-collapsed": true
   },
   "source": [
    "##### Python modules can be organized in directories traversed by _from_"
   ]
  },
  {
   "cell_type": "markdown",
   "metadata": {},
   "source": [
    "If the _dna.py_ file described above is placed under a path, e.g. _seqlib/seq/nuc/dna.py_, functions could be accessed using the _from_ keyword with dots replacing the path separator.\n",
    "\n",
    "```python\n",
    "from seqlib.seq.nuc.dna import transcribe\n",
    "```\n",
    "    \n",
    "This will work, but a file named \\_\\_init\\_\\_.py must be present in each of the directories"
   ]
  },
  {
   "cell_type": "markdown",
   "metadata": {},
   "source": [
    "##### Python starts looking for modules based on the value of _sys.path_, which may include PYTHONPATH, the current directory, and ~/.local"
   ]
  },
  {
   "cell_type": "markdown",
   "metadata": {},
   "source": [
    "    [akitzmiller@bioinf01 ~]$ echo $PYTHONPATH\n",
    "    /odyssey/rc_admin/sw/admin/rcpy:\n",
    "\n",
    "    [akitzmiller@bioinf01 ~]$ pwd\n",
    "    /n/home_rc/akitzmiller\n",
    "\n",
    "    [akitzmiller@bioinf01 ~]$ python\n",
    "    Python 2.7.5 (default, Apr  9 2019, 14:30:50) \n",
    "    [GCC 4.8.5 20150623 (Red Hat 4.8.5-36)] on linux2\n",
    "    Type \"help\", \"copyright\", \"credits\" or \"license\" for more information.\n",
    "    \n",
    "    >>> import sys, os\n",
    "    \n",
    "    >>> os.environ['PYTHONPATH']\n",
    "    '/odyssey/rc_admin/sw/admin/rcpy:'\n",
    "    \n",
    "    >>> print '\\n'.join(sys.path)\n",
    "\n",
    "    /odyssey/rc_admin/sw/admin/rcpy\n",
    "    /n/home_rc/akitzmiller\n",
    "    /usr/lib64/python27.zip\n",
    "    /usr/lib64/python2.7\n",
    "    /usr/lib64/python2.7/plat-linux2\n",
    "    /usr/lib64/python2.7/lib-tk\n",
    "    /usr/lib64/python2.7/lib-old\n",
    "    /usr/lib64/python2.7/lib-dynload\n",
    "    /usr/lib64/python2.7/site-packages\n",
    "    /usr/lib64/python2.7/site-packages/gtk-2.0\n",
    "    /usr/lib/python2.7/site-packages\n",
    "    >>> \n"
   ]
  },
  {
   "cell_type": "markdown",
   "metadata": {},
   "source": [
    "The _os_ module must be imported and contains functions that are sensitive to the operating system"
   ]
  },
  {
   "cell_type": "markdown",
   "metadata": {},
   "source": [
    "os.path.join will join each parameter with a '/' to create a path"
   ]
  },
  {
   "cell_type": "code",
   "execution_count": 104,
   "metadata": {},
   "outputs": [
    {
     "ename": "NameError",
     "evalue": "name 'os' is not defined",
     "output_type": "error",
     "traceback": [
      "\u001b[0;31m---------------------------------------------------------------------------\u001b[0m",
      "\u001b[0;31mNameError\u001b[0m                                 Traceback (most recent call last)",
      "\u001b[0;32m<ipython-input-104-470d1fe61ce0>\u001b[0m in \u001b[0;36m<module>\u001b[0;34m\u001b[0m\n\u001b[0;32m----> 1\u001b[0;31m \u001b[0mos\u001b[0m\u001b[0;34m.\u001b[0m\u001b[0mpath\u001b[0m\u001b[0;34m.\u001b[0m\u001b[0mjoin\u001b[0m\u001b[0;34m(\u001b[0m\u001b[0;34m)\u001b[0m\u001b[0;34m\u001b[0m\u001b[0;34m\u001b[0m\u001b[0m\n\u001b[0m",
      "\u001b[0;31mNameError\u001b[0m: name 'os' is not defined"
     ]
    }
   ],
   "source": [
    "os.path.join()"
   ]
  },
  {
   "cell_type": "markdown",
   "metadata": {},
   "source": [
    "Notice we get an error above because there is no os currently defined. "
   ]
  },
  {
   "cell_type": "markdown",
   "metadata": {},
   "source": [
    "Everything you use in a Python script must either be a built-in (e.g. print), defined in your code (e.g. , get_annotation_file_name) or imported"
   ]
  },
  {
   "cell_type": "code",
   "execution_count": 106,
   "metadata": {},
   "outputs": [],
   "source": [
    "import os"
   ]
  },
  {
   "cell_type": "markdown",
   "metadata": {},
   "source": [
    "##### You can find where a module comes from using the \\_\\_file\\_\\_ property of the module\n",
    "Seriously, everything is an object"
   ]
  },
  {
   "cell_type": "code",
   "execution_count": 107,
   "metadata": {},
   "outputs": [
    {
     "data": {
      "text/plain": [
       "'/opt/conda/lib/python3.7/os.py'"
      ]
     },
     "execution_count": 107,
     "metadata": {},
     "output_type": "execute_result"
    }
   ],
   "source": [
    "os.__file__"
   ]
  },
  {
   "cell_type": "code",
   "execution_count": 108,
   "metadata": {},
   "outputs": [
    {
     "name": "stdout",
     "output_type": "stream",
     "text": [
      "Help on function join in module posixpath:\n",
      "\n",
      "join(a, *p)\n",
      "    Join two or more pathname components, inserting '/' as needed.\n",
      "    If any component is an absolute path, all previous path components\n",
      "    will be discarded.  An empty last part will result in a path that\n",
      "    ends with a separator.\n",
      "\n"
     ]
    }
   ],
   "source": [
    "help(os.path.join)"
   ]
  },
  {
   "cell_type": "code",
   "execution_count": 109,
   "metadata": {},
   "outputs": [
    {
     "data": {
      "text/plain": [
       "'nano-course/python/data/chr12'"
      ]
     },
     "execution_count": 109,
     "metadata": {},
     "output_type": "execute_result"
    }
   ],
   "source": [
    "os.path.join('nano-course', 'python', 'data', 'chr12')"
   ]
  },
  {
   "cell_type": "markdown",
   "metadata": {},
   "source": [
    "let's import another module like datetime"
   ]
  },
  {
   "cell_type": "code",
   "execution_count": 110,
   "metadata": {},
   "outputs": [],
   "source": [
    "import datetime"
   ]
  },
  {
   "cell_type": "code",
   "execution_count": 111,
   "metadata": {},
   "outputs": [
    {
     "data": {
      "text/plain": [
       "datetime.datetime(2020, 1, 14, 18, 30, 38, 431649)"
      ]
     },
     "execution_count": 111,
     "metadata": {},
     "output_type": "execute_result"
    }
   ],
   "source": [
    "today = datetime.datetime.now()\n",
    "today"
   ]
  },
  {
   "cell_type": "markdown",
   "metadata": {},
   "source": [
    "since what we really want to use is the datetime function inside the datetime module we can import that directly with the from keyword"
   ]
  },
  {
   "cell_type": "code",
   "execution_count": 112,
   "metadata": {},
   "outputs": [],
   "source": [
    "from datetime import datetime"
   ]
  },
  {
   "cell_type": "code",
   "execution_count": 113,
   "metadata": {},
   "outputs": [
    {
     "data": {
      "text/plain": [
       "datetime.datetime(2020, 1, 21, 0, 0)"
      ]
     },
     "execution_count": 113,
     "metadata": {},
     "output_type": "execute_result"
    }
   ],
   "source": [
    "datetime(2020, 1, 21)"
   ]
  },
  {
   "cell_type": "markdown",
   "metadata": {},
   "source": [
    "## Exercise 11"
   ]
  },
  {
   "cell_type": "markdown",
   "metadata": {},
   "source": [
    "#### 11.1 rewrite the get_annotation_file_name function again using the os.path.join function"
   ]
  },
  {
   "cell_type": "code",
   "execution_count": 114,
   "metadata": {},
   "outputs": [],
   "source": [
    "def get_annotation_file_name(data_dir, project, version, name='annotations', ext='txt'):\n",
    "    '''Concatenates data_dir and project for path.  \"annotations.<version>.<extension>\" is the file name.'''\n",
    "    \n",
    "    path = os.path.join(data_dir, project, '{}.{:d}.{}'.format(name, version, ext))\n",
    "    \n",
    "    return path"
   ]
  },
  {
   "cell_type": "code",
   "execution_count": 115,
   "metadata": {},
   "outputs": [
    {
     "data": {
      "text/plain": [
       "'data/chr12/annotations.1.txt'"
      ]
     },
     "execution_count": 115,
     "metadata": {},
     "output_type": "execute_result"
    }
   ],
   "source": [
    "file_name = get_annotation_file_name(data_dir, project, version)\n",
    "file_name"
   ]
  },
  {
   "cell_type": "markdown",
   "metadata": {},
   "source": [
    "#### 11.2 import the random module and use the random() function to generate a random number"
   ]
  },
  {
   "cell_type": "code",
   "execution_count": 116,
   "metadata": {},
   "outputs": [],
   "source": [
    "import random "
   ]
  },
  {
   "cell_type": "code",
   "execution_count": 117,
   "metadata": {},
   "outputs": [
    {
     "data": {
      "text/plain": [
       "0.4952642069610169"
      ]
     },
     "execution_count": 117,
     "metadata": {},
     "output_type": "execute_result"
    }
   ],
   "source": [
    "random.random()"
   ]
  },
  {
   "cell_type": "markdown",
   "metadata": {},
   "source": [
    "# 12. If else"
   ]
  },
  {
   "cell_type": "markdown",
   "metadata": {},
   "source": [
    "Python's if statement allow flow control by executing blocks of code only when conditions are met.  Else if is shortened to elif, there can be zero or more elif parts, and the else part is optional."
   ]
  },
  {
   "cell_type": "code",
   "execution_count": 118,
   "metadata": {},
   "outputs": [
    {
     "name": "stdin",
     "output_type": "stream",
     "text": [
      "input an int please:  4\n"
     ]
    }
   ],
   "source": [
    "x = int(input(\"input an int please: \"))"
   ]
  },
  {
   "cell_type": "code",
   "execution_count": 119,
   "metadata": {},
   "outputs": [
    {
     "name": "stdout",
     "output_type": "stream",
     "text": [
      "positive\n"
     ]
    }
   ],
   "source": [
    "if x > 0:\n",
    "    print('positive')\n",
    "elif x == 0:\n",
    "    print('zero')\n",
    "else:\n",
    "    print('negative')"
   ]
  },
  {
   "cell_type": "markdown",
   "metadata": {},
   "source": [
    "## Exercise 12 species to common name"
   ]
  },
  {
   "cell_type": "markdown",
   "metadata": {},
   "source": [
    "#### 12.1 write an input string called org for organism"
   ]
  },
  {
   "cell_type": "code",
   "execution_count": 120,
   "metadata": {},
   "outputs": [
    {
     "name": "stdin",
     "output_type": "stream",
     "text": [
      "input a organism dog\n"
     ]
    }
   ],
   "source": [
    "org = input(\"input a organism\")"
   ]
  },
  {
   "cell_type": "markdown",
   "metadata": {},
   "source": [
    "#### 12.2 set a variable common_name to empty string ('') then write an if else block that maps a few species to the common name and then an else block set any other species to the common_name 'Unknown'"
   ]
  },
  {
   "cell_type": "code",
   "execution_count": 121,
   "metadata": {},
   "outputs": [
    {
     "data": {
      "text/plain": [
       "'Unknown'"
      ]
     },
     "execution_count": 121,
     "metadata": {},
     "output_type": "execute_result"
    }
   ],
   "source": [
    "'''\n",
    "here are the species -> common names that your function should use\n",
    "Homo sapiens -> Human\n",
    "Pan troglodytes -> Chimp\n",
    "Macaca mulatta -> Macaque\n",
    "other -> Unknown\n",
    "'''\n",
    "common_name = ''\n",
    "if org == 'Homo sapiens':\n",
    "    common_name = 'Human'\n",
    "elif org == 'Pan troglodytes':\n",
    "    common_name = 'Chimp'\n",
    "elif org == 'Macaca mulatta':\n",
    "    common_name = 'Macaque'\n",
    "else:\n",
    "    common_name = 'Unknown'\n",
    "common_name"
   ]
  },
  {
   "cell_type": "markdown",
   "metadata": {},
   "source": [
    "#### 12.3 write a function called get_common_name() that takes an organism and returns the common name or Unknown (feel free to copy and paste some of your code from above)"
   ]
  },
  {
   "cell_type": "code",
   "execution_count": 122,
   "metadata": {},
   "outputs": [
    {
     "data": {
      "text/plain": [
       "'Human'"
      ]
     },
     "execution_count": 122,
     "metadata": {},
     "output_type": "execute_result"
    }
   ],
   "source": [
    "def get_common_name(org):\n",
    "    common_name = ''\n",
    "    if org == 'Homo sapiens':\n",
    "        common_name = 'Human'\n",
    "    elif org == 'Pan troglodytes':\n",
    "        common_name = 'Chimp'\n",
    "    elif org == 'Macaca mulatta':\n",
    "        common_name = 'Macaque'\n",
    "    else:\n",
    "        common_name = 'Unknown'\n",
    "    return common_name\n",
    "\n",
    "get_common_name('Homo sapiens')"
   ]
  },
  {
   "cell_type": "markdown",
   "metadata": {
    "toc-hr-collapsed": false
   },
   "source": [
    "# 13. Open a file "
   ]
  },
  {
   "cell_type": "markdown",
   "metadata": {},
   "source": [
    "First let's open data/samples.txt by double clicking so we can take a look at what the content looks like"
   ]
  },
  {
   "cell_type": "markdown",
   "metadata": {},
   "source": [
    "In Python you interact with a file by opening a file handle in a particular mode, in this case 'read'.  A file handle is a lot like a pointer to the next part of the file that you're going to read."
   ]
  },
  {
   "cell_type": "code",
   "execution_count": 123,
   "metadata": {},
   "outputs": [],
   "source": [
    "sample_file = 'data/samples.txt'\n",
    "fileh = open(sample_file, 'r')"
   ]
  },
  {
   "cell_type": "markdown",
   "metadata": {},
   "source": [
    "Read it all into a single string using _read()_"
   ]
  },
  {
   "cell_type": "code",
   "execution_count": 124,
   "metadata": {},
   "outputs": [
    {
     "data": {
      "text/plain": [
       "'Sample\\tSpecies\\t\\nsample1\\tHomo sapiens\\t\\nsample2\\tPan troglodytes\\t\\nsample3\\tHomo sapiens\\t\\nsample4\\tMacaca mulatta\\t\\n'"
      ]
     },
     "execution_count": 124,
     "metadata": {},
     "output_type": "execute_result"
    }
   ],
   "source": [
    "fileh.read()"
   ]
  },
  {
   "cell_type": "markdown",
   "metadata": {},
   "source": [
    "Read it into a list of lines using _readlines()_.  You may need to re-open the file, because the fileh is now pointing to the end."
   ]
  },
  {
   "cell_type": "code",
   "execution_count": 125,
   "metadata": {},
   "outputs": [
    {
     "data": {
      "text/plain": [
       "[]"
      ]
     },
     "execution_count": 125,
     "metadata": {},
     "output_type": "execute_result"
    }
   ],
   "source": [
    "fileh.readlines()"
   ]
  },
  {
   "cell_type": "code",
   "execution_count": 126,
   "metadata": {},
   "outputs": [],
   "source": [
    "fileh = open(sample_file, 'r')"
   ]
  },
  {
   "cell_type": "code",
   "execution_count": 127,
   "metadata": {},
   "outputs": [
    {
     "data": {
      "text/plain": [
       "['Sample\\tSpecies\\t\\n',\n",
       " 'sample1\\tHomo sapiens\\t\\n',\n",
       " 'sample2\\tPan troglodytes\\t\\n',\n",
       " 'sample3\\tHomo sapiens\\t\\n',\n",
       " 'sample4\\tMacaca mulatta\\t\\n']"
      ]
     },
     "execution_count": 127,
     "metadata": {},
     "output_type": "execute_result"
    }
   ],
   "source": [
    "lines = fileh.readlines()\n",
    "lines"
   ]
  },
  {
   "cell_type": "markdown",
   "metadata": {},
   "source": [
    "Or, especially if your file is large, you can read one line at a time using _for_ because a file handle acts like a list. <br/>Using print() will convert the \\t and \\n into tabs and newlines respectively"
   ]
  },
  {
   "cell_type": "code",
   "execution_count": 128,
   "metadata": {},
   "outputs": [],
   "source": [
    "fileh = open(sample_file, 'r')"
   ]
  },
  {
   "cell_type": "code",
   "execution_count": 129,
   "metadata": {},
   "outputs": [
    {
     "name": "stdout",
     "output_type": "stream",
     "text": [
      "Sample\tSpecies\n",
      "sample1\tHomo sapiens\n",
      "sample2\tPan troglodytes\n",
      "sample3\tHomo sapiens\n",
      "sample4\tMacaca mulatta\n"
     ]
    }
   ],
   "source": [
    "for line in fileh:\n",
    "    print(line.strip())"
   ]
  },
  {
   "cell_type": "code",
   "execution_count": 130,
   "metadata": {},
   "outputs": [
    {
     "name": "stdout",
     "output_type": "stream",
     "text": [
      "sample1\tHomo sapiens\n",
      "sample2\tPan troglodytes\n",
      "sample3\tHomo sapiens\n",
      "sample4\tMacaca mulatta\n"
     ]
    }
   ],
   "source": [
    "fileh = open(sample_file, 'r')\n",
    "\n",
    "for line in fileh:\n",
    "    if not line.startswith('Sample'):\n",
    "        print(line.strip())"
   ]
  },
  {
   "cell_type": "markdown",
   "metadata": {},
   "source": [
    "Using a context manager (_with_ _as_) is a good way to ensure that the file will close when you're done with it."
   ]
  },
  {
   "cell_type": "code",
   "execution_count": 131,
   "metadata": {},
   "outputs": [
    {
     "name": "stdout",
     "output_type": "stream",
     "text": [
      "sample1\tHomo sapiens\n",
      "sample2\tPan troglodytes\n",
      "sample3\tHomo sapiens\n",
      "sample4\tMacaca mulatta\n"
     ]
    }
   ],
   "source": [
    "with open(sample_file, 'r') as fileh:\n",
    "    for line in fileh:\n",
    "        if not line.startswith('Sample'):\n",
    "            print(line.strip())"
   ]
  },
  {
   "cell_type": "markdown",
   "metadata": {},
   "source": [
    "We can see that the fileh is closed because we are using the context manager."
   ]
  },
  {
   "cell_type": "code",
   "execution_count": 132,
   "metadata": {},
   "outputs": [
    {
     "data": {
      "text/plain": [
       "True"
      ]
     },
     "execution_count": 132,
     "metadata": {},
     "output_type": "execute_result"
    }
   ],
   "source": [
    "fileh.closed"
   ]
  },
  {
   "cell_type": "markdown",
   "metadata": {},
   "source": [
    "## Exercise 13. Try opening the annotations.1.txt file"
   ]
  },
  {
   "cell_type": "markdown",
   "metadata": {},
   "source": [
    "#### 13.1 open the data/chr12/annotations.1.txt file and get a sense of the content, how are the values delimited?"
   ]
  },
  {
   "cell_type": "raw",
   "metadata": {},
   "source": []
  },
  {
   "cell_type": "markdown",
   "metadata": {},
   "source": [
    "#### 13.2 open the annotations file and print out the lines "
   ]
  },
  {
   "cell_type": "code",
   "execution_count": 133,
   "metadata": {},
   "outputs": [
    {
     "data": {
      "text/plain": [
       "['Accession\\tOrganism\\tGene name\\tSeq type\\tReference\\tLength',\n",
       " 'sample1\\tHomo sapiens\\tacrosin binding protein\\tmRNA\\tNM_032489.3\\t1905',\n",
       " 'sample2\\tPan troglodytes\\tpotassium voltage-gated channel subfamily A member 1 \\tmRNA\\tXM_003313436.4\\t7990',\n",
       " 'sample3\\tHomo sapiens\\tinhibitor of growth family member 4\\tmRNA\\tXM_011520964.2\\t1321',\n",
       " 'sample4\\tMacaca mulatta\\tNOP2 nucleolar protein\\tmRNA\\tXM_015150909.2\\t2759']"
      ]
     },
     "execution_count": 133,
     "metadata": {},
     "output_type": "execute_result"
    }
   ],
   "source": [
    "lines = []\n",
    "header_line = ''\n",
    "with open(file_name, 'r') as fileh:\n",
    "    for line in fileh:\n",
    "        lines.append(line.strip())\n",
    "lines"
   ]
  },
  {
   "cell_type": "markdown",
   "metadata": {},
   "source": [
    "#### 13.3 print out everything but the header row, optionally store the header row in a variable called header"
   ]
  },
  {
   "cell_type": "code",
   "execution_count": 134,
   "metadata": {},
   "outputs": [
    {
     "name": "stdout",
     "output_type": "stream",
     "text": [
      "sample1\tHomo sapiens\tacrosin binding protein\tmRNA\tNM_032489.3\t1905\n",
      "sample2\tPan troglodytes\tpotassium voltage-gated channel subfamily A member 1 \tmRNA\tXM_003313436.4\t7990\n",
      "sample3\tHomo sapiens\tinhibitor of growth family member 4\tmRNA\tXM_011520964.2\t1321\n",
      "sample4\tMacaca mulatta\tNOP2 nucleolar protein\tmRNA\tXM_015150909.2\t2759\n",
      "Accession\tOrganism\tGene name\tSeq type\tReference\tLength\n"
     ]
    }
   ],
   "source": [
    "header = ''\n",
    "with open(file_name, 'r') as fileh:\n",
    "    for line in fileh:\n",
    "        if line.startswith('Accession'):\n",
    "            header = line.strip()\n",
    "        else:\n",
    "            print(line.strip())\n",
    "print(header)"
   ]
  },
  {
   "cell_type": "markdown",
   "metadata": {},
   "source": [
    "#### 13.4 now use the split function on each line before you add it to the list (as you recall the split function splits a string into a list)"
   ]
  },
  {
   "cell_type": "code",
   "execution_count": 135,
   "metadata": {},
   "outputs": [
    {
     "data": {
      "text/plain": [
       "[['sample1',\n",
       "  'Homo sapiens',\n",
       "  'acrosin binding protein',\n",
       "  'mRNA',\n",
       "  'NM_032489.3',\n",
       "  '1905'],\n",
       " ['sample2',\n",
       "  'Pan troglodytes',\n",
       "  'potassium voltage-gated channel subfamily A member 1 ',\n",
       "  'mRNA',\n",
       "  'XM_003313436.4',\n",
       "  '7990'],\n",
       " ['sample3',\n",
       "  'Homo sapiens',\n",
       "  'inhibitor of growth family member 4',\n",
       "  'mRNA',\n",
       "  'XM_011520964.2',\n",
       "  '1321'],\n",
       " ['sample4',\n",
       "  'Macaca mulatta',\n",
       "  'NOP2 nucleolar protein',\n",
       "  'mRNA',\n",
       "  'XM_015150909.2',\n",
       "  '2759']]"
      ]
     },
     "execution_count": 135,
     "metadata": {},
     "output_type": "execute_result"
    }
   ],
   "source": [
    "lines = []\n",
    "header = ''\n",
    "with open(file_name, 'r') as fileh:\n",
    "    for line in fileh:\n",
    "        line = line.strip()\n",
    "        if line.startswith('Accession'):\n",
    "            header = line\n",
    "        else:\n",
    "            lines.append(line.split('\\t'))\n",
    "lines"
   ]
  },
  {
   "cell_type": "markdown",
   "metadata": {},
   "source": [
    "#### 13.5 using list indexing get the second element of the first row of lines"
   ]
  },
  {
   "cell_type": "code",
   "execution_count": 136,
   "metadata": {},
   "outputs": [
    {
     "data": {
      "text/plain": [
       "['sample1',\n",
       " 'Homo sapiens',\n",
       " 'acrosin binding protein',\n",
       " 'mRNA',\n",
       " 'NM_032489.3',\n",
       " '1905']"
      ]
     },
     "execution_count": 136,
     "metadata": {},
     "output_type": "execute_result"
    }
   ],
   "source": [
    "lines[0]"
   ]
  },
  {
   "cell_type": "code",
   "execution_count": 137,
   "metadata": {},
   "outputs": [
    {
     "data": {
      "text/plain": [
       "'Homo sapiens'"
      ]
     },
     "execution_count": 137,
     "metadata": {},
     "output_type": "execute_result"
    }
   ],
   "source": [
    "lines[0][1]"
   ]
  },
  {
   "cell_type": "markdown",
   "metadata": {},
   "source": [
    "#### 13.6 loop through each line of data and use the get_common_name function you wrote to get the common name for that row and add it to a list called common_names"
   ]
  },
  {
   "cell_type": "markdown",
   "metadata": {},
   "source": [
    "#### Report out the unique organism common names using a list"
   ]
  },
  {
   "cell_type": "code",
   "execution_count": 138,
   "metadata": {},
   "outputs": [
    {
     "data": {
      "text/plain": [
       "['Human', 'Chimp', 'Human', 'Macaque']"
      ]
     },
     "execution_count": 138,
     "metadata": {},
     "output_type": "execute_result"
    }
   ],
   "source": [
    "common_names = []\n",
    "for row in lines:\n",
    "    org = row[1]\n",
    "    common_names.append(get_common_name(org))\n",
    "common_names"
   ]
  },
  {
   "cell_type": "markdown",
   "metadata": {},
   "source": [
    "# 14. Sets and Dictionaries"
   ]
  },
  {
   "cell_type": "markdown",
   "metadata": {},
   "source": [
    "A _set_ is a collection of unique elements that can participate in set operations like unions and intersects"
   ]
  },
  {
   "cell_type": "code",
   "execution_count": 139,
   "metadata": {},
   "outputs": [
    {
     "data": {
      "text/plain": [
       "{'Fruit fly', 'Human', 'Macaque', 'Mouse', 'Zebrafish'}"
      ]
     },
     "execution_count": 139,
     "metadata": {},
     "output_type": "execute_result"
    }
   ],
   "source": [
    "model_organisms = set(['Human', 'Mouse', 'Fruit fly', 'Macaque', 'Zebrafish'])\n",
    "model_organisms"
   ]
  },
  {
   "cell_type": "markdown",
   "metadata": {},
   "source": [
    "you can add elements to a set with the function add which is similar to list append"
   ]
  },
  {
   "cell_type": "code",
   "execution_count": 140,
   "metadata": {},
   "outputs": [
    {
     "data": {
      "text/plain": [
       "{'E. coli', 'Fruit fly', 'Human', 'Macaque', 'Mouse', 'Zebrafish'}"
      ]
     },
     "execution_count": 140,
     "metadata": {},
     "output_type": "execute_result"
    }
   ],
   "source": [
    "model_organisms.add('E. coli')\n",
    "model_organisms"
   ]
  },
  {
   "cell_type": "markdown",
   "metadata": {},
   "source": [
    "But it will not add duplicates"
   ]
  },
  {
   "cell_type": "code",
   "execution_count": 141,
   "metadata": {},
   "outputs": [
    {
     "data": {
      "text/plain": [
       "{'E. coli', 'Fruit fly', 'Human', 'Macaque', 'Mouse', 'Zebrafish'}"
      ]
     },
     "execution_count": 141,
     "metadata": {},
     "output_type": "execute_result"
    }
   ],
   "source": [
    "model_organisms.add('Human')\n",
    "model_organisms"
   ]
  },
  {
   "cell_type": "markdown",
   "metadata": {},
   "source": [
    "A dictionary as a set of key: value pairs.  The keys are unique (within one dictionary). A pair of braces creates an empty dictionary: {}. You can add keys with a braken notation setting them equal to values."
   ]
  },
  {
   "cell_type": "code",
   "execution_count": 142,
   "metadata": {},
   "outputs": [
    {
     "data": {
      "text/plain": [
       "{'MA': 'Boston', 'NH': 'Concord'}"
      ]
     },
     "execution_count": 142,
     "metadata": {},
     "output_type": "execute_result"
    }
   ],
   "source": [
    "capitals = {}\n",
    "capitals['MA'] = 'Boston'\n",
    "capitals['NH'] = 'Concord'\n",
    "capitals"
   ]
  },
  {
   "cell_type": "markdown",
   "metadata": {},
   "source": [
    "A dictionary can also be initialized with values using a colon to seperate keys and values."
   ]
  },
  {
   "cell_type": "code",
   "execution_count": 143,
   "metadata": {},
   "outputs": [
    {
     "data": {
      "text/plain": [
       "{'MA': 'Boston', 'NH': 'Concord'}"
      ]
     },
     "execution_count": 143,
     "metadata": {},
     "output_type": "execute_result"
    }
   ],
   "source": [
    "capitals = {'MA': 'Boston', 'NH': 'Concord'}\n",
    "capitals"
   ]
  },
  {
   "cell_type": "markdown",
   "metadata": {},
   "source": [
    "You can access individual elements by key"
   ]
  },
  {
   "cell_type": "code",
   "execution_count": 144,
   "metadata": {},
   "outputs": [
    {
     "data": {
      "text/plain": [
       "'Boston'"
      ]
     },
     "execution_count": 144,
     "metadata": {},
     "output_type": "execute_result"
    }
   ],
   "source": [
    "capitals['MA']"
   ]
  },
  {
   "cell_type": "markdown",
   "metadata": {},
   "source": [
    "It's an error to access a key that isn't there."
   ]
  },
  {
   "cell_type": "code",
   "execution_count": 145,
   "metadata": {},
   "outputs": [
    {
     "ename": "KeyError",
     "evalue": "'ME'",
     "output_type": "error",
     "traceback": [
      "\u001b[0;31m---------------------------------------------------------------------------\u001b[0m",
      "\u001b[0;31mKeyError\u001b[0m                                  Traceback (most recent call last)",
      "\u001b[0;32m<ipython-input-145-0741145d65d0>\u001b[0m in \u001b[0;36m<module>\u001b[0;34m\u001b[0m\n\u001b[0;32m----> 1\u001b[0;31m \u001b[0mcapitals\u001b[0m\u001b[0;34m[\u001b[0m\u001b[0;34m'ME'\u001b[0m\u001b[0;34m]\u001b[0m\u001b[0;34m\u001b[0m\u001b[0;34m\u001b[0m\u001b[0m\n\u001b[0m",
      "\u001b[0;31mKeyError\u001b[0m: 'ME'"
     ]
    }
   ],
   "source": [
    "capitals['ME']"
   ]
  },
  {
   "cell_type": "markdown",
   "metadata": {},
   "source": [
    "But you can use the _get()_ function to safely return a default value"
   ]
  },
  {
   "cell_type": "code",
   "execution_count": 146,
   "metadata": {},
   "outputs": [
    {
     "data": {
      "text/plain": [
       "'not available'"
      ]
     },
     "execution_count": 146,
     "metadata": {},
     "output_type": "execute_result"
    }
   ],
   "source": [
    "capitals.get('ME', 'not available')"
   ]
  },
  {
   "cell_type": "markdown",
   "metadata": {},
   "source": [
    "You can iterate over a dictionary with _for_ using the _items()_ function"
   ]
  },
  {
   "cell_type": "code",
   "execution_count": 147,
   "metadata": {},
   "outputs": [
    {
     "data": {
      "text/plain": [
       "dict_items([('MA', 'Boston'), ('NH', 'Concord')])"
      ]
     },
     "execution_count": 147,
     "metadata": {},
     "output_type": "execute_result"
    }
   ],
   "source": [
    "capitals.items()"
   ]
  },
  {
   "cell_type": "code",
   "execution_count": 148,
   "metadata": {},
   "outputs": [
    {
     "name": "stdout",
     "output_type": "stream",
     "text": [
      "the capital of MA is Boston\n",
      "the capital of NH is Concord\n"
     ]
    }
   ],
   "source": [
    "for k, v in capitals.items():\n",
    "    print('the capital of %s is %s' % (k, v))"
   ]
  },
  {
   "cell_type": "markdown",
   "metadata": {},
   "source": [
    "in addition to items function dictionaries have keys() and values() which return lists of the keys or values"
   ]
  },
  {
   "cell_type": "code",
   "execution_count": 149,
   "metadata": {},
   "outputs": [
    {
     "data": {
      "text/plain": [
       "dict_keys(['MA', 'NH'])"
      ]
     },
     "execution_count": 149,
     "metadata": {},
     "output_type": "execute_result"
    }
   ],
   "source": [
    "capitals.keys()"
   ]
  },
  {
   "cell_type": "code",
   "execution_count": 150,
   "metadata": {},
   "outputs": [
    {
     "data": {
      "text/plain": [
       "['MA', 'NH']"
      ]
     },
     "execution_count": 150,
     "metadata": {},
     "output_type": "execute_result"
    }
   ],
   "source": [
    "list(capitals.keys())"
   ]
  },
  {
   "cell_type": "code",
   "execution_count": 151,
   "metadata": {},
   "outputs": [
    {
     "data": {
      "text/plain": [
       "dict_values(['Boston', 'Concord'])"
      ]
     },
     "execution_count": 151,
     "metadata": {},
     "output_type": "execute_result"
    }
   ],
   "source": [
    "capitals.values()"
   ]
  },
  {
   "cell_type": "markdown",
   "metadata": {},
   "source": [
    "You can use the zip function to turn two lists into a dictionary "
   ]
  },
  {
   "cell_type": "code",
   "execution_count": 152,
   "metadata": {},
   "outputs": [
    {
     "data": {
      "text/plain": [
       "<zip at 0x7f635489f048>"
      ]
     },
     "execution_count": 152,
     "metadata": {},
     "output_type": "execute_result"
    }
   ],
   "source": [
    "states = ['MA', 'NH', 'ME']\n",
    "cities = ['Boston', 'Concord', 'Agusta']\n",
    "capitals = zip(states, cities)\n",
    "capitals"
   ]
  },
  {
   "cell_type": "markdown",
   "metadata": {},
   "source": [
    "Note that this is a zip object to complete turning it into a dictionary use the dict() funciton"
   ]
  },
  {
   "cell_type": "code",
   "execution_count": 153,
   "metadata": {},
   "outputs": [
    {
     "data": {
      "text/plain": [
       "{'MA': 'Boston', 'NH': 'Concord', 'ME': 'Agusta'}"
      ]
     },
     "execution_count": 153,
     "metadata": {},
     "output_type": "execute_result"
    }
   ],
   "source": [
    "dict(capitals)"
   ]
  },
  {
   "cell_type": "markdown",
   "metadata": {},
   "source": [
    "## Exercise 14"
   ]
  },
  {
   "cell_type": "markdown",
   "metadata": {},
   "source": [
    "#### 14.1 rewrite your code from 13.5 use a set rather than a list"
   ]
  },
  {
   "cell_type": "code",
   "execution_count": 154,
   "metadata": {},
   "outputs": [
    {
     "data": {
      "text/plain": [
       "{'Chimp', 'Human', 'Macaque'}"
      ]
     },
     "execution_count": 154,
     "metadata": {},
     "output_type": "execute_result"
    }
   ],
   "source": [
    "common_names = set()\n",
    "for row in lines:\n",
    "    org = row[1]\n",
    "    common_names.add(get_common_name(org))\n",
    "common_names"
   ]
  },
  {
   "cell_type": "markdown",
   "metadata": {},
   "source": [
    "#### 14.2 create a dictionary to map the organism to common names we used in get_common_name()"
   ]
  },
  {
   "cell_type": "code",
   "execution_count": 155,
   "metadata": {},
   "outputs": [
    {
     "data": {
      "text/plain": [
       "{'Homo sapiens': 'Human',\n",
       " 'Pan troglodytes': 'Chimp',\n",
       " 'Macaca mulatta': 'Macaque'}"
      ]
     },
     "execution_count": 155,
     "metadata": {},
     "output_type": "execute_result"
    }
   ],
   "source": [
    "org_names = {\n",
    "    'Homo sapiens': 'Human',\n",
    "    'Pan troglodytes': 'Chimp',\n",
    "    'Macaca mulatta': 'Macaque'\n",
    "}\n",
    "org_names"
   ]
  },
  {
   "cell_type": "markdown",
   "metadata": {},
   "source": [
    "#### 14.3 loop through the dictionary and print out the keys and values"
   ]
  },
  {
   "cell_type": "code",
   "execution_count": 156,
   "metadata": {},
   "outputs": [
    {
     "name": "stdout",
     "output_type": "stream",
     "text": [
      "Homo sapiens (Human)\n",
      "Pan troglodytes (Chimp)\n",
      "Macaca mulatta (Macaque)\n"
     ]
    }
   ],
   "source": [
    "for org, common in org_names.items():\n",
    "    print('%s (%s)' % (org, common))"
   ]
  },
  {
   "cell_type": "markdown",
   "metadata": {},
   "source": [
    "#### 14.4 use the __dict__.get() function to look for 'Mus musculus' and make sure to add a default (the second parameter)"
   ]
  },
  {
   "cell_type": "code",
   "execution_count": 157,
   "metadata": {},
   "outputs": [
    {
     "data": {
      "text/plain": [
       "'Not found'"
      ]
     },
     "execution_count": 157,
     "metadata": {},
     "output_type": "execute_result"
    }
   ],
   "source": [
    "org_names.get('Mus musculus', 'Not found')"
   ]
  },
  {
   "cell_type": "markdown",
   "metadata": {},
   "source": [
    "#### 14.5 rewrite the fetching of our data rows from annotations.1.txt file (13.3) to make each row a dictionary using the zip function, use the header as the keys (you will have to split the header into a list)"
   ]
  },
  {
   "cell_type": "code",
   "execution_count": 158,
   "metadata": {},
   "outputs": [
    {
     "data": {
      "text/plain": [
       "['Accession', 'Organism', 'Gene name', 'Seq type', 'Reference', 'Length']"
      ]
     },
     "execution_count": 158,
     "metadata": {},
     "output_type": "execute_result"
    }
   ],
   "source": [
    "col_names = header.split('\\t')\n",
    "col_names"
   ]
  },
  {
   "cell_type": "code",
   "execution_count": 159,
   "metadata": {},
   "outputs": [
    {
     "data": {
      "text/plain": [
       "[{'Accession': 'sample1',\n",
       "  'Organism': 'Homo sapiens',\n",
       "  'Gene name': 'acrosin binding protein',\n",
       "  'Seq type': 'mRNA',\n",
       "  'Reference': 'NM_032489.3',\n",
       "  'Length': '1905'},\n",
       " {'Accession': 'sample2',\n",
       "  'Organism': 'Pan troglodytes',\n",
       "  'Gene name': 'potassium voltage-gated channel subfamily A member 1 ',\n",
       "  'Seq type': 'mRNA',\n",
       "  'Reference': 'XM_003313436.4',\n",
       "  'Length': '7990'},\n",
       " {'Accession': 'sample3',\n",
       "  'Organism': 'Homo sapiens',\n",
       "  'Gene name': 'inhibitor of growth family member 4',\n",
       "  'Seq type': 'mRNA',\n",
       "  'Reference': 'XM_011520964.2',\n",
       "  'Length': '1321'},\n",
       " {'Accession': 'sample4',\n",
       "  'Organism': 'Macaca mulatta',\n",
       "  'Gene name': 'NOP2 nucleolar protein',\n",
       "  'Seq type': 'mRNA',\n",
       "  'Reference': 'XM_015150909.2',\n",
       "  'Length': '2759'}]"
      ]
     },
     "execution_count": 159,
     "metadata": {},
     "output_type": "execute_result"
    }
   ],
   "source": [
    "labeled_data = []\n",
    "for row in lines:\n",
    "    labeled_row = zip(col_names, row)\n",
    "    labeled_data.append(dict(labeled_row))\n",
    "labeled_data"
   ]
  },
  {
   "cell_type": "markdown",
   "metadata": {},
   "source": [
    "#### 14.6 optional if you have time - rather than using zip iterate through the header and the line elements at one time using the enumerate function"
   ]
  },
  {
   "cell_type": "code",
   "execution_count": 160,
   "metadata": {},
   "outputs": [
    {
     "data": {
      "text/plain": [
       "[{'Accession': 'sample1',\n",
       "  'Organism': 'Homo sapiens',\n",
       "  'Gene name': 'acrosin binding protein',\n",
       "  'Seq type': 'mRNA',\n",
       "  'Reference': 'NM_032489.3',\n",
       "  'Length': '1905'},\n",
       " {'Accession': 'sample2',\n",
       "  'Organism': 'Pan troglodytes',\n",
       "  'Gene name': 'potassium voltage-gated channel subfamily A member 1 ',\n",
       "  'Seq type': 'mRNA',\n",
       "  'Reference': 'XM_003313436.4',\n",
       "  'Length': '7990'},\n",
       " {'Accession': 'sample3',\n",
       "  'Organism': 'Homo sapiens',\n",
       "  'Gene name': 'inhibitor of growth family member 4',\n",
       "  'Seq type': 'mRNA',\n",
       "  'Reference': 'XM_011520964.2',\n",
       "  'Length': '1321'},\n",
       " {'Accession': 'sample4',\n",
       "  'Organism': 'Macaca mulatta',\n",
       "  'Gene name': 'NOP2 nucleolar protein',\n",
       "  'Seq type': 'mRNA',\n",
       "  'Reference': 'XM_015150909.2',\n",
       "  'Length': '2759'}]"
      ]
     },
     "execution_count": 160,
     "metadata": {},
     "output_type": "execute_result"
    }
   ],
   "source": [
    "labeled_data = []\n",
    "for row in lines:\n",
    "    labeled_row = {}\n",
    "    for i, col_name in enumerate(col_names):\n",
    "        labeled_row[col_name] = row[i]\n",
    "    labeled_data.append(labeled_row)\n",
    "labeled_data\n",
    "    "
   ]
  },
  {
   "cell_type": "markdown",
   "metadata": {
    "toc-hr-collapsed": true
   },
   "source": [
    "#  15. Sorting lists"
   ]
  },
  {
   "cell_type": "markdown",
   "metadata": {},
   "source": [
    "#### Python sorts lists by 'natural' order, either in place..."
   ]
  },
  {
   "cell_type": "code",
   "execution_count": 161,
   "metadata": {},
   "outputs": [
    {
     "data": {
      "text/plain": [
       "['a', 't', 'x']"
      ]
     },
     "execution_count": 161,
     "metadata": {},
     "output_type": "execute_result"
    }
   ],
   "source": [
    "letters = ['a','x','t']\n",
    "letters.sort()\n",
    "letters"
   ]
  },
  {
   "cell_type": "code",
   "execution_count": 162,
   "metadata": {},
   "outputs": [
    {
     "data": {
      "text/plain": [
       "[1, 1.5, 5, 20]"
      ]
     },
     "execution_count": 162,
     "metadata": {},
     "output_type": "execute_result"
    }
   ],
   "source": [
    "numbers  = [1, 5, 20, 1.5]\n",
    "numbers.sort()\n",
    "numbers"
   ]
  },
  {
   "cell_type": "code",
   "execution_count": 163,
   "metadata": {},
   "outputs": [
    {
     "data": {
      "text/plain": [
       "['1', '100', '150', '2']"
      ]
     },
     "execution_count": 163,
     "metadata": {},
     "output_type": "execute_result"
    }
   ],
   "source": [
    "numberchars = ['1', '2', '100', '150']\n",
    "numberchars.sort()\n",
    "numberchars"
   ]
  },
  {
   "cell_type": "markdown",
   "metadata": {},
   "source": [
    "#### ... or as new list"
   ]
  },
  {
   "cell_type": "code",
   "execution_count": 164,
   "metadata": {},
   "outputs": [
    {
     "data": {
      "text/plain": [
       "[1, 5, 3, 8]"
      ]
     },
     "execution_count": 164,
     "metadata": {},
     "output_type": "execute_result"
    }
   ],
   "source": [
    "numbers = [1,5,3,8]\n",
    "sortednumbers = sorted(numbers)\n",
    "numbers"
   ]
  },
  {
   "cell_type": "code",
   "execution_count": 165,
   "metadata": {},
   "outputs": [
    {
     "data": {
      "text/plain": [
       "[1, 3, 5, 8]"
      ]
     },
     "execution_count": 165,
     "metadata": {},
     "output_type": "execute_result"
    }
   ],
   "source": [
    "sortednumbers"
   ]
  },
  {
   "cell_type": "markdown",
   "metadata": {},
   "source": [
    "#### Reversing the direction is easy"
   ]
  },
  {
   "cell_type": "code",
   "execution_count": 166,
   "metadata": {},
   "outputs": [
    {
     "data": {
      "text/plain": [
       "[8, 5, 3, 1]"
      ]
     },
     "execution_count": 166,
     "metadata": {},
     "output_type": "execute_result"
    }
   ],
   "source": [
    "sortednumbers.sort(reverse=True)\n",
    "sortednumbers"
   ]
  },
  {
   "cell_type": "markdown",
   "metadata": {},
   "source": [
    "#### A key function provides flexibility in sorting"
   ]
  },
  {
   "cell_type": "code",
   "execution_count": 167,
   "metadata": {},
   "outputs": [
    {
     "data": {
      "text/plain": [
       "['But', 'and', 'or']"
      ]
     },
     "execution_count": 167,
     "metadata": {},
     "output_type": "execute_result"
    }
   ],
   "source": [
    "def case_insensitive(item):\n",
    "    return item.lower()\n",
    "\n",
    "words = ['and', 'or', 'But']\n",
    "sortedwords = sorted(words)\n",
    "sortedwords"
   ]
  },
  {
   "cell_type": "code",
   "execution_count": 168,
   "metadata": {},
   "outputs": [
    {
     "data": {
      "text/plain": [
       "['and', 'But', 'or']"
      ]
     },
     "execution_count": 168,
     "metadata": {},
     "output_type": "execute_result"
    }
   ],
   "source": [
    "sortedwords = sorted(words, key=case_insensitive)\n",
    "sortedwords"
   ]
  },
  {
   "cell_type": "markdown",
   "metadata": {},
   "source": [
    "## Exercise 15 "
   ]
  },
  {
   "cell_type": "markdown",
   "metadata": {},
   "source": [
    "#### 15.1 we are going to sort the labeled_data by seqence length, to do this first write a key function which returns the sequencing length of a row as an integer "
   ]
  },
  {
   "cell_type": "code",
   "execution_count": 169,
   "metadata": {},
   "outputs": [],
   "source": [
    "def seq_length(item):\n",
    "    return int(item['Length'])"
   ]
  },
  {
   "cell_type": "markdown",
   "metadata": {},
   "source": [
    "#### 15.2 use that function to sort the labeled data with the longest sequence first"
   ]
  },
  {
   "cell_type": "code",
   "execution_count": 170,
   "metadata": {},
   "outputs": [
    {
     "data": {
      "text/plain": [
       "[{'Accession': 'sample2',\n",
       "  'Organism': 'Pan troglodytes',\n",
       "  'Gene name': 'potassium voltage-gated channel subfamily A member 1 ',\n",
       "  'Seq type': 'mRNA',\n",
       "  'Reference': 'XM_003313436.4',\n",
       "  'Length': '7990'},\n",
       " {'Accession': 'sample4',\n",
       "  'Organism': 'Macaca mulatta',\n",
       "  'Gene name': 'NOP2 nucleolar protein',\n",
       "  'Seq type': 'mRNA',\n",
       "  'Reference': 'XM_015150909.2',\n",
       "  'Length': '2759'},\n",
       " {'Accession': 'sample1',\n",
       "  'Organism': 'Homo sapiens',\n",
       "  'Gene name': 'acrosin binding protein',\n",
       "  'Seq type': 'mRNA',\n",
       "  'Reference': 'NM_032489.3',\n",
       "  'Length': '1905'},\n",
       " {'Accession': 'sample3',\n",
       "  'Organism': 'Homo sapiens',\n",
       "  'Gene name': 'inhibitor of growth family member 4',\n",
       "  'Seq type': 'mRNA',\n",
       "  'Reference': 'XM_011520964.2',\n",
       "  'Length': '1321'}]"
      ]
     },
     "execution_count": 170,
     "metadata": {},
     "output_type": "execute_result"
    }
   ],
   "source": [
    "sorted_labeled_data = sorted(labeled_data, key=seq_length, reverse=True)\n",
    "sorted_labeled_data"
   ]
  },
  {
   "cell_type": "markdown",
   "metadata": {},
   "source": [
    "#### 15.2 let's create a dictionary of dictionaries here, create an empty dictionary called labeled_data_dictionary loop through sorted_labeled_data list and use Acccession as the key add the record dictionary as the value for a new record in labeled_data_dict."
   ]
  },
  {
   "cell_type": "code",
   "execution_count": 171,
   "metadata": {},
   "outputs": [
    {
     "data": {
      "text/plain": [
       "{'sample2': {'Accession': 'sample2',\n",
       "  'Organism': 'Pan troglodytes',\n",
       "  'Gene name': 'potassium voltage-gated channel subfamily A member 1 ',\n",
       "  'Seq type': 'mRNA',\n",
       "  'Reference': 'XM_003313436.4',\n",
       "  'Length': '7990'},\n",
       " 'sample4': {'Accession': 'sample4',\n",
       "  'Organism': 'Macaca mulatta',\n",
       "  'Gene name': 'NOP2 nucleolar protein',\n",
       "  'Seq type': 'mRNA',\n",
       "  'Reference': 'XM_015150909.2',\n",
       "  'Length': '2759'},\n",
       " 'sample1': {'Accession': 'sample1',\n",
       "  'Organism': 'Homo sapiens',\n",
       "  'Gene name': 'acrosin binding protein',\n",
       "  'Seq type': 'mRNA',\n",
       "  'Reference': 'NM_032489.3',\n",
       "  'Length': '1905'},\n",
       " 'sample3': {'Accession': 'sample3',\n",
       "  'Organism': 'Homo sapiens',\n",
       "  'Gene name': 'inhibitor of growth family member 4',\n",
       "  'Seq type': 'mRNA',\n",
       "  'Reference': 'XM_011520964.2',\n",
       "  'Length': '1321'}}"
      ]
     },
     "execution_count": 171,
     "metadata": {},
     "output_type": "execute_result"
    }
   ],
   "source": [
    "labeled_data_dict = {}\n",
    "for record in sorted_labeled_data:\n",
    "    labeled_data_dict[record['Accession']] = record\n",
    "labeled_data_dict"
   ]
  },
  {
   "cell_type": "markdown",
   "metadata": {
    "toc-hr-collapsed": true
   },
   "source": [
    "# 16. Writing to file"
   ]
  },
  {
   "cell_type": "markdown",
   "metadata": {},
   "source": [
    "using the open function to create a filehandle we can not only read as we've already seen with annotations.1.txt but write.  To open the file for writing use a 'w' for the second param for open."
   ]
  },
  {
   "cell_type": "code",
   "execution_count": 172,
   "metadata": {},
   "outputs": [],
   "source": [
    "test_file = 'data/test.txt'\n",
    "fileh = open(test_file, 'w')\n",
    "fileh.write('this is a line')\n",
    "fileh.write('another line')\n",
    "fileh.close()"
   ]
  },
  {
   "cell_type": "markdown",
   "metadata": {},
   "source": [
    "to get a newline we have to add the newline character \\n"
   ]
  },
  {
   "cell_type": "code",
   "execution_count": 173,
   "metadata": {},
   "outputs": [],
   "source": [
    "test_file = 'data/test.txt'\n",
    "fileh = open(test_file, 'w')\n",
    "fileh.write('this is a line\\n')\n",
    "fileh.write('another line')\n",
    "fileh.close()"
   ]
  },
  {
   "cell_type": "markdown",
   "metadata": {},
   "source": [
    "opening with a, opens in append mode"
   ]
  },
  {
   "cell_type": "code",
   "execution_count": 174,
   "metadata": {},
   "outputs": [],
   "source": [
    "test_file = 'data/test.txt'\n",
    "fileh = open(test_file, 'a')\n",
    "fileh.write('this is a line\\n')\n",
    "fileh.write('another line')\n",
    "fileh.close()"
   ]
  },
  {
   "cell_type": "markdown",
   "metadata": {},
   "source": [
    "## Exercise 16. write an annotated sample file"
   ]
  },
  {
   "cell_type": "markdown",
   "metadata": {},
   "source": [
    "FASTA records have two parts, a description line, starting with '>', and the sequence, e.g.\n",
    "\n",
    "    >NC_000012.12 Homo sapiens chromosome 12, GRCh38.p13 Primary Assembly     <-- Description line\n",
    "    ATCGAGACCATCCTGGCCAACATAGTGAAAACCTTTCTCTACTAAAAATACAAAAATTAGCCAGGTATGG    <-- Sequence (DNA in this case)\n",
    "    TCGAGAGGCTGAGGCAGGAGGATCGCTTAAACCTGGGAGGTAGAGGTTCCAGTGAGCTGAGATTGCGACA\n",
    "    ...\n",
    "    >NC_000013.12 Homo sapiens chromosome 13, GRCh38.p13 Primary Assembly\n",
    "\n",
    "In this example, the first line is the description line, starting with a '>' and the second line starts the DNA sequence.\n",
    "There can be multiple lines of sequence separated by newlines or just a single line.\n",
    "\n",
    "The description line has further structure in that the characters between the '>' and the first whitespace are \n",
    "treated as the sequence record identifier, in this case NC_000012.12 or NC_000013.12\n",
    "\n",
    "More than one FASTA record may be in a FASTA file.\n"
   ]
  },
  {
   "cell_type": "markdown",
   "metadata": {},
   "source": [
    "First, open the samples.fa sequence file from data/chr12"
   ]
  },
  {
   "cell_type": "markdown",
   "metadata": {},
   "source": [
    "#### 16.1 open that file for reading and loop through all the lines printing out only the sample descriptions which start with > "
   ]
  },
  {
   "cell_type": "code",
   "execution_count": 175,
   "metadata": {},
   "outputs": [
    {
     "name": "stdout",
     "output_type": "stream",
     "text": [
      ">sample1\n",
      ">sample2\n",
      ">sample3\n",
      ">sample4\n"
     ]
    }
   ],
   "source": [
    "sample_file = 'data/chr12/samples.fa'\n",
    "fileh = open(sample_file, 'r')\n",
    "for line in fileh:\n",
    "    line = line.strip()\n",
    "    if line.startswith('>'):\n",
    "        print(line)"
   ]
  },
  {
   "cell_type": "markdown",
   "metadata": {},
   "source": [
    "#### 16.2 now let's create a dictionary called fastq_records then as you loop through the file if it's a sample name then set a variable called description to the sample name and create a key in fasta_records for the description set to an empty list, if the line is sequence then append it to that list"
   ]
  },
  {
   "cell_type": "code",
   "execution_count": 176,
   "metadata": {},
   "outputs": [],
   "source": [
    "fasta_records = {}\n",
    "sample_file = 'data/chr12/samples.fa'\n",
    "fileh = open(sample_file, 'r')\n",
    "current_sequence_lines = []\n",
    "for line in fileh:\n",
    "    line = line.strip()\n",
    "    if line.startswith('>'):\n",
    "        current_description = line\n",
    "        fasta_records[current_description] = []\n",
    "    else:\n",
    "        fasta_records[current_description].append(line)"
   ]
  },
  {
   "cell_type": "code",
   "execution_count": 177,
   "metadata": {},
   "outputs": [
    {
     "data": {
      "text/plain": [
       "{'>sample1': ['CTCTCTGCGGCTTGGCCCGTTAGAGGCGGCTTGTGTCCACGGGACGCGGGCGGATCTTCTCCGGCCATGA',\n",
       "  'GGAAGCCAGCCGCTGGCTTCCTTCCCTCACTCCTGAAGGTGCTGCTCCTGCCTCTGGCACCTGCCGCAGC',\n",
       "  'CCAGGATTCGACTCAGGCCTCCACTCCAGGCAGCCCTCTCTCTCCTACCGAATACGAACGCTTCTTCGCA',\n",
       "  'CTGCTGACTCCAACCTGGAAGGCAGAGACTACCTGCCGTCTCCGTGCAACCCACGGCTGCCGGAATCCCA',\n",
       "  'CACTCGTCCAGCTGGACCAATATGAAAACCACGGCTTAGTGCCCGATGGTGCTGTCTGCTCCAACCTCCC',\n",
       "  'TTATGCCTCCTGGTTTGAGTCTTTCTGCCAGTTCACTCACTACCGTTGCTCCAACCACGTCTACTATGCC',\n",
       "  'AAGAGAGTCCTGTGTTCCCAGCCAGTCTCTATTCTCTCACCTAACACTCTCAAGGAGATAGAAGCTTCAG',\n",
       "  'CTGAAGTCTCACCCACCACGATGACCTCCCCCATCTCACCCCACTTCACAGTGACAGAACGCCAGACCTT',\n",
       "  'CCAGCCCTGGCCTGAGAGGCTCAGCAACAACGTGGAAGAGCTCCTACAATCCTCCTTGTCCCTGGGAGGC',\n",
       "  'CAGGAGCAAGCGCCAGAGCACAAGCAGGAGCAAGGAGTGGAGCACAGGCAGGAGCCGACACAAGAACACA',\n",
       "  'AGCAGGAAGAGGGGCAGAAACAGGAAGAGCAAGAAGAGGAACAGGAAGAGGAGGGAAAGCAGGAAGAAGG',\n",
       "  'ACAGGGGACTAAGGAGGGACGGGAGGCTGTGTCTCAGCTGCAGACAGACTCAGAGCCCAAGTTTCACTCT',\n",
       "  'GAATCTCTATCTTCTAACCCTTCCTCTTTTGCTCCCCGGGTACGAGAAGTAGAGTCTACTCCTATGATAA',\n",
       "  'TGGAGAACATCCAGGAGCTCATTCGATCAGCCCAGGAAATAGATGAAATGAATGAAATATATGATGAGAA',\n",
       "  'CTCCTACTGGAGAAACCAAAACCCTGGCAGCCTCCTGCAGCTGCCCCACACAGAGGCCTTGCTGGTGCTG',\n",
       "  'TGCTATTCGATCGTGGAGAATACCTGCATCATAACCCCCACAGCCAAGGCCTGGAAGTACATGGAGGAGG',\n",
       "  'AGATCCTTGGTTTCGGGAAGTCGGTCTGTGACAGCCTTGGGCGGCGACACATGTCTACCTGTGCCCTCTG',\n",
       "  'TGACTTCTGCTCCTTGAAGCTGGAGCAGTGCCACTCAGAGGCCAGCCTGCAGCGGCAACAATGCGACACC',\n",
       "  'TCCCACAAGACTCCCTTTGTCAGCCCCTTGCTTGCCTCCCAGAGCCTGTCCATCGGCAACCAGGTAGGGT',\n",
       "  'CCCCAGAATCAGGCCGCTTTTACGGGCTGGATTTGTACGGTGGGCTCCACATGGACTTCTGGTGTGCCCG',\n",
       "  'GCTTGCCACGAAAGGCTGTGAAGATGTCCGAGTCTCTGGGTGGCTCCAGACTGAGTTCCTTAGCTTCCAG',\n",
       "  'GATGGGGATTTCCCTACCAAGATTTGTGACACAGACTATATCCAGTACCCAAACTACTGTTCCTTCAAAA',\n",
       "  'GCCAGCAGTGTCTGATGAGAAACCGCAATCGGAAGGTGTCCCGCATGAGATGTCTGCAGAATGAGACTTA',\n",
       "  'CAGTGCGCTGAGCCCTGGCAAAAGTGAGGACGTTGTGCTTCGATGGAGCCAGGAGTTCAGCACCTTGACT',\n",
       "  'CTAGGCCAGTTCGGATGAGCTGGCGTCTATTCTGCCCACACCCCAGCCCAACCTGCCCACGTTCTCTATT',\n",
       "  'GTTTTGAGACCCCATTGCTTTCAGGCTGCCCCTTCTGGGTCTGTTACTCGGCCCCTACTCACATTTCCTT',\n",
       "  'GGGTTGGAGCAACAGTCCCAGAGAGGGCCACGGTGGGAGCTGCGCCCTCCTTAAAAGATGACTTTACATA',\n",
       "  'AAATGTTGATCTTCA'],\n",
       " '>sample2': ['AAATGGACCGAGCGGACCCGCCGCCGCACGCACCCTGCTCCACTCCAAGCTCCTAAGGGCTCCTGGCGCG',\n",
       "  'CCGCGTAGCCTTGGCGAGGTCCGCGCTGGGGTGCGGAGAGCGAAGGGAACTGGAGAGCCATGTAGATCCA',\n",
       "  'GGCTCTTGCCCGCCCGCCTCCTTCGGGATCGAATCAAGGGCTCCCATAGTGTTAGGAGGGGGCGAGAGTG',\n",
       "  'CTGTTTATCGTCATTTGCCTCGGAGCTTCGAGAAAGGGTGGTATTTTGCTTTTCCGCCCCGCATCCTCCG',\n",
       "  'GAACTCCCTGCACCGGAGAGAGGACGGCGTCTCCAGGTTGCTGGCAACCGGTGAGAATGGGGGTAGGGAA',\n",
       "  'TGAACATTTTCGCCGTAGCTGCTCGGTAAAGCGATTGTCCAACTGAGAGGGGCGTCGGACGAGTGGACCA',\n",
       "  'GGGCGGCGAGTTTGCCCGGCGCGTCTCGGATGCTGCTGCGGCGGCCGCCGCGGCTCCCGCCAGGGCACTG',\n",
       "  'CAAAGGCGACCTGCCGCATTCCCACTCGGGCTCTCCGCCGACTCAGCACCGCCCCTGCGCCAAGCCAGCC',\n",
       "  'GGCCAGCGTGCATCGATCGCCCTGGTGGGAGCTTAGAAGGCGGCAGGCGAAGAGGGGTAGGAGGGGGGAG',\n",
       "  'AGCCGAGGAGAAGCAGAGAGGGTGGCAGGCGTGGGGATCTGCTGAGCCGGCACTGCACCGGGTCCTAGGA',\n",
       "  'AGGCTCTCGGAGGGGAGGGGAGGCCAGGGCGACCCCCGAAGCAATGGCCCAGTCCGCTAGAACGGCACTG',\n",
       "  'CGTTAAGGCACCTGGGATCAGGAAGAAATTTATAAACAACAACAACAACAAAATCCAACAAACCCCCAAA',\n",
       "  'CCCAAACGCAACCCTCTGCAAAAAGCTGCACCCGGCCCGCAGGCAAGGGGGATTCCAAATTGAGTAAAAG',\n",
       "  'GCAGGGTGGAGGGGAAGGCCGCGAGAGGCAAAGTCGCAGATCTCCCGACCTGCTCGTTTTGAAGCACCTC',\n",
       "  'CCCCTGGGCGTGAGGGAGACGCGCGCTCCGGTGGGGGGGCCGCTTGGGTCCCCCCCACCCCTGGTCCCTG',\n",
       "  'GCTGTTTCCCACCCCGGGCTCTCTCCTGGCCTCCCACCCCCGCGCCCGGCTTCCACCATGACGGTGATGT',\n",
       "  'CTGGGGAGAACGTGGACGAGGCTTCGGCCGCCCCGGGCCACCCCCAGGATGGCAGCTACCCCCGGCAGGC',\n",
       "  'CGACCACGACGACCACGAGTGCTGCGAGCGCGTGGTGATCAACATCTCCGGGCTGCGCTTCGAGACGCAG',\n",
       "  'CTCAAGACGCTGGCGCAGTTCCCCAACACGCTGCTGGGCAACCCTAAGAAACGCATGCGCTACTTCGACC',\n",
       "  'CCCTGAGGAACGAGTACTTCTTTGACCGCAACCGGCCCAGCTTCGACGCCATCCTCTACTACTACCAGTC',\n",
       "  'CGGCGGCCGCCTGCGGAGGCCGGTCAACGTGCCCCTGGACATGTTCTCCGAGGAGATCAAGTTTTACGAG',\n",
       "  'TTGGGCGAGGAGGCCATGGAGAAGTTCCGGGAGGACGAGGGCTTCATCAAGGAGGAGGAGCGCCCCCTAC',\n",
       "  'CGGAGAAGGAGTACCAGCGCCAGGTGTGGCTGCTCTTCGAGTACCCCGAGAGCTCGGGGCCCGCCAGGGT',\n",
       "  'CATCGCCATCGTCTCCGTCATGGTCATCCTCATCTCCATCGTCATCTTTTGCCTGGAGACGCTCCCCGAA',\n",
       "  'CTGAAGGATGACAAGGACTTCACGGGCACCGTCCACCGCATCGACAACACCACGGTCATCTACAATTCCA',\n",
       "  'ACATCTTCACAGACCCCTTCTTCATCGTGGAAACGCTGTGTATCATCTGGTTCTCCTTCGAGCTGGTGGT',\n",
       "  'GCGCTTCTTCGCCTGCCCCAGCAAGACGGACTTCTTCAAAAACATCATGAACTTCATAGACATTGTGGCC',\n",
       "  'ATCATTCCTTATTTCATCACCCTGGGCACCGAGATAGCTGAGCAGGAAGGAAACCAGAAGGGCGAGCAGG',\n",
       "  'CCACCTCCCTGGCCATCCTCAGGGTCATCCGCTTGGTAAGGGTTTTTAGAATCTTCAAGCTCTCCCGCCA',\n",
       "  'CTCTAAGGGCCTCCAGATCCTGGGCCAGACCCTCAAAGCTAGTATGAGAGAGCTAGGGCTGCTCATCTTT',\n",
       "  'TTCCTCTTCATCGGGGTCATCCTGTTTTCTAGTGCAGTGTACTTTGCCGAGGCGGAAGAAGCTGAGTCGC',\n",
       "  'ACTTCTCCAGTATCCCCGATGCTTTCTGGTGGGCGGTGGTGTCCATGACCACTGTAGGATACGGTGACAT',\n",
       "  'GTACCCTGTGACAATTGGAGGCAAGATCGTGGGCTCCTTGTGTGCCATCGCTGGTGTGCTAACAATTGCC',\n",
       "  'CTGCCCGTACCTGTCATTGTGTCCAATTTCAACTATTTCTACCACCGAGAAACTGAGGGGGAAGAGCAGG',\n",
       "  'CTCAGTTGCTCCACGTCAGTTCCCCTAACTTAGCCTCTGACAGTGACCTCAGTCGCCGCAGTTCCTCTAC',\n",
       "  'TATGAGCAAGTCTGAGTACATGGAGATCGAAGAGGATATGAATAATAGCATAGCCCATTATAGACAGGTC',\n",
       "  'AATATCAGAACTGGCAATTGCACCACAGCTAACCAAAACTGCGTTAATAAGAGCAAGCTACTGACCGATG',\n",
       "  'TTTAAAAAACAAAAGCAAGCAAACAAAAAAGCCCCACTTAGCAGCTCAAAAGACTTAAAAAACAAAACAG',\n",
       "  'AAAACCTAGTGACTCATGTCACGCTTTGTAGATACTTTACTAAGTAGACTTGGAATGCTCTATTTAACTG',\n",
       "  'TCAATGCGTTGTTGCATTGAGGATTTTGGGGGTGGTGAACCAGAAGCTTTCAAGATCCATGACAAAATAA',\n",
       "  'ACTATTTTCCTTTTATTAAAAAATGGGAAAAGAGAGAGTATTTTCTAAAACTGGCTTAAAAAGATTCAGT',\n",
       "  'CCACGAACTAGTCTAGGTAAAATAATAATCATATGCTTCCCCAAACTGAAACATTTTTAATGCTTTGGTT',\n",
       "  'TCTTTAACTTTTTTAAAAACTCAGAACAAGATGATCATTTAGAAATATAAAATTGAAATTTGCATGGGAC',\n",
       "  'TCCAGTAAAACATCTTTGCAAACTGCGTAGCACATTGAAGACAGTGCATCAGATGTATTATATGTAACAT',\n",
       "  'GATAGACCAGCCAAAATGGACAATGAATAGATATTTTTATTTCGATCAACTGAACTGCATATTACAAGGT',\n",
       "  'GAAAAAAGAAAACTCCGATTACTTAAGACTGGTTCACAAAGCACCTTATAAATTGGATACTGGTCCTGAT',\n",
       "  'CTGTAGGGATTTCCCCCTGGGCCCATTCTCTTTCTAATCCAGATTATTCTCTAAGAAAAAGTTAACTGAA',\n",
       "  'TTAAATTAATTGATTCTTCTGCAGTGCTGCTAAATTGTCTCAACTGCAGATGAGCCAAATACAGGTCTTT',\n",
       "  'TCTCACCAGGCCTGCACTCCGACCCCTGGCTTTCAGAACTGGATGTAAAACCTTAGCCTCCTTATTGCAA',\n",
       "  'GAGAGCACAAATGAAGTTAAATGTAAGCATGTTTGAATCTGATACAATTTATTTTATAATCGCATGCTGA',\n",
       "  'GAAGTTAACCCAGACAATAGGGGATAAGCTTAAGTTGAAATCGATTCTTCTAAAAATAGATCCTTTTTCA',\n",
       "  'TTTGCATTCACCAAAAGTGCACTCCTCCATTTATTAACTATTTTATTAGTAAATAAAGTACTGTATTTAA',\n",
       "  'GTGCATATGTTAGTCAGATGGGAACAATAACTTTTTGGAGCTCAAAGCATGTTCTCTTATTCAGCATTAT',\n",
       "  'GGCCTATTTGACTAAGATGTACCTTGAATTAATTAATGCATGATTTCAGTAATAAAAATTTTAAAAGTAA',\n",
       "  'TAAAAATTACAAGTCTGTGGGGTGAAAGGCCCAATAGAAATTATGGGGGGTGGGGGTGGGGGCACTCAGT',\n",
       "  'CAATTTTCCTGCCTTTGCTCAGGGAAATACCAGGTTTTTGTGCAGGTATAGGCGGAGAGAGGACCAATAT',\n",
       "  'GCCCATCCCTTAAAGGGAAGCCATGTGAAAAACTCAATAAGTCATCAAAGTATATATAGCAACACCTAAG',\n",
       "  'AACAAGTATTCTTTCTAGCTGAAGACAAACACAAGCAACACAAACAAGCAAACAAACAAACAAACAAAAA',\n",
       "  'GGTGCAATACTGCATGTTTTTTGGTGCATTCTTAGGATGTAAATGAAAATGTTTCTCTATTATATGCATC',\n",
       "  'CGAAGCAGAGCTGATTTTTTTTTTCTTTGCAGTCATTCTTTGAAGTCTGTAGAGACTTCAGCCCTCCCCT',\n",
       "  'TGAGGCTCCCTGAAGAAACTAAACCAATTGATTTAATAGTTGCTTAGTGCCTTTATCCTGTACCCACAGT',\n",
       "  'GAACTGCAGAAAGTGCCTCCTTAACACAGCTGAGAAGTTAGGTAGCAAAAGTGGGGAAGGGTTGGGGCAC',\n",
       "  'AGACCTTTTGCTTTTTCTTTTTCCATTCTCGCTCTCTCATTTCACCACTGTGAGAAGACCACACCACCCT',\n",
       "  'AAACCCTGGAGAGGAGAGACCCAGGAGGGTGCTGTCTCTCTGGCCATCTACTAGCATTGTCCCTTTGACA',\n",
       "  'GCCTGACGCTGGATGTGAACTGAGACCCATCTTTGAACTGGACATGAACTGTGAACTTGTTTTTTCCTCT',\n",
       "  'CTCCACCAGAAGCCAAGATAAACTTTTTGGGAATTTGTTCCCTATCGAGGGCCACTTTGGACTCACAAGG',\n",
       "  'CTTCCTCAGGTCCAGTGTAGTGCTCCTGGCACCTTTCCTTATTTTTTTCTCTGTCGGTAACAGCACTTTG',\n",
       "  'CAAATCTCTCTGACGGTCCAGTCTTTTCAGGCATTGTTGCGGATGTGGGAACACTCAGTTCATAATAACC',\n",
       "  'TTTCCTAGGCCTTCCCTCCTGGTCTACCCCTTTCAGATATTTCCTGATGCCCCTATGATCTTCCCACCTG',\n",
       "  'GCAGTCACTTCACAGGTTGAACATCTAACTTCTGCTGCCCCCGTTACCCAGCCCAGAGAATGGTGGGGAC',\n",
       "  'CCTGTTCCTGGCTGAAAGAGAGCCACGGAACACAGGCCTCTGGAGCTCGGCAGCTGCCCACCGGTGGAGA',\n",
       "  'GGTACTCACAGCCTTTTAAAGGACCCTGAGGTGGGGAATCTTCATTCTGCACTTAGCATGTGGCTGCCTG',\n",
       "  'TTACCTGACATTCTGGCCCAGCTTCTTCTGAAAATCTGTTCTGTTTCTCCCACCCCTTTCCCCCATCCTG',\n",
       "  'TCCTAGAACTAGCAGTGAGGCAATCACCCTAGAAACTCGAGTTACACCCATTCTGGCTAACTCGATTAAA',\n",
       "  'AGAAAGAACATGGATATCTTATTTTCCTATGTGACTTTTGTGAATCTGTGAGATGAACACAACACACATC',\n",
       "  'GTGGAAGATGAGGGGCCGAGAACTGCACAGCATCCGACTACAGGGCATTAAACCCTCCCATGTGATGTCT',\n",
       "  'CCTTCTCGTCTGAACCTTAACTCATTCTGGCGATTCCTTTCCTACTTGCTTAAAAACCCCCAATTAGGAA',\n",
       "  'AAAAATGCCAACCTCCTCCCAGGCTTGGGGTTATCTTGATCTTTCATTTCAACGTTGAGGTCTAGGGCAC',\n",
       "  'ACAGAACTTCAAACACCGCACTCTGTCAACAGCAATAATCCACTCAGTACTGTGGGATGGATGGGTTAAT',\n",
       "  'GGATGAGAAAACGGCACCAAGACTGACTTTGGGTACTTGGTATATTTACCGTGGTTACACCCTGGACTGG',\n",
       "  'TTGATTCTTCTGCATGTGATATAGAAAAAAGTGCTGCATGCGGTGAACCTGTCAGCCTGGGACTGGGGAT',\n",
       "  'GAGTTGTTGTTATGAGTTTGGGGTGGTGTGAGGAAAATGAATGCTGCTTAGCTCATCTGTAGCTCATTGC',\n",
       "  'AATGAATTCAGTAAGAATGGAGTACAGGGATTATCTGTGTAGCATAGGCATGCAATGTTTGACCAAGCTC',\n",
       "  'TTACCCTCGCACTGTAATGTGTTGAAATGTCTTTGTAGACCTGAAGGTGCACTTAACAAAACTGCCTATT',\n",
       "  'AAGGGATGACTATTTTTTGGTTTACTTATTCATATTTATTTTAGCAGCCTTTTTACCTTTTCTTCCCCTT',\n",
       "  'CCTAGGCATGGAGCTGTAACAGCTCATGTCCTGACTATCTGTTTTCTCCAGAAGGAGAAGACTTCTGATG',\n",
       "  'TGCTGATAGCCATAATTCCTCTCTTCCAGTCTATTGGGGCCCTAGTTCAATAGGGTGGCAATAGAAGGGT',\n",
       "  'TGGTCACACCAGGGCTGTTAGCCATCCCAGAATCTCTGAAGTGGTTAACTCACCTGAAGTGATCTGAATC',\n",
       "  'AGAGAGACCAAAGACATTCATTTCCTCTGTCCTCAGATTTCTAGAAGACAAATTCTAGCCAGGAAAACTT',\n",
       "  'TCTGTTTTTGCATCTCCCTTTTCCCATTTGTGCCCAACTCCCCTTGCACTCCCTGGAGACTTGAGTTCTG',\n",
       "  'ATTTTCAGTTATATCAGTTCATTGGGAGTGTGTTCGTGGGTGAGCCTTGCAGAATCAGATAAACCAACAG',\n",
       "  'CAAGTCCTTCTCCAGGATTCTGGCCAGTGGGCAGTCATTTCCCTGAAATGAATTGGAGGGCAGGTTTAGA',\n",
       "  'TTCCACTATGGTGGACCTGAAGCACAGGCGGTGTCACAATCTTGATTTGCTTGAGAATTAAAAAAAATAC',\n",
       "  'ATGTAAATGGTAAATGAGGAATACATTTTTTAAAGTAGAAATTTGATTTAGCCTATAAAAGGCCTTCTTC',\n",
       "  'ACATTGTGTATAGTTACACATTTTTCAAATTAGTTACCATCTAAAAGTCAATAAAAATAGTTTCCTAGCC',\n",
       "  'CTCTCATTTAATATAGGAGACCTCAAAACACATGCTTTTTAACAATTTTACATTTTAATTCTTAGTTTGG',\n",
       "  'TAGACTGGATTGAAAGAAAGGAGAAAGAACATTAGCAGAAGGCACTTTCCCATTTTCTTCCAGGAATGAC',\n",
       "  'TTATTCCTGGGGTGGTGAGAATTGGTGGGTGGTAACCATCCATAGTATAAAATTGTTAGAAAGAATACAA',\n",
       "  'ACTGCCAAACAAGCATGTTATCTTCAGGCTTTTCCAAGCAAGAATGAAGTCTTTTGATGTTTATGTTCAT',\n",
       "  'TTTAAGAAGACAAACAAACTAAAATTTTAAGACCAGACACAACCCAAGTTGAATTGTGATCTCAGGAGGT',\n",
       "  'GACCTCTCATTCACCATGTGGCATATTACTACTTGTATTTATATCATGGAATTTCAGGGTATATGTGAAC',\n",
       "  'ATGTCTAGTATGACTCAGGTAAACCTTTAAAGAATGTATGTTACTTACCATTTTTGTAAAGAAGCAAACA',\n",
       "  'GGAGCTGAATTGTTAACCAAAACTGTTCCATTACCTTGGGTCACTGTGCAAACTAATTCAGGGTATAGAT',\n",
       "  'ATAAAGTTTAGAAGCCTTGGGATTAAATGCCAGCCTCTTTGCTCAGGCCAAATGACCCTGGGCTTTCTTG',\n",
       "  'GGAAGTCCAGCATGTGTGTAAGGGGTGAGGCCCTGCTGACCTCAGGGTTATTCGCTTTAAGGAGATTAAC',\n",
       "  'CCTAGTCACAGTGATTTTTCATTTAGGAGCTAACTAGGAGTTTACTCTTTATGACGTGAAACTTCAAAGA',\n",
       "  'GTATAGAAAACTTTTGTACCACAATCAAAGAAGAAGAAATGGTGTATGGAAAGAAAACAAAACAAAACAA',\n",
       "  'GAAATCTCTTGTAAAATATTCCAGGTCAAAGTTGTCTCCTCTCCAAACCTTGCAGAAGCACCTTTCTTCT',\n",
       "  'CTTCAGCGCACTGTTTTGGGACTGTGTATGCAGCAGATGTAAGTAGACAAGACAACATGGACTCCATGTG',\n",
       "  'ACATGCCTCTAATAGTAAAGATAAAGTATTACTGAGGTTAAAAATAAAAATCGAGTAGTATTAATTTAAA',\n",
       "  'GTGCACCATCAGGACAACAAACCATTTAAGCTGAAAAAACGCTATTTTATTTCTTGAGTTTGCCAGTTGC',\n",
       "  'TTCCACCTTGAGTTAAGGACGTGTCTCATCTTCACCTACTGTGCATTCTCCCTTCTCTAACTGTGTGATA',\n",
       "  'TGTCAGGTCAAGGACATTGAATGTTATGAATTGAGAACCTAATTGATGCGCATAGTTTTCATCTATGCAA',\n",
       "  'TTTTACTTGCTTCTGTCACTTTACGATCTGTTCATATTTGGCATCAATTAAAGATAATTTTTAAGGATCT',\n",
       "  'TATCAAGGAA'],\n",
       " '>sample3': ['CACTTCCGGGGCGGATCGGAAGTTGCTTTGTTTTGCTTCGAGATGGCTGCGGGGATGTATTTGGAACATT',\n",
       "  'ATCTGGACAACCTGAAGGCTGAAATTGACAAGTTGGCCACTGAGTATATGAGTAGTGCCCGCAGCCTGAG',\n",
       "  'CTCCGAGGAAAAATTGGCCCTTCTCAAACAGATCCAGGAAGCCTATGGCAAGTGCAAGGAATTTGGTGAC',\n",
       "  'GACAAGGTGCAGCTTGCCATGCAGACCTATGAGATGGTGGACAAACACATTCGGCGGCTGGACACAGACC',\n",
       "  'TGGCCCGTTTTGAGGCTGATCTCAAGGAGAAACAGATTGAGTCAAGTGACTATGACAGCTCTTCCAGCAA',\n",
       "  'AGGCAAAAAGAGCCGGACTCAAAAGGAGAAGAAAGCTGCTCGTGCTCGTTCCAAAGGGAAAAACTCGGAT',\n",
       "  'GAAGAAGCCCCCAAGACTGCCCAGAAGAAGTTAAAGCTCGTGCGCACAAGTCCTGAGTATGGGATGCCCT',\n",
       "  'CAGTGACCTTTGGCAGTGTCCACCCCTCTGATGTGTTGGATATGCCTGTGGATCCCAACGAACCCACCTA',\n",
       "  'TTGCCTTTGTCACCAGGTCTCCTATGGAGAGATGATTGGCTGTGACAACCCTGATTGTTCCATTGAGTGG',\n",
       "  'TTCCATTTTGCCTGTGTGGGGCTGACAACCAAGCCTCGGGGGAAATGGTTTTGCCCACGCTGCTCCCAAG',\n",
       "  'AACGGAAGAAGAAATAGATAAGGGCCTTGGATTCCAACACAGTTTCTTCCACATCCCCTGACTTGGGCTA',\n",
       "  'GTGGGCAGAGGAATGCCTGTGCTGGGGCCAGGGGTTCAGGGAGGAGTGGATGGCACAGTGCTGTCATCCC',\n",
       "  'TTCTCCTCCCCTCTCCCCACTCCCGGTGCTGAGGCTGCATCAGACCCTGGTAGGGAGGGGTGCCGCAGCC',\n",
       "  'ACTAACGGTATGTGCTCTCCTTCAGCCCTCTCCCTTCGGAGGGACGTGGTCTTGCCCACTGTCCTTTTGC',\n",
       "  'CTCCATGCTGAGGTCGGTGCTGTATTTCAGAGGGAGGGTCCTTTTCATTCTCCTTGCTTTGTATTTAAGG',\n",
       "  'ACTGGGGCATAGCATGGGGGCAGTCCCCCAGACCTCTTCATTCCCCCTCCTGTGGTGAGGGCTAGGTGTG',\n",
       "  'ATCAACACTTTTCTTCTCCATTCCCTTCCTGCTTTTTTCATGGTGGGGGATCCACCAGGTCATCTAGGCT',\n",
       "  'CTGGCCCTAGTTGAAGGGGCACCCCTTCCTCTGTGCCAAGAGGATTCATCCTGGGAGAGGGGGCAAGGTG',\n",
       "  'GAATGCAGATAACTCACATGTAAAAGGAACTTGGGTAGGTAAATAAAAGCTATACATGTTG'],\n",
       " '>sample4': ['GCGGGGCCGCGAGGCTAGCGTTACCCTTGCGCCTGCGTGGAAGGACTCTGTGGCGAGTGGCGGCCGAAAG',\n",
       "  'CTAGCTGCGGAGTGCACGTGGAGCGCGGCCCCAAGGGCAGTCTCGGGCCTTAACCCGCATTCTGTACGCC',\n",
       "  'AAGCCTGCGTTCTGCCGTTTCCTCCGGCACGCGCGACGCCACCTTCTCACATTTCTGTCTGCCATAGTAC',\n",
       "  'TATGGGGCGCAAATTGGACCCTACAAAGAAGGAGAAGCGGGGGCCAGGCCGAAAGGCCCGGAAGCAGAAG',\n",
       "  'GGTGCCGAGACAGAACTCGCCAGATTCTTGCCTGCAGTAAGTGACGAAAATTCCAAGAGGCTGTCTAGTC',\n",
       "  'GTGCTCGAAAGAGGGCAGCCAAGAGGAGGCTGGGTTCTGCTGAAGTCCCTAAGACAAATAAGTCCCCTGA',\n",
       "  'GGCCAAACCATTGCCTGGAAAGCTACCAAAAGGAGCTGTCCAGACAGCTGGTAAGAAGGGACCCCAGTCC',\n",
       "  'CTATTTAATGCTGCTCAAGGCAAGAAGCGCCCAGCACCTAGCAGTGATGAGGAAGAGGAGGAGGAAGACT',\n",
       "  'CTGAAGAAGATGATGTGGTGAACCAGGGGGACCTCTGGGGCTCCGAGGATGATGCTGATATGGTAGATGA',\n",
       "  'CTATGGAGCTGACTCCAACTCTGAGGATGAGGAGGAAGGTGAAGAGCTGCTGCCCATTGAAAGAGCTGCT',\n",
       "  'CGGAAGCAGAAGGTCCGGGAAGCTGCTGCTGGGGTCCAGTGGAGTGAAGAGGAGACGGAGGATGAGGAGG',\n",
       "  'AAGAAGTGACCCCTGAGTCCGGCCCCTCAAAGGAGGAGGAGGCAGATGGGGGCCTGCAGATCAATGTGGA',\n",
       "  'TGAGGAACCATTTGTGCTGCCCCCTGCCGGGGAGATGGAGCAGGATGCCCAGGCTCCAGACCTGCAACGA',\n",
       "  'GTTCACAAGCGGATCCAGGATATCGTGGGAATTCTGCGTGATTTTGGGGCTCAGCGGGAGGAAGGGCGGT',\n",
       "  'CTCGTTCTGAATACCTGAACCGGCTCAAGAAGGATCTGGCCACTTACTACTCCTATGGAGACTTCCTGCT',\n",
       "  'TGGCAAGCTCATGGACCTCTTCCCTCTGTCTGAGCTGGTGGAGTTCTTAGAAGCTAATGAGGTGCCTCGG',\n",
       "  'CCCGTCACCCTCCGGACCAATACCTTGAAAACCCGACGCCGAGACCTTGCCCAGGCTCTAATCAATCGTG',\n",
       "  'GGGTTAATCTGGATCCCCTGGGCAAGTGGTCAAAGACTGGACTAGTGGTATATGATTCTTCTGTGCCCAT',\n",
       "  'TGGTGCCACCCCCGAGTACCTGGCTGGGCACTACATGCTGCAGGGAGCCTCCAGCATGCTGCCCGTCATG',\n",
       "  'GCCTTGGCACCCCAGGAACATGAGCGGATCCTGGACATGTGTTGTGCCCCTGGAGGAAAGACCAGCTACA',\n",
       "  'TGGCCCAGTTGATGAAGAATACGGGTGTGATCCTTGCCAATGACGCCAATGCTGAGCGGCTTAAGAGTGT',\n",
       "  'TGTGGGCAACTTGCACCGGCTGGGAGTCACCAACACCGTTATCAGTCACTATGATGGGCGCCAGTTCCCC',\n",
       "  'AAGGTGGTGGGGGGCTTTGACCGAGTGCTGCTGGATGCTCCCTGCAGTGGCACTGGGGTCATCTCCAAGG',\n",
       "  'ACCCAACCGTGAAGACTAACAAGGATGAGAAGGACATCCTGCGCTGTGCTCACCTCCAGAAGGAGTTGCT',\n",
       "  'TCTGAGTGCTATTGACTCTGTGAATGCCACCTCCAAGACAGGAGGCTACCTTGTTTACTGCACCTGTTCT',\n",
       "  'ATCATGGTGGAAGAGAATGAGTGGGTGGTAGACTATGCTCTGAAAAAGAGGAATGTGCGACTGGTGCCCA',\n",
       "  'CAGGCCTAGACTTTGGCCAGGAGGGTTTTACCCGCTTTCGAGAAAGGCGCTTCCACCCCAGTCTGCGTTC',\n",
       "  'TGCCCGACGCTTCTACCCTCATACCCACAATATGGATGGGTTCTTCATTGCCAAGTTCAAGAAATTCTCC',\n",
       "  'AATTCTATCCCTCAGTCCGAGACAGGAAATTCTGAAACAGCCACACCTAAAAATGTAGACTTGCCTCAGG',\n",
       "  'TCATCCCCAAGTCTGAGAACAGCAGCCAGCCAGCCAAAAAGGCCAAGGGGGCTGCAAAGACAAAGCAGCA',\n",
       "  'GCTGCAGAAACAGCAACGTCCCAAGAAGGCCTCCTTCCAGAAGCCGAATGGCACCTCTAAAGGGGCAGAC',\n",
       "  'TCAGAATTGTCCACTGTACCTTCTGTCAGAAAGACCCAAGCTTCCTCCAGGTGCCAGGATAGCAGTCAGC',\n",
       "  'CAGCTGGAAAAGCCGAAGGGATCAGGGAGTCCAAGGTGACTGGGAAGCTAAAGCAACGATCGCCTAAATT',\n",
       "  'ACAGTCCTCCAAGAAAGTTGCCTTCCTCAAGCAGAATGCCCCTCCCAAGGGCACAGACACAGAAACACCG',\n",
       "  'GCTGTGTTATCCCCATCCAAGACTCAGGCCACCCTGAAACCTAAGGACCATCATCACCCCCTTGGAAGGG',\n",
       "  'CCAAGGGGGTTGAGAAGCAGCAGTTGCCAGAGCAGCCTTTCAAGAAAGCTGCCTTCCAGAAACAGAATGA',\n",
       "  'CACCCCCAAGGGGCCTCAGCCTCCGACTGTGTCTCCCATCAGTTCCAGCCGCCCCCCACCAGCAAAGAGG',\n",
       "  'AAGAAATCTCAGTCCAGGGGCAATGGCCAGCTGCTCCTGTCTTAGATGGTTGAAAACTAGACTGGGGTGG',\n",
       "  'CTCACTGCCATTGTCACCGGGTTGGAACTCTTGCCTCTATGAGGATGCCTTCTCCACTGTGCATACCCAT',\n",
       "  'GAAATTTAATACACATTTTACAACCTCTG']}"
      ]
     },
     "execution_count": 177,
     "metadata": {},
     "output_type": "execute_result"
    }
   ],
   "source": [
    "fasta_records"
   ]
  },
  {
   "cell_type": "markdown",
   "metadata": {},
   "source": [
    "#### 16.3 create a new dictionary called annotated_description then loop through labeled_data_dict from 15.2 and add a record to annotated_description whith the same key (exp: 'sample1') and a new description with this format '>{accession} {organism} {gene_name}, {seq_type}'"
   ]
  },
  {
   "cell_type": "code",
   "execution_count": 178,
   "metadata": {},
   "outputs": [
    {
     "data": {
      "text/plain": [
       "{'sample2': '>sample2 Pan troglodytes potassium voltage-gated channel subfamily A member 1 , mRNA',\n",
       " 'sample4': '>sample4 Macaca mulatta NOP2 nucleolar protein, mRNA',\n",
       " 'sample1': '>sample1 Homo sapiens acrosin binding protein, mRNA',\n",
       " 'sample3': '>sample3 Homo sapiens inhibitor of growth family member 4, mRNA'}"
      ]
     },
     "execution_count": 178,
     "metadata": {},
     "output_type": "execute_result"
    }
   ],
   "source": [
    "annotated_description = {}\n",
    "for k, record in labeled_data_dict.items():\n",
    "    new_description = '>{accession} {organism} {gene_name}, {seq_type}'.format(\n",
    "        accession=record['Accession'],\n",
    "        organism=record['Organism'],\n",
    "        gene_name=record['Gene name'],\n",
    "        seq_type=record['Seq type'],\n",
    "    )\n",
    "    annotated_description[k] = new_description\n",
    "    \n",
    "annotated_description"
   ]
  },
  {
   "cell_type": "markdown",
   "metadata": {},
   "source": [
    "#### 16.4 loop through fasta_records and print out only the sample name from each key excluding the < (one way to do this is to use string indexing)"
   ]
  },
  {
   "cell_type": "code",
   "execution_count": 179,
   "metadata": {},
   "outputs": [
    {
     "name": "stdout",
     "output_type": "stream",
     "text": [
      "sample1\n",
      "sample2\n",
      "sample3\n",
      "sample4\n"
     ]
    }
   ],
   "source": [
    "for key in fasta_records.keys():\n",
    "    print(key[1:])"
   ]
  },
  {
   "cell_type": "markdown",
   "metadata": {},
   "source": [
    "#### 16.5 create a new dictionary called annotated_records, loop through the fasta_records and use the new annotated_description as the key and all the seq lines as the value (hint: you can use string slicing to remove the >, see section 9)"
   ]
  },
  {
   "cell_type": "code",
   "execution_count": 221,
   "metadata": {},
   "outputs": [
    {
     "data": {
      "text/plain": [
       "{'>sample1 Homo sapiens acrosin binding protein, mRNA': ['CTCTCTGCGGCTTGGCCCGTTAGAGGCGGCTTGTGTCCACGGGACGCGGGCGGATCTTCTCCGGCCATGA',\n",
       "  'GGAAGCCAGCCGCTGGCTTCCTTCCCTCACTCCTGAAGGTGCTGCTCCTGCCTCTGGCACCTGCCGCAGC',\n",
       "  'CCAGGATTCGACTCAGGCCTCCACTCCAGGCAGCCCTCTCTCTCCTACCGAATACGAACGCTTCTTCGCA',\n",
       "  'CTGCTGACTCCAACCTGGAAGGCAGAGACTACCTGCCGTCTCCGTGCAACCCACGGCTGCCGGAATCCCA',\n",
       "  'CACTCGTCCAGCTGGACCAATATGAAAACCACGGCTTAGTGCCCGATGGTGCTGTCTGCTCCAACCTCCC',\n",
       "  'TTATGCCTCCTGGTTTGAGTCTTTCTGCCAGTTCACTCACTACCGTTGCTCCAACCACGTCTACTATGCC',\n",
       "  'AAGAGAGTCCTGTGTTCCCAGCCAGTCTCTATTCTCTCACCTAACACTCTCAAGGAGATAGAAGCTTCAG',\n",
       "  'CTGAAGTCTCACCCACCACGATGACCTCCCCCATCTCACCCCACTTCACAGTGACAGAACGCCAGACCTT',\n",
       "  'CCAGCCCTGGCCTGAGAGGCTCAGCAACAACGTGGAAGAGCTCCTACAATCCTCCTTGTCCCTGGGAGGC',\n",
       "  'CAGGAGCAAGCGCCAGAGCACAAGCAGGAGCAAGGAGTGGAGCACAGGCAGGAGCCGACACAAGAACACA',\n",
       "  'AGCAGGAAGAGGGGCAGAAACAGGAAGAGCAAGAAGAGGAACAGGAAGAGGAGGGAAAGCAGGAAGAAGG',\n",
       "  'ACAGGGGACTAAGGAGGGACGGGAGGCTGTGTCTCAGCTGCAGACAGACTCAGAGCCCAAGTTTCACTCT',\n",
       "  'GAATCTCTATCTTCTAACCCTTCCTCTTTTGCTCCCCGGGTACGAGAAGTAGAGTCTACTCCTATGATAA',\n",
       "  'TGGAGAACATCCAGGAGCTCATTCGATCAGCCCAGGAAATAGATGAAATGAATGAAATATATGATGAGAA',\n",
       "  'CTCCTACTGGAGAAACCAAAACCCTGGCAGCCTCCTGCAGCTGCCCCACACAGAGGCCTTGCTGGTGCTG',\n",
       "  'TGCTATTCGATCGTGGAGAATACCTGCATCATAACCCCCACAGCCAAGGCCTGGAAGTACATGGAGGAGG',\n",
       "  'AGATCCTTGGTTTCGGGAAGTCGGTCTGTGACAGCCTTGGGCGGCGACACATGTCTACCTGTGCCCTCTG',\n",
       "  'TGACTTCTGCTCCTTGAAGCTGGAGCAGTGCCACTCAGAGGCCAGCCTGCAGCGGCAACAATGCGACACC',\n",
       "  'TCCCACAAGACTCCCTTTGTCAGCCCCTTGCTTGCCTCCCAGAGCCTGTCCATCGGCAACCAGGTAGGGT',\n",
       "  'CCCCAGAATCAGGCCGCTTTTACGGGCTGGATTTGTACGGTGGGCTCCACATGGACTTCTGGTGTGCCCG',\n",
       "  'GCTTGCCACGAAAGGCTGTGAAGATGTCCGAGTCTCTGGGTGGCTCCAGACTGAGTTCCTTAGCTTCCAG',\n",
       "  'GATGGGGATTTCCCTACCAAGATTTGTGACACAGACTATATCCAGTACCCAAACTACTGTTCCTTCAAAA',\n",
       "  'GCCAGCAGTGTCTGATGAGAAACCGCAATCGGAAGGTGTCCCGCATGAGATGTCTGCAGAATGAGACTTA',\n",
       "  'CAGTGCGCTGAGCCCTGGCAAAAGTGAGGACGTTGTGCTTCGATGGAGCCAGGAGTTCAGCACCTTGACT',\n",
       "  'CTAGGCCAGTTCGGATGAGCTGGCGTCTATTCTGCCCACACCCCAGCCCAACCTGCCCACGTTCTCTATT',\n",
       "  'GTTTTGAGACCCCATTGCTTTCAGGCTGCCCCTTCTGGGTCTGTTACTCGGCCCCTACTCACATTTCCTT',\n",
       "  'GGGTTGGAGCAACAGTCCCAGAGAGGGCCACGGTGGGAGCTGCGCCCTCCTTAAAAGATGACTTTACATA',\n",
       "  'AAATGTTGATCTTCA'],\n",
       " '>sample2 Pan troglodytes potassium voltage-gated channel subfamily A member 1 , mRNA': ['AAATGGACCGAGCGGACCCGCCGCCGCACGCACCCTGCTCCACTCCAAGCTCCTAAGGGCTCCTGGCGCG',\n",
       "  'CCGCGTAGCCTTGGCGAGGTCCGCGCTGGGGTGCGGAGAGCGAAGGGAACTGGAGAGCCATGTAGATCCA',\n",
       "  'GGCTCTTGCCCGCCCGCCTCCTTCGGGATCGAATCAAGGGCTCCCATAGTGTTAGGAGGGGGCGAGAGTG',\n",
       "  'CTGTTTATCGTCATTTGCCTCGGAGCTTCGAGAAAGGGTGGTATTTTGCTTTTCCGCCCCGCATCCTCCG',\n",
       "  'GAACTCCCTGCACCGGAGAGAGGACGGCGTCTCCAGGTTGCTGGCAACCGGTGAGAATGGGGGTAGGGAA',\n",
       "  'TGAACATTTTCGCCGTAGCTGCTCGGTAAAGCGATTGTCCAACTGAGAGGGGCGTCGGACGAGTGGACCA',\n",
       "  'GGGCGGCGAGTTTGCCCGGCGCGTCTCGGATGCTGCTGCGGCGGCCGCCGCGGCTCCCGCCAGGGCACTG',\n",
       "  'CAAAGGCGACCTGCCGCATTCCCACTCGGGCTCTCCGCCGACTCAGCACCGCCCCTGCGCCAAGCCAGCC',\n",
       "  'GGCCAGCGTGCATCGATCGCCCTGGTGGGAGCTTAGAAGGCGGCAGGCGAAGAGGGGTAGGAGGGGGGAG',\n",
       "  'AGCCGAGGAGAAGCAGAGAGGGTGGCAGGCGTGGGGATCTGCTGAGCCGGCACTGCACCGGGTCCTAGGA',\n",
       "  'AGGCTCTCGGAGGGGAGGGGAGGCCAGGGCGACCCCCGAAGCAATGGCCCAGTCCGCTAGAACGGCACTG',\n",
       "  'CGTTAAGGCACCTGGGATCAGGAAGAAATTTATAAACAACAACAACAACAAAATCCAACAAACCCCCAAA',\n",
       "  'CCCAAACGCAACCCTCTGCAAAAAGCTGCACCCGGCCCGCAGGCAAGGGGGATTCCAAATTGAGTAAAAG',\n",
       "  'GCAGGGTGGAGGGGAAGGCCGCGAGAGGCAAAGTCGCAGATCTCCCGACCTGCTCGTTTTGAAGCACCTC',\n",
       "  'CCCCTGGGCGTGAGGGAGACGCGCGCTCCGGTGGGGGGGCCGCTTGGGTCCCCCCCACCCCTGGTCCCTG',\n",
       "  'GCTGTTTCCCACCCCGGGCTCTCTCCTGGCCTCCCACCCCCGCGCCCGGCTTCCACCATGACGGTGATGT',\n",
       "  'CTGGGGAGAACGTGGACGAGGCTTCGGCCGCCCCGGGCCACCCCCAGGATGGCAGCTACCCCCGGCAGGC',\n",
       "  'CGACCACGACGACCACGAGTGCTGCGAGCGCGTGGTGATCAACATCTCCGGGCTGCGCTTCGAGACGCAG',\n",
       "  'CTCAAGACGCTGGCGCAGTTCCCCAACACGCTGCTGGGCAACCCTAAGAAACGCATGCGCTACTTCGACC',\n",
       "  'CCCTGAGGAACGAGTACTTCTTTGACCGCAACCGGCCCAGCTTCGACGCCATCCTCTACTACTACCAGTC',\n",
       "  'CGGCGGCCGCCTGCGGAGGCCGGTCAACGTGCCCCTGGACATGTTCTCCGAGGAGATCAAGTTTTACGAG',\n",
       "  'TTGGGCGAGGAGGCCATGGAGAAGTTCCGGGAGGACGAGGGCTTCATCAAGGAGGAGGAGCGCCCCCTAC',\n",
       "  'CGGAGAAGGAGTACCAGCGCCAGGTGTGGCTGCTCTTCGAGTACCCCGAGAGCTCGGGGCCCGCCAGGGT',\n",
       "  'CATCGCCATCGTCTCCGTCATGGTCATCCTCATCTCCATCGTCATCTTTTGCCTGGAGACGCTCCCCGAA',\n",
       "  'CTGAAGGATGACAAGGACTTCACGGGCACCGTCCACCGCATCGACAACACCACGGTCATCTACAATTCCA',\n",
       "  'ACATCTTCACAGACCCCTTCTTCATCGTGGAAACGCTGTGTATCATCTGGTTCTCCTTCGAGCTGGTGGT',\n",
       "  'GCGCTTCTTCGCCTGCCCCAGCAAGACGGACTTCTTCAAAAACATCATGAACTTCATAGACATTGTGGCC',\n",
       "  'ATCATTCCTTATTTCATCACCCTGGGCACCGAGATAGCTGAGCAGGAAGGAAACCAGAAGGGCGAGCAGG',\n",
       "  'CCACCTCCCTGGCCATCCTCAGGGTCATCCGCTTGGTAAGGGTTTTTAGAATCTTCAAGCTCTCCCGCCA',\n",
       "  'CTCTAAGGGCCTCCAGATCCTGGGCCAGACCCTCAAAGCTAGTATGAGAGAGCTAGGGCTGCTCATCTTT',\n",
       "  'TTCCTCTTCATCGGGGTCATCCTGTTTTCTAGTGCAGTGTACTTTGCCGAGGCGGAAGAAGCTGAGTCGC',\n",
       "  'ACTTCTCCAGTATCCCCGATGCTTTCTGGTGGGCGGTGGTGTCCATGACCACTGTAGGATACGGTGACAT',\n",
       "  'GTACCCTGTGACAATTGGAGGCAAGATCGTGGGCTCCTTGTGTGCCATCGCTGGTGTGCTAACAATTGCC',\n",
       "  'CTGCCCGTACCTGTCATTGTGTCCAATTTCAACTATTTCTACCACCGAGAAACTGAGGGGGAAGAGCAGG',\n",
       "  'CTCAGTTGCTCCACGTCAGTTCCCCTAACTTAGCCTCTGACAGTGACCTCAGTCGCCGCAGTTCCTCTAC',\n",
       "  'TATGAGCAAGTCTGAGTACATGGAGATCGAAGAGGATATGAATAATAGCATAGCCCATTATAGACAGGTC',\n",
       "  'AATATCAGAACTGGCAATTGCACCACAGCTAACCAAAACTGCGTTAATAAGAGCAAGCTACTGACCGATG',\n",
       "  'TTTAAAAAACAAAAGCAAGCAAACAAAAAAGCCCCACTTAGCAGCTCAAAAGACTTAAAAAACAAAACAG',\n",
       "  'AAAACCTAGTGACTCATGTCACGCTTTGTAGATACTTTACTAAGTAGACTTGGAATGCTCTATTTAACTG',\n",
       "  'TCAATGCGTTGTTGCATTGAGGATTTTGGGGGTGGTGAACCAGAAGCTTTCAAGATCCATGACAAAATAA',\n",
       "  'ACTATTTTCCTTTTATTAAAAAATGGGAAAAGAGAGAGTATTTTCTAAAACTGGCTTAAAAAGATTCAGT',\n",
       "  'CCACGAACTAGTCTAGGTAAAATAATAATCATATGCTTCCCCAAACTGAAACATTTTTAATGCTTTGGTT',\n",
       "  'TCTTTAACTTTTTTAAAAACTCAGAACAAGATGATCATTTAGAAATATAAAATTGAAATTTGCATGGGAC',\n",
       "  'TCCAGTAAAACATCTTTGCAAACTGCGTAGCACATTGAAGACAGTGCATCAGATGTATTATATGTAACAT',\n",
       "  'GATAGACCAGCCAAAATGGACAATGAATAGATATTTTTATTTCGATCAACTGAACTGCATATTACAAGGT',\n",
       "  'GAAAAAAGAAAACTCCGATTACTTAAGACTGGTTCACAAAGCACCTTATAAATTGGATACTGGTCCTGAT',\n",
       "  'CTGTAGGGATTTCCCCCTGGGCCCATTCTCTTTCTAATCCAGATTATTCTCTAAGAAAAAGTTAACTGAA',\n",
       "  'TTAAATTAATTGATTCTTCTGCAGTGCTGCTAAATTGTCTCAACTGCAGATGAGCCAAATACAGGTCTTT',\n",
       "  'TCTCACCAGGCCTGCACTCCGACCCCTGGCTTTCAGAACTGGATGTAAAACCTTAGCCTCCTTATTGCAA',\n",
       "  'GAGAGCACAAATGAAGTTAAATGTAAGCATGTTTGAATCTGATACAATTTATTTTATAATCGCATGCTGA',\n",
       "  'GAAGTTAACCCAGACAATAGGGGATAAGCTTAAGTTGAAATCGATTCTTCTAAAAATAGATCCTTTTTCA',\n",
       "  'TTTGCATTCACCAAAAGTGCACTCCTCCATTTATTAACTATTTTATTAGTAAATAAAGTACTGTATTTAA',\n",
       "  'GTGCATATGTTAGTCAGATGGGAACAATAACTTTTTGGAGCTCAAAGCATGTTCTCTTATTCAGCATTAT',\n",
       "  'GGCCTATTTGACTAAGATGTACCTTGAATTAATTAATGCATGATTTCAGTAATAAAAATTTTAAAAGTAA',\n",
       "  'TAAAAATTACAAGTCTGTGGGGTGAAAGGCCCAATAGAAATTATGGGGGGTGGGGGTGGGGGCACTCAGT',\n",
       "  'CAATTTTCCTGCCTTTGCTCAGGGAAATACCAGGTTTTTGTGCAGGTATAGGCGGAGAGAGGACCAATAT',\n",
       "  'GCCCATCCCTTAAAGGGAAGCCATGTGAAAAACTCAATAAGTCATCAAAGTATATATAGCAACACCTAAG',\n",
       "  'AACAAGTATTCTTTCTAGCTGAAGACAAACACAAGCAACACAAACAAGCAAACAAACAAACAAACAAAAA',\n",
       "  'GGTGCAATACTGCATGTTTTTTGGTGCATTCTTAGGATGTAAATGAAAATGTTTCTCTATTATATGCATC',\n",
       "  'CGAAGCAGAGCTGATTTTTTTTTTCTTTGCAGTCATTCTTTGAAGTCTGTAGAGACTTCAGCCCTCCCCT',\n",
       "  'TGAGGCTCCCTGAAGAAACTAAACCAATTGATTTAATAGTTGCTTAGTGCCTTTATCCTGTACCCACAGT',\n",
       "  'GAACTGCAGAAAGTGCCTCCTTAACACAGCTGAGAAGTTAGGTAGCAAAAGTGGGGAAGGGTTGGGGCAC',\n",
       "  'AGACCTTTTGCTTTTTCTTTTTCCATTCTCGCTCTCTCATTTCACCACTGTGAGAAGACCACACCACCCT',\n",
       "  'AAACCCTGGAGAGGAGAGACCCAGGAGGGTGCTGTCTCTCTGGCCATCTACTAGCATTGTCCCTTTGACA',\n",
       "  'GCCTGACGCTGGATGTGAACTGAGACCCATCTTTGAACTGGACATGAACTGTGAACTTGTTTTTTCCTCT',\n",
       "  'CTCCACCAGAAGCCAAGATAAACTTTTTGGGAATTTGTTCCCTATCGAGGGCCACTTTGGACTCACAAGG',\n",
       "  'CTTCCTCAGGTCCAGTGTAGTGCTCCTGGCACCTTTCCTTATTTTTTTCTCTGTCGGTAACAGCACTTTG',\n",
       "  'CAAATCTCTCTGACGGTCCAGTCTTTTCAGGCATTGTTGCGGATGTGGGAACACTCAGTTCATAATAACC',\n",
       "  'TTTCCTAGGCCTTCCCTCCTGGTCTACCCCTTTCAGATATTTCCTGATGCCCCTATGATCTTCCCACCTG',\n",
       "  'GCAGTCACTTCACAGGTTGAACATCTAACTTCTGCTGCCCCCGTTACCCAGCCCAGAGAATGGTGGGGAC',\n",
       "  'CCTGTTCCTGGCTGAAAGAGAGCCACGGAACACAGGCCTCTGGAGCTCGGCAGCTGCCCACCGGTGGAGA',\n",
       "  'GGTACTCACAGCCTTTTAAAGGACCCTGAGGTGGGGAATCTTCATTCTGCACTTAGCATGTGGCTGCCTG',\n",
       "  'TTACCTGACATTCTGGCCCAGCTTCTTCTGAAAATCTGTTCTGTTTCTCCCACCCCTTTCCCCCATCCTG',\n",
       "  'TCCTAGAACTAGCAGTGAGGCAATCACCCTAGAAACTCGAGTTACACCCATTCTGGCTAACTCGATTAAA',\n",
       "  'AGAAAGAACATGGATATCTTATTTTCCTATGTGACTTTTGTGAATCTGTGAGATGAACACAACACACATC',\n",
       "  'GTGGAAGATGAGGGGCCGAGAACTGCACAGCATCCGACTACAGGGCATTAAACCCTCCCATGTGATGTCT',\n",
       "  'CCTTCTCGTCTGAACCTTAACTCATTCTGGCGATTCCTTTCCTACTTGCTTAAAAACCCCCAATTAGGAA',\n",
       "  'AAAAATGCCAACCTCCTCCCAGGCTTGGGGTTATCTTGATCTTTCATTTCAACGTTGAGGTCTAGGGCAC',\n",
       "  'ACAGAACTTCAAACACCGCACTCTGTCAACAGCAATAATCCACTCAGTACTGTGGGATGGATGGGTTAAT',\n",
       "  'GGATGAGAAAACGGCACCAAGACTGACTTTGGGTACTTGGTATATTTACCGTGGTTACACCCTGGACTGG',\n",
       "  'TTGATTCTTCTGCATGTGATATAGAAAAAAGTGCTGCATGCGGTGAACCTGTCAGCCTGGGACTGGGGAT',\n",
       "  'GAGTTGTTGTTATGAGTTTGGGGTGGTGTGAGGAAAATGAATGCTGCTTAGCTCATCTGTAGCTCATTGC',\n",
       "  'AATGAATTCAGTAAGAATGGAGTACAGGGATTATCTGTGTAGCATAGGCATGCAATGTTTGACCAAGCTC',\n",
       "  'TTACCCTCGCACTGTAATGTGTTGAAATGTCTTTGTAGACCTGAAGGTGCACTTAACAAAACTGCCTATT',\n",
       "  'AAGGGATGACTATTTTTTGGTTTACTTATTCATATTTATTTTAGCAGCCTTTTTACCTTTTCTTCCCCTT',\n",
       "  'CCTAGGCATGGAGCTGTAACAGCTCATGTCCTGACTATCTGTTTTCTCCAGAAGGAGAAGACTTCTGATG',\n",
       "  'TGCTGATAGCCATAATTCCTCTCTTCCAGTCTATTGGGGCCCTAGTTCAATAGGGTGGCAATAGAAGGGT',\n",
       "  'TGGTCACACCAGGGCTGTTAGCCATCCCAGAATCTCTGAAGTGGTTAACTCACCTGAAGTGATCTGAATC',\n",
       "  'AGAGAGACCAAAGACATTCATTTCCTCTGTCCTCAGATTTCTAGAAGACAAATTCTAGCCAGGAAAACTT',\n",
       "  'TCTGTTTTTGCATCTCCCTTTTCCCATTTGTGCCCAACTCCCCTTGCACTCCCTGGAGACTTGAGTTCTG',\n",
       "  'ATTTTCAGTTATATCAGTTCATTGGGAGTGTGTTCGTGGGTGAGCCTTGCAGAATCAGATAAACCAACAG',\n",
       "  'CAAGTCCTTCTCCAGGATTCTGGCCAGTGGGCAGTCATTTCCCTGAAATGAATTGGAGGGCAGGTTTAGA',\n",
       "  'TTCCACTATGGTGGACCTGAAGCACAGGCGGTGTCACAATCTTGATTTGCTTGAGAATTAAAAAAAATAC',\n",
       "  'ATGTAAATGGTAAATGAGGAATACATTTTTTAAAGTAGAAATTTGATTTAGCCTATAAAAGGCCTTCTTC',\n",
       "  'ACATTGTGTATAGTTACACATTTTTCAAATTAGTTACCATCTAAAAGTCAATAAAAATAGTTTCCTAGCC',\n",
       "  'CTCTCATTTAATATAGGAGACCTCAAAACACATGCTTTTTAACAATTTTACATTTTAATTCTTAGTTTGG',\n",
       "  'TAGACTGGATTGAAAGAAAGGAGAAAGAACATTAGCAGAAGGCACTTTCCCATTTTCTTCCAGGAATGAC',\n",
       "  'TTATTCCTGGGGTGGTGAGAATTGGTGGGTGGTAACCATCCATAGTATAAAATTGTTAGAAAGAATACAA',\n",
       "  'ACTGCCAAACAAGCATGTTATCTTCAGGCTTTTCCAAGCAAGAATGAAGTCTTTTGATGTTTATGTTCAT',\n",
       "  'TTTAAGAAGACAAACAAACTAAAATTTTAAGACCAGACACAACCCAAGTTGAATTGTGATCTCAGGAGGT',\n",
       "  'GACCTCTCATTCACCATGTGGCATATTACTACTTGTATTTATATCATGGAATTTCAGGGTATATGTGAAC',\n",
       "  'ATGTCTAGTATGACTCAGGTAAACCTTTAAAGAATGTATGTTACTTACCATTTTTGTAAAGAAGCAAACA',\n",
       "  'GGAGCTGAATTGTTAACCAAAACTGTTCCATTACCTTGGGTCACTGTGCAAACTAATTCAGGGTATAGAT',\n",
       "  'ATAAAGTTTAGAAGCCTTGGGATTAAATGCCAGCCTCTTTGCTCAGGCCAAATGACCCTGGGCTTTCTTG',\n",
       "  'GGAAGTCCAGCATGTGTGTAAGGGGTGAGGCCCTGCTGACCTCAGGGTTATTCGCTTTAAGGAGATTAAC',\n",
       "  'CCTAGTCACAGTGATTTTTCATTTAGGAGCTAACTAGGAGTTTACTCTTTATGACGTGAAACTTCAAAGA',\n",
       "  'GTATAGAAAACTTTTGTACCACAATCAAAGAAGAAGAAATGGTGTATGGAAAGAAAACAAAACAAAACAA',\n",
       "  'GAAATCTCTTGTAAAATATTCCAGGTCAAAGTTGTCTCCTCTCCAAACCTTGCAGAAGCACCTTTCTTCT',\n",
       "  'CTTCAGCGCACTGTTTTGGGACTGTGTATGCAGCAGATGTAAGTAGACAAGACAACATGGACTCCATGTG',\n",
       "  'ACATGCCTCTAATAGTAAAGATAAAGTATTACTGAGGTTAAAAATAAAAATCGAGTAGTATTAATTTAAA',\n",
       "  'GTGCACCATCAGGACAACAAACCATTTAAGCTGAAAAAACGCTATTTTATTTCTTGAGTTTGCCAGTTGC',\n",
       "  'TTCCACCTTGAGTTAAGGACGTGTCTCATCTTCACCTACTGTGCATTCTCCCTTCTCTAACTGTGTGATA',\n",
       "  'TGTCAGGTCAAGGACATTGAATGTTATGAATTGAGAACCTAATTGATGCGCATAGTTTTCATCTATGCAA',\n",
       "  'TTTTACTTGCTTCTGTCACTTTACGATCTGTTCATATTTGGCATCAATTAAAGATAATTTTTAAGGATCT',\n",
       "  'TATCAAGGAA'],\n",
       " '>sample3 Homo sapiens inhibitor of growth family member 4, mRNA': ['CACTTCCGGGGCGGATCGGAAGTTGCTTTGTTTTGCTTCGAGATGGCTGCGGGGATGTATTTGGAACATT',\n",
       "  'ATCTGGACAACCTGAAGGCTGAAATTGACAAGTTGGCCACTGAGTATATGAGTAGTGCCCGCAGCCTGAG',\n",
       "  'CTCCGAGGAAAAATTGGCCCTTCTCAAACAGATCCAGGAAGCCTATGGCAAGTGCAAGGAATTTGGTGAC',\n",
       "  'GACAAGGTGCAGCTTGCCATGCAGACCTATGAGATGGTGGACAAACACATTCGGCGGCTGGACACAGACC',\n",
       "  'TGGCCCGTTTTGAGGCTGATCTCAAGGAGAAACAGATTGAGTCAAGTGACTATGACAGCTCTTCCAGCAA',\n",
       "  'AGGCAAAAAGAGCCGGACTCAAAAGGAGAAGAAAGCTGCTCGTGCTCGTTCCAAAGGGAAAAACTCGGAT',\n",
       "  'GAAGAAGCCCCCAAGACTGCCCAGAAGAAGTTAAAGCTCGTGCGCACAAGTCCTGAGTATGGGATGCCCT',\n",
       "  'CAGTGACCTTTGGCAGTGTCCACCCCTCTGATGTGTTGGATATGCCTGTGGATCCCAACGAACCCACCTA',\n",
       "  'TTGCCTTTGTCACCAGGTCTCCTATGGAGAGATGATTGGCTGTGACAACCCTGATTGTTCCATTGAGTGG',\n",
       "  'TTCCATTTTGCCTGTGTGGGGCTGACAACCAAGCCTCGGGGGAAATGGTTTTGCCCACGCTGCTCCCAAG',\n",
       "  'AACGGAAGAAGAAATAGATAAGGGCCTTGGATTCCAACACAGTTTCTTCCACATCCCCTGACTTGGGCTA',\n",
       "  'GTGGGCAGAGGAATGCCTGTGCTGGGGCCAGGGGTTCAGGGAGGAGTGGATGGCACAGTGCTGTCATCCC',\n",
       "  'TTCTCCTCCCCTCTCCCCACTCCCGGTGCTGAGGCTGCATCAGACCCTGGTAGGGAGGGGTGCCGCAGCC',\n",
       "  'ACTAACGGTATGTGCTCTCCTTCAGCCCTCTCCCTTCGGAGGGACGTGGTCTTGCCCACTGTCCTTTTGC',\n",
       "  'CTCCATGCTGAGGTCGGTGCTGTATTTCAGAGGGAGGGTCCTTTTCATTCTCCTTGCTTTGTATTTAAGG',\n",
       "  'ACTGGGGCATAGCATGGGGGCAGTCCCCCAGACCTCTTCATTCCCCCTCCTGTGGTGAGGGCTAGGTGTG',\n",
       "  'ATCAACACTTTTCTTCTCCATTCCCTTCCTGCTTTTTTCATGGTGGGGGATCCACCAGGTCATCTAGGCT',\n",
       "  'CTGGCCCTAGTTGAAGGGGCACCCCTTCCTCTGTGCCAAGAGGATTCATCCTGGGAGAGGGGGCAAGGTG',\n",
       "  'GAATGCAGATAACTCACATGTAAAAGGAACTTGGGTAGGTAAATAAAAGCTATACATGTTG'],\n",
       " '>sample4 Macaca mulatta NOP2 nucleolar protein, mRNA': ['GCGGGGCCGCGAGGCTAGCGTTACCCTTGCGCCTGCGTGGAAGGACTCTGTGGCGAGTGGCGGCCGAAAG',\n",
       "  'CTAGCTGCGGAGTGCACGTGGAGCGCGGCCCCAAGGGCAGTCTCGGGCCTTAACCCGCATTCTGTACGCC',\n",
       "  'AAGCCTGCGTTCTGCCGTTTCCTCCGGCACGCGCGACGCCACCTTCTCACATTTCTGTCTGCCATAGTAC',\n",
       "  'TATGGGGCGCAAATTGGACCCTACAAAGAAGGAGAAGCGGGGGCCAGGCCGAAAGGCCCGGAAGCAGAAG',\n",
       "  'GGTGCCGAGACAGAACTCGCCAGATTCTTGCCTGCAGTAAGTGACGAAAATTCCAAGAGGCTGTCTAGTC',\n",
       "  'GTGCTCGAAAGAGGGCAGCCAAGAGGAGGCTGGGTTCTGCTGAAGTCCCTAAGACAAATAAGTCCCCTGA',\n",
       "  'GGCCAAACCATTGCCTGGAAAGCTACCAAAAGGAGCTGTCCAGACAGCTGGTAAGAAGGGACCCCAGTCC',\n",
       "  'CTATTTAATGCTGCTCAAGGCAAGAAGCGCCCAGCACCTAGCAGTGATGAGGAAGAGGAGGAGGAAGACT',\n",
       "  'CTGAAGAAGATGATGTGGTGAACCAGGGGGACCTCTGGGGCTCCGAGGATGATGCTGATATGGTAGATGA',\n",
       "  'CTATGGAGCTGACTCCAACTCTGAGGATGAGGAGGAAGGTGAAGAGCTGCTGCCCATTGAAAGAGCTGCT',\n",
       "  'CGGAAGCAGAAGGTCCGGGAAGCTGCTGCTGGGGTCCAGTGGAGTGAAGAGGAGACGGAGGATGAGGAGG',\n",
       "  'AAGAAGTGACCCCTGAGTCCGGCCCCTCAAAGGAGGAGGAGGCAGATGGGGGCCTGCAGATCAATGTGGA',\n",
       "  'TGAGGAACCATTTGTGCTGCCCCCTGCCGGGGAGATGGAGCAGGATGCCCAGGCTCCAGACCTGCAACGA',\n",
       "  'GTTCACAAGCGGATCCAGGATATCGTGGGAATTCTGCGTGATTTTGGGGCTCAGCGGGAGGAAGGGCGGT',\n",
       "  'CTCGTTCTGAATACCTGAACCGGCTCAAGAAGGATCTGGCCACTTACTACTCCTATGGAGACTTCCTGCT',\n",
       "  'TGGCAAGCTCATGGACCTCTTCCCTCTGTCTGAGCTGGTGGAGTTCTTAGAAGCTAATGAGGTGCCTCGG',\n",
       "  'CCCGTCACCCTCCGGACCAATACCTTGAAAACCCGACGCCGAGACCTTGCCCAGGCTCTAATCAATCGTG',\n",
       "  'GGGTTAATCTGGATCCCCTGGGCAAGTGGTCAAAGACTGGACTAGTGGTATATGATTCTTCTGTGCCCAT',\n",
       "  'TGGTGCCACCCCCGAGTACCTGGCTGGGCACTACATGCTGCAGGGAGCCTCCAGCATGCTGCCCGTCATG',\n",
       "  'GCCTTGGCACCCCAGGAACATGAGCGGATCCTGGACATGTGTTGTGCCCCTGGAGGAAAGACCAGCTACA',\n",
       "  'TGGCCCAGTTGATGAAGAATACGGGTGTGATCCTTGCCAATGACGCCAATGCTGAGCGGCTTAAGAGTGT',\n",
       "  'TGTGGGCAACTTGCACCGGCTGGGAGTCACCAACACCGTTATCAGTCACTATGATGGGCGCCAGTTCCCC',\n",
       "  'AAGGTGGTGGGGGGCTTTGACCGAGTGCTGCTGGATGCTCCCTGCAGTGGCACTGGGGTCATCTCCAAGG',\n",
       "  'ACCCAACCGTGAAGACTAACAAGGATGAGAAGGACATCCTGCGCTGTGCTCACCTCCAGAAGGAGTTGCT',\n",
       "  'TCTGAGTGCTATTGACTCTGTGAATGCCACCTCCAAGACAGGAGGCTACCTTGTTTACTGCACCTGTTCT',\n",
       "  'ATCATGGTGGAAGAGAATGAGTGGGTGGTAGACTATGCTCTGAAAAAGAGGAATGTGCGACTGGTGCCCA',\n",
       "  'CAGGCCTAGACTTTGGCCAGGAGGGTTTTACCCGCTTTCGAGAAAGGCGCTTCCACCCCAGTCTGCGTTC',\n",
       "  'TGCCCGACGCTTCTACCCTCATACCCACAATATGGATGGGTTCTTCATTGCCAAGTTCAAGAAATTCTCC',\n",
       "  'AATTCTATCCCTCAGTCCGAGACAGGAAATTCTGAAACAGCCACACCTAAAAATGTAGACTTGCCTCAGG',\n",
       "  'TCATCCCCAAGTCTGAGAACAGCAGCCAGCCAGCCAAAAAGGCCAAGGGGGCTGCAAAGACAAAGCAGCA',\n",
       "  'GCTGCAGAAACAGCAACGTCCCAAGAAGGCCTCCTTCCAGAAGCCGAATGGCACCTCTAAAGGGGCAGAC',\n",
       "  'TCAGAATTGTCCACTGTACCTTCTGTCAGAAAGACCCAAGCTTCCTCCAGGTGCCAGGATAGCAGTCAGC',\n",
       "  'CAGCTGGAAAAGCCGAAGGGATCAGGGAGTCCAAGGTGACTGGGAAGCTAAAGCAACGATCGCCTAAATT',\n",
       "  'ACAGTCCTCCAAGAAAGTTGCCTTCCTCAAGCAGAATGCCCCTCCCAAGGGCACAGACACAGAAACACCG',\n",
       "  'GCTGTGTTATCCCCATCCAAGACTCAGGCCACCCTGAAACCTAAGGACCATCATCACCCCCTTGGAAGGG',\n",
       "  'CCAAGGGGGTTGAGAAGCAGCAGTTGCCAGAGCAGCCTTTCAAGAAAGCTGCCTTCCAGAAACAGAATGA',\n",
       "  'CACCCCCAAGGGGCCTCAGCCTCCGACTGTGTCTCCCATCAGTTCCAGCCGCCCCCCACCAGCAAAGAGG',\n",
       "  'AAGAAATCTCAGTCCAGGGGCAATGGCCAGCTGCTCCTGTCTTAGATGGTTGAAAACTAGACTGGGGTGG',\n",
       "  'CTCACTGCCATTGTCACCGGGTTGGAACTCTTGCCTCTATGAGGATGCCTTCTCCACTGTGCATACCCAT',\n",
       "  'GAAATTTAATACACATTTTACAACCTCTG']}"
      ]
     },
     "execution_count": 221,
     "metadata": {},
     "output_type": "execute_result"
    }
   ],
   "source": [
    "annotated_records = {}\n",
    "for key, fasta_record in fasta_records.items():\n",
    "    new_description = annotated_description[key[1:]]\n",
    "    annotated_records[new_description] = fasta_record\n",
    "annotated_records"
   ]
  },
  {
   "cell_type": "markdown",
   "metadata": {},
   "source": [
    "#### 16.6 write a file 'data/chr12/annotated-samples.fa' which contains the new description as a line then all the sequence lines, you can do this by looping through your annotated_records dictionary. Don't forget to add newlines."
   ]
  },
  {
   "cell_type": "code",
   "execution_count": 222,
   "metadata": {},
   "outputs": [],
   "source": [
    "annotated_sample_file = 'data/chr12/annotated-samples.fa'\n",
    "fileh = open(annotated_sample_file, 'a')\n",
    "for key, record in annotated_records.items():\n",
    "    fileh.write('%s\\n' % key)\n",
    "    fileh.write('%s\\n' % '\\n'.join(record))\n",
    "fileh.close()"
   ]
  },
  {
   "cell_type": "markdown",
   "metadata": {
    "toc-hr-collapsed": true
   },
   "source": [
    "# 17. Running shell commands from python "
   ]
  },
  {
   "cell_type": "markdown",
   "metadata": {
    "toc-hr-collapsed": true
   },
   "source": [
    "### The most convenient way to run a shell command is _os.system()_"
   ]
  },
  {
   "cell_type": "markdown",
   "metadata": {
    "toc-hr-collapsed": true
   },
   "source": [
    "_os.system_ runs a command in a bash shell and outputs stderr and stdout to the console.  It returns the shell return code (e.g. zero for success)\n",
    "\n",
    "Because it goes to the console, your Python code does not capture the output.\n",
    "\n",
    "Execution is synchronous, so your program has to wait until it's done.\n",
    "\n",
    "Bash shell (or whatever your current shell is) interpolation is done so PATH is honored, redirection works, etc."
   ]
  },
  {
   "cell_type": "code",
   "execution_count": 182,
   "metadata": {},
   "outputs": [],
   "source": [
    "cmd = 'cat nonexistant_file.txt'"
   ]
  },
  {
   "cell_type": "code",
   "execution_count": 183,
   "metadata": {},
   "outputs": [
    {
     "data": {
      "text/plain": [
       "256"
      ]
     },
     "execution_count": 183,
     "metadata": {},
     "output_type": "execute_result"
    }
   ],
   "source": [
    "os.system(cmd)"
   ]
  },
  {
   "cell_type": "markdown",
   "metadata": {},
   "source": [
    "You can check the return code for non-zero-ness"
   ]
  },
  {
   "cell_type": "code",
   "execution_count": 184,
   "metadata": {},
   "outputs": [
    {
     "name": "stdout",
     "output_type": "stream",
     "text": [
      "Fail!\n"
     ]
    }
   ],
   "source": [
    "if os.system(cmd) != 0:\n",
    "    print('Fail!')\n",
    "else:\n",
    "    print('Success!')"
   ]
  },
  {
   "cell_type": "code",
   "execution_count": 185,
   "metadata": {},
   "outputs": [
    {
     "data": {
      "text/plain": [
       "'cat nonexistant_file.txt'"
      ]
     },
     "execution_count": 185,
     "metadata": {},
     "output_type": "execute_result"
    }
   ],
   "source": [
    "cmd"
   ]
  },
  {
   "cell_type": "markdown",
   "metadata": {},
   "source": [
    "But you need to capture stderr to find out what happened"
   ]
  },
  {
   "cell_type": "code",
   "execution_count": 186,
   "metadata": {},
   "outputs": [],
   "source": [
    "cmd = 'cat nonexistant_file.txt 2> stderr 1> stdout'"
   ]
  },
  {
   "cell_type": "code",
   "execution_count": 187,
   "metadata": {},
   "outputs": [
    {
     "name": "stdout",
     "output_type": "stream",
     "text": [
      "cat: nonexistant_file.txt: No such file or directory\n",
      "\n"
     ]
    }
   ],
   "source": [
    "if os.system(cmd) != 0:\n",
    "    stderrh = open('stderr', 'r')\n",
    "    print(stderrh.read())"
   ]
  },
  {
   "cell_type": "markdown",
   "metadata": {
    "toc-hr-collapsed": true
   },
   "source": [
    "### The subprocess _Popen()_ constructor allows more flexibility and power in the execution of shell commands."
   ]
  },
  {
   "cell_type": "markdown",
   "metadata": {
    "toc-hr-collapsed": true
   },
   "source": [
    "The _Popen()_ constructor creates a process handle that can be used to capture stderr, stdout or pipe data into\n",
    "stdin.\n",
    "\n",
    "Run a process using Popen just like _os.system()_"
   ]
  },
  {
   "cell_type": "code",
   "execution_count": 188,
   "metadata": {},
   "outputs": [],
   "source": [
    "import subprocess"
   ]
  },
  {
   "cell_type": "code",
   "execution_count": 189,
   "metadata": {},
   "outputs": [],
   "source": [
    "cmd = 'echo \"hello shell\"'"
   ]
  },
  {
   "cell_type": "code",
   "execution_count": 190,
   "metadata": {},
   "outputs": [
    {
     "data": {
      "text/plain": [
       "0"
      ]
     },
     "execution_count": 190,
     "metadata": {},
     "output_type": "execute_result"
    }
   ],
   "source": [
    "proc = subprocess.Popen(cmd, shell=True)\n",
    "proc.wait()"
   ]
  },
  {
   "cell_type": "markdown",
   "metadata": {},
   "source": [
    "To capture stderr and stdout, use _PIPE_ and _.communicate()_"
   ]
  },
  {
   "cell_type": "code",
   "execution_count": 191,
   "metadata": {},
   "outputs": [],
   "source": [
    "proc = subprocess.Popen(cmd, shell=True, stdout=subprocess.PIPE, stderr=subprocess.PIPE)"
   ]
  },
  {
   "cell_type": "code",
   "execution_count": 192,
   "metadata": {},
   "outputs": [
    {
     "name": "stdout",
     "output_type": "stream",
     "text": [
      "b'hello shell\\n'\n"
     ]
    }
   ],
   "source": [
    "stdout, stderr = proc.communicate()\n",
    "if proc.returncode == 0:\n",
    "    print(stdout)\n",
    "else:\n",
    "    print('Fail %s' % stderr)"
   ]
  },
  {
   "cell_type": "markdown",
   "metadata": {},
   "source": [
    "In Python 3, shell output is returned as a bytearray that must be decoded"
   ]
  },
  {
   "cell_type": "code",
   "execution_count": 193,
   "metadata": {},
   "outputs": [
    {
     "name": "stdout",
     "output_type": "stream",
     "text": [
      "hello shell\n",
      "\n"
     ]
    }
   ],
   "source": [
    "proc = subprocess.Popen(cmd, shell=True, stdout=subprocess.PIPE, stderr=subprocess.PIPE)\n",
    "stdout, stderr = proc.communicate()\n",
    "if proc.returncode == 0:\n",
    "    print(stdout.decode('ascii'))\n",
    "else:\n",
    "    print('Fail %s' % stderr)"
   ]
  },
  {
   "cell_type": "markdown",
   "metadata": {},
   "source": [
    "## Exercise 17"
   ]
  },
  {
   "cell_type": "markdown",
   "metadata": {
    "toc-hr-collapsed": true
   },
   "source": [
    "minimap2 is a command line tool for mapping query sequences to a reference.  This is useful for characterizing \n",
    "query sequences, SNP detection, finding orthologs (from close relatives), etc.  Command line usage is described \n",
    "as follows:\n",
    "\n",
    "    Usage: minimap2 [options] <target.fa>|<target.idx> [query.fa] [...]\n",
    "\n",
    "where 'target' is the reference sequence (chr12.fa.gz for us)"
   ]
  },
  {
   "cell_type": "markdown",
   "metadata": {},
   "source": [
    "use your annotated_sample_file from 16 as the query"
   ]
  },
  {
   "cell_type": "code",
   "execution_count": 261,
   "metadata": {},
   "outputs": [],
   "source": [
    "target_file = 'data/chr12/chr12.fa.gz'"
   ]
  },
  {
   "cell_type": "markdown",
   "metadata": {},
   "source": [
    "#### 17.1 set the cmd variable to a minimap2 command, note that it should start with ./minimap2 because this is a bash script that we want to execute.  Optionally, use string formatting like in section 8."
   ]
  },
  {
   "cell_type": "code",
   "execution_count": 262,
   "metadata": {},
   "outputs": [],
   "source": [
    "cmd = './minimap2 {} {}'.format(target_file, annotated_sample_file)"
   ]
  },
  {
   "cell_type": "code",
   "execution_count": 263,
   "metadata": {},
   "outputs": [
    {
     "data": {
      "text/plain": [
       "'./minimap2 data/chr12/chr12.fa.gz data/chr12/annotated-samples.fa'"
      ]
     },
     "execution_count": 263,
     "metadata": {},
     "output_type": "execute_result"
    }
   ],
   "source": [
    "cmd"
   ]
  },
  {
   "cell_type": "markdown",
   "metadata": {},
   "source": [
    "#### 17.2 use subprocess.popen to run the cmd, make sure to capture stdout, please be patient it may take a minute to run"
   ]
  },
  {
   "cell_type": "code",
   "execution_count": 264,
   "metadata": {},
   "outputs": [
    {
     "name": "stdout",
     "output_type": "stream",
     "text": [
      "sample1\t2759\t1983\t2749\t-\tNC_000012.12\t133275309\t6556880\t6557644\t598\t766\t60\ttp:A:P\tcm:i:81\ts1:i:598\ts2:i:0\tdv:f:0.0411\trl:i:0\n",
      "sample1\t2759\t1421\t1974\t-\tNC_000012.12\t133275309\t6560108\t6561052\t408\t944\t60\ttp:A:P\tcm:i:52\ts1:i:341\ts2:i:0\tdv:f:0.0481\trl:i:0\n",
      "sample1\t2759\t679\t1170\t-\tNC_000012.12\t133275309\t6563084\t6563943\t377\t859\t60\ttp:A:P\tcm:i:53\ts1:i:315\ts2:i:0\tdv:f:0.0323\trl:i:0\n",
      "sample1\t2759\t321\t671\t-\tNC_000012.12\t133275309\t6566105\t6566818\t235\t713\t60\ttp:A:P\tcm:i:31\ts1:i:176\ts2:i:0\tdv:f:0.0514\trl:i:0\n",
      "sample1\t2759\t1175\t1400\t-\tNC_000012.12\t133275309\t6561666\t6561970\t184\t304\t60\ttp:A:P\tcm:i:28\ts1:i:170\ts2:i:0\tdv:f:0.0254\trl:i:0\n",
      "sample1\t2759\t244\t293\t-\tNC_000012.12\t133275309\t6567839\t6567888\t49\t49\t14\ttp:A:P\tcm:i:6\ts1:i:49\ts2:i:0\tdv:f:0.0192\trl:i:0\n",
      "sample1\t2759\t1983\t2749\t-\tNC_000012.12\t133275309\t6556880\t6557644\t598\t766\t60\ttp:A:P\tcm:i:81\ts1:i:598\ts2:i:0\tdv:f:0.0411\trl:i:0\n",
      "sample1\t2759\t1421\t1974\t-\tNC_000012.12\t133275309\t6560108\t6561052\t408\t944\t60\ttp:A:P\tcm:i:52\ts1:i:341\ts2:i:0\tdv:f:0.0481\trl:i:0\n",
      "sample1\t2759\t679\t1170\t-\tNC_000012.12\t133275309\t6563084\t6563943\t377\t859\t60\ttp:A:P\tcm:i:53\ts1:i:315\ts2:i:0\tdv:f:0.0323\trl:i:0\n",
      "sample1\t2759\t321\t671\t-\tNC_000012.12\t133275309\t6566105\t6566818\t235\t713\t60\ttp:A:P\tcm:i:31\ts1:i:176\ts2:i:0\tdv:f:0.0514\trl:i:0\n",
      "sample1\t2759\t1175\t1400\t-\tNC_000012.12\t133275309\t6561666\t6561970\t184\t304\t60\ttp:A:P\tcm:i:28\ts1:i:170\ts2:i:0\tdv:f:0.0254\trl:i:0\n",
      "sample1\t2759\t244\t293\t-\tNC_000012.12\t133275309\t6567839\t6567888\t49\t49\t14\ttp:A:P\tcm:i:6\ts1:i:49\ts2:i:0\tdv:f:0.0192\trl:i:0\n",
      "sample1\t1905\t540\t1140\t-\tNC_000012.12\t133275309\t6643541\t6644606\t600\t1065\t60\ttp:A:P\tcm:i:111\ts1:i:527\ts2:i:0\tdv:f:0.0018\trl:i:0\n",
      "sample1\t1905\t1146\t1491\t-\tNC_000012.12\t133275309\t6640059\t6640519\t345\t460\t60\ttp:A:P\tcm:i:57\ts1:i:325\ts2:i:0\tdv:f:0.0034\trl:i:0\n",
      "sample1\t1905\t1573\t1898\t-\tNC_000012.12\t133275309\t6638081\t6638406\t325\t325\t60\ttp:A:P\tcm:i:58\ts1:i:325\ts2:i:0\tdv:f:0.0023\trl:i:0\n",
      "sample1\t1905\t7\t422\t-\tNC_000012.12\t133275309\t6646483\t6647425\t406\t942\t60\ttp:A:P\tcm:i:71\ts1:i:321\ts2:i:0\tdv:f:0.0054\trl:i:0\n",
      "sample1\t1905\t427\t540\t-\tNC_000012.12\t133275309\t6645220\t6645333\t113\t113\t60\ttp:A:P\tcm:i:19\ts1:i:113\ts2:i:0\tdv:f:0.0067\trl:i:0\n",
      "sample1\t1905\t1491\t1577\t-\tNC_000012.12\t133275309\t6638951\t6639037\t86\t86\t60\ttp:A:P\tcm:i:15\ts1:i:86\ts2:i:0\tdv:f:0.0083\trl:i:0\n",
      "sample2\t7990\t4\t7984\t+\tNC_000012.12\t133275309\t4909910\t4918250\t7302\t8351\t60\ttp:A:P\tcm:i:1263\ts1:i:7242\ts2:i:189\tdv:f:0.0108\trl:i:64\n",
      "sample3\t1321\t80\t1313\t-\tNC_000012.12\t133275309\t6650598\t6653395\t1194\t2797\t60\ttp:A:P\tcm:i:220\ts1:i:1082\ts2:i:0\tdv:f:0.0041\trl:i:0\n",
      "sample3\t1321\t7\t78\t-\tNC_000012.12\t133275309\t6663065\t6663136\t71\t71\t52\ttp:A:P\tcm:i:15\ts1:i:71\ts2:i:0\tdv:f:0.0043\trl:i:0\n",
      "sample4\t2759\t1983\t2749\t-\tNC_000012.12\t133275309\t6556880\t6557644\t598\t766\t60\ttp:A:P\tcm:i:81\ts1:i:598\ts2:i:0\tdv:f:0.0411\trl:i:0\n",
      "sample4\t2759\t1421\t1974\t-\tNC_000012.12\t133275309\t6560108\t6561052\t408\t944\t60\ttp:A:P\tcm:i:52\ts1:i:341\ts2:i:0\tdv:f:0.0481\trl:i:0\n",
      "sample4\t2759\t679\t1170\t-\tNC_000012.12\t133275309\t6563084\t6563943\t377\t859\t60\ttp:A:P\tcm:i:53\ts1:i:315\ts2:i:0\tdv:f:0.0323\trl:i:0\n",
      "sample4\t2759\t321\t671\t-\tNC_000012.12\t133275309\t6566105\t6566818\t235\t713\t60\ttp:A:P\tcm:i:31\ts1:i:176\ts2:i:0\tdv:f:0.0514\trl:i:0\n",
      "sample4\t2759\t1175\t1400\t-\tNC_000012.12\t133275309\t6561666\t6561970\t184\t304\t60\ttp:A:P\tcm:i:28\ts1:i:170\ts2:i:0\tdv:f:0.0254\trl:i:0\n",
      "sample4\t2759\t244\t293\t-\tNC_000012.12\t133275309\t6567839\t6567888\t49\t49\t14\ttp:A:P\tcm:i:6\ts1:i:49\ts2:i:0\tdv:f:0.0192\trl:i:0\n",
      "sample1\t1905\t540\t1140\t-\tNC_000012.12\t133275309\t6643541\t6644606\t600\t1065\t60\ttp:A:P\tcm:i:111\ts1:i:527\ts2:i:0\tdv:f:0.0018\trl:i:0\n",
      "sample1\t1905\t1146\t1491\t-\tNC_000012.12\t133275309\t6640059\t6640519\t345\t460\t60\ttp:A:P\tcm:i:57\ts1:i:325\ts2:i:0\tdv:f:0.0034\trl:i:0\n",
      "sample1\t1905\t1573\t1898\t-\tNC_000012.12\t133275309\t6638081\t6638406\t325\t325\t60\ttp:A:P\tcm:i:58\ts1:i:325\ts2:i:0\tdv:f:0.0023\trl:i:0\n",
      "sample1\t1905\t7\t422\t-\tNC_000012.12\t133275309\t6646483\t6647425\t406\t942\t60\ttp:A:P\tcm:i:71\ts1:i:321\ts2:i:0\tdv:f:0.0054\trl:i:0\n",
      "sample1\t1905\t427\t540\t-\tNC_000012.12\t133275309\t6645220\t6645333\t113\t113\t60\ttp:A:P\tcm:i:19\ts1:i:113\ts2:i:0\tdv:f:0.0067\trl:i:0\n",
      "sample1\t1905\t1491\t1577\t-\tNC_000012.12\t133275309\t6638951\t6639037\t86\t86\t60\ttp:A:P\tcm:i:15\ts1:i:86\ts2:i:0\tdv:f:0.0083\trl:i:0\n",
      "sample2\t7990\t4\t7984\t+\tNC_000012.12\t133275309\t4909910\t4918250\t7302\t8351\t60\ttp:A:P\tcm:i:1263\ts1:i:7242\ts2:i:189\tdv:f:0.0108\trl:i:64\n",
      "sample3\t1321\t80\t1313\t-\tNC_000012.12\t133275309\t6650598\t6653395\t1194\t2797\t60\ttp:A:P\tcm:i:220\ts1:i:1082\ts2:i:0\tdv:f:0.0041\trl:i:0\n",
      "sample3\t1321\t7\t78\t-\tNC_000012.12\t133275309\t6663065\t6663136\t71\t71\t52\ttp:A:P\tcm:i:15\ts1:i:71\ts2:i:0\tdv:f:0.0043\trl:i:0\n",
      "sample4\t2759\t1983\t2749\t-\tNC_000012.12\t133275309\t6556880\t6557644\t598\t766\t60\ttp:A:P\tcm:i:81\ts1:i:598\ts2:i:0\tdv:f:0.0411\trl:i:0\n",
      "sample4\t2759\t1421\t1974\t-\tNC_000012.12\t133275309\t6560108\t6561052\t408\t944\t60\ttp:A:P\tcm:i:52\ts1:i:341\ts2:i:0\tdv:f:0.0481\trl:i:0\n",
      "sample4\t2759\t679\t1170\t-\tNC_000012.12\t133275309\t6563084\t6563943\t377\t859\t60\ttp:A:P\tcm:i:53\ts1:i:315\ts2:i:0\tdv:f:0.0323\trl:i:0\n",
      "sample4\t2759\t321\t671\t-\tNC_000012.12\t133275309\t6566105\t6566818\t235\t713\t60\ttp:A:P\tcm:i:31\ts1:i:176\ts2:i:0\tdv:f:0.0514\trl:i:0\n",
      "sample4\t2759\t1175\t1400\t-\tNC_000012.12\t133275309\t6561666\t6561970\t184\t304\t60\ttp:A:P\tcm:i:28\ts1:i:170\ts2:i:0\tdv:f:0.0254\trl:i:0\n",
      "sample4\t2759\t244\t293\t-\tNC_000012.12\t133275309\t6567839\t6567888\t49\t49\t14\ttp:A:P\tcm:i:6\ts1:i:49\ts2:i:0\tdv:f:0.0192\trl:i:0\n",
      "sample1\t1905\t540\t1140\t-\tNC_000012.12\t133275309\t6643541\t6644606\t600\t1065\t60\ttp:A:P\tcm:i:111\ts1:i:527\ts2:i:0\tdv:f:0.0018\trl:i:0\n",
      "sample1\t1905\t1146\t1491\t-\tNC_000012.12\t133275309\t6640059\t6640519\t345\t460\t60\ttp:A:P\tcm:i:57\ts1:i:325\ts2:i:0\tdv:f:0.0034\trl:i:0\n",
      "sample1\t1905\t1573\t1898\t-\tNC_000012.12\t133275309\t6638081\t6638406\t325\t325\t60\ttp:A:P\tcm:i:58\ts1:i:325\ts2:i:0\tdv:f:0.0023\trl:i:0\n",
      "sample1\t1905\t7\t422\t-\tNC_000012.12\t133275309\t6646483\t6647425\t406\t942\t60\ttp:A:P\tcm:i:71\ts1:i:321\ts2:i:0\tdv:f:0.0054\trl:i:0\n",
      "sample1\t1905\t427\t540\t-\tNC_000012.12\t133275309\t6645220\t6645333\t113\t113\t60\ttp:A:P\tcm:i:19\ts1:i:113\ts2:i:0\tdv:f:0.0067\trl:i:0\n",
      "sample1\t1905\t1491\t1577\t-\tNC_000012.12\t133275309\t6638951\t6639037\t86\t86\t60\ttp:A:P\tcm:i:15\ts1:i:86\ts2:i:0\tdv:f:0.0083\trl:i:0\n",
      "sample2\t7990\t4\t7984\t+\tNC_000012.12\t133275309\t4909910\t4918250\t7302\t8351\t60\ttp:A:P\tcm:i:1263\ts1:i:7242\ts2:i:189\tdv:f:0.0108\trl:i:64\n",
      "sample3\t1321\t80\t1313\t-\tNC_000012.12\t133275309\t6650598\t6653395\t1194\t2797\t60\ttp:A:P\tcm:i:220\ts1:i:1082\ts2:i:0\tdv:f:0.0041\trl:i:0\n",
      "sample3\t1321\t7\t78\t-\tNC_000012.12\t133275309\t6663065\t6663136\t71\t71\t52\ttp:A:P\tcm:i:15\ts1:i:71\ts2:i:0\tdv:f:0.0043\trl:i:0\n",
      "sample4\t2759\t1983\t2749\t-\tNC_000012.12\t133275309\t6556880\t6557644\t598\t766\t60\ttp:A:P\tcm:i:81\ts1:i:598\ts2:i:0\tdv:f:0.0411\trl:i:0\n",
      "sample4\t2759\t1421\t1974\t-\tNC_000012.12\t133275309\t6560108\t6561052\t408\t944\t60\ttp:A:P\tcm:i:52\ts1:i:341\ts2:i:0\tdv:f:0.0481\trl:i:0\n",
      "sample4\t2759\t679\t1170\t-\tNC_000012.12\t133275309\t6563084\t6563943\t377\t859\t60\ttp:A:P\tcm:i:53\ts1:i:315\ts2:i:0\tdv:f:0.0323\trl:i:0\n",
      "sample4\t2759\t321\t671\t-\tNC_000012.12\t133275309\t6566105\t6566818\t235\t713\t60\ttp:A:P\tcm:i:31\ts1:i:176\ts2:i:0\tdv:f:0.0514\trl:i:0\n",
      "sample4\t2759\t1175\t1400\t-\tNC_000012.12\t133275309\t6561666\t6561970\t184\t304\t60\ttp:A:P\tcm:i:28\ts1:i:170\ts2:i:0\tdv:f:0.0254\trl:i:0\n",
      "sample4\t2759\t244\t293\t-\tNC_000012.12\t133275309\t6567839\t6567888\t49\t49\t14\ttp:A:P\tcm:i:6\ts1:i:49\ts2:i:0\tdv:f:0.0192\trl:i:0\n",
      "sample1\t1905\t540\t1140\t-\tNC_000012.12\t133275309\t6643541\t6644606\t600\t1065\t60\ttp:A:P\tcm:i:111\ts1:i:527\ts2:i:0\tdv:f:0.0018\trl:i:0\n",
      "sample1\t1905\t1146\t1491\t-\tNC_000012.12\t133275309\t6640059\t6640519\t345\t460\t60\ttp:A:P\tcm:i:57\ts1:i:325\ts2:i:0\tdv:f:0.0034\trl:i:0\n",
      "sample1\t1905\t1573\t1898\t-\tNC_000012.12\t133275309\t6638081\t6638406\t325\t325\t60\ttp:A:P\tcm:i:58\ts1:i:325\ts2:i:0\tdv:f:0.0023\trl:i:0\n",
      "sample1\t1905\t7\t422\t-\tNC_000012.12\t133275309\t6646483\t6647425\t406\t942\t60\ttp:A:P\tcm:i:71\ts1:i:321\ts2:i:0\tdv:f:0.0054\trl:i:0\n",
      "sample1\t1905\t427\t540\t-\tNC_000012.12\t133275309\t6645220\t6645333\t113\t113\t60\ttp:A:P\tcm:i:19\ts1:i:113\ts2:i:0\tdv:f:0.0067\trl:i:0\n",
      "sample1\t1905\t1491\t1577\t-\tNC_000012.12\t133275309\t6638951\t6639037\t86\t86\t60\ttp:A:P\tcm:i:15\ts1:i:86\ts2:i:0\tdv:f:0.0083\trl:i:0\n",
      "sample2\t7990\t4\t7984\t+\tNC_000012.12\t133275309\t4909910\t4918250\t7302\t8351\t60\ttp:A:P\tcm:i:1263\ts1:i:7242\ts2:i:189\tdv:f:0.0108\trl:i:64\n",
      "sample3\t1321\t80\t1313\t-\tNC_000012.12\t133275309\t6650598\t6653395\t1194\t2797\t60\ttp:A:P\tcm:i:220\ts1:i:1082\ts2:i:0\tdv:f:0.0041\trl:i:0\n",
      "sample3\t1321\t7\t78\t-\tNC_000012.12\t133275309\t6663065\t6663136\t71\t71\t52\ttp:A:P\tcm:i:15\ts1:i:71\ts2:i:0\tdv:f:0.0043\trl:i:0\n",
      "sample4\t2759\t1983\t2749\t-\tNC_000012.12\t133275309\t6556880\t6557644\t598\t766\t60\ttp:A:P\tcm:i:81\ts1:i:598\ts2:i:0\tdv:f:0.0411\trl:i:0\n",
      "sample4\t2759\t1421\t1974\t-\tNC_000012.12\t133275309\t6560108\t6561052\t408\t944\t60\ttp:A:P\tcm:i:52\ts1:i:341\ts2:i:0\tdv:f:0.0481\trl:i:0\n",
      "sample4\t2759\t679\t1170\t-\tNC_000012.12\t133275309\t6563084\t6563943\t377\t859\t60\ttp:A:P\tcm:i:53\ts1:i:315\ts2:i:0\tdv:f:0.0323\trl:i:0\n",
      "sample4\t2759\t321\t671\t-\tNC_000012.12\t133275309\t6566105\t6566818\t235\t713\t60\ttp:A:P\tcm:i:31\ts1:i:176\ts2:i:0\tdv:f:0.0514\trl:i:0\n",
      "sample4\t2759\t1175\t1400\t-\tNC_000012.12\t133275309\t6561666\t6561970\t184\t304\t60\ttp:A:P\tcm:i:28\ts1:i:170\ts2:i:0\tdv:f:0.0254\trl:i:0\n",
      "sample4\t2759\t244\t293\t-\tNC_000012.12\t133275309\t6567839\t6567888\t49\t49\t14\ttp:A:P\tcm:i:6\ts1:i:49\ts2:i:0\tdv:f:0.0192\trl:i:0\n",
      "sample1\t1905\t540\t1140\t-\tNC_000012.12\t133275309\t6643541\t6644606\t600\t1065\t60\ttp:A:P\tcm:i:111\ts1:i:527\ts2:i:0\tdv:f:0.0018\trl:i:0\n",
      "sample1\t1905\t1146\t1491\t-\tNC_000012.12\t133275309\t6640059\t6640519\t345\t460\t60\ttp:A:P\tcm:i:57\ts1:i:325\ts2:i:0\tdv:f:0.0034\trl:i:0\n",
      "sample1\t1905\t1573\t1898\t-\tNC_000012.12\t133275309\t6638081\t6638406\t325\t325\t60\ttp:A:P\tcm:i:58\ts1:i:325\ts2:i:0\tdv:f:0.0023\trl:i:0\n",
      "sample1\t1905\t7\t422\t-\tNC_000012.12\t133275309\t6646483\t6647425\t406\t942\t60\ttp:A:P\tcm:i:71\ts1:i:321\ts2:i:0\tdv:f:0.0054\trl:i:0\n",
      "sample1\t1905\t427\t540\t-\tNC_000012.12\t133275309\t6645220\t6645333\t113\t113\t60\ttp:A:P\tcm:i:19\ts1:i:113\ts2:i:0\tdv:f:0.0067\trl:i:0\n",
      "sample1\t1905\t1491\t1577\t-\tNC_000012.12\t133275309\t6638951\t6639037\t86\t86\t60\ttp:A:P\tcm:i:15\ts1:i:86\ts2:i:0\tdv:f:0.0083\trl:i:0\n",
      "sample2\t7990\t4\t7984\t+\tNC_000012.12\t133275309\t4909910\t4918250\t7302\t8351\t60\ttp:A:P\tcm:i:1263\ts1:i:7242\ts2:i:189\tdv:f:0.0108\trl:i:64\n",
      "sample3\t1321\t80\t1313\t-\tNC_000012.12\t133275309\t6650598\t6653395\t1194\t2797\t60\ttp:A:P\tcm:i:220\ts1:i:1082\ts2:i:0\tdv:f:0.0041\trl:i:0\n",
      "sample3\t1321\t7\t78\t-\tNC_000012.12\t133275309\t6663065\t6663136\t71\t71\t52\ttp:A:P\tcm:i:15\ts1:i:71\ts2:i:0\tdv:f:0.0043\trl:i:0\n",
      "sample4\t2759\t1983\t2749\t-\tNC_000012.12\t133275309\t6556880\t6557644\t598\t766\t60\ttp:A:P\tcm:i:81\ts1:i:598\ts2:i:0\tdv:f:0.0411\trl:i:0\n",
      "sample4\t2759\t1421\t1974\t-\tNC_000012.12\t133275309\t6560108\t6561052\t408\t944\t60\ttp:A:P\tcm:i:52\ts1:i:341\ts2:i:0\tdv:f:0.0481\trl:i:0\n",
      "sample4\t2759\t679\t1170\t-\tNC_000012.12\t133275309\t6563084\t6563943\t377\t859\t60\ttp:A:P\tcm:i:53\ts1:i:315\ts2:i:0\tdv:f:0.0323\trl:i:0\n",
      "sample4\t2759\t321\t671\t-\tNC_000012.12\t133275309\t6566105\t6566818\t235\t713\t60\ttp:A:P\tcm:i:31\ts1:i:176\ts2:i:0\tdv:f:0.0514\trl:i:0\n",
      "sample4\t2759\t1175\t1400\t-\tNC_000012.12\t133275309\t6561666\t6561970\t184\t304\t60\ttp:A:P\tcm:i:28\ts1:i:170\ts2:i:0\tdv:f:0.0254\trl:i:0\n",
      "sample4\t2759\t244\t293\t-\tNC_000012.12\t133275309\t6567839\t6567888\t49\t49\t14\ttp:A:P\tcm:i:6\ts1:i:49\ts2:i:0\tdv:f:0.0192\trl:i:0\n",
      "sample1\t1905\t540\t1140\t-\tNC_000012.12\t133275309\t6643541\t6644606\t600\t1065\t60\ttp:A:P\tcm:i:111\ts1:i:527\ts2:i:0\tdv:f:0.0018\trl:i:0\n",
      "sample1\t1905\t1146\t1491\t-\tNC_000012.12\t133275309\t6640059\t6640519\t345\t460\t60\ttp:A:P\tcm:i:57\ts1:i:325\ts2:i:0\tdv:f:0.0034\trl:i:0\n",
      "sample1\t1905\t1573\t1898\t-\tNC_000012.12\t133275309\t6638081\t6638406\t325\t325\t60\ttp:A:P\tcm:i:58\ts1:i:325\ts2:i:0\tdv:f:0.0023\trl:i:0\n",
      "sample1\t1905\t7\t422\t-\tNC_000012.12\t133275309\t6646483\t6647425\t406\t942\t60\ttp:A:P\tcm:i:71\ts1:i:321\ts2:i:0\tdv:f:0.0054\trl:i:0\n",
      "sample1\t1905\t427\t540\t-\tNC_000012.12\t133275309\t6645220\t6645333\t113\t113\t60\ttp:A:P\tcm:i:19\ts1:i:113\ts2:i:0\tdv:f:0.0067\trl:i:0\n",
      "sample1\t1905\t1491\t1577\t-\tNC_000012.12\t133275309\t6638951\t6639037\t86\t86\t60\ttp:A:P\tcm:i:15\ts1:i:86\ts2:i:0\tdv:f:0.0083\trl:i:0\n",
      "sample2\t7990\t4\t7984\t+\tNC_000012.12\t133275309\t4909910\t4918250\t7302\t8351\t60\ttp:A:P\tcm:i:1263\ts1:i:7242\ts2:i:189\tdv:f:0.0108\trl:i:64\n",
      "sample3\t1321\t80\t1313\t-\tNC_000012.12\t133275309\t6650598\t6653395\t1194\t2797\t60\ttp:A:P\tcm:i:220\ts1:i:1082\ts2:i:0\tdv:f:0.0041\trl:i:0\n",
      "sample3\t1321\t7\t78\t-\tNC_000012.12\t133275309\t6663065\t6663136\t71\t71\t52\ttp:A:P\tcm:i:15\ts1:i:71\ts2:i:0\tdv:f:0.0043\trl:i:0\n",
      "sample4\t2759\t1983\t2749\t-\tNC_000012.12\t133275309\t6556880\t6557644\t598\t766\t60\ttp:A:P\tcm:i:81\ts1:i:598\ts2:i:0\tdv:f:0.0411\trl:i:0\n",
      "sample4\t2759\t1421\t1974\t-\tNC_000012.12\t133275309\t6560108\t6561052\t408\t944\t60\ttp:A:P\tcm:i:52\ts1:i:341\ts2:i:0\tdv:f:0.0481\trl:i:0\n",
      "sample4\t2759\t679\t1170\t-\tNC_000012.12\t133275309\t6563084\t6563943\t377\t859\t60\ttp:A:P\tcm:i:53\ts1:i:315\ts2:i:0\tdv:f:0.0323\trl:i:0\n",
      "sample4\t2759\t321\t671\t-\tNC_000012.12\t133275309\t6566105\t6566818\t235\t713\t60\ttp:A:P\tcm:i:31\ts1:i:176\ts2:i:0\tdv:f:0.0514\trl:i:0\n",
      "sample4\t2759\t1175\t1400\t-\tNC_000012.12\t133275309\t6561666\t6561970\t184\t304\t60\ttp:A:P\tcm:i:28\ts1:i:170\ts2:i:0\tdv:f:0.0254\trl:i:0\n",
      "sample4\t2759\t244\t293\t-\tNC_000012.12\t133275309\t6567839\t6567888\t49\t49\t14\ttp:A:P\tcm:i:6\ts1:i:49\ts2:i:0\tdv:f:0.0192\trl:i:0\n",
      "\n"
     ]
    }
   ],
   "source": [
    "proc = subprocess.Popen(cmd, shell=True, stdout=subprocess.PIPE, stderr=subprocess.PIPE)\n",
    "stdout, stderr = proc.communicate()\n",
    "if proc.returncode == 0:\n",
    "    print(stdout.decode('ascii'))\n",
    "else:\n",
    "    print('Fail %s' % stderr)"
   ]
  },
  {
   "cell_type": "markdown",
   "metadata": {},
   "source": [
    "#### 17.3 let's run the same command similar to 17.2 but let's create a dictionary with the following in it: returncode, stdout, stderr"
   ]
  },
  {
   "cell_type": "code",
   "execution_count": 198,
   "metadata": {},
   "outputs": [],
   "source": [
    "proc_dict = {}\n",
    "proc = subprocess.Popen(cmd, shell=True, stdout=subprocess.PIPE, stderr=subprocess.PIPE)\n",
    "stdout, stderr = proc.communicate()\n",
    "proc_dict = {'returncode': proc.returncode, 'stdout': stdout.decode('utf8'), 'stderr': stderr.decode('utf8')}"
   ]
  },
  {
   "cell_type": "markdown",
   "metadata": {},
   "source": [
    "#### 17.4 let's write a function called runcmd, the definition is there for you, fill in the body with the subprocess.Popen similar to 17.3 and return the dictionary. Create a variable called result and set it equal to the runcmd with the minimap2 cmd then pring out the returncode and output from the result.  "
   ]
  },
  {
   "cell_type": "code",
   "execution_count": 199,
   "metadata": {},
   "outputs": [],
   "source": [
    "def runcmd(cmd, stdout=subprocess.PIPE, stderr=subprocess.PIPE):\n",
    "    proc = subprocess.Popen(cmd, shell=True, stdout=stdout, stderr=stderr)\n",
    "    stdout, stderr = proc.communicate()\n",
    "    return {'returncode': proc.returncode, 'stdout': stdout.decode('utf-8'), 'stderr': stderr.decode('utf-8')}"
   ]
  },
  {
   "cell_type": "code",
   "execution_count": 200,
   "metadata": {},
   "outputs": [],
   "source": [
    "result = runcmd(cmd)"
   ]
  },
  {
   "cell_type": "code",
   "execution_count": 201,
   "metadata": {},
   "outputs": [
    {
     "name": "stdout",
     "output_type": "stream",
     "text": [
      "0 \n",
      " ['sample1\\t2759\\t1983\\t2749\\t-\\tNC_000012.12\\t133275309\\t6556880\\t6557644\\t598\\t766\\t60\\ttp:A:P\\tcm:i:81\\ts1:i:598\\ts2:i:0\\tdv:f:0.0411\\trl:i:0', 'sample1\\t2759\\t1421\\t1974\\t-\\tNC_000012.12\\t133275309\\t6560108\\t6561052\\t408\\t944\\t60\\ttp:A:P\\tcm:i:52\\ts1:i:341\\ts2:i:0\\tdv:f:0.0481\\trl:i:0', 'sample1\\t2759\\t679\\t1170\\t-\\tNC_000012.12\\t133275309\\t6563084\\t6563943\\t377\\t859\\t60\\ttp:A:P\\tcm:i:53\\ts1:i:315\\ts2:i:0\\tdv:f:0.0323\\trl:i:0', 'sample1\\t2759\\t321\\t671\\t-\\tNC_000012.12\\t133275309\\t6566105\\t6566818\\t235\\t713\\t60\\ttp:A:P\\tcm:i:31\\ts1:i:176\\ts2:i:0\\tdv:f:0.0514\\trl:i:0', 'sample1\\t2759\\t1175\\t1400\\t-\\tNC_000012.12\\t133275309\\t6561666\\t6561970\\t184\\t304\\t60\\ttp:A:P\\tcm:i:28\\ts1:i:170\\ts2:i:0\\tdv:f:0.0254\\trl:i:0', 'sample1\\t2759\\t244\\t293\\t-\\tNC_000012.12\\t133275309\\t6567839\\t6567888\\t49\\t49\\t14\\ttp:A:P\\tcm:i:6\\ts1:i:49\\ts2:i:0\\tdv:f:0.0192\\trl:i:0', 'sample1\\t2759\\t1983\\t2749\\t-\\tNC_000012.12\\t133275309\\t6556880\\t6557644\\t598\\t766\\t60\\ttp:A:P\\tcm:i:81\\ts1:i:598\\ts2:i:0\\tdv:f:0.0411\\trl:i:0', 'sample1\\t2759\\t1421\\t1974\\t-\\tNC_000012.12\\t133275309\\t6560108\\t6561052\\t408\\t944\\t60\\ttp:A:P\\tcm:i:52\\ts1:i:341\\ts2:i:0\\tdv:f:0.0481\\trl:i:0', 'sample1\\t2759\\t679\\t1170\\t-\\tNC_000012.12\\t133275309\\t6563084\\t6563943\\t377\\t859\\t60\\ttp:A:P\\tcm:i:53\\ts1:i:315\\ts2:i:0\\tdv:f:0.0323\\trl:i:0', 'sample1\\t2759\\t321\\t671\\t-\\tNC_000012.12\\t133275309\\t6566105\\t6566818\\t235\\t713\\t60\\ttp:A:P\\tcm:i:31\\ts1:i:176\\ts2:i:0\\tdv:f:0.0514\\trl:i:0'] \n",
      " [M::mm_idx_gen::6.552*0.85] collected minimizers\n",
      "[M::mm_idx_gen::9.086*1.05] sorted minimizers\n",
      "[M::main::9.086*1.05] loaded/built the index for 1 target sequence(s)\n",
      "[M::mm_mapopt_update::9.378*1.05] mid_occ = 188\n",
      "[M::mm_idx_stat] kmer size: 15; skip: 10; is_hpc: 0; #seq: 1\n",
      "[M::mm_idx_stat::9.633*1.05] distinct minimizers: 15811443 (80.14% are singletons); average occurrences: 1.587; average spacing: 5.312\n",
      "[M::worker_pipeline::9.651*1.05] mapped 18 sequences\n",
      "[M::main] Version: 2.17-r941\n",
      "[M::main] CMD: ./minimap2 data/chr12/chr12.fa data/chr12/annotated-samples.fa\n",
      "[M::main] Real time: 9.733 sec; CPU: 10.170 sec; Peak RSS: 1.035 GB\n",
      "\n"
     ]
    }
   ],
   "source": [
    "print(result['returncode'], \"\\n\", result['stdout'].split(\"\\n\")[:10], \"\\n\", result['stderr'])"
   ]
  },
  {
   "cell_type": "markdown",
   "metadata": {
    "toc-hr-collapsed": true
   },
   "source": [
    "# 18. parallel execution with a multiprocessing pool"
   ]
  },
  {
   "cell_type": "markdown",
   "metadata": {
    "toc-hr-collapsed": true
   },
   "source": [
    "Python cannot do real, parallel multithreading due to the [GIL](https://realpython.com/python-gil/).  The multiprocessing module simulates a threading library, but uses forked processes."
   ]
  },
  {
   "cell_type": "markdown",
   "metadata": {
    "toc-hr-collapsed": true
   },
   "source": [
    "#### A multiprocessing Pool allows you to manage parallel processes easily"
   ]
  },
  {
   "cell_type": "markdown",
   "metadata": {},
   "source": [
    "A multiprocessing Pool is an object that allows you to launch, manage, and retrieve results from a set of forked processes."
   ]
  },
  {
   "cell_type": "markdown",
   "metadata": {
    "toc-hr-collapsed": true
   },
   "source": [
    "#### The _map_ function applies a set of values to a single argument function.  This is a useful way to do a \"parameter sweep\" type of execution."
   ]
  },
  {
   "cell_type": "markdown",
   "metadata": {},
   "source": [
    "```python\n",
    "from multiprocessing import Pool\n",
    "import os\n",
    "\n",
    "def echo(echoable):\n",
    "    os.system('echo %s && sleep 10' % echoable)\n",
    "    \n",
    "echoables = [\n",
    "    'ajk',\n",
    "    '123',\n",
    "    'qwerty',\n",
    "    'uiop',\n",
    "    'lkjdsa',\n",
    "]\n",
    "\n",
    "numprocs = 3\n",
    "pool = Pool(numprocs)\n",
    "result = pool.map(echo,echoables)\n",
    "```\n",
    "\n",
    "_123_ <br/>\n",
    "_ajk_ <br/>\n",
    "_qwerty_ <br/>\n",
    "_lkjdsa_ <br/>\n",
    "_uiop_ <br/>\n"
   ]
  },
  {
   "cell_type": "markdown",
   "metadata": {},
   "source": [
    "Let's try something in serial then commpare with the parallel"
   ]
  },
  {
   "cell_type": "code",
   "execution_count": 202,
   "metadata": {},
   "outputs": [
    {
     "name": "stdout",
     "output_type": "stream",
     "text": [
      "Howa was greeted\n",
      "Sidney was greeted\n",
      "Maria was greeted\n",
      "folks was greeted\n",
      "20 seconds elapsed\n"
     ]
    }
   ],
   "source": [
    "def greet(name, message):\n",
    "    os.system('echo \"Hi %s, %s\" && sleep 5' % (name,message))\n",
    "    return '%s was greeted' % name\n",
    "\n",
    "greetings = [\n",
    "    ('Howa', \"What's up?\"),\n",
    "    ('Sidney', \"How are you?\"),\n",
    "    ('Maria', \"What're you thinking?\"),\n",
    "    ('folks', 'Sup!'),\n",
    "]\n",
    "import time\n",
    "starttime = time.time()\n",
    "for greeting in greetings:\n",
    "    print(greet(greeting[0], greeting[1]))\n",
    "elapsed = time.time() - starttime\n",
    "print('%d seconds elapsed' % elapsed)"
   ]
  },
  {
   "cell_type": "markdown",
   "metadata": {
    "toc-hr-collapsed": true
   },
   "source": [
    "#### The _apply_async_ function allows you to apply many arguments and returns a 'handle' for interacting with the process."
   ]
  },
  {
   "cell_type": "markdown",
   "metadata": {},
   "source": [
    "In order for this to work in parallel, you'll need to collect the result handles in a list"
   ]
  },
  {
   "cell_type": "markdown",
   "metadata": {},
   "source": [
    "note that apply_async takes a function and then a list of function arguments"
   ]
  },
  {
   "cell_type": "code",
   "execution_count": 203,
   "metadata": {},
   "outputs": [
    {
     "name": "stdout",
     "output_type": "stream",
     "text": [
      "Howa was greeted\n",
      "Sidney was greeted\n",
      "Maria was greeted\n",
      "folks was greeted\n",
      "10 seconds elapsed\n"
     ]
    }
   ],
   "source": [
    "from multiprocessing import Pool\n",
    "import os\n",
    "numprocs = 3\n",
    "pool = Pool(numprocs)\n",
    "results = []\n",
    "\n",
    "starttime = time.time()\n",
    "for greeting in greetings:\n",
    "    result = pool.apply_async(greet, greeting)\n",
    "    results.append(result)\n",
    "\n",
    "for result in results:\n",
    "    print(result.get())\n",
    "elapsed = time.time() - starttime\n",
    "print('%d seconds elapsed' % elapsed)"
   ]
  },
  {
   "cell_type": "markdown",
   "metadata": {
    "toc-hr-collapsed": true
   },
   "source": [
    "# Exercise 18. Run several minimap2 processes in parallel"
   ]
  },
  {
   "cell_type": "markdown",
   "metadata": {},
   "source": [
    "#### 18.1 Create a function that runs minimap2 and return the result"
   ]
  },
  {
   "cell_type": "code",
   "execution_count": 204,
   "metadata": {},
   "outputs": [],
   "source": [
    "def minimap2(target_file, query_file):\n",
    "    cmd = './minimap2 {} {}'.format(target_file, query_file)\n",
    "    return runcmd(cmd)"
   ]
  },
  {
   "cell_type": "markdown",
   "metadata": {},
   "source": [
    "#### 18.2 use the following function arguments and set up a multiprocessing pool with 2 processes then add these queries to the pool with apply_async, don't forget to create a list from [target, query] when you pass it to apply_async because the function arguments must be a list"
   ]
  },
  {
   "cell_type": "code",
   "execution_count": 265,
   "metadata": {},
   "outputs": [],
   "source": [
    "queries = [\n",
    "    'data/chr12/annotated-samples.fa',\n",
    "    'data/chr12/mouse.fa',\n",
    "    'data/chr12/zebrafish.fa',\n",
    "]\n",
    "target = 'data/chr12/chr12.fa.gz'"
   ]
  },
  {
   "cell_type": "code",
   "execution_count": 270,
   "metadata": {},
   "outputs": [
    {
     "name": "stdout",
     "output_type": "stream",
     "text": [
      "Finished applying to Pool\n",
      "Killed\n",
      "\n",
      "[M::mm_idx_gen::46.583*0.19] collected minimizers\n",
      "[M::mm_idx_gen::49.753*0.25] sorted minimizers\n",
      "[M::main::49.753*0.25] loaded/built the index for 1 target sequence(s)\n",
      "[M::mm_mapopt_update::50.150*0.25] mid_occ = 188\n",
      "[M::mm_idx_stat] kmer size: 15; skip: 10; is_hpc: 0; #seq: 1\n",
      "[M::mm_idx_stat::50.422*0.26] distinct minimizers: 15811443 (80.14% are singletons); average occurrences: 1.587; average spacing: 5.312\n",
      "[M::worker_pipeline::50.444*0.26] mapped 4 sequences\n",
      "[M::main] Version: 2.17-r941\n",
      "[M::main] CMD: ./minimap2 data/chr12/chr12.fa.gz data/chr12/mouse.fa\n",
      "[M::main] Real time: 50.617 sec; CPU: 13.030 sec; Peak RSS: 1.082 GB\n",
      "\n",
      "[M::mm_idx_gen::9.031*0.81] collected minimizers\n",
      "[M::mm_idx_gen::10.697*0.90] sorted minimizers\n",
      "[M::main::10.697*0.90] loaded/built the index for 1 target sequence(s)\n",
      "[M::mm_mapopt_update::11.025*0.90] mid_occ = 188\n",
      "[M::mm_idx_stat] kmer size: 15; skip: 10; is_hpc: 0; #seq: 1\n",
      "[M::mm_idx_stat::11.256*0.90] distinct minimizers: 15811443 (80.14% are singletons); average occurrences: 1.587; average spacing: 5.312\n",
      "[M::worker_pipeline::11.267*0.90] mapped 1 sequences\n",
      "[M::main] Version: 2.17-r941\n",
      "[M::main] CMD: ./minimap2 data/chr12/chr12.fa.gz data/chr12/zebrafish.fa\n",
      "[M::main] Real time: 11.334 sec; CPU: 10.200 sec; Peak RSS: 1.111 GB\n",
      "\n",
      "56 seconds elapsed\n"
     ]
    }
   ],
   "source": [
    "from multiprocessing import Pool\n",
    "\n",
    "numprocs = 2\n",
    "pool = Pool(numprocs)\n",
    "results = []\n",
    "starttime = time.time()\n",
    "for query in queries:\n",
    "    result = pool.apply_async(minimap2, [target, query])\n",
    "    results.append(result)\n",
    "\n",
    "print('Finished applying to Pool')\n",
    "\n",
    "for result in results:\n",
    "    output = result.get()\n",
    "    print(output['stderr'])\n",
    "elapsed = time.time() - starttime\n",
    "print('%d seconds elapsed' % elapsed)"
   ]
  },
  {
   "cell_type": "markdown",
   "metadata": {
    "toc-hr-collapsed": true
   },
   "source": [
    "# 19. Regular Expressions "
   ]
  },
  {
   "cell_type": "markdown",
   "metadata": {},
   "source": [
    "Python has a full-featured, Perl-ish regular expression syntax provided by the _re_ module"
   ]
  },
  {
   "cell_type": "markdown",
   "metadata": {},
   "source": [
    "First, a simple search for DNA-ness in each of the fasta record sequences."
   ]
  },
  {
   "cell_type": "markdown",
   "metadata": {},
   "source": [
    "Using _re.search_ looks for at least one instance of the pattern"
   ]
  },
  {
   "cell_type": "code",
   "execution_count": 207,
   "metadata": {},
   "outputs": [],
   "source": [
    "import re"
   ]
  },
  {
   "cell_type": "code",
   "execution_count": 247,
   "metadata": {},
   "outputs": [],
   "source": [
    "seq = 'ATGGGGCGCAAATTGGACCCTACAAAGAAGGAGAAGCGGGGGCCAGGCCGAAAGGCCCGGAAGCAGAAGGGTGCCGAGACAGAACTCGCCAGATTCTTGCCTGCAGTAAGTGACGAAAATTCCAAGAGGCTGTCTAGTCGTGCTCGAAAGAGGGCAGCCAAGAGGAGGCTGGGTTCTGCTGAAGTCCCTAAGACAAATAAGTCCCCTGAGGCCAAACCATTGCCTGGAAAGCTACCAAAAGGAGCTGTCCAGACAGCTGGTAAGAAGGGACCCCAGTCCCTATTTAATGCTGCTCAAGGCAAGAAGCGCCCAGCACCTAGCAGTGATGAGGAAGAGGAGGAGGAAGACTCTGAAGAAGATGATGTGGTGAACCAGGGGGACCTCTGGGGCTCCGAGGATGATGCTGATATGGTAGATGACTATGGAGCTGACTCCAACTCTGAGGATGAGGAGGAAGGTGAAGAGCTGCTGCCCATTGAAAGAGCTGCTCGGAAGCAGAAGGTCCGGGAAGCTGCTGCTGGGGTCCAGTGGAGTGAAGAGGAGACGGAGGATGAGGAGGAAGAAGTGACCCCTGAGTCCGGCCCCTCAAAGGAGGAGGAGGCAGATGGGGGCCTGCAGATCAATGTGGATGAGGAACCATTTGTGCTGCCCCCTGCCGGGGAGATGGAGCAGGATGCCCAGGCTCCAGACCTGCAACGAGTTCACAAGCGGATCCAGGATATCGTGGGAATTCTGCGTGATTTTGGGGCTCAGCGGGAGGAAGGGCGGTCTCGTTCTGAATACCTGAACCGGCTCAAGAAGGATCTGGCCACTTACTACTCCTATGGAGACTTCCTGCTTGGCAAGCTCATGGACCTCTTCCCTCTGTCTGAGCTGGTGGAGTTCTTAGAAGCTAATGAGGTGCCTCGGCCCGTCACCCTCCGGACCAATACCTTGAAAACCCGACGCCGAGACCTTGCCCAGGCTCTAATCAATCGTGGGGTTAATCTGGATCCCCTGGGCAAGTGGTCAAAGACTGGACTAGTGGTATATGATTCTTCTGTGCCCATTGGTGCCACCCCCGAGTACCTGGCTGGGCACTACATGCTGCAGGGAGCCTCCAGCATGCTGCCCGTCATGGCCTTGGCACCCCAGGAACATGAGCGGATCCTGGACATGTGTTGTGCCCCTGGAGGAAAGACCAGCTACATGGCCCAGTTGATGAAGAATACGGGTGTGATCCTTGCCAATGACGCCAATGCTGAGCGGCTTAAGAGTGTTGTGGGCAACTTGCACCGGCTGGGAGTCACCAACACCGTTATCAGTCACTATGATGGGCGCCAGTTCCCCAAGGTGGTGGGGGGCTTTGACCGAGTGCTGCTGGATGCTCCCTGCAGTGGCACTGGGGTCATCTCCAAGGACCCAACCGTGAAGACTAACAAGGATGAGAAGGACATCCTGCGCTGTGCTCACCTCCAGAAGGAGTTGCTTCTGAGTGCTATTGACTCTGTGAATGCCACCTCCAAGACAGGAGGCTACCTTGTTTACTGCACCTGTTCTATCATGGTGGAAGAGAATGAGTGGGTGGTAGACTATGCTCTGAAAAAGAGGAATGTGCGACTGGTGCCCACAGGCCTAGACTTTGGCCAGGAGGGTTTTACCCGCTTTCGAGAAAGGCGCTTCCACCCCAGTCTGCGTTCTGCCCGACGCTTCTACCCTCATACCCACAATATGGATGGGTTCTTCATTGCCAAGTTCAAGAAATTCTCCAATTCTATCCCTCAGTCCGAGACAGGAAATTCTGAAACAGCCACACCTAAAAATGTAGACTTGCCTCAGGTCATCCCCAAGTCTGAGAACAGCAGCCAGCCAGCCAAAAAGGCCAAGGGGGCTGCAAAGACAAAGCAGCAGCTGCAGAAACAGCAACGTCCCAAGAAGGCCTCCTTCCAGAAGCCGAATGGCACCTCTAAAGGGGCAGACTCAGAATTGTCCACTGTACCTTCTGTCAGAAAGACCCAAGCTTCCTCCAGGTGCCAGGATAGCAGTCAGCCAGCTGGAAAAGCCGAAGGGATCAGGGAGTCCAAGGTGACTGGGAAGCTAAAGCAACGATCGCCTAAATTACAGTCCTCCAAGAAAGTTGCCTTCCTCAAGCAGAATGCCCCTCCCAAGGGCACAGACACAGAAACACCGGCTGTGTTATCCCCATCCAAGACTCAGGCCACCCTGAAACCTAAGGACCATCATCACCCCCTTGGAAGGGCCAAGGGGGTTGAGAAGCAGCAGTTGCCAGAGCAGCCTTTCAAGAAAGCTGCCTTCCAGAAACAGAATGACACCCCCAAGGGGCCTCAGCCTCCGACTGTGTCTCCCATCAGTTCCAGCCGCCCCCCACCAGCAAAGAGGAAGAAATCTCAGTCCAGGGGCAATGGCCAGCTGCTCCTGTCTTAGATGGTTGAAAACTAGACTGGGGTGGCTCACTGCCATTGTCACCGGGTTGGAACTCTTGCCTCTATGAGGATGCCTTCTCCACTGTGCATACCCATGAAATTTAATATATATATATATATATTATATATATATATATTAATATTATATAT'"
   ]
  },
  {
   "cell_type": "code",
   "execution_count": 209,
   "metadata": {},
   "outputs": [
    {
     "name": "stdout",
     "output_type": "stream",
     "text": [
      "found A\n"
     ]
    }
   ],
   "source": [
    "if re.search(r'A', seq):\n",
    "    print('found A')"
   ]
  },
  {
   "cell_type": "code",
   "execution_count": 210,
   "metadata": {},
   "outputs": [
    {
     "name": "stdout",
     "output_type": "stream",
     "text": [
      "did not find U\n"
     ]
    }
   ],
   "source": [
    "if re.search(r'U', seq):\n",
    "    print('found U')\n",
    "else:\n",
    "    print('did not find U')"
   ]
  },
  {
   "cell_type": "markdown",
   "metadata": {},
   "source": [
    "You can search for multiple character patterns, like 'A' followed by 'T'"
   ]
  },
  {
   "cell_type": "code",
   "execution_count": 211,
   "metadata": {},
   "outputs": [
    {
     "name": "stdout",
     "output_type": "stream",
     "text": [
      "found AT\n"
     ]
    }
   ],
   "source": [
    "if re.search(r'AT', seq):\n",
    "    print('found AT')"
   ]
  },
  {
   "cell_type": "markdown",
   "metadata": {},
   "source": [
    "There are special quantifiers '+' (one or more) and '*' (zero or more)"
   ]
  },
  {
   "cell_type": "code",
   "execution_count": 212,
   "metadata": {},
   "outputs": [
    {
     "name": "stdout",
     "output_type": "stream",
     "text": [
      "found A followed by one or more T\n"
     ]
    }
   ],
   "source": [
    "if re.search(r'AT+', seq):\n",
    "    print('found A followed by one or more T')"
   ]
  },
  {
   "cell_type": "markdown",
   "metadata": {},
   "source": [
    "the . can be any character"
   ]
  },
  {
   "cell_type": "code",
   "execution_count": 213,
   "metadata": {},
   "outputs": [
    {
     "name": "stdout",
     "output_type": "stream",
     "text": [
      "found ATG, start codon followd by one or more char\n"
     ]
    }
   ],
   "source": [
    "if re.search(r'ATG.+', seq):\n",
    "    print('found ATG, start codon followd by one or more char')"
   ]
  },
  {
   "cell_type": "markdown",
   "metadata": {},
   "source": [
    "You can also search for character sets, e.g. one of A,T,C, or G, using square brackets []."
   ]
  },
  {
   "cell_type": "code",
   "execution_count": 214,
   "metadata": {},
   "outputs": [
    {
     "name": "stdout",
     "output_type": "stream",
     "text": [
      "found A or T or C or G\n"
     ]
    }
   ],
   "source": [
    "if re.search(r'[ATCG]', seq):\n",
    "    print('found A or T or C or G')"
   ]
  },
  {
   "cell_type": "markdown",
   "metadata": {},
   "source": [
    "use | as or to look for one ore another group of characters"
   ]
  },
  {
   "cell_type": "code",
   "execution_count": 215,
   "metadata": {},
   "outputs": [
    {
     "name": "stdout",
     "output_type": "stream",
     "text": [
      "found a stop codon\n"
     ]
    }
   ],
   "source": [
    "if re.search(r'TAG|TAA|TGA', seq):\n",
    "    print('found a stop codon')"
   ]
  },
  {
   "cell_type": "code",
   "execution_count": 216,
   "metadata": {},
   "outputs": [
    {
     "name": "stdout",
     "output_type": "stream",
     "text": [
      "Found a transcript looking thing ATGGGGCGCAAATTGGACCCTACAAAGAAGGAGAAGCGGGGGCCAGGCCGAAAGGCCCGGAAGCAGAAGGGTGCCGAGACAGAACTCGCCAGATTCTTGCCTGCAGTAAGTGACGAAAATTCCAAGAGGCTGTCTAGTCGTGCTCGAAAGAGGGCAGCCAAGAGGAGGCTGGGTTCTGCTGAAGTCCCTAAGACAAATAAGTCCCCTGAGGCCAAACCATTGCCTGGAAAGCTACCAAAAGGAGCTGTCCAGACAGCTGGTAAGAAGGGACCCCAGTCCCTATTTAATGCTGCTCAAGGCAAGAAGCGCCCAGCACCTAGCAGTGATGAGGAAGAGGAGGAGGAAGACTCTGAAGAAGATGATGTGGTGAACCAGGGGGACCTCTGGGGCTCCGAGGATGATGCTGATATGGTAGATGACTATGGAGCTGACTCCAACTCTGAGGATGAGGAGGAAGGTGAAGAGCTGCTGCCCATTGAAAGAGCTGCTCGGAAGCAGAAGGTCCGGGAAGCTGCTGCTGGGGTCCAGTGGAGTGAAGAGGAGACGGAGGATGAGGAGGAAGAAGTGACCCCTGAGTCCGGCCCCTCAAAGGAGGAGGAGGCAGATGGGGGCCTGCAGATCAATGTGGATGAGGAACCATTTGTGCTGCCCCCTGCCGGGGAGATGGAGCAGGATGCCCAGGCTCCAGACCTGCAACGAGTTCACAAGCGGATCCAGGATATCGTGGGAATTCTGCGTGATTTTGGGGCTCAGCGGGAGGAAGGGCGGTCTCGTTCTGAATACCTGAACCGGCTCAAGAAGGATCTGGCCACTTACTACTCCTATGGAGACTTCCTGCTTGGCAAGCTCATGGACCTCTTCCCTCTGTCTGAGCTGGTGGAGTTCTTAGAAGCTAATGAGGTGCCTCGGCCCGTCACCCTCCGGACCAATACCTTGAAAACCCGACGCCGAGACCTTGCCCAGGCTCTAATCAATCGTGGGGTTAATCTGGATCCCCTGGGCAAGTGGTCAAAGACTGGACTAGTGGTATATGATTCTTCTGTGCCCATTGGTGCCACCCCCGAGTACCTGGCTGGGCACTACATGCTGCAGGGAGCCTCCAGCATGCTGCCCGTCATGGCCTTGGCACCCCAGGAACATGAGCGGATCCTGGACATGTGTTGTGCCCCTGGAGGAAAGACCAGCTACATGGCCCAGTTGATGAAGAATACGGGTGTGATCCTTGCCAATGACGCCAATGCTGAGCGGCTTAAGAGTGTTGTGGGCAACTTGCACCGGCTGGGAGTCACCAACACCGTTATCAGTCACTATGATGGGCGCCAGTTCCCCAAGGTGGTGGGGGGCTTTGACCGAGTGCTGCTGGATGCTCCCTGCAGTGGCACTGGGGTCATCTCCAAGGACCCAACCGTGAAGACTAACAAGGATGAGAAGGACATCCTGCGCTGTGCTCACCTCCAGAAGGAGTTGCTTCTGAGTGCTATTGACTCTGTGAATGCCACCTCCAAGACAGGAGGCTACCTTGTTTACTGCACCTGTTCTATCATGGTGGAAGAGAATGAGTGGGTGGTAGACTATGCTCTGAAAAAGAGGAATGTGCGACTGGTGCCCACAGGCCTAGACTTTGGCCAGGAGGGTTTTACCCGCTTTCGAGAAAGGCGCTTCCACCCCAGTCTGCGTTCTGCCCGACGCTTCTACCCTCATACCCACAATATGGATGGGTTCTTCATTGCCAAGTTCAAGAAATTCTCCAATTCTATCCCTCAGTCCGAGACAGGAAATTCTGAAACAGCCACACCTAAAAATGTAGACTTGCCTCAGGTCATCCCCAAGTCTGAGAACAGCAGCCAGCCAGCCAAAAAGGCCAAGGGGGCTGCAAAGACAAAGCAGCAGCTGCAGAAACAGCAACGTCCCAAGAAGGCCTCCTTCCAGAAGCCGAATGGCACCTCTAAAGGGGCAGACTCAGAATTGTCCACTGTACCTTCTGTCAGAAAGACCCAAGCTTCCTCCAGGTGCCAGGATAGCAGTCAGCCAGCTGGAAAAGCCGAAGGGATCAGGGAGTCCAAGGTGACTGGGAAGCTAAAGCAACGATCGCCTAAATTACAGTCCTCCAAGAAAGTTGCCTTCCTCAAGCAGAATGCCCCTCCCAAGGGCACAGACACAGAAACACCGGCTGTGTTATCCCCATCCAAGACTCAGGCCACCCTGAAACCTAAGGACCATCATCACCCCCTTGGAAGGGCCAAGGGGGTTGAGAAGCAGCAGTTGCCAGAGCAGCCTTTCAAGAAAGCTGCCTTCCAGAAACAGAATGACACCCCCAAGGGGCCTCAGCCTCCGACTGTGTCTCCCATCAGTTCCAGCCGCCCCCCACCAGCAAAGAGGAAGAAATCTCAGTCCAGGGGCAATGGCCAGCTGCTCCTGTCTTAGATGGTTGAAAACTAG\n"
     ]
    }
   ],
   "source": [
    "match = re.search(r'(ATG.+TAG|TAA|TGA)', seq)\n",
    "if match:\n",
    "    print('Found a transcript looking thing %s' % match.group(1))"
   ]
  },
  {
   "cell_type": "markdown",
   "metadata": {},
   "source": [
    "The _split()_ function allows you to break a string based on a regular expression."
   ]
  },
  {
   "cell_type": "markdown",
   "metadata": {},
   "source": [
    "Find potential genes by splitting chr12 on stop codons followed by a lot of T"
   ]
  },
  {
   "cell_type": "code",
   "execution_count": 272,
   "metadata": {},
   "outputs": [],
   "source": [
    "os.system('gzip -k -d data/chr12/chr12.fa.gz')\n",
    "chr12 = []\n",
    "with open('data/chr12/chr12.fa', 'r') as fileh:\n",
    "    for line in fileh:\n",
    "        if not line.startswith('>'):\n",
    "            chr12.append(line.strip())"
   ]
  },
  {
   "cell_type": "code",
   "execution_count": 269,
   "metadata": {},
   "outputs": [
    {
     "data": {
      "text/plain": [
       "1903934"
      ]
     },
     "execution_count": 269,
     "metadata": {},
     "output_type": "execute_result"
    }
   ],
   "source": [
    "len(chr12)"
   ]
  },
  {
   "cell_type": "code",
   "execution_count": 244,
   "metadata": {},
   "outputs": [],
   "source": [
    "chr12 = ''.join(chr12)"
   ]
  },
  {
   "cell_type": "code",
   "execution_count": 245,
   "metadata": {},
   "outputs": [],
   "source": [
    "coding = re.split(r'(T[GA][GA]T{20,})', chr12)"
   ]
  },
  {
   "cell_type": "code",
   "execution_count": 246,
   "metadata": {},
   "outputs": [
    {
     "data": {
      "text/plain": [
       "885"
      ]
     },
     "execution_count": 246,
     "metadata": {},
     "output_type": "execute_result"
    }
   ],
   "source": [
    "len(coding)"
   ]
  },
  {
   "cell_type": "markdown",
   "metadata": {},
   "source": [
    "## Exercise 19"
   ]
  },
  {
   "cell_type": "markdown",
   "metadata": {},
   "source": [
    "#### 19.1 loop through fasta_records and print out the key for any record that contains a start codon, since the dictionary value of fasta_records is a list, join it to a string using empty string as the joiner."
   ]
  },
  {
   "cell_type": "code",
   "execution_count": 233,
   "metadata": {},
   "outputs": [
    {
     "name": "stdout",
     "output_type": "stream",
     "text": [
      "Found at least one start codeon in FASTA record >sample1\n",
      "Found at least one start codeon in FASTA record >sample2\n",
      "Found at least one start codeon in FASTA record >sample3\n",
      "Found at least one start codeon in FASTA record >sample4\n"
     ]
    }
   ],
   "source": [
    "for key, fasta_record in fasta_records.items():\n",
    "    if re.search(r'ATG', ''.join(fasta_record)):\n",
    "        print('Found at least one start codeon in FASTA record %s' % key)\n",
    "        "
   ]
  },
  {
   "cell_type": "markdown",
   "metadata": {},
   "source": [
    "#### 19.2 loop through fasta_records and print out any potential transcripts"
   ]
  },
  {
   "cell_type": "code",
   "execution_count": 240,
   "metadata": {},
   "outputs": [
    {
     "name": "stdout",
     "output_type": "stream",
     "text": [
      "Found a possible transccipt >sample1: ATGAGGAAGCCAGCCGCTGGCTTCCTTCCCTCACTCCTGAAGGTGCTGCTCCTGCCTCTGGCACCTGCCGCAGCCCAGGATTCGACTCAGGCCTCCACTCCAGGCAGCCCTCTCTCTCCTACCGAATACGAACGCTTCTTCGCACTGCTGACTCCAACCTGGAAGGCAGAGACTACCTGCCGTCTCCGTGCAACCCACGGCTGCCGGAATCCCACACTCGTCCAGCTGGACCAATATGAAAACCACGGCTTAGTGCCCGATGGTGCTGTCTGCTCCAACCTCCCTTATGCCTCCTGGTTTGAGTCTTTCTGCCAGTTCACTCACTACCGTTGCTCCAACCACGTCTACTATGCCAAGAGAGTCCTGTGTTCCCAGCCAGTCTCTATTCTCTCACCTAACACTCTCAAGGAGATAGAAGCTTCAGCTGAAGTCTCACCCACCACGATGACCTCCCCCATCTCACCCCACTTCACAGTGACAGAACGCCAGACCTTCCAGCCCTGGCCTGAGAGGCTCAGCAACAACGTGGAAGAGCTCCTACAATCCTCCTTGTCCCTGGGAGGCCAGGAGCAAGCGCCAGAGCACAAGCAGGAGCAAGGAGTGGAGCACAGGCAGGAGCCGACACAAGAACACAAGCAGGAAGAGGGGCAGAAACAGGAAGAGCAAGAAGAGGAACAGGAAGAGGAGGGAAAGCAGGAAGAAGGACAGGGGACTAAGGAGGGACGGGAGGCTGTGTCTCAGCTGCAGACAGACTCAGAGCCCAAGTTTCACTCTGAATCTCTATCTTCTAACCCTTCCTCTTTTGCTCCCCGGGTACGAGAAGTAGAGTCTACTCCTATGATAATGGAGAACATCCAGGAGCTCATTCGATCAGCCCAGGAAATAGATGAAATGAATGAAATATATGATGAGAACTCCTACTGGAGAAACCAAAACCCTGGCAGCCTCCTGCAGCTGCCCCACACAGAGGCCTTGCTGGTGCTGTGCTATTCGATCGTGGAGAATACCTGCATCATAACCCCCACAGCCAAGGCCTGGAAGTACATGGAGGAGGAGATCCTTGGTTTCGGGAAGTCGGTCTGTGACAGCCTTGGGCGGCGACACATGTCTACCTGTGCCCTCTGTGACTTCTGCTCCTTGAAGCTGGAGCAGTGCCACTCAGAGGCCAGCCTGCAGCGGCAACAATGCGACACCTCCCACAAGACTCCCTTTGTCAGCCCCTTGCTTGCCTCCCAGAGCCTGTCCATCGGCAACCAGGTAGGGTCCCCAGAATCAGGCCGCTTTTACGGGCTGGATTTGTACGGTGGGCTCCACATGGACTTCTGGTGTGCCCGGCTTGCCACGAAAGGCTGTGAAGATGTCCGAGTCTCTGGGTGGCTCCAGACTGAGTTCCTTAGCTTCCAGGATGGGGATTTCCCTACCAAGATTTGTGACACAGACTATATCCAGTACCCAAACTACTGTTCCTTCAAAAGCCAGCAGTGTCTGATGAGAAACCGCAATCGGAAGGTGTCCCGCATGAGATGTCTGCAGAATGAGACTTACAGTGCGCTGAGCCCTGGCAAAAGTGAGGACGTTGTGCTTCGATGGAGCCAGGAGTTCAGCACCTTGACTCTAGGCCAGTTCGGATGAGCTGGCGTCTATTCTGCCCACACCCCAGCCCAACCTGCCCACGTTCTCTATTGTTTTGAGACCCCATTGCTTTCAGGCTGCCCCTTCTGGGTCTGTTACTCGGCCCCTACTCACATTTCCTTGGGTTGGAGCAACAGTCCCAGAGAGGGCCACGGTGGGAGCTGCGCCCTCCTTAAAAGATGACTTTACATAAAATGTTGA\n",
      "Found a possible transccipt >sample2: ATGGACCGAGCGGACCCGCCGCCGCACGCACCCTGCTCCACTCCAAGCTCCTAAGGGCTCCTGGCGCGCCGCGTAGCCTTGGCGAGGTCCGCGCTGGGGTGCGGAGAGCGAAGGGAACTGGAGAGCCATGTAGATCCAGGCTCTTGCCCGCCCGCCTCCTTCGGGATCGAATCAAGGGCTCCCATAGTGTTAGGAGGGGGCGAGAGTGCTGTTTATCGTCATTTGCCTCGGAGCTTCGAGAAAGGGTGGTATTTTGCTTTTCCGCCCCGCATCCTCCGGAACTCCCTGCACCGGAGAGAGGACGGCGTCTCCAGGTTGCTGGCAACCGGTGAGAATGGGGGTAGGGAATGAACATTTTCGCCGTAGCTGCTCGGTAAAGCGATTGTCCAACTGAGAGGGGCGTCGGACGAGTGGACCAGGGCGGCGAGTTTGCCCGGCGCGTCTCGGATGCTGCTGCGGCGGCCGCCGCGGCTCCCGCCAGGGCACTGCAAAGGCGACCTGCCGCATTCCCACTCGGGCTCTCCGCCGACTCAGCACCGCCCCTGCGCCAAGCCAGCCGGCCAGCGTGCATCGATCGCCCTGGTGGGAGCTTAGAAGGCGGCAGGCGAAGAGGGGTAGGAGGGGGGAGAGCCGAGGAGAAGCAGAGAGGGTGGCAGGCGTGGGGATCTGCTGAGCCGGCACTGCACCGGGTCCTAGGAAGGCTCTCGGAGGGGAGGGGAGGCCAGGGCGACCCCCGAAGCAATGGCCCAGTCCGCTAGAACGGCACTGCGTTAAGGCACCTGGGATCAGGAAGAAATTTATAAACAACAACAACAACAAAATCCAACAAACCCCCAAACCCAAACGCAACCCTCTGCAAAAAGCTGCACCCGGCCCGCAGGCAAGGGGGATTCCAAATTGAGTAAAAGGCAGGGTGGAGGGGAAGGCCGCGAGAGGCAAAGTCGCAGATCTCCCGACCTGCTCGTTTTGAAGCACCTCCCCCTGGGCGTGAGGGAGACGCGCGCTCCGGTGGGGGGGCCGCTTGGGTCCCCCCCACCCCTGGTCCCTGGCTGTTTCCCACCCCGGGCTCTCTCCTGGCCTCCCACCCCCGCGCCCGGCTTCCACCATGACGGTGATGTCTGGGGAGAACGTGGACGAGGCTTCGGCCGCCCCGGGCCACCCCCAGGATGGCAGCTACCCCCGGCAGGCCGACCACGACGACCACGAGTGCTGCGAGCGCGTGGTGATCAACATCTCCGGGCTGCGCTTCGAGACGCAGCTCAAGACGCTGGCGCAGTTCCCCAACACGCTGCTGGGCAACCCTAAGAAACGCATGCGCTACTTCGACCCCCTGAGGAACGAGTACTTCTTTGACCGCAACCGGCCCAGCTTCGACGCCATCCTCTACTACTACCAGTCCGGCGGCCGCCTGCGGAGGCCGGTCAACGTGCCCCTGGACATGTTCTCCGAGGAGATCAAGTTTTACGAGTTGGGCGAGGAGGCCATGGAGAAGTTCCGGGAGGACGAGGGCTTCATCAAGGAGGAGGAGCGCCCCCTACCGGAGAAGGAGTACCAGCGCCAGGTGTGGCTGCTCTTCGAGTACCCCGAGAGCTCGGGGCCCGCCAGGGTCATCGCCATCGTCTCCGTCATGGTCATCCTCATCTCCATCGTCATCTTTTGCCTGGAGACGCTCCCCGAACTGAAGGATGACAAGGACTTCACGGGCACCGTCCACCGCATCGACAACACCACGGTCATCTACAATTCCAACATCTTCACAGACCCCTTCTTCATCGTGGAAACGCTGTGTATCATCTGGTTCTCCTTCGAGCTGGTGGTGCGCTTCTTCGCCTGCCCCAGCAAGACGGACTTCTTCAAAAACATCATGAACTTCATAGACATTGTGGCCATCATTCCTTATTTCATCACCCTGGGCACCGAGATAGCTGAGCAGGAAGGAAACCAGAAGGGCGAGCAGGCCACCTCCCTGGCCATCCTCAGGGTCATCCGCTTGGTAAGGGTTTTTAGAATCTTCAAGCTCTCCCGCCACTCTAAGGGCCTCCAGATCCTGGGCCAGACCCTCAAAGCTAGTATGAGAGAGCTAGGGCTGCTCATCTTTTTCCTCTTCATCGGGGTCATCCTGTTTTCTAGTGCAGTGTACTTTGCCGAGGCGGAAGAAGCTGAGTCGCACTTCTCCAGTATCCCCGATGCTTTCTGGTGGGCGGTGGTGTCCATGACCACTGTAGGATACGGTGACATGTACCCTGTGACAATTGGAGGCAAGATCGTGGGCTCCTTGTGTGCCATCGCTGGTGTGCTAACAATTGCCCTGCCCGTACCTGTCATTGTGTCCAATTTCAACTATTTCTACCACCGAGAAACTGAGGGGGAAGAGCAGGCTCAGTTGCTCCACGTCAGTTCCCCTAACTTAGCCTCTGACAGTGACCTCAGTCGCCGCAGTTCCTCTACTATGAGCAAGTCTGAGTACATGGAGATCGAAGAGGATATGAATAATAGCATAGCCCATTATAGACAGGTCAATATCAGAACTGGCAATTGCACCACAGCTAACCAAAACTGCGTTAATAAGAGCAAGCTACTGACCGATGTTTAAAAAACAAAAGCAAGCAAACAAAAAAGCCCCACTTAGCAGCTCAAAAGACTTAAAAAACAAAACAGAAAACCTAGTGACTCATGTCACGCTTTGTAGATACTTTACTAAGTAGACTTGGAATGCTCTATTTAACTGTCAATGCGTTGTTGCATTGAGGATTTTGGGGGTGGTGAACCAGAAGCTTTCAAGATCCATGACAAAATAAACTATTTTCCTTTTATTAAAAAATGGGAAAAGAGAGAGTATTTTCTAAAACTGGCTTAAAAAGATTCAGTCCACGAACTAGTCTAGGTAAAATAATAATCATATGCTTCCCCAAACTGAAACATTTTTAATGCTTTGGTTTCTTTAACTTTTTTAAAAACTCAGAACAAGATGATCATTTAGAAATATAAAATTGAAATTTGCATGGGACTCCAGTAAAACATCTTTGCAAACTGCGTAGCACATTGAAGACAGTGCATCAGATGTATTATATGTAACATGATAGACCAGCCAAAATGGACAATGAATAGATATTTTTATTTCGATCAACTGAACTGCATATTACAAGGTGAAAAAAGAAAACTCCGATTACTTAAGACTGGTTCACAAAGCACCTTATAAATTGGATACTGGTCCTGATCTGTAGGGATTTCCCCCTGGGCCCATTCTCTTTCTAATCCAGATTATTCTCTAAGAAAAAGTTAACTGAATTAAATTAATTGATTCTTCTGCAGTGCTGCTAAATTGTCTCAACTGCAGATGAGCCAAATACAGGTCTTTTCTCACCAGGCCTGCACTCCGACCCCTGGCTTTCAGAACTGGATGTAAAACCTTAGCCTCCTTATTGCAAGAGAGCACAAATGAAGTTAAATGTAAGCATGTTTGAATCTGATACAATTTATTTTATAATCGCATGCTGAGAAGTTAACCCAGACAATAGGGGATAAGCTTAAGTTGAAATCGATTCTTCTAAAAATAGATCCTTTTTCATTTGCATTCACCAAAAGTGCACTCCTCCATTTATTAACTATTTTATTAGTAAATAAAGTACTGTATTTAAGTGCATATGTTAGTCAGATGGGAACAATAACTTTTTGGAGCTCAAAGCATGTTCTCTTATTCAGCATTATGGCCTATTTGACTAAGATGTACCTTGAATTAATTAATGCATGATTTCAGTAATAAAAATTTTAAAAGTAATAAAAATTACAAGTCTGTGGGGTGAAAGGCCCAATAGAAATTATGGGGGGTGGGGGTGGGGGCACTCAGTCAATTTTCCTGCCTTTGCTCAGGGAAATACCAGGTTTTTGTGCAGGTATAGGCGGAGAGAGGACCAATATGCCCATCCCTTAAAGGGAAGCCATGTGAAAAACTCAATAAGTCATCAAAGTATATATAGCAACACCTAAGAACAAGTATTCTTTCTAGCTGAAGACAAACACAAGCAACACAAACAAGCAAACAAACAAACAAACAAAAAGGTGCAATACTGCATGTTTTTTGGTGCATTCTTAGGATGTAAATGAAAATGTTTCTCTATTATATGCATCCGAAGCAGAGCTGATTTTTTTTTTCTTTGCAGTCATTCTTTGAAGTCTGTAGAGACTTCAGCCCTCCCCTTGAGGCTCCCTGAAGAAACTAAACCAATTGATTTAATAGTTGCTTAGTGCCTTTATCCTGTACCCACAGTGAACTGCAGAAAGTGCCTCCTTAACACAGCTGAGAAGTTAGGTAGCAAAAGTGGGGAAGGGTTGGGGCACAGACCTTTTGCTTTTTCTTTTTCCATTCTCGCTCTCTCATTTCACCACTGTGAGAAGACCACACCACCCTAAACCCTGGAGAGGAGAGACCCAGGAGGGTGCTGTCTCTCTGGCCATCTACTAGCATTGTCCCTTTGACAGCCTGACGCTGGATGTGAACTGAGACCCATCTTTGAACTGGACATGAACTGTGAACTTGTTTTTTCCTCTCTCCACCAGAAGCCAAGATAAACTTTTTGGGAATTTGTTCCCTATCGAGGGCCACTTTGGACTCACAAGGCTTCCTCAGGTCCAGTGTAGTGCTCCTGGCACCTTTCCTTATTTTTTTCTCTGTCGGTAACAGCACTTTGCAAATCTCTCTGACGGTCCAGTCTTTTCAGGCATTGTTGCGGATGTGGGAACACTCAGTTCATAATAACCTTTCCTAGGCCTTCCCTCCTGGTCTACCCCTTTCAGATATTTCCTGATGCCCCTATGATCTTCCCACCTGGCAGTCACTTCACAGGTTGAACATCTAACTTCTGCTGCCCCCGTTACCCAGCCCAGAGAATGGTGGGGACCCTGTTCCTGGCTGAAAGAGAGCCACGGAACACAGGCCTCTGGAGCTCGGCAGCTGCCCACCGGTGGAGAGGTACTCACAGCCTTTTAAAGGACCCTGAGGTGGGGAATCTTCATTCTGCACTTAGCATGTGGCTGCCTGTTACCTGACATTCTGGCCCAGCTTCTTCTGAAAATCTGTTCTGTTTCTCCCACCCCTTTCCCCCATCCTGTCCTAGAACTAGCAGTGAGGCAATCACCCTAGAAACTCGAGTTACACCCATTCTGGCTAACTCGATTAAAAGAAAGAACATGGATATCTTATTTTCCTATGTGACTTTTGTGAATCTGTGAGATGAACACAACACACATCGTGGAAGATGAGGGGCCGAGAACTGCACAGCATCCGACTACAGGGCATTAAACCCTCCCATGTGATGTCTCCTTCTCGTCTGAACCTTAACTCATTCTGGCGATTCCTTTCCTACTTGCTTAAAAACCCCCAATTAGGAAAAAAATGCCAACCTCCTCCCAGGCTTGGGGTTATCTTGATCTTTCATTTCAACGTTGAGGTCTAGGGCACACAGAACTTCAAACACCGCACTCTGTCAACAGCAATAATCCACTCAGTACTGTGGGATGGATGGGTTAATGGATGAGAAAACGGCACCAAGACTGACTTTGGGTACTTGGTATATTTACCGTGGTTACACCCTGGACTGGTTGATTCTTCTGCATGTGATATAGAAAAAAGTGCTGCATGCGGTGAACCTGTCAGCCTGGGACTGGGGATGAGTTGTTGTTATGAGTTTGGGGTGGTGTGAGGAAAATGAATGCTGCTTAGCTCATCTGTAGCTCATTGCAATGAATTCAGTAAGAATGGAGTACAGGGATTATCTGTGTAGCATAGGCATGCAATGTTTGACCAAGCTCTTACCCTCGCACTGTAATGTGTTGAAATGTCTTTGTAGACCTGAAGGTGCACTTAACAAAACTGCCTATTAAGGGATGACTATTTTTTGGTTTACTTATTCATATTTATTTTAGCAGCCTTTTTACCTTTTCTTCCCCTTCCTAGGCATGGAGCTGTAACAGCTCATGTCCTGACTATCTGTTTTCTCCAGAAGGAGAAGACTTCTGATGTGCTGATAGCCATAATTCCTCTCTTCCAGTCTATTGGGGCCCTAGTTCAATAGGGTGGCAATAGAAGGGTTGGTCACACCAGGGCTGTTAGCCATCCCAGAATCTCTGAAGTGGTTAACTCACCTGAAGTGATCTGAATCAGAGAGACCAAAGACATTCATTTCCTCTGTCCTCAGATTTCTAGAAGACAAATTCTAGCCAGGAAAACTTTCTGTTTTTGCATCTCCCTTTTCCCATTTGTGCCCAACTCCCCTTGCACTCCCTGGAGACTTGAGTTCTGATTTTCAGTTATATCAGTTCATTGGGAGTGTGTTCGTGGGTGAGCCTTGCAGAATCAGATAAACCAACAGCAAGTCCTTCTCCAGGATTCTGGCCAGTGGGCAGTCATTTCCCTGAAATGAATTGGAGGGCAGGTTTAGATTCCACTATGGTGGACCTGAAGCACAGGCGGTGTCACAATCTTGATTTGCTTGAGAATTAAAAAAAATACATGTAAATGGTAAATGAGGAATACATTTTTTAAAGTAGAAATTTGATTTAGCCTATAAAAGGCCTTCTTCACATTGTGTATAGTTACACATTTTTCAAATTAGTTACCATCTAAAAGTCAATAAAAATAGTTTCCTAGCCCTCTCATTTAATATAGGAGACCTCAAAACACATGCTTTTTAACAATTTTACATTTTAATTCTTAGTTTGGTAGACTGGATTGAAAGAAAGGAGAAAGAACATTAGCAGAAGGCACTTTCCCATTTTCTTCCAGGAATGACTTATTCCTGGGGTGGTGAGAATTGGTGGGTGGTAACCATCCATAGTATAAAATTGTTAGAAAGAATACAAACTGCCAAACAAGCATGTTATCTTCAGGCTTTTCCAAGCAAGAATGAAGTCTTTTGATGTTTATGTTCATTTTAAGAAGACAAACAAACTAAAATTTTAAGACCAGACACAACCCAAGTTGAATTGTGATCTCAGGAGGTGACCTCTCATTCACCATGTGGCATATTACTACTTGTATTTATATCATGGAATTTCAGGGTATATGTGAACATGTCTAGTATGACTCAGGTAAACCTTTAAAGAATGTATGTTACTTACCATTTTTGTAAAGAAGCAAACAGGAGCTGAATTGTTAACCAAAACTGTTCCATTACCTTGGGTCACTGTGCAAACTAATTCAGGGTATAGATATAAAGTTTAGAAGCCTTGGGATTAAATGCCAGCCTCTTTGCTCAGGCCAAATGACCCTGGGCTTTCTTGGGAAGTCCAGCATGTGTGTAAGGGGTGAGGCCCTGCTGACCTCAGGGTTATTCGCTTTAAGGAGATTAACCCTAGTCACAGTGATTTTTCATTTAGGAGCTAACTAGGAGTTTACTCTTTATGACGTGAAACTTCAAAGAGTATAGAAAACTTTTGTACCACAATCAAAGAAGAAGAAATGGTGTATGGAAAGAAAACAAAACAAAACAAGAAATCTCTTGTAAAATATTCCAGGTCAAAGTTGTCTCCTCTCCAAACCTTGCAGAAGCACCTTTCTTCTCTTCAGCGCACTGTTTTGGGACTGTGTATGCAGCAGATGTAAGTAGACAAGACAACATGGACTCCATGTGACATGCCTCTAATAGTAAAGATAAAGTATTACTGAGGTTAAAAATAAAAATCGAGTAGTATTAATTTAAAGTGCACCATCAGGACAACAAACCATTTAAGCTGAAAAAACGCTATTTTATTTCTTGAGTTTGCCAGTTGCTTCCACCTTGAGTTAAGGACGTGTCTCATCTTCACCTACTGTGCATTCTCCCTTCTCTAACTGTGTGATATGTCAGGTCAAGGACATTGAATGTTATGAATTGAGAACCTAATTGATGCGCATAGTTTTCATCTATGCAATTTTACTTGCTTCTGTCACTTTACGATCTGTTCATATTTGGCATCAATTAAAGATAATTTTTAA\n",
      "Found a possible transccipt >sample3: ATGGCTGCGGGGATGTATTTGGAACATTATCTGGACAACCTGAAGGCTGAAATTGACAAGTTGGCCACTGAGTATATGAGTAGTGCCCGCAGCCTGAGCTCCGAGGAAAAATTGGCCCTTCTCAAACAGATCCAGGAAGCCTATGGCAAGTGCAAGGAATTTGGTGACGACAAGGTGCAGCTTGCCATGCAGACCTATGAGATGGTGGACAAACACATTCGGCGGCTGGACACAGACCTGGCCCGTTTTGAGGCTGATCTCAAGGAGAAACAGATTGAGTCAAGTGACTATGACAGCTCTTCCAGCAAAGGCAAAAAGAGCCGGACTCAAAAGGAGAAGAAAGCTGCTCGTGCTCGTTCCAAAGGGAAAAACTCGGATGAAGAAGCCCCCAAGACTGCCCAGAAGAAGTTAAAGCTCGTGCGCACAAGTCCTGAGTATGGGATGCCCTCAGTGACCTTTGGCAGTGTCCACCCCTCTGATGTGTTGGATATGCCTGTGGATCCCAACGAACCCACCTATTGCCTTTGTCACCAGGTCTCCTATGGAGAGATGATTGGCTGTGACAACCCTGATTGTTCCATTGAGTGGTTCCATTTTGCCTGTGTGGGGCTGACAACCAAGCCTCGGGGGAAATGGTTTTGCCCACGCTGCTCCCAAGAACGGAAGAAGAAATAGATAAGGGCCTTGGATTCCAACACAGTTTCTTCCACATCCCCTGACTTGGGCTAGTGGGCAGAGGAATGCCTGTGCTGGGGCCAGGGGTTCAGGGAGGAGTGGATGGCACAGTGCTGTCATCCCTTCTCCTCCCCTCTCCCCACTCCCGGTGCTGAGGCTGCATCAGACCCTGGTAGGGAGGGGTGCCGCAGCCACTAACGGTATGTGCTCTCCTTCAGCCCTCTCCCTTCGGAGGGACGTGGTCTTGCCCACTGTCCTTTTGCCTCCATGCTGAGGTCGGTGCTGTATTTCAGAGGGAGGGTCCTTTTCATTCTCCTTGCTTTGTATTTAAGGACTGGGGCATAGCATGGGGGCAGTCCCCCAGACCTCTTCATTCCCCCTCCTGTGGTGAGGGCTAGGTGTGATCAACACTTTTCTTCTCCATTCCCTTCCTGCTTTTTTCATGGTGGGGGATCCACCAGGTCATCTAGGCTCTGGCCCTAGTTGAAGGGGCACCCCTTCCTCTGTGCCAAGAGGATTCATCCTGGGAGAGGGGGCAAGGTGGAATGCAGATAACTCACATGTAAAAGGAACTTGGGTAGGTAAATAA\n",
      "Found a possible transccipt >sample4: ATGGGGCGCAAATTGGACCCTACAAAGAAGGAGAAGCGGGGGCCAGGCCGAAAGGCCCGGAAGCAGAAGGGTGCCGAGACAGAACTCGCCAGATTCTTGCCTGCAGTAAGTGACGAAAATTCCAAGAGGCTGTCTAGTCGTGCTCGAAAGAGGGCAGCCAAGAGGAGGCTGGGTTCTGCTGAAGTCCCTAAGACAAATAAGTCCCCTGAGGCCAAACCATTGCCTGGAAAGCTACCAAAAGGAGCTGTCCAGACAGCTGGTAAGAAGGGACCCCAGTCCCTATTTAATGCTGCTCAAGGCAAGAAGCGCCCAGCACCTAGCAGTGATGAGGAAGAGGAGGAGGAAGACTCTGAAGAAGATGATGTGGTGAACCAGGGGGACCTCTGGGGCTCCGAGGATGATGCTGATATGGTAGATGACTATGGAGCTGACTCCAACTCTGAGGATGAGGAGGAAGGTGAAGAGCTGCTGCCCATTGAAAGAGCTGCTCGGAAGCAGAAGGTCCGGGAAGCTGCTGCTGGGGTCCAGTGGAGTGAAGAGGAGACGGAGGATGAGGAGGAAGAAGTGACCCCTGAGTCCGGCCCCTCAAAGGAGGAGGAGGCAGATGGGGGCCTGCAGATCAATGTGGATGAGGAACCATTTGTGCTGCCCCCTGCCGGGGAGATGGAGCAGGATGCCCAGGCTCCAGACCTGCAACGAGTTCACAAGCGGATCCAGGATATCGTGGGAATTCTGCGTGATTTTGGGGCTCAGCGGGAGGAAGGGCGGTCTCGTTCTGAATACCTGAACCGGCTCAAGAAGGATCTGGCCACTTACTACTCCTATGGAGACTTCCTGCTTGGCAAGCTCATGGACCTCTTCCCTCTGTCTGAGCTGGTGGAGTTCTTAGAAGCTAATGAGGTGCCTCGGCCCGTCACCCTCCGGACCAATACCTTGAAAACCCGACGCCGAGACCTTGCCCAGGCTCTAATCAATCGTGGGGTTAATCTGGATCCCCTGGGCAAGTGGTCAAAGACTGGACTAGTGGTATATGATTCTTCTGTGCCCATTGGTGCCACCCCCGAGTACCTGGCTGGGCACTACATGCTGCAGGGAGCCTCCAGCATGCTGCCCGTCATGGCCTTGGCACCCCAGGAACATGAGCGGATCCTGGACATGTGTTGTGCCCCTGGAGGAAAGACCAGCTACATGGCCCAGTTGATGAAGAATACGGGTGTGATCCTTGCCAATGACGCCAATGCTGAGCGGCTTAAGAGTGTTGTGGGCAACTTGCACCGGCTGGGAGTCACCAACACCGTTATCAGTCACTATGATGGGCGCCAGTTCCCCAAGGTGGTGGGGGGCTTTGACCGAGTGCTGCTGGATGCTCCCTGCAGTGGCACTGGGGTCATCTCCAAGGACCCAACCGTGAAGACTAACAAGGATGAGAAGGACATCCTGCGCTGTGCTCACCTCCAGAAGGAGTTGCTTCTGAGTGCTATTGACTCTGTGAATGCCACCTCCAAGACAGGAGGCTACCTTGTTTACTGCACCTGTTCTATCATGGTGGAAGAGAATGAGTGGGTGGTAGACTATGCTCTGAAAAAGAGGAATGTGCGACTGGTGCCCACAGGCCTAGACTTTGGCCAGGAGGGTTTTACCCGCTTTCGAGAAAGGCGCTTCCACCCCAGTCTGCGTTCTGCCCGACGCTTCTACCCTCATACCCACAATATGGATGGGTTCTTCATTGCCAAGTTCAAGAAATTCTCCAATTCTATCCCTCAGTCCGAGACAGGAAATTCTGAAACAGCCACACCTAAAAATGTAGACTTGCCTCAGGTCATCCCCAAGTCTGAGAACAGCAGCCAGCCAGCCAAAAAGGCCAAGGGGGCTGCAAAGACAAAGCAGCAGCTGCAGAAACAGCAACGTCCCAAGAAGGCCTCCTTCCAGAAGCCGAATGGCACCTCTAAAGGGGCAGACTCAGAATTGTCCACTGTACCTTCTGTCAGAAAGACCCAAGCTTCCTCCAGGTGCCAGGATAGCAGTCAGCCAGCTGGAAAAGCCGAAGGGATCAGGGAGTCCAAGGTGACTGGGAAGCTAAAGCAACGATCGCCTAAATTACAGTCCTCCAAGAAAGTTGCCTTCCTCAAGCAGAATGCCCCTCCCAAGGGCACAGACACAGAAACACCGGCTGTGTTATCCCCATCCAAGACTCAGGCCACCCTGAAACCTAAGGACCATCATCACCCCCTTGGAAGGGCCAAGGGGGTTGAGAAGCAGCAGTTGCCAGAGCAGCCTTTCAAGAAAGCTGCCTTCCAGAAACAGAATGACACCCCCAAGGGGCCTCAGCCTCCGACTGTGTCTCCCATCAGTTCCAGCCGCCCCCCACCAGCAAAGAGGAAGAAATCTCAGTCCAGGGGCAATGGCCAGCTGCTCCTGTCTTAGATGGTTGAAAACTAGACTGGGGTGGCTCACTGCCATTGTCACCGGGTTGGAACTCTTGCCTCTATGAGGATGCCTTCTCCACTGTGCATACCCATGAAATTTAA\n"
     ]
    }
   ],
   "source": [
    "for key, fasta_record in fasta_records.items():\n",
    "    match = re.search(r'(ATG.+(TAG|TAA|TGA))', ''.join(fasta_record))\n",
    "    if match:\n",
    "        print('Found a possible transccipt %s: %s' % (key, match.group(1)))"
   ]
  },
  {
   "cell_type": "markdown",
   "metadata": {},
   "source": [
    "# 20. Final Exercise: Perform a virtual restriction fragment digest on chromosome 12 and map the annotated samples to the largest fragments"
   ]
  },
  {
   "cell_type": "markdown",
   "metadata": {},
   "source": [
    "* Read the chromosome 12 sequence\n",
    "* Cut it with the BisI restriction enzyme (recognizes GCAGC, GCTGC, GCGGC and GCCGC)\n",
    "* Sort the unique fragments by size\n",
    "* Write the 3 largest fragments to 3 separate FASTA files\n",
    "* Run minimap2 with the annotated samples against each of the 3 largest fragments"
   ]
  },
  {
   "cell_type": "code",
   "execution_count": 248,
   "metadata": {},
   "outputs": [],
   "source": [
    "chr12 = []\n",
    "with open('data/chr12/chr12.fa', 'r') as fileh:\n",
    "    for line in fileh:\n",
    "        if not line.startswith('>'):\n",
    "            chr12.append(line.strip())"
   ]
  },
  {
   "cell_type": "code",
   "execution_count": 249,
   "metadata": {},
   "outputs": [
    {
     "data": {
      "text/plain": [
       "1903934"
      ]
     },
     "execution_count": 249,
     "metadata": {},
     "output_type": "execute_result"
    }
   ],
   "source": [
    "len(chr12)"
   ]
  },
  {
   "cell_type": "code",
   "execution_count": 250,
   "metadata": {},
   "outputs": [],
   "source": [
    "chr12 = ''.join(chr12)"
   ]
  },
  {
   "cell_type": "code",
   "execution_count": 251,
   "metadata": {},
   "outputs": [
    {
     "data": {
      "text/plain": [
       "133275309"
      ]
     },
     "execution_count": 251,
     "metadata": {},
     "output_type": "execute_result"
    }
   ],
   "source": [
    "len(chr12)"
   ]
  },
  {
   "cell_type": "code",
   "execution_count": 252,
   "metadata": {},
   "outputs": [],
   "source": [
    "import re\n",
    "digested = re.split(r'GC[ATGC]GC', chr12)"
   ]
  },
  {
   "cell_type": "code",
   "execution_count": 253,
   "metadata": {},
   "outputs": [
    {
     "data": {
      "text/plain": [
       "250772"
      ]
     },
     "execution_count": 253,
     "metadata": {},
     "output_type": "execute_result"
    }
   ],
   "source": [
    "len(digested)"
   ]
  },
  {
   "cell_type": "code",
   "execution_count": 254,
   "metadata": {},
   "outputs": [
    {
     "data": {
      "text/plain": [
       "241783"
      ]
     },
     "execution_count": 254,
     "metadata": {},
     "output_type": "execute_result"
    }
   ],
   "source": [
    "unique_digested = set(digested)\n",
    "len(unique_digested)"
   ]
  },
  {
   "cell_type": "code",
   "execution_count": 255,
   "metadata": {},
   "outputs": [],
   "source": [
    "def bylen(item):\n",
    "    return len(item)\n",
    "\n",
    "sorted_unique_digested = sorted(unique_digested, key=bylen, reverse=True)"
   ]
  },
  {
   "cell_type": "code",
   "execution_count": 256,
   "metadata": {},
   "outputs": [
    {
     "data": {
      "text/plain": [
       "72368"
      ]
     },
     "execution_count": 256,
     "metadata": {},
     "output_type": "execute_result"
    }
   ],
   "source": [
    "len(sorted_unique_digested[0])"
   ]
  },
  {
   "cell_type": "code",
   "execution_count": 257,
   "metadata": {},
   "outputs": [
    {
     "data": {
      "text/plain": [
       "0"
      ]
     },
     "execution_count": 257,
     "metadata": {},
     "output_type": "execute_result"
    }
   ],
   "source": [
    "len(sorted_unique_digested[-1])"
   ]
  },
  {
   "cell_type": "code",
   "execution_count": 258,
   "metadata": {},
   "outputs": [],
   "source": [
    "target_names = []\n",
    "for i in [0,1,2]:\n",
    "    file_name = 'digested%d.fa' % i\n",
    "    file_path = 'data/chr12/%s' % file_name\n",
    "    with open(file_path, 'w') as fileh:\n",
    "        fileh.write('>%s\\n' % file_name)\n",
    "        fileh.write('%s\\n' % sorted_unique_digested[i])\n",
    "    target_names.append(file_path)"
   ]
  },
  {
   "cell_type": "code",
   "execution_count": 259,
   "metadata": {},
   "outputs": [
    {
     "data": {
      "text/plain": [
       "['data/chr12/digested0.fa',\n",
       " 'data/chr12/digested1.fa',\n",
       " 'data/chr12/digested2.fa']"
      ]
     },
     "execution_count": 259,
     "metadata": {},
     "output_type": "execute_result"
    }
   ],
   "source": [
    "target_names"
   ]
  },
  {
   "cell_type": "code",
   "execution_count": 260,
   "metadata": {},
   "outputs": [
    {
     "name": "stdout",
     "output_type": "stream",
     "text": [
      "Done launching\n",
      "[M::mm_idx_gen::0.062*0.00] collected minimizers\n",
      "[M::mm_idx_gen::0.064*0.00] sorted minimizers\n",
      "[M::main::0.064*0.00] loaded/built the index for 1 target sequence(s)\n",
      "[M::mm_mapopt_update::0.065*0.15] mid_occ = 29\n",
      "[M::mm_idx_stat] kmer size: 15; skip: 10; is_hpc: 0; #seq: 1\n",
      "[M::mm_idx_stat::0.066*0.15] distinct minimizers: 2556 (80.16% are singletons); average occurrences: 1.669; average spacing: 16.964\n",
      "[M::worker_pipeline::0.094*0.11] mapped 26 sequences\n",
      "[M::main] Version: 2.17-r941\n",
      "[M::main] CMD: ./minimap2 data/chr12/digested0.fa data/chr12/annotated-samples.fa\n",
      "[M::main] Real time: 0.097 sec; CPU: 0.010 sec; Peak RSS: 0.004 GB\n",
      "\n",
      "[M::mm_idx_gen::0.059*0.00] collected minimizers\n",
      "[M::mm_idx_gen::0.063*0.00] sorted minimizers\n",
      "[M::main::0.063*0.00] loaded/built the index for 1 target sequence(s)\n",
      "[M::mm_mapopt_update::0.063*0.00] mid_occ = 4\n",
      "[M::mm_idx_stat] kmer size: 15; skip: 10; is_hpc: 0; #seq: 1\n",
      "[M::mm_idx_stat::0.063*0.00] distinct minimizers: 143 (76.92% are singletons); average occurrences: 1.273; average spacing: 280.429\n",
      "[M::worker_pipeline::0.107*0.00] mapped 26 sequences\n",
      "[M::main] Version: 2.17-r941\n",
      "[M::main] CMD: ./minimap2 data/chr12/digested1.fa data/chr12/annotated-samples.fa\n",
      "[M::main] Real time: 0.120 sec; CPU: 0.000 sec; Peak RSS: 0.003 GB\n",
      "\n",
      "[M::mm_idx_gen::0.009*0.00] collected minimizers\n",
      "[M::mm_idx_gen::0.010*0.00] sorted minimizers\n",
      "[M::main::0.010*0.00] loaded/built the index for 1 target sequence(s)\n",
      "[M::mm_mapopt_update::0.011*0.00] mid_occ = 39\n",
      "[M::mm_idx_stat] kmer size: 15; skip: 10; is_hpc: 0; #seq: 1\n",
      "[M::mm_idx_stat::0.011*0.00] distinct minimizers: 2057 (83.23% are singletons); average occurrences: 1.586; average spacing: 5.384\n",
      "[M::worker_pipeline::0.019*0.54] mapped 26 sequences\n",
      "[M::main] Version: 2.17-r941\n",
      "[M::main] CMD: ./minimap2 data/chr12/digested2.fa data/chr12/annotated-samples.fa\n",
      "[M::main] Real time: 0.021 sec; CPU: 0.010 sec; Peak RSS: 0.004 GB\n",
      "\n"
     ]
    }
   ],
   "source": [
    "from multiprocessing import Pool\n",
    "numprocs = 2\n",
    "pool = Pool(numprocs)\n",
    "results = []\n",
    "query = 'data/chr12/annotated-samples.fa'\n",
    "for target in target_names:\n",
    "    result = pool.apply_async(minimap2, [target, query])\n",
    "    results.append(result)\n",
    "print('Done launching')\n",
    "\n",
    "for result in results:\n",
    "    output = result.get()\n",
    "    print(output['stderr'])"
   ]
  },
  {
   "cell_type": "code",
   "execution_count": null,
   "metadata": {},
   "outputs": [],
   "source": []
  }
 ],
 "metadata": {
  "kernelspec": {
   "display_name": "Python 3",
   "language": "python",
   "name": "python3"
  },
  "language_info": {
   "codemirror_mode": {
    "name": "ipython",
    "version": 3
   },
   "file_extension": ".py",
   "mimetype": "text/x-python",
   "name": "python",
   "nbconvert_exporter": "python",
   "pygments_lexer": "ipython3",
   "version": "3.7.3"
  },
  "toc-showcode": false,
  "toc-showmarkdowntxt": true,
  "toc-showtags": false
 },
 "nbformat": 4,
 "nbformat_minor": 4
}
