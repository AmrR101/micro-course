{
 "cells": [
  {
   "cell_type": "markdown",
   "metadata": {
    "toc-hr-collapsed": false
   },
   "source": [
    "# A bioinformatics exercise\n",
    "This notebook uses a small bioinformatics exercise to show aspects of the Python programming \n",
    "language in the context of a real(ish) data processing activity.\n",
    "\n",
    "We will be reading, writing, and manipulating text files and running a small sequence alignment\n",
    "program.  Over the course of this we will cover programming topics such as:\n",
    "\n",
    "   * Built-in Python types including strings, ints, floats\n",
    "   * Python code blocks including if/then/else, for loops, functions,\n",
    "     and context managers\n",
    "   * Data structures like lists and dictionaries\n",
    "   * System calls, including multiprocessing Pools\n",
    "   \n",
    "Additional topics including Python packages and environments and the object-orientation of Python\n",
    "will be covered elsewhere."
   ]
  },
  {
   "cell_type": "markdown",
   "metadata": {
    "toc-hr-collapsed": true
   },
   "source": [
    "## Setup an annotation file name (in 5 different ways)"
   ]
  },
  {
   "cell_type": "markdown",
   "metadata": {
    "toc-hr-collapsed": true
   },
   "source": [
    "This section shows five different ways to get to a filename that can be opened."
   ]
  },
  {
   "cell_type": "markdown",
   "metadata": {
    "toc-hr-collapsed": false
   },
   "source": [
    "### 1. Assign a string literal to a variable"
   ]
  },
  {
   "cell_type": "markdown",
   "metadata": {},
   "source": [
    "In Python, the equal sign means \"assignment\".  Double equal (\"==\") tests equality.\n",
    "You can use tab completion to fill out the filename, because Jupyter lets you do that."
   ]
  },
  {
   "cell_type": "code",
   "execution_count": null,
   "metadata": {},
   "outputs": [],
   "source": [
    "file_name = 'data/chr12/annotations.1.txt'\n",
    "file_name"
   ]
  },
  {
   "cell_type": "markdown",
   "metadata": {},
   "source": [
    "The single quotes ensure that file_name will be a Python string (single quotes and double quotes are indistiguishable).  You can check this with the _type()_ function."
   ]
  },
  {
   "cell_type": "code",
   "execution_count": null,
   "metadata": {},
   "outputs": [],
   "source": [
    "type(file_name)"
   ]
  },
  {
   "cell_type": "markdown",
   "metadata": {
    "toc-hr-collapsed": false
   },
   "source": [
    "#### A brief interlude on Python's basic types"
   ]
  },
  {
   "cell_type": "markdown",
   "metadata": {},
   "source": [
    "In addition to strings, Python has integers..."
   ]
  },
  {
   "cell_type": "code",
   "execution_count": null,
   "metadata": {},
   "outputs": [],
   "source": [
    "file_number = 1\n",
    "type(file_number)"
   ]
  },
  {
   "cell_type": "markdown",
   "metadata": {},
   "source": [
    "... which are different than strings that look like numbers."
   ]
  },
  {
   "cell_type": "code",
   "execution_count": null,
   "metadata": {},
   "outputs": [],
   "source": [
    "file_number = '1'\n",
    "type(file_number)"
   ]
  },
  {
   "cell_type": "markdown",
   "metadata": {},
   "source": [
    "Python also has floating point numbers"
   ]
  },
  {
   "cell_type": "code",
   "execution_count": null,
   "metadata": {},
   "outputs": [],
   "source": [
    "file_number = 1.5\n",
    "type(file_number)"
   ]
  },
  {
   "cell_type": "markdown",
   "metadata": {},
   "source": [
    "... that have the same problems that floats in other systems have"
   ]
  },
  {
   "cell_type": "code",
   "execution_count": null,
   "metadata": {},
   "outputs": [],
   "source": [
    "small_number = 0.000000232023402031029834721043\n",
    "small_number"
   ]
  },
  {
   "cell_type": "markdown",
   "metadata": {},
   "source": [
    "Addition works like you'd expect for numbers, "
   ]
  },
  {
   "cell_type": "code",
   "execution_count": null,
   "metadata": {},
   "outputs": [],
   "source": [
    "1 + 1"
   ]
  },
  {
   "cell_type": "markdown",
   "metadata": {},
   "source": [
    "but the plus sign means concatenation when strings are involved"
   ]
  },
  {
   "cell_type": "code",
   "execution_count": null,
   "metadata": {},
   "outputs": [],
   "source": [
    "'1' + '1'"
   ]
  },
  {
   "cell_type": "markdown",
   "metadata": {},
   "source": [
    "Boolean is a type as well"
   ]
  },
  {
   "cell_type": "code",
   "execution_count": null,
   "metadata": {},
   "outputs": [],
   "source": [
    "type(True)"
   ]
  },
  {
   "cell_type": "markdown",
   "metadata": {},
   "source": [
    "that is important for expressions"
   ]
  },
  {
   "cell_type": "code",
   "execution_count": null,
   "metadata": {},
   "outputs": [],
   "source": [
    "type('a' == 'b')"
   ]
  },
  {
   "cell_type": "markdown",
   "metadata": {
    "toc-hr-collapsed": false
   },
   "source": [
    "### 2. Concatenate string elements."
   ]
  },
  {
   "cell_type": "markdown",
   "metadata": {
    "toc-hr-collapsed": false
   },
   "source": [
    "Strings can be concatenated with the '+' operator.  Non-strings must be\n",
    "converted first with _str()_"
   ]
  },
  {
   "cell_type": "markdown",
   "metadata": {},
   "source": [
    "```python\n",
    "data_dir = 'data'\n",
    "project_name = 'chr12'\n",
    "annotations_file_name = 'annotations'\n",
    "annotations_file_version = 1\n",
    "annotations_file_ext = 'txt'\n",
    "```"
   ]
  },
  {
   "cell_type": "code",
   "execution_count": null,
   "metadata": {},
   "outputs": [],
   "source": [
    "data_dir = 'data'\n",
    "project_name = 'chr12'\n",
    "annotations_file_name = 'annotations'\n",
    "annotations_file_version = 1\n",
    "annotations_file_ext = 'txt'"
   ]
  },
  {
   "cell_type": "code",
   "execution_count": null,
   "metadata": {},
   "outputs": [],
   "source": [
    "file_name = data_dir + '/' + project_name + '/' + annotations_file_name + '.' + str(annotations_file_version) + '.' + annotations_file_ext\n",
    "file_name"
   ]
  },
  {
   "cell_type": "markdown",
   "metadata": {},
   "source": [
    "Let's make a function out of it using the _def_ keyword and a code block"
   ]
  },
  {
   "cell_type": "code",
   "execution_count": null,
   "metadata": {},
   "outputs": [],
   "source": [
    "def get_annotation_file_name(\n",
    "    data_dir, \n",
    "    project_name, \n",
    "    annotations_file_version, \n",
    "    annotations_file_name='annotations', \n",
    "    annotations_file_ext='txt'):\n",
    "\n",
    "    '''\n",
    "    Concatenates data_dir and project_name for path.  \"annotations.<version>.<extension>\" is the file name.\n",
    "    '''\n",
    "\n",
    "    return data_dir + '/' + project_name + '/' + annotations_file_name + '.' + str(annotations_file_version) + '.' + annotations_file_ext"
   ]
  },
  {
   "cell_type": "code",
   "execution_count": null,
   "metadata": {},
   "outputs": [],
   "source": [
    "get_annotation_file_name(data_dir, project_name, annotations_file_version)"
   ]
  },
  {
   "cell_type": "markdown",
   "metadata": {
    "toc-hr-collapsed": false
   },
   "source": [
    "#### A brief interlude about functions"
   ]
  },
  {
   "cell_type": "markdown",
   "metadata": {},
   "source": [
    "A function is a block of code that can be run on 0 or more arguments using the \"call\" operator _()_ and return some value."
   ]
  },
  {
   "cell_type": "code",
   "execution_count": null,
   "metadata": {},
   "outputs": [],
   "source": [
    "def get_dna_chars():\n",
    "    return 'ATCG'\n",
    "\n",
    "dna_chars = get_dna_chars()\n",
    "dna_chars"
   ]
  },
  {
   "cell_type": "markdown",
   "metadata": {},
   "source": [
    "A function can have an arbitrary number of arguments.  They can be treated like positional arguments"
   ]
  },
  {
   "cell_type": "code",
   "execution_count": null,
   "metadata": {},
   "outputs": [],
   "source": [
    "def get_nuc_chars(nuc_type, copies):\n",
    "    if nuc_type.upper() == 'DNA':\n",
    "        return 'ATCG' * copies\n",
    "    else:\n",
    "        return 'AUCG' * copies\n",
    "result = get_nuc_chars('RNA', 5)\n",
    "result"
   ]
  },
  {
   "cell_type": "markdown",
   "metadata": {},
   "source": [
    "They can also be treated as keyword arguments and specified in arbitrary order"
   ]
  },
  {
   "cell_type": "code",
   "execution_count": null,
   "metadata": {},
   "outputs": [],
   "source": [
    "result = get_nuc_chars(copies=5, nuc_type='DNA')\n",
    "result"
   ]
  },
  {
   "cell_type": "markdown",
   "metadata": {},
   "source": [
    "Arguments that don't have a default must be specified"
   ]
  },
  {
   "cell_type": "code",
   "execution_count": null,
   "metadata": {},
   "outputs": [],
   "source": [
    "result = get_nuc_chars()"
   ]
  },
  {
   "cell_type": "markdown",
   "metadata": {},
   "source": [
    "You can specify defaults when it makes sense, but positional arguments must come first"
   ]
  },
  {
   "cell_type": "code",
   "execution_count": null,
   "metadata": {},
   "outputs": [],
   "source": [
    "def get_nuc_chars(nuc_type, copies=1):\n",
    "    if nuc_type.upper() == 'DNA':\n",
    "        return 'ATCG' * copies\n",
    "    else:\n",
    "        return 'AUCG' * copies\n",
    "result = get_nuc_chars('RNA')\n",
    "result"
   ]
  },
  {
   "cell_type": "markdown",
   "metadata": {},
   "source": [
    "Run our annotation file function with required arguments and defaults"
   ]
  },
  {
   "cell_type": "code",
   "execution_count": null,
   "metadata": {},
   "outputs": [],
   "source": [
    "get_annotation_file_name(data_dir, project_name, annotations_file_version)"
   ]
  },
  {
   "cell_type": "markdown",
   "metadata": {},
   "source": [
    "Specify the annotations_file_name with a different value"
   ]
  },
  {
   "cell_type": "code",
   "execution_count": null,
   "metadata": {},
   "outputs": [],
   "source": [
    "get_annotation_file_name(data_dir, project_name, annotations_file_version, annotations_file_name='anothername')"
   ]
  },
  {
   "cell_type": "markdown",
   "metadata": {},
   "source": [
    "Specify arguments as keyword args in arbitrary order"
   ]
  },
  {
   "cell_type": "code",
   "execution_count": null,
   "metadata": {},
   "outputs": [],
   "source": [
    "get_annotation_file_name(annotations_file_ext='csv', data_dir=data_dir, annotations_file_version=3, project_name='chr13')"
   ]
  },
  {
   "cell_type": "markdown",
   "metadata": {},
   "source": [
    "The triple quote string is called a \"docstring\".  Besides being useful to developers that need to read your code, the Python help function can be used to display it."
   ]
  },
  {
   "cell_type": "code",
   "execution_count": null,
   "metadata": {},
   "outputs": [],
   "source": [
    "help(get_annotation_file_name)"
   ]
  },
  {
   "cell_type": "markdown",
   "metadata": {
    "toc-hr-collapsed": false
   },
   "source": [
    "### 3. Formatted strings"
   ]
  },
  {
   "cell_type": "markdown",
   "metadata": {},
   "source": [
    "Python supports both positional and named string template substitution.  See the\n",
    "[Pyformat page](https://pyformat.info/) for details"
   ]
  },
  {
   "cell_type": "markdown",
   "metadata": {},
   "source": [
    "#### String concatentation is expensive because Python strings are immutable"
   ]
  },
  {
   "cell_type": "code",
   "execution_count": null,
   "metadata": {},
   "outputs": [],
   "source": [
    "file_name = get_annotation_file_name(data_dir, project_name, annotations_file_version)"
   ]
  },
  {
   "cell_type": "code",
   "execution_count": null,
   "metadata": {},
   "outputs": [],
   "source": [
    "file_name[0] = 'a'"
   ]
  },
  {
   "cell_type": "markdown",
   "metadata": {},
   "source": [
    "#### Old style string formatting is common"
   ]
  },
  {
   "cell_type": "code",
   "execution_count": null,
   "metadata": {},
   "outputs": [],
   "source": [
    "def get_annotation_file_name(data_dir, project_name, annotations_file_version, annotations_file_name='annotations', annotations_file_ext='txt'):\n",
    "    '''Concatenates data_dir and project_name for path.  \"annotations.<version>.<extension>\" is the file name.'''\n",
    "    \n",
    "    return '%s/%s/%s.%d.%s' % (data_dir, project_name, annotations_file_name, annotations_file_version, annotations_file_ext)"
   ]
  },
  {
   "cell_type": "code",
   "execution_count": null,
   "metadata": {},
   "outputs": [],
   "source": [
    "file_name = get_annotation_file_name(data_dir, project_name, annotations_file_version)\n",
    "file_name"
   ]
  },
  {
   "cell_type": "markdown",
   "metadata": {},
   "source": [
    "#### format function is more readable and powerful"
   ]
  },
  {
   "cell_type": "markdown",
   "metadata": {},
   "source": [
    "The format function of strings allows for positional substitution like old style\n",
    "formatting, but also supports named place holders and rich formatting options"
   ]
  },
  {
   "cell_type": "code",
   "execution_count": null,
   "metadata": {},
   "outputs": [],
   "source": [
    "'{}/{}/{}.{}.{}'.format(data_dir, project_name, annotations_file_name, annotations_file_version, annotations_file_ext)"
   ]
  },
  {
   "cell_type": "markdown",
   "metadata": {},
   "source": [
    "Types can be enforced using type specifiers like ':d'"
   ]
  },
  {
   "cell_type": "code",
   "execution_count": null,
   "metadata": {},
   "outputs": [],
   "source": [
    "'{}/{}/{}.{:d}.{}'.format(data_dir, project_name, annotations_file_name, annotations_file_version, annotations_file_ext)"
   ]
  },
  {
   "cell_type": "markdown",
   "metadata": {},
   "source": [
    "Precision (or width) can be specified"
   ]
  },
  {
   "cell_type": "code",
   "execution_count": null,
   "metadata": {},
   "outputs": [],
   "source": [
    "'{}/{}/{:.5}.{:d}.{}'.format(data_dir, project_name, annotations_file_name, annotations_file_version, annotations_file_ext)"
   ]
  },
  {
   "cell_type": "markdown",
   "metadata": {},
   "source": [
    "Keyword arguments can be really helpful for readability"
   ]
  },
  {
   "cell_type": "code",
   "execution_count": null,
   "metadata": {},
   "outputs": [],
   "source": [
    "'{data_dir}/{project_name}/{annotations_file_name}.{annotations_file_version:d}.{annotations_file_ext}'.format(\n",
    "    annotations_file_name=annotations_file_name, \n",
    "    annotations_file_version=1, \n",
    "    annotations_file_ext=annotations_file_ext,\n",
    "    data_dir=data_dir, \n",
    "    project_name=project_name, \n",
    ")"
   ]
  },
  {
   "cell_type": "markdown",
   "metadata": {},
   "source": [
    "#### A brief interlude about classes, functions, and objects in Python"
   ]
  },
  {
   "cell_type": "markdown",
   "metadata": {},
   "source": [
    "_format()_ is a good example of functions that are part of defined on object-oriented \n",
    "\"classes\" and used on instances called \"objects\"."
   ]
  },
  {
   "cell_type": "markdown",
   "metadata": {
    "toc-hr-collapsed": true
   },
   "source": [
    "### 4. Joining list elements"
   ]
  },
  {
   "cell_type": "markdown",
   "metadata": {},
   "source": [
    "A list of elements can be \"join\"ed into a string."
   ]
  },
  {
   "cell_type": "code",
   "execution_count": null,
   "metadata": {},
   "outputs": [],
   "source": [
    "path = '/'.join(['data', 'chr12', 'annotations.1.txt'])\n",
    "path"
   ]
  },
  {
   "cell_type": "markdown",
   "metadata": {
    "toc-hr-collapsed": true
   },
   "source": [
    "#### A brief interlude about Python lists. "
   ]
  },
  {
   "cell_type": "markdown",
   "metadata": {},
   "source": [
    "Like arrays in other languages, Python lists are a group of items that can be indexed by an integer."
   ]
  },
  {
   "cell_type": "markdown",
   "metadata": {},
   "source": [
    "Lists are initialized with [] or list() and indexing starts with zero."
   ]
  },
  {
   "cell_type": "code",
   "execution_count": null,
   "metadata": {},
   "outputs": [],
   "source": [
    "path_elements = ['nano-course', 'python', 'data', 'chr12']"
   ]
  },
  {
   "cell_type": "code",
   "execution_count": null,
   "metadata": {},
   "outputs": [],
   "source": [
    "path_elements[0]"
   ]
  },
  {
   "cell_type": "markdown",
   "metadata": {},
   "source": [
    "Check the length with _len()_"
   ]
  },
  {
   "cell_type": "code",
   "execution_count": null,
   "metadata": {},
   "outputs": [],
   "source": [
    "len(path_elements)"
   ]
  },
  {
   "cell_type": "markdown",
   "metadata": {},
   "source": [
    "You can use negative indexes"
   ]
  },
  {
   "cell_type": "code",
   "execution_count": null,
   "metadata": {},
   "outputs": [],
   "source": [
    "path_elements[-1]"
   ]
  },
  {
   "cell_type": "markdown",
   "metadata": {},
   "source": [
    "Slices can be taken from lists using [:] notation.  Don't forget that the upper bound index is not included."
   ]
  },
  {
   "cell_type": "code",
   "execution_count": null,
   "metadata": {},
   "outputs": [],
   "source": [
    "path_elements[0:2]"
   ]
  },
  {
   "cell_type": "markdown",
   "metadata": {},
   "source": [
    "And you can slice with negative indexes"
   ]
  },
  {
   "cell_type": "code",
   "execution_count": null,
   "metadata": {},
   "outputs": [],
   "source": [
    "path_elements[-2:-1]"
   ]
  },
  {
   "cell_type": "markdown",
   "metadata": {},
   "source": [
    "Lists can be appended to"
   ]
  },
  {
   "cell_type": "code",
   "execution_count": null,
   "metadata": {},
   "outputs": [],
   "source": [
    "path_elements.append('annotations.1.txt')\n",
    "path_elements"
   ]
  },
  {
   "cell_type": "markdown",
   "metadata": {},
   "source": [
    "and extended"
   ]
  },
  {
   "cell_type": "code",
   "execution_count": null,
   "metadata": {},
   "outputs": [],
   "source": [
    "full_path = ['Users','akitzmiller']\n",
    "full_path.extend(path_elements)\n",
    "print(full_path)"
   ]
  },
  {
   "cell_type": "markdown",
   "metadata": {},
   "source": [
    "List elements are mutable"
   ]
  },
  {
   "cell_type": "code",
   "execution_count": null,
   "metadata": {},
   "outputs": [],
   "source": [
    "path_elements[1] = 'R'\n",
    "path_elements"
   ]
  },
  {
   "cell_type": "markdown",
   "metadata": {},
   "source": [
    "You can also create an immutable list, a tuple, using parens"
   ]
  },
  {
   "cell_type": "code",
   "execution_count": null,
   "metadata": {},
   "outputs": [],
   "source": [
    "path_tuple = ('nano-course', 'python', 'data', 'chr12')\n",
    "path_tuple[1] = 'x'"
   ]
  },
  {
   "cell_type": "markdown",
   "metadata": {},
   "source": [
    "List values can be iterated with a _for_ block"
   ]
  },
  {
   "cell_type": "code",
   "execution_count": null,
   "metadata": {},
   "outputs": [],
   "source": [
    "for path_element in path_elements:\n",
    "    print(path_element)"
   ]
  },
  {
   "cell_type": "markdown",
   "metadata": {},
   "source": [
    "If you need the index, _enumerate()_"
   ]
  },
  {
   "cell_type": "code",
   "execution_count": null,
   "metadata": {},
   "outputs": [],
   "source": [
    "for i, path_element in enumerate(path_elements):\n",
    "    print(i, path_element)"
   ]
  },
  {
   "cell_type": "markdown",
   "metadata": {},
   "source": [
    "Strings act like lists..."
   ]
  },
  {
   "cell_type": "code",
   "execution_count": null,
   "metadata": {},
   "outputs": [],
   "source": [
    "data_dir[-1]"
   ]
  },
  {
   "cell_type": "code",
   "execution_count": null,
   "metadata": {},
   "outputs": [],
   "source": [
    "for ch in data_dir:\n",
    "    print(ch)"
   ]
  },
  {
   "cell_type": "markdown",
   "metadata": {},
   "source": [
    "but they are not mutable"
   ]
  },
  {
   "cell_type": "code",
   "execution_count": null,
   "metadata": {},
   "outputs": [],
   "source": [
    "data_dir[1] = 'x'"
   ]
  },
  {
   "cell_type": "markdown",
   "metadata": {
    "toc-hr-collapsed": true
   },
   "source": [
    "#### We can redefine the function to join the list of path elements using the _join()_ function of strings"
   ]
  },
  {
   "cell_type": "code",
   "execution_count": null,
   "metadata": {},
   "outputs": [],
   "source": [
    "'/'.join(path_elements)"
   ]
  },
  {
   "cell_type": "code",
   "execution_count": null,
   "metadata": {},
   "outputs": [],
   "source": [
    "def get_annotation_file_name(data_dir, project_name, annotations_file_version, annotations_file_name='annotations', annotations_file_ext='txt'):\n",
    "    '''Concatenates data_dir and project_name for path.  \"annotations.<version>.<extension>\" is the file name.'''\n",
    "    \n",
    "    path_elements = [data_dir, project_name, '{}.{:d}.{}'.format(annotations_file_name, annotations_file_version, annotations_file_ext)]\n",
    "    \n",
    "    return '/'.join(path_elements)"
   ]
  },
  {
   "cell_type": "code",
   "execution_count": null,
   "metadata": {},
   "outputs": [],
   "source": [
    "file_name = get_annotation_file_name(data_dir, project_name, annotations_file_version)\n",
    "file_name"
   ]
  },
  {
   "cell_type": "markdown",
   "metadata": {
    "toc-hr-collapsed": true
   },
   "source": [
    "### 5. Joining list elements with os.path.join\n",
    "The _os_ module must be imported and contains functions that are sensitive to the operating system"
   ]
  },
  {
   "cell_type": "code",
   "execution_count": null,
   "metadata": {},
   "outputs": [],
   "source": [
    "os.path.join()"
   ]
  },
  {
   "cell_type": "markdown",
   "metadata": {},
   "source": [
    "Everything you use in a Python script must either be a built-in (e.g. __return__), defined in your code (e.g. _file_name_, _get_annotation_file_name_) or imported"
   ]
  },
  {
   "cell_type": "code",
   "execution_count": null,
   "metadata": {},
   "outputs": [],
   "source": [
    "import os"
   ]
  },
  {
   "cell_type": "code",
   "execution_count": null,
   "metadata": {},
   "outputs": [],
   "source": [
    "help(os.path.join)"
   ]
  },
  {
   "cell_type": "code",
   "execution_count": null,
   "metadata": {},
   "outputs": [],
   "source": [
    "os.path.join(data_dir, project_name, '{}.{:d}.{}'.format(annotations_file_name, annotations_file_version, annotations_file_ext))"
   ]
  },
  {
   "cell_type": "code",
   "execution_count": null,
   "metadata": {},
   "outputs": [],
   "source": [
    "def get_annotation_file_name(data_dir, project_name, annotations_file_version, annotations_file_name='annotations', annotations_file_ext='txt'):\n",
    "    '''Concatenates data_dir and project_name for path.  \"annotations.<version>.<extension>\" is the file name.'''\n",
    "    \n",
    "    path = os.path.join(data_dir, project_name, '{}.{:d}.{}'.format(annotations_file_name, annotations_file_version, annotations_file_ext))\n",
    "    \n",
    "    return path"
   ]
  },
  {
   "cell_type": "code",
   "execution_count": null,
   "metadata": {},
   "outputs": [],
   "source": [
    "file_name = get_annotation_file_name(data_dir, project_name, annotations_file_version)\n",
    "file_name"
   ]
  },
  {
   "cell_type": "markdown",
   "metadata": {
    "toc-hr-collapsed": false
   },
   "source": [
    "## Convert the annotation file data into useful records and add to the FASTA sequence headers"
   ]
  },
  {
   "cell_type": "markdown",
   "metadata": {},
   "source": [
    "We want to read the annotations file, read a sequence FASTA file and add the annotations to the FASTA file description line"
   ]
  },
  {
   "cell_type": "markdown",
   "metadata": {
    "toc-hr-collapsed": true
   },
   "source": [
    "#### There are lots of ways to read a text file."
   ]
  },
  {
   "cell_type": "markdown",
   "metadata": {},
   "source": [
    "In Python you interact with a file by opening a file handle in a particular mode, in this case 'read'.  The file handle is a lot like a pointer to the next part of the file that you're going to read."
   ]
  },
  {
   "cell_type": "code",
   "execution_count": null,
   "metadata": {},
   "outputs": [],
   "source": [
    "fileh = open(file_name, 'r')"
   ]
  },
  {
   "cell_type": "markdown",
   "metadata": {},
   "source": [
    "Read it all into a single string using _read()_"
   ]
  },
  {
   "cell_type": "code",
   "execution_count": null,
   "metadata": {},
   "outputs": [],
   "source": [
    "fileh.read()"
   ]
  },
  {
   "cell_type": "markdown",
   "metadata": {},
   "source": [
    "Read it into a list of lines using _readlines()_.  You may need to re-open the file, because the fileh is now pointing to the end."
   ]
  },
  {
   "cell_type": "code",
   "execution_count": null,
   "metadata": {},
   "outputs": [],
   "source": [
    "fileh.readlines()"
   ]
  },
  {
   "cell_type": "code",
   "execution_count": null,
   "metadata": {},
   "outputs": [],
   "source": [
    "fileh = open(file_name, 'r')"
   ]
  },
  {
   "cell_type": "code",
   "execution_count": null,
   "metadata": {},
   "outputs": [],
   "source": [
    "lines = fileh.readlines()\n",
    "lines"
   ]
  },
  {
   "cell_type": "markdown",
   "metadata": {},
   "source": [
    "Or, especially if your file is large, you can read one line at a time using _for_ because a file handle acts like a list. <br/>Using print() will convert the \\t and \\n into tabs and newlines respectively"
   ]
  },
  {
   "cell_type": "code",
   "execution_count": null,
   "metadata": {},
   "outputs": [],
   "source": [
    "fileh = open(file_name, 'r')"
   ]
  },
  {
   "cell_type": "code",
   "execution_count": null,
   "metadata": {},
   "outputs": [],
   "source": [
    "for line in fileh:\n",
    "    print(line.strip())"
   ]
  },
  {
   "cell_type": "markdown",
   "metadata": {},
   "source": [
    "Using a context manager (_with_ _as_) is a good way to ensure that the file will close when you're done with it."
   ]
  },
  {
   "cell_type": "code",
   "execution_count": null,
   "metadata": {},
   "outputs": [],
   "source": [
    "lines = []\n",
    "with open(file_name, 'r') as fileh:\n",
    "    for line in fileh:\n",
    "        lines.append(line.strip())"
   ]
  },
  {
   "cell_type": "code",
   "execution_count": null,
   "metadata": {},
   "outputs": [],
   "source": [
    "fileh.closed"
   ]
  },
  {
   "cell_type": "code",
   "execution_count": null,
   "metadata": {},
   "outputs": [],
   "source": [
    "print(lines)"
   ]
  },
  {
   "cell_type": "markdown",
   "metadata": {
    "toc-hr-collapsed": true
   },
   "source": [
    "#### Read the data lines and stash the header line by itself using _if_"
   ]
  },
  {
   "cell_type": "markdown",
   "metadata": {},
   "source": [
    "An _if_ statement is another Python block that will execute code (or not) based on an expression that evaluates to _True_ or _False_"
   ]
  },
  {
   "cell_type": "code",
   "execution_count": null,
   "metadata": {},
   "outputs": [],
   "source": [
    "lines = []\n",
    "header_line = ''\n",
    "with open(file_name, 'r') as fileh:\n",
    "    for line in fileh:\n",
    "        line = line.strip()\n",
    "        if line.startswith('Accession'):\n",
    "            header_line = line\n",
    "        else:\n",
    "            lines.append(line)\n",
    "lines"
   ]
  },
  {
   "cell_type": "markdown",
   "metadata": {},
   "source": [
    "#### Convert the lines into lists of data fields using _split()_.  Add them to a list to make a 2D matrix."
   ]
  },
  {
   "cell_type": "code",
   "execution_count": null,
   "metadata": {},
   "outputs": [],
   "source": [
    "data = []\n",
    "for line in lines:\n",
    "    field_list = line.split('\\t')\n",
    "    data.append(field_list)\n",
    "data"
   ]
  },
  {
   "cell_type": "code",
   "execution_count": null,
   "metadata": {},
   "outputs": [],
   "source": [
    "data[0]"
   ]
  },
  {
   "cell_type": "code",
   "execution_count": null,
   "metadata": {},
   "outputs": [],
   "source": [
    "data[0][1]"
   ]
  },
  {
   "cell_type": "markdown",
   "metadata": {},
   "source": [
    "#### Report out the unique organism common names using a list"
   ]
  },
  {
   "cell_type": "code",
   "execution_count": null,
   "metadata": {},
   "outputs": [],
   "source": [
    "common_names = []\n",
    "for row in data:\n",
    "    org = row[1]\n",
    "    common_name = ''\n",
    "    if org == 'Homo sapiens':\n",
    "        common_name = 'Human'\n",
    "    elif org == 'Pan troglodytes':\n",
    "        common_name = 'Chimp'\n",
    "    elif org == 'Macaca mulatta':\n",
    "        common_name = 'Macaque'\n",
    "    else:\n",
    "        print('Unknown organism %s' % org)\n",
    "        common_name = org\n",
    "        \n",
    "    if common_name not in common_names:\n",
    "        common_names.append(common_name)\n",
    "common_names"
   ]
  },
  {
   "cell_type": "markdown",
   "metadata": {},
   "source": [
    "#### Report out the unique organism common names using a _set()_"
   ]
  },
  {
   "cell_type": "markdown",
   "metadata": {},
   "source": [
    "A _set_ is a collection of unique elements that can participate in set operations like unions and intersects"
   ]
  },
  {
   "cell_type": "code",
   "execution_count": null,
   "metadata": {},
   "outputs": [],
   "source": [
    "common_names = set()\n",
    "for row in data:\n",
    "    org = row[1]\n",
    "    common_name = ''\n",
    "    if org == 'Homo sapiens':\n",
    "        common_name = 'Human'\n",
    "    elif org == 'Pan troglodytes':\n",
    "        common_name = 'Chimp'\n",
    "    elif org == 'Macaca mulatta':\n",
    "        common_name = 'Macaque'\n",
    "    else:\n",
    "        print('Unknown organism %s' % org)\n",
    "        common_name = org\n",
    "        \n",
    "    common_names.add(common_name)\n",
    "common_names"
   ]
  },
  {
   "cell_type": "markdown",
   "metadata": {},
   "source": [
    "```python\n",
    "model_organisms = set(['Human', 'Mouse', 'Fruit fly', 'Macaque', 'Zebrafish', 'E. coli'])\n",
    "```"
   ]
  },
  {
   "cell_type": "code",
   "execution_count": null,
   "metadata": {},
   "outputs": [],
   "source": [
    "model_organisms = set(['Human', 'Mouse', 'Fruit fly', 'Macaque', 'Zebrafish', 'E. coli'])\n",
    "common_names - model_organisms"
   ]
  },
  {
   "cell_type": "markdown",
   "metadata": {
    "toc-hr-collapsed": true
   },
   "source": [
    "#### Use a dictionary to map the common names"
   ]
  },
  {
   "cell_type": "markdown",
   "metadata": {},
   "source": [
    "Python dictionaries (analogous to hashes or maps in other languages) are really just arrays with named indexes called 'keys'.  They can be initialized with curly braces (or dict()) and are generally mutable."
   ]
  },
  {
   "cell_type": "code",
   "execution_count": null,
   "metadata": {},
   "outputs": [],
   "source": [
    "org_name_map = {\n",
    "    'Homo sapiens': 'Human',\n",
    "    'Pan troglodytes': 'Chimp'\n",
    "}\n",
    "org_name_map"
   ]
  },
  {
   "cell_type": "code",
   "execution_count": null,
   "metadata": {},
   "outputs": [],
   "source": [
    "org_name_map['Macaca mulatta'] = 'Macaque'\n",
    "org_name_map"
   ]
  },
  {
   "cell_type": "markdown",
   "metadata": {},
   "source": [
    "You can access individual elements by key"
   ]
  },
  {
   "cell_type": "code",
   "execution_count": null,
   "metadata": {},
   "outputs": [],
   "source": [
    "org_name_map['Homo sapiens']"
   ]
  },
  {
   "cell_type": "markdown",
   "metadata": {},
   "source": [
    "It's an error to access a key that isn't there."
   ]
  },
  {
   "cell_type": "code",
   "execution_count": null,
   "metadata": {},
   "outputs": [],
   "source": [
    "org_name_map['Mus musculus']"
   ]
  },
  {
   "cell_type": "markdown",
   "metadata": {},
   "source": [
    "But you can use the _get()_ function to safely return a default value"
   ]
  },
  {
   "cell_type": "code",
   "execution_count": null,
   "metadata": {},
   "outputs": [],
   "source": [
    "org_name_map.get('Mus musculus', 'Not found')"
   ]
  },
  {
   "cell_type": "markdown",
   "metadata": {},
   "source": [
    "You can iterate over a dictionary with _for_ using the _items()_ function"
   ]
  },
  {
   "cell_type": "code",
   "execution_count": null,
   "metadata": {},
   "outputs": [],
   "source": [
    "for org, common in org_name_map.items():\n",
    "    print('%s (%s)' % (org, common))"
   ]
  },
  {
   "cell_type": "code",
   "execution_count": null,
   "metadata": {},
   "outputs": [],
   "source": [
    "common_names = set()\n",
    "for row in data:\n",
    "    org = row[1]\n",
    "    common_name = org_name_map.get(org, org)\n",
    "    common_names.add(common_name)\n",
    "\n",
    "common_names"
   ]
  },
  {
   "cell_type": "markdown",
   "metadata": {},
   "source": [
    "It's important to remember that dictionary keys may not be in the order you added them (though in Python 3.6+ they usually are)"
   ]
  },
  {
   "cell_type": "markdown",
   "metadata": {},
   "source": [
    "```python\n",
    "org_name_map = {\n",
    "    'Homo sapiens': 'Human',\n",
    "    'Pan troglodytes': 'Chimp',\n",
    "    'Macaca mulatta': 'Macaque'\n",
    "}\n",
    "\n",
    "for key, val in org_name_map.items():\n",
    "    print(key, val)\n",
    "```\n",
    "_Pan troglodytes Chimp_<br/>\n",
    "_Homo sapiens Human_<br/>\n",
    "_Macaca mulatta Macaque_<br/>"
   ]
  },
  {
   "cell_type": "markdown",
   "metadata": {},
   "source": [
    "If you want to ensure keys are in order, use an OrderedDict from the collections module"
   ]
  },
  {
   "cell_type": "markdown",
   "metadata": {
    "toc-hr-collapsed": true
   },
   "source": [
    "#### Now that we know what dictionaries are, wouldn't it be great if we could access our data row elements by the column headers?"
   ]
  },
  {
   "cell_type": "code",
   "execution_count": null,
   "metadata": {},
   "outputs": [],
   "source": [
    "header_line"
   ]
  },
  {
   "cell_type": "code",
   "execution_count": null,
   "metadata": {},
   "outputs": [],
   "source": [
    "col_names = header_line.split('\\t')\n",
    "col_names"
   ]
  },
  {
   "cell_type": "markdown",
   "metadata": {},
   "source": [
    "You can do it by iterating through the column headers and row values simultaneously"
   ]
  },
  {
   "cell_type": "code",
   "execution_count": null,
   "metadata": {},
   "outputs": [],
   "source": [
    "labeled_data = []\n",
    "for row in data:\n",
    "    labeled_row = {}\n",
    "    for i, col_name in enumerate(col_names):\n",
    "        labeled_row[col_name] = row[i]\n",
    "    labeled_data.append(labeled_row)\n",
    "labeled_data\n",
    "    "
   ]
  },
  {
   "cell_type": "markdown",
   "metadata": {},
   "source": [
    "Or use the very cool _zip()_ function to combine them in a couple of lines"
   ]
  },
  {
   "cell_type": "code",
   "execution_count": null,
   "metadata": {},
   "outputs": [],
   "source": [
    "labeled_data = []\n",
    "for row in data:\n",
    "    labeled_row = zip(col_names, row)\n",
    "    labeled_data.append(dict(labeled_row))\n",
    "labeled_data"
   ]
  },
  {
   "cell_type": "markdown",
   "metadata": {
    "toc-hr-collapsed": true
   },
   "source": [
    "### Sort the records by length"
   ]
  },
  {
   "cell_type": "markdown",
   "metadata": {},
   "source": [
    "#### Python sorts lists by 'natural' order, either in place..."
   ]
  },
  {
   "cell_type": "code",
   "execution_count": null,
   "metadata": {},
   "outputs": [],
   "source": [
    "letters = ['a','x','t']\n",
    "letters.sort()\n",
    "letters"
   ]
  },
  {
   "cell_type": "code",
   "execution_count": null,
   "metadata": {},
   "outputs": [],
   "source": [
    "numbers  = [1, 5, 20, 1.5]\n",
    "numbers.sort()\n",
    "numbers"
   ]
  },
  {
   "cell_type": "code",
   "execution_count": null,
   "metadata": {},
   "outputs": [],
   "source": [
    "numberchars = ['1', '2', '100', '150']\n",
    "numberchars.sort()\n",
    "numberchars"
   ]
  },
  {
   "cell_type": "markdown",
   "metadata": {},
   "source": [
    "#### ... or as new list"
   ]
  },
  {
   "cell_type": "code",
   "execution_count": null,
   "metadata": {},
   "outputs": [],
   "source": [
    "numbers = [1,5,3,8]\n",
    "sortednumbers = sorted(numbers)\n",
    "numbers"
   ]
  },
  {
   "cell_type": "code",
   "execution_count": null,
   "metadata": {},
   "outputs": [],
   "source": [
    "sortednumbers"
   ]
  },
  {
   "cell_type": "markdown",
   "metadata": {},
   "source": [
    "#### Reversing the direction is easy"
   ]
  },
  {
   "cell_type": "code",
   "execution_count": null,
   "metadata": {},
   "outputs": [],
   "source": [
    "sortednumbers.sort(reverse=True)\n",
    "sortednumbers"
   ]
  },
  {
   "cell_type": "markdown",
   "metadata": {},
   "source": [
    "#### A key function provides flexibility in sorting"
   ]
  },
  {
   "cell_type": "code",
   "execution_count": null,
   "metadata": {},
   "outputs": [],
   "source": [
    "def case_insensitive(item):\n",
    "    return item.lower()\n",
    "\n",
    "words = ['and', 'or', 'But']\n",
    "sortedwords = sorted(words)\n",
    "sortedwords"
   ]
  },
  {
   "cell_type": "code",
   "execution_count": null,
   "metadata": {},
   "outputs": [],
   "source": [
    "sortedwords = sorted(words, key=case_insensitive)\n",
    "sortedwords"
   ]
  },
  {
   "cell_type": "code",
   "execution_count": null,
   "metadata": {},
   "outputs": [],
   "source": [
    "def seq_length(item):\n",
    "    return int(item['Length'])\n",
    "\n",
    "sorted_labeled_data = sorted(labeled_data, key=seq_length, reverse=True)\n",
    "sorted_labeled_data"
   ]
  },
  {
   "cell_type": "markdown",
   "metadata": {
    "toc-hr-collapsed": true
   },
   "source": [
    "### Read FASTA records and set a more informative description line"
   ]
  },
  {
   "cell_type": "markdown",
   "metadata": {},
   "source": [
    "FASTA records have two parts, a description line, starting with '>', and the sequence, e.g.\n",
    "\n",
    "    >NC_000012.12 Homo sapiens chromosome 12, GRCh38.p13 Primary Assembly     <-- Description line\n",
    "    ATCGAGACCATCCTGGCCAACATAGTGAAAACCTTTCTCTACTAAAAATACAAAAATTAGCCAGGTATGG    <-- Sequence (DNA in this case)\n",
    "    TCGAGAGGCTGAGGCAGGAGGATCGCTTAAACCTGGGAGGTAGAGGTTCCAGTGAGCTGAGATTGCGACA\n",
    "    ...\n",
    "    >NC_000013.12 Homo sapiens chromosome 13, GRCh38.p13 Primary Assembly\n",
    "\n",
    "In this example, the first line is the description line, starting with a '>' and the second line starts the DNA sequence.\n",
    "There can be multiple lines of sequence separated by newlines or just a single line.\n",
    "\n",
    "The description line has further structure in that the characters between the '>' and the first whitespace are \n",
    "treated as the sequence record identifier, in this case NC_000012.12 or NC_000013.12\n",
    "\n",
    "More than one FASTA record may be in a FASTA file.\n"
   ]
  },
  {
   "cell_type": "markdown",
   "metadata": {},
   "source": [
    "First, let's look at the description lines in our samples.fa sequence file"
   ]
  },
  {
   "cell_type": "code",
   "execution_count": null,
   "metadata": {},
   "outputs": [],
   "source": [
    "sample_file = 'data/chr12/samples.fa'\n",
    "fileh = open(sample_file, 'r')\n",
    "for line in fileh:\n",
    "    line = line.strip()\n",
    "    if line.startswith('>'):\n",
    "        print(line)"
   ]
  },
  {
   "cell_type": "markdown",
   "metadata": {},
   "source": [
    "Next, let's read them into a list of dictionaries so that we can make changes before we write them out. \n",
    "\n",
    "We'll need to create a new dictionary for each record (each time we see '>')\n",
    "\n",
    "There are multiple lines of DNA sequence for each record that should get saved"
   ]
  },
  {
   "cell_type": "code",
   "execution_count": null,
   "metadata": {},
   "outputs": [],
   "source": [
    "fasta_records = []\n",
    "sample_file = 'data/chr12/samples.fa'\n",
    "fileh = open(sample_file, 'r')\n",
    "current_description = None\n",
    "current_sequence_lines = []\n",
    "for line in fileh:\n",
    "    line = line.strip()\n",
    "    if line.startswith('>'):\n",
    "        if current_description is not None:\n",
    "            new_record = {'description': current_description, 'sequence_lines': current_sequence_lines}\n",
    "            fasta_records.append(new_record)\n",
    "        current_description = line\n",
    "        current_sequence_lines = []\n",
    "    else:\n",
    "        current_sequence_lines.append(line)\n",
    "fasta_records.append({'description': current_description, 'sequence_lines': current_sequence_lines})\n",
    "    "
   ]
  },
  {
   "cell_type": "code",
   "execution_count": null,
   "metadata": {},
   "outputs": [],
   "source": [
    "fasta_records"
   ]
  },
  {
   "cell_type": "markdown",
   "metadata": {},
   "source": [
    "Change the description lines to include the gene name, organism and sequence type so that sample1, for example, looks like this:\n",
    "\n",
    "    >sample1 Homo sapiens acrosin binding protein, mRNA\n",
    "    \n",
    "The .format() function should work well."
   ]
  },
  {
   "cell_type": "markdown",
   "metadata": {},
   "source": [
    "First, make a dictionary out of our annotations data, keyed by the sample name\n",
    "    "
   ]
  },
  {
   "cell_type": "code",
   "execution_count": null,
   "metadata": {},
   "outputs": [],
   "source": [
    "labeled_data_dict = {}\n",
    "for record in sorted_labeled_data:\n",
    "    labeled_data_dict[record['Accession']] = record\n",
    "labeled_data_dict"
   ]
  },
  {
   "cell_type": "code",
   "execution_count": null,
   "metadata": {},
   "outputs": [],
   "source": [
    "for fasta_record in fasta_records:\n",
    "    key = fasta_record['description'][1:]\n",
    "    record = labeled_data_dict[key]\n",
    "    new_description = '>{accession} {organism} {gene_name}, {seq_type}'.format(\n",
    "        accession=record['Accession'],\n",
    "        organism=record['Organism'],\n",
    "        gene_name=record['Gene name'],\n",
    "        seq_type=record['Seq type'],\n",
    "    )\n",
    "    fasta_record['description'] = new_description\n",
    "fasta_records\n",
    "    "
   ]
  },
  {
   "cell_type": "markdown",
   "metadata": {},
   "source": [
    "Use the write function of the file handle to write to the new file.  Don't forget to add newlines."
   ]
  },
  {
   "cell_type": "code",
   "execution_count": null,
   "metadata": {},
   "outputs": [],
   "source": [
    "annotated_sample_file = 'data/chr12/annotated-samples.fa'\n",
    "fileh = open(annotated_sample_file, 'w')\n",
    "for fasta_record in fasta_records:\n",
    "    fileh.write('%s\\n' % fasta_record['description'])\n",
    "    fileh.write('%s\\n' % '\\n'.join(fasta_record['sequence_lines']))\n",
    "fileh.close()"
   ]
  },
  {
   "cell_type": "markdown",
   "metadata": {
    "toc-hr-collapsed": true
   },
   "source": [
    "## Run minimap2 using annotated-samples.fa as the query and chr12.fa.gz as the reference sequence"
   ]
  },
  {
   "cell_type": "markdown",
   "metadata": {
    "toc-hr-collapsed": true
   },
   "source": [
    "minimap2 is a command line tool for mapping query sequences to a reference.  This is useful for characterizing \n",
    "query sequences, SNP detection, finding orthologs (from close relatives), etc.  Command line usage is described \n",
    "as follows:\n",
    "\n",
    "    Usage: minimap2 [options] <target.fa>|<target.idx> [query.fa] [...]\n",
    "\n",
    "where 'target' is the reference sequence (chr12.fa.gz for us)"
   ]
  },
  {
   "cell_type": "code",
   "execution_count": null,
   "metadata": {},
   "outputs": [],
   "source": [
    "target_file = 'data/chr12/chr12.fa.gz'"
   ]
  },
  {
   "cell_type": "code",
   "execution_count": null,
   "metadata": {},
   "outputs": [],
   "source": [
    "cmd = './minimap2 {} {}'.format(target_file, annotated_sample_file)"
   ]
  },
  {
   "cell_type": "code",
   "execution_count": null,
   "metadata": {},
   "outputs": [],
   "source": [
    "cmd"
   ]
  },
  {
   "cell_type": "markdown",
   "metadata": {
    "toc-hr-collapsed": true
   },
   "source": [
    "### The most convenient way to run a shell command is _os.system()_"
   ]
  },
  {
   "cell_type": "markdown",
   "metadata": {
    "toc-hr-collapsed": true
   },
   "source": [
    "_os.system_ runs a command in a bash shell and outputs stderr and stdout to the console.  It returns the shell return code (e.g. zero for success)\n",
    "\n",
    "Because it goes to the console, your Python code does not capture the output.\n",
    "\n",
    "Execution is synchronous, so your program has to wait until it's done.\n",
    "\n",
    "Bash shell (or whatever your current shell is) interpolation is done so PATH is honored, redirection works, etc."
   ]
  },
  {
   "cell_type": "code",
   "execution_count": null,
   "metadata": {},
   "outputs": [],
   "source": [
    "os.system(cmd)"
   ]
  },
  {
   "cell_type": "markdown",
   "metadata": {},
   "source": [
    "You can check the return code for non-zero-ness"
   ]
  },
  {
   "cell_type": "code",
   "execution_count": null,
   "metadata": {},
   "outputs": [],
   "source": [
    "cmd = './minimap2 --non-existent-switch {} {}'.format(target_file, annotated_sample_file)"
   ]
  },
  {
   "cell_type": "code",
   "execution_count": null,
   "metadata": {},
   "outputs": [],
   "source": [
    "if os.system(cmd) != 0:\n",
    "    print('Fail!')\n",
    "else:\n",
    "    print('Success!')"
   ]
  },
  {
   "cell_type": "markdown",
   "metadata": {},
   "source": [
    "But you need to capture stderr to find out what happened"
   ]
  },
  {
   "cell_type": "code",
   "execution_count": null,
   "metadata": {},
   "outputs": [],
   "source": [
    "cmd = './minimap2 --non-existent-switch {} {} 2> stderr 1> stdout'.format(target_file, annotated_sample_file)"
   ]
  },
  {
   "cell_type": "code",
   "execution_count": null,
   "metadata": {},
   "outputs": [],
   "source": [
    "if os.system(cmd) != 0:\n",
    "    stderrh = open('stderr', 'r')\n",
    "    print(stderrh.read())"
   ]
  },
  {
   "cell_type": "markdown",
   "metadata": {
    "toc-hr-collapsed": true
   },
   "source": [
    "### The subprocess _Popen()_ constructor allows more flexibility and power in the execution of shell commands."
   ]
  },
  {
   "cell_type": "markdown",
   "metadata": {
    "toc-hr-collapsed": true
   },
   "source": [
    "The _Popen()_ constructor creates a process handle that can be used to capture stderr, stdout or pipe data into\n",
    "stdin.\n",
    "\n",
    "Run a process using Popen just like _os.system()_"
   ]
  },
  {
   "cell_type": "code",
   "execution_count": null,
   "metadata": {},
   "outputs": [],
   "source": [
    "import subprocess"
   ]
  },
  {
   "cell_type": "code",
   "execution_count": null,
   "metadata": {},
   "outputs": [],
   "source": [
    "cmd = './minimap2 -a {} {}'.format(target_file, annotated_sample_file)"
   ]
  },
  {
   "cell_type": "code",
   "execution_count": null,
   "metadata": {},
   "outputs": [],
   "source": [
    "proc = subprocess.Popen(cmd, shell=True)\n",
    "proc.wait()"
   ]
  },
  {
   "cell_type": "markdown",
   "metadata": {},
   "source": [
    "To capture stderr and stdout, use _PIPE_ and _.communicate()_"
   ]
  },
  {
   "cell_type": "code",
   "execution_count": null,
   "metadata": {},
   "outputs": [],
   "source": [
    "proc = subprocess.Popen(cmd, shell=True, stdout=subprocess.PIPE, stderr=subprocess.PIPE)"
   ]
  },
  {
   "cell_type": "code",
   "execution_count": null,
   "metadata": {},
   "outputs": [],
   "source": [
    "stdout, stderr = proc.communicate()\n",
    "if proc.returncode == 0:\n",
    "    print(stdout)\n",
    "else:\n",
    "    print('Fail %s' % stderr)"
   ]
  },
  {
   "cell_type": "markdown",
   "metadata": {},
   "source": [
    "In Python 3, shell output is returned as a bytearray that must be decoded"
   ]
  },
  {
   "cell_type": "code",
   "execution_count": null,
   "metadata": {},
   "outputs": [],
   "source": [
    "proc = subprocess.Popen(cmd, shell=True, stdout=subprocess.PIPE, stderr=subprocess.PIPE)\n",
    "stdout, stderr = proc.communicate()\n",
    "if proc.returncode == 0:\n",
    "    print(stdout.decode('ascii'))\n",
    "else:\n",
    "    print('Fail %s' % stderr)"
   ]
  },
  {
   "cell_type": "markdown",
   "metadata": {},
   "source": [
    "A runcmd function can be handy"
   ]
  },
  {
   "cell_type": "code",
   "execution_count": null,
   "metadata": {},
   "outputs": [],
   "source": [
    "def runcmd(cmd, stdout=subprocess.PIPE, stderr=subprocess.PIPE):\n",
    "    proc = subprocess.Popen(cmd, shell=True, stdout=stdout, stderr=stderr)\n",
    "    stdout, stderr = proc.communicate()\n",
    "    return {'returncode': proc.returncode, 'stdout': stdout.decode('utf-8'), 'stderr': stderr.decode('utf-8')}"
   ]
  },
  {
   "cell_type": "code",
   "execution_count": null,
   "metadata": {},
   "outputs": [],
   "source": [
    "result = runcmd(cmd)"
   ]
  },
  {
   "cell_type": "code",
   "execution_count": null,
   "metadata": {},
   "outputs": [],
   "source": [
    "print(result['returncode'], \"\\n\", result['stdout'].split(\"\\n\")[:10], \"\\n\", result['stderr'])"
   ]
  },
  {
   "cell_type": "markdown",
   "metadata": {
    "toc-hr-collapsed": true
   },
   "source": [
    "### A Pool from the multiprocessing module can support parallel execution"
   ]
  },
  {
   "cell_type": "markdown",
   "metadata": {
    "toc-hr-collapsed": true
   },
   "source": [
    "Python cannot do real, parallel multithreading due to the [GIL](https://realpython.com/python-gil/).  The multiprocessing module simulates a threading library, but uses forked processes."
   ]
  },
  {
   "cell_type": "markdown",
   "metadata": {
    "toc-hr-collapsed": true
   },
   "source": [
    "#### An interlude about Python modules"
   ]
  },
  {
   "cell_type": "markdown",
   "metadata": {
    "toc-hr-collapsed": true
   },
   "source": [
    "##### A module is a file with Python definitions and statements.  The _import_ statement allows you to use those definitions in your code"
   ]
  },
  {
   "cell_type": "markdown",
   "metadata": {},
   "source": [
    "The creation of modules is how Python libraries are made and shared.\n",
    "\n",
    "For example, if you're doing several projects with DNA sequence, you might like a module that had common DNA sequence manipulations.  In a file called dna.py you could define several functions and data that you might use repeatedly:\n",
    "\n",
    "```python\n",
    "DNA_COMPLEMENT = {\n",
    "    'A': 'T',\n",
    "    'T': 'A',\n",
    "    'C': 'G',\n",
    "    'G': 'C',\n",
    "}\n",
    "\n",
    "def reverse_complement(dna):\n",
    "    '''\n",
    "    Return the reverse complement of the DNA sequence\n",
    "    '''\n",
    "    complement = []\n",
    "    for base in reversed(dna):\n",
    "        complement.append(DNA_COMPLEMENT[base.upper()])\n",
    "    return complement\n",
    "\n",
    "\n",
    "def translate(dna, frame=0):\n",
    "    '''\n",
    "    Translate a string of dna sequence into protein sequence using the given frame\n",
    "    '''\n",
    "    protein_sequence = []\n",
    "    for i in range(frame, len(dna), 3):\n",
    "        ...\n",
    "    return ''.join(protein_sequence)\n",
    "\n",
    "def transcribe(dna):\n",
    "    '''\n",
    "    Convert DNA into RNA\n",
    "    '''\n",
    "    return dna.replace('T', 'U')\n",
    "```\n",
    "\n",
    "\n",
    "To use the functions in this file, you would have to either import the entire module and use the functions (via the dot operator):\n",
    "\n",
    "```python\n",
    "import dna\n",
    "\n",
    "transcript_sequence = 'TACGATCGATCGATCGATTATCGATCAGTCA'\n",
    "protein_sequence = dna.translate(transcript_sequence)\n",
    "```\n",
    "\n",
    "Or you could import specific functions from the file\n",
    "\n",
    "```python\n",
    "from dna import translate\n",
    "\n",
    "protein_sequence = translate('TACGATCGATCGATCGATTATCGATCAGTCA')\n",
    "``` \n",
    "    \n",
    "The _from_ keyword will get you to the thing you want to import, but the import is what you're allowed to use in your code"
   ]
  },
  {
   "cell_type": "markdown",
   "metadata": {
    "toc-hr-collapsed": true
   },
   "source": [
    "##### Python modules can be organized in directories traversed by _from_"
   ]
  },
  {
   "cell_type": "markdown",
   "metadata": {},
   "source": [
    "If the _dna.py_ file described above is placed under a path, e.g. _seqlib/seq/nuc/dna.py_, functions could be accessed using the _from_ keyword with dots replacing the path separator.\n",
    "\n",
    "```python\n",
    "from seqlib.seq.nuc.dna import transcribe\n",
    "```\n",
    "    \n",
    "This will work, but a file named \\_\\_init\\_\\_.py must be present in each of the directories"
   ]
  },
  {
   "cell_type": "markdown",
   "metadata": {},
   "source": [
    "##### Python starts looking for modules based on the value of _sys.path_, which may include PYTHONPATH, the current directory, and ~/.local"
   ]
  },
  {
   "cell_type": "markdown",
   "metadata": {},
   "source": [
    "    [akitzmiller@bioinf01 ~]$ echo $PYTHONPATH\n",
    "    /odyssey/rc_admin/sw/admin/rcpy:\n",
    "\n",
    "    [akitzmiller@bioinf01 ~]$ pwd\n",
    "    /n/home_rc/akitzmiller\n",
    "\n",
    "    [akitzmiller@bioinf01 ~]$ python\n",
    "    Python 2.7.5 (default, Apr  9 2019, 14:30:50) \n",
    "    [GCC 4.8.5 20150623 (Red Hat 4.8.5-36)] on linux2\n",
    "    Type \"help\", \"copyright\", \"credits\" or \"license\" for more information.\n",
    "    \n",
    "    >>> import sys, os\n",
    "    \n",
    "    >>> os.environ['PYTHONPATH']\n",
    "    '/odyssey/rc_admin/sw/admin/rcpy:'\n",
    "    \n",
    "    >>> print '\\n'.join(sys.path)\n",
    "\n",
    "    /odyssey/rc_admin/sw/admin/rcpy\n",
    "    /n/home_rc/akitzmiller\n",
    "    /usr/lib64/python27.zip\n",
    "    /usr/lib64/python2.7\n",
    "    /usr/lib64/python2.7/plat-linux2\n",
    "    /usr/lib64/python2.7/lib-tk\n",
    "    /usr/lib64/python2.7/lib-old\n",
    "    /usr/lib64/python2.7/lib-dynload\n",
    "    /usr/lib64/python2.7/site-packages\n",
    "    /usr/lib64/python2.7/site-packages/gtk-2.0\n",
    "    /usr/lib/python2.7/site-packages\n",
    "    >>> \n"
   ]
  },
  {
   "cell_type": "markdown",
   "metadata": {},
   "source": [
    "##### You can find where a module comes from using the \\_\\_file\\_\\_ property of the module\n",
    "Seriously, everything is an object"
   ]
  },
  {
   "cell_type": "code",
   "execution_count": null,
   "metadata": {},
   "outputs": [],
   "source": [
    "os.__file__"
   ]
  },
  {
   "cell_type": "markdown",
   "metadata": {},
   "source": [
    "##### sys.path is setup relative to the interpreter path, which is why virtual environments work (more about them later)"
   ]
  },
  {
   "cell_type": "code",
   "execution_count": null,
   "metadata": {},
   "outputs": [],
   "source": [
    "import sys\n",
    "print('\\n'.join(sys.path))"
   ]
  },
  {
   "cell_type": "markdown",
   "metadata": {
    "toc-hr-collapsed": true
   },
   "source": [
    "#### A multiprocessing Pool allows you to manage parallel processes easily"
   ]
  },
  {
   "cell_type": "markdown",
   "metadata": {},
   "source": [
    "A multiprocessing Pool is an object that allows you to launch, manage, and retrieve results from a set of forked processes."
   ]
  },
  {
   "cell_type": "markdown",
   "metadata": {
    "toc-hr-collapsed": true
   },
   "source": [
    "#### The _map_ function applies a set of values to a single argument function.  This is a useful way to do a \"parameter sweep\" type of execution."
   ]
  },
  {
   "cell_type": "markdown",
   "metadata": {},
   "source": [
    "```python\n",
    "from multiprocessing import Pool\n",
    "import os\n",
    "\n",
    "def echo(echoable):\n",
    "    os.system('echo %s && sleep 10' % echoable)\n",
    "    \n",
    "echoables = [\n",
    "    'ajk',\n",
    "    '123',\n",
    "    'qwerty',\n",
    "    'uiop',\n",
    "    'lkjdsa',\n",
    "]\n",
    "\n",
    "numprocs = 3\n",
    "pool = Pool(numprocs)\n",
    "result = pool.map(echo,echoables)\n",
    "```\n",
    "\n",
    "_123_ <br/>\n",
    "_ajk_ <br/>\n",
    "_qwerty_ <br/>\n",
    "_lkjdsa_ <br/>\n",
    "_uiop_ <br/>\n"
   ]
  },
  {
   "cell_type": "markdown",
   "metadata": {
    "toc-hr-collapsed": true
   },
   "source": [
    "#### The _apply_async_ function allows you to apply many arguments and returns a 'handle' for interacting with the process."
   ]
  },
  {
   "cell_type": "markdown",
   "metadata": {},
   "source": [
    "In order for this to work in parallel, you'll need to collect the result handles in a list"
   ]
  },
  {
   "cell_type": "markdown",
   "metadata": {},
   "source": [
    "```python\n",
    "from multiprocessing import Pool\n",
    "import os\n",
    "def greet(name, message):\n",
    "    os.system('echo \"Hi %s, %s\" && sleep 10' % (name,message))\n",
    "    return '%s was greeted' % name\n",
    "\n",
    "greetings = [\n",
    "    ('Aaron', \"What's up?\"),\n",
    "    ('Bert', \"Where's Ernie?\"),\n",
    "    ('Donald', \"What're you thinking?\"),\n",
    "    ('folks', 'Sup!'),\n",
    "]\n",
    "numprocs = 3\n",
    "pool = Pool(numprocs)\n",
    "results = []\n",
    "for greeting in greetings:\n",
    "    result = pool.apply_async(greet, greeting)\n",
    "    results.append(result)\n",
    "```\n",
    "\n",
    "_Hi Bert, Where's Ernie?_ <br/>\n",
    "_Hi Aaron, What's up?_ <br/>\n",
    "_Hi Donald, What're you thinking?_ <br/>\n",
    "_Hi folks, Sup!_ <br/>\n",
    "    \n",
    "```python\n",
    "for result in results:\n",
    "    print(result.get())\n",
    "```\n",
    "\n",
    "_Aaron was greeted_ <br/>\n",
    "_Bert was greeted_ <br/>\n",
    "_Donald was greeted_ <br/>\n",
    "_folks was greeted_ <br/>\n"
   ]
  },
  {
   "cell_type": "markdown",
   "metadata": {
    "toc-hr-collapsed": true
   },
   "source": [
    "#### Run several minimap2 processes in parallel"
   ]
  },
  {
   "cell_type": "markdown",
   "metadata": {},
   "source": [
    "Create a function that runs minimap2"
   ]
  },
  {
   "cell_type": "code",
   "execution_count": null,
   "metadata": {},
   "outputs": [],
   "source": [
    "def minimap2(target_file, query_file):\n",
    "    cmd = './minimap2 {} {}'.format(target_file, query_file)\n",
    "    return runcmd(cmd)"
   ]
  },
  {
   "cell_type": "markdown",
   "metadata": {},
   "source": [
    "Setup function arguments in a list"
   ]
  },
  {
   "cell_type": "code",
   "execution_count": null,
   "metadata": {},
   "outputs": [],
   "source": [
    "queries = [\n",
    "    'data/chr12/annotated-samples.fa',\n",
    "    'data/chr12/mouse.fa',\n",
    "    'data/chr12/zebrafish.fa',\n",
    "]\n",
    "target = 'data/chr12/chr12.fa.gz'"
   ]
  },
  {
   "cell_type": "markdown",
   "metadata": {},
   "source": [
    "Running in series will be pretty slow"
   ]
  },
  {
   "cell_type": "code",
   "execution_count": null,
   "metadata": {},
   "outputs": [],
   "source": [
    "import time\n",
    "\n",
    "starttime = time.time()\n",
    "for query in queries:\n",
    "    output = minimap2(target, query)\n",
    "    print(output['stderr'])\n",
    "elapsed = time.time() - starttime\n",
    "print('%d seconds elapsed' % elapsed)"
   ]
  },
  {
   "cell_type": "markdown",
   "metadata": {},
   "source": [
    "But in parallel"
   ]
  },
  {
   "cell_type": "code",
   "execution_count": null,
   "metadata": {},
   "outputs": [],
   "source": [
    "from multiprocessing import Pool\n",
    "\n",
    "numprocs = 2\n",
    "pool = Pool(numprocs)\n",
    "results = []\n",
    "starttime = time.time()\n",
    "for query in queries:\n",
    "    result = pool.apply_async(minimap2, [target, query])\n",
    "    results.append(result)\n",
    "\n",
    "print('Finished applying to Pool')\n",
    "\n",
    "for result in results:\n",
    "    output = result.get()\n",
    "    print(output['stderr'])\n",
    "elapsed = time.time() - starttime\n",
    "print('%d seconds elapsed' % elapsed)"
   ]
  },
  {
   "cell_type": "code",
   "execution_count": null,
   "metadata": {},
   "outputs": [],
   "source": []
  },
  {
   "cell_type": "code",
   "execution_count": null,
   "metadata": {},
   "outputs": [],
   "source": [
    "annotated_sample_file"
   ]
  },
  {
   "cell_type": "code",
   "execution_count": null,
   "metadata": {},
   "outputs": [],
   "source": [
    "fasta_records = []\n",
    "sample_file = annotated_sample_file\n",
    "fileh = open(sample_file, 'r')\n",
    "current_description = None\n",
    "current_sequence_lines = []\n",
    "for line in fileh:\n",
    "    line = line.strip()\n",
    "    if line.startswith('>'):\n",
    "        if current_description is not None:\n",
    "            new_record = {'description': current_description, 'sequence': ''.join(current_sequence_lines)}\n",
    "            fasta_records.append(new_record)\n",
    "        current_description = line\n",
    "        current_sequence_lines = []\n",
    "    else:\n",
    "        current_sequence_lines.append(line)\n",
    "fasta_records.append({'description': current_description, 'sequence': ''.join(current_sequence_lines)})\n",
    "    "
   ]
  },
  {
   "cell_type": "code",
   "execution_count": null,
   "metadata": {},
   "outputs": [],
   "source": [
    "print(fasta_records[0])"
   ]
  },
  {
   "cell_type": "markdown",
   "metadata": {
    "toc-hr-collapsed": true
   },
   "source": [
    "## Search for patterns in the DNA sequence using regular expressions"
   ]
  },
  {
   "cell_type": "markdown",
   "metadata": {},
   "source": [
    "Python has a full-featured, Perl-ish regular expression syntax provided by the _re_ module"
   ]
  },
  {
   "cell_type": "markdown",
   "metadata": {},
   "source": [
    "First, a simple search for DNA-ness in each of the fasta record sequences."
   ]
  },
  {
   "cell_type": "markdown",
   "metadata": {},
   "source": [
    "Using _re.search_ looks for at least one instance of the pattern"
   ]
  },
  {
   "cell_type": "code",
   "execution_count": null,
   "metadata": {},
   "outputs": [],
   "source": [
    "import re"
   ]
  },
  {
   "cell_type": "code",
   "execution_count": null,
   "metadata": {},
   "outputs": [],
   "source": [
    "for fasta_record in fasta_records:\n",
    "    if re.search(r'A', fasta_record['sequence']):\n",
    "        print('Found at least one Adenine in FASTA record %s' % fasta_record['description'])\n",
    "        "
   ]
  },
  {
   "cell_type": "markdown",
   "metadata": {},
   "source": [
    "You can search for multiple character patterns, like 'A' followed by 'T'"
   ]
  },
  {
   "cell_type": "code",
   "execution_count": null,
   "metadata": {},
   "outputs": [],
   "source": [
    "for fasta_record in fasta_records:\n",
    "    if re.search(r'AT', fasta_record['sequence']):\n",
    "        print('Found at least one Adenine-Thymine in FASTA record %s' % fasta_record['description'])"
   ]
  },
  {
   "cell_type": "markdown",
   "metadata": {},
   "source": [
    "You can also search for character sets, e.g. one of A,T,C, or G, using square brackets []."
   ]
  },
  {
   "cell_type": "code",
   "execution_count": null,
   "metadata": {},
   "outputs": [],
   "source": [
    "for fasta_record in fasta_records:\n",
    "    if re.search(r'[ATCG]', fasta_record['sequence']):\n",
    "        print('Found at least one of A or T or C or G in FASTA record %s' % fasta_record['description'])"
   ]
  },
  {
   "cell_type": "code",
   "execution_count": null,
   "metadata": {},
   "outputs": [],
   "source": [
    "for fasta_record in fasta_records:\n",
    "    if re.search(r'[U]', fasta_record['sequence']):\n",
    "        print('Found a U in FASTA record %s' % fasta_record['description'])\n",
    "    else:\n",
    "        print('No U found in %s' % fasta_record['description'])"
   ]
  },
  {
   "cell_type": "markdown",
   "metadata": {},
   "source": [
    "There are more general character classes built in, like \\S (any non-whitespace) or \\s (any whitespace)"
   ]
  },
  {
   "cell_type": "code",
   "execution_count": null,
   "metadata": {},
   "outputs": [],
   "source": [
    "for fasta_record in fasta_records:\n",
    "    if re.search(r'\\S', fasta_record['sequence']):\n",
    "        print('Found at least one non whitespace character in FASTA record %s' % fasta_record['description'])"
   ]
  },
  {
   "cell_type": "code",
   "execution_count": null,
   "metadata": {},
   "outputs": [],
   "source": [
    "for fasta_record in fasta_records:\n",
    "    if re.search(r'\\S\\s', fasta_record['sequence']):\n",
    "        print('Found a non-whitespace followed by a whitespace in FASTA record %s' % fasta_record['description'])\n",
    "    else:\n",
    "        print('No non-whitespace followed by a whitespace found in %s' % fasta_record['description'])"
   ]
  },
  {
   "cell_type": "markdown",
   "metadata": {},
   "source": [
    "Quantifiers ({n,m}) can define how many times you see the character(s) you're searching for."
   ]
  },
  {
   "cell_type": "code",
   "execution_count": null,
   "metadata": {},
   "outputs": [],
   "source": [
    "for fasta_record in fasta_records:\n",
    "    if re.search(r'CA{2,3}', fasta_record['sequence']):\n",
    "        print('Found C followed by 2 or 3 As in FASTA record %s' % fasta_record['description'])"
   ]
  },
  {
   "cell_type": "markdown",
   "metadata": {},
   "source": [
    "Without the second number and comma, it must be an exact number"
   ]
  },
  {
   "cell_type": "code",
   "execution_count": null,
   "metadata": {},
   "outputs": [],
   "source": [
    "for fasta_record in fasta_records:\n",
    "    if re.search(r'CA{6}', fasta_record['sequence']):\n",
    "        print('Found at least one C followed by 6 As in FASTA record %s' % fasta_record['description'])"
   ]
  },
  {
   "cell_type": "markdown",
   "metadata": {},
   "source": [
    "If you leave the comma in, it's n or more"
   ]
  },
  {
   "cell_type": "code",
   "execution_count": null,
   "metadata": {},
   "outputs": [],
   "source": [
    "for fasta_record in fasta_records:\n",
    "    if re.search(r'CA{5,}', fasta_record['sequence']):\n",
    "        print('Found at least C followed by 5 or more As in FASTA record %s' % fasta_record['description'])"
   ]
  },
  {
   "cell_type": "markdown",
   "metadata": {},
   "source": [
    "There are special quantifiers '+' (one or more) and '*' (zero or more)"
   ]
  },
  {
   "cell_type": "code",
   "execution_count": null,
   "metadata": {},
   "outputs": [],
   "source": [
    "for fasta_record in fasta_records:\n",
    "    if re.search(r'ATG+', fasta_record['sequence']):\n",
    "        print('Found AT followed by at least one G %s' % fasta_record['description'])"
   ]
  },
  {
   "cell_type": "code",
   "execution_count": null,
   "metadata": {},
   "outputs": [],
   "source": [
    "for fasta_record in fasta_records:\n",
    "    if re.search(r'U*', fasta_record['sequence']):\n",
    "        print('Found zero or more uracil bases in FASTA record %s' % fasta_record['description'])"
   ]
  },
  {
   "cell_type": "markdown",
   "metadata": {},
   "source": [
    "Non-capturing groups _(?:)_ support or-ing together strings"
   ]
  },
  {
   "cell_type": "code",
   "execution_count": null,
   "metadata": {},
   "outputs": [],
   "source": [
    "for fasta_record in fasta_records:\n",
    "    if re.search(r'ATG.+(?:TAG|TAA|TGA)', fasta_record['sequence']):\n",
    "        print('Found a transcript looking thing %s' % fasta_record['description'])"
   ]
  },
  {
   "cell_type": "markdown",
   "metadata": {},
   "source": [
    "Using capture groups, you can extract the matches"
   ]
  },
  {
   "cell_type": "code",
   "execution_count": null,
   "metadata": {},
   "outputs": [],
   "source": [
    "for fasta_record in fasta_records:\n",
    "    match = re.search(r'(ATG.+(?:TAG|TAA|TGA))', fasta_record['sequence'])\n",
    "    if match:\n",
    "        print('Found a transcript looking thing %s' % fasta_record['description'])\n",
    "        print(match.group(1))"
   ]
  },
  {
   "cell_type": "markdown",
   "metadata": {},
   "source": [
    "The _split()_ function allows you to break a string based on a regular expression."
   ]
  },
  {
   "cell_type": "markdown",
   "metadata": {},
   "source": [
    "Find potential genes by splitting chr12 on stop codons followed by a lot of T"
   ]
  },
  {
   "cell_type": "code",
   "execution_count": null,
   "metadata": {},
   "outputs": [],
   "source": [
    "os.system('gzip -d data/chr12/chr12.fa.gz')\n",
    "chr12 = []\n",
    "with open('data/chr12/chr12.fa', 'r') as fileh:\n",
    "    for line in fileh:\n",
    "        if not line.startswith('>'):\n",
    "            chr12.append(line.strip())"
   ]
  },
  {
   "cell_type": "code",
   "execution_count": null,
   "metadata": {},
   "outputs": [],
   "source": [
    "len(chr12)"
   ]
  },
  {
   "cell_type": "code",
   "execution_count": null,
   "metadata": {},
   "outputs": [],
   "source": [
    "chr12 = ''.join(chr12)"
   ]
  },
  {
   "cell_type": "code",
   "execution_count": null,
   "metadata": {},
   "outputs": [],
   "source": [
    "coding = re.split(r'(T[GA][GA]A{20,})', chr12)"
   ]
  },
  {
   "cell_type": "code",
   "execution_count": null,
   "metadata": {},
   "outputs": [],
   "source": [
    "len(coding)"
   ]
  },
  {
   "cell_type": "code",
   "execution_count": null,
   "metadata": {},
   "outputs": [],
   "source": [
    "for c in coding:\n",
    "    print(len(c))"
   ]
  },
  {
   "cell_type": "code",
   "execution_count": null,
   "metadata": {},
   "outputs": [],
   "source": []
  }
 ],
 "metadata": {
  "kernelspec": {
   "display_name": "Python 3",
   "language": "python",
   "name": "python3"
  },
  "language_info": {
   "codemirror_mode": {
    "name": "ipython",
    "version": 3
   },
   "file_extension": ".py",
   "mimetype": "text/x-python",
   "name": "python",
   "nbconvert_exporter": "python",
   "pygments_lexer": "ipython3",
   "version": "3.6.7"
  },
  "toc-showcode": false,
  "toc-showmarkdowntxt": true,
  "toc-showtags": false
 },
 "nbformat": 4,
 "nbformat_minor": 4
}
