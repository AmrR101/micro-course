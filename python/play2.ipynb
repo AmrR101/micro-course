{
 "cells": [
  {
   "cell_type": "markdown",
   "metadata": {},
   "source": [
    "# A small bioinformatics exercise\n",
    "This notebook uses a small bioinformatics exercise to show aspects of the Python programming \n",
    "language in the context of a real(ish) data processing activity.\n",
    "\n",
    "We will be reading, writing, and manipulating text files and running a small sequence alignment\n",
    "program.  Over the course of this we will cover programming topics such as:\n",
    "\n",
    "   * Built-in Python types including strings, ints, floats\n",
    "   * Python code blocks including if/then/else, while and for loops, functions and classes,\n",
    "     and context managers\n",
    "   * Exception handling\n",
    "   * Context managers\n",
    "   * System calls"
   ]
  },
  {
   "cell_type": "markdown",
   "metadata": {},
   "source": [
    "## Four ways to setup a filename\n",
    "This section shows four different ways to get to a filename that can be opened.\n",
    "\n",
    "### 1. Assign a string literal to a variable\n",
    "You can use tab completion to fill out the filename, because Jupyter lets you do that."
   ]
  },
  {
   "cell_type": "code",
   "execution_count": 2,
   "metadata": {},
   "outputs": [
    {
     "data": {
      "text/plain": [
       "'data/chr12/annotations.1.txt'"
      ]
     },
     "execution_count": 2,
     "metadata": {},
     "output_type": "execute_result"
    }
   ],
   "source": [
    "file_name = 'data/chr12/annotations.1.txt'\n",
    "file_name"
   ]
  },
  {
   "cell_type": "code",
   "execution_count": 6,
   "metadata": {},
   "outputs": [
    {
     "data": {
      "text/plain": [
       "str"
      ]
     },
     "execution_count": 6,
     "metadata": {},
     "output_type": "execute_result"
    }
   ],
   "source": [
    "type(file_name)"
   ]
  },
  {
   "cell_type": "code",
   "execution_count": 7,
   "metadata": {},
   "outputs": [
    {
     "data": {
      "text/plain": [
       "int"
      ]
     },
     "execution_count": 7,
     "metadata": {},
     "output_type": "execute_result"
    }
   ],
   "source": [
    "file_number = 1\n",
    "type(file_number)"
   ]
  },
  {
   "cell_type": "code",
   "execution_count": 8,
   "metadata": {},
   "outputs": [
    {
     "data": {
      "text/plain": [
       "str"
      ]
     },
     "execution_count": 8,
     "metadata": {},
     "output_type": "execute_result"
    }
   ],
   "source": [
    "file_number = '1'\n",
    "type(file_number)"
   ]
  },
  {
   "cell_type": "code",
   "execution_count": 9,
   "metadata": {},
   "outputs": [
    {
     "data": {
      "text/plain": [
       "float"
      ]
     },
     "execution_count": 9,
     "metadata": {},
     "output_type": "execute_result"
    }
   ],
   "source": [
    "file_number = 1.5\n",
    "type(file_number)"
   ]
  },
  {
   "cell_type": "code",
   "execution_count": 36,
   "metadata": {},
   "outputs": [
    {
     "data": {
      "text/plain": [
       "2"
      ]
     },
     "execution_count": 36,
     "metadata": {},
     "output_type": "execute_result"
    }
   ],
   "source": [
    "1 + 1"
   ]
  },
  {
   "cell_type": "code",
   "execution_count": 37,
   "metadata": {},
   "outputs": [
    {
     "data": {
      "text/plain": [
       "'11'"
      ]
     },
     "execution_count": 37,
     "metadata": {},
     "output_type": "execute_result"
    }
   ],
   "source": [
    "'1' + '1'"
   ]
  },
  {
   "cell_type": "markdown",
   "metadata": {},
   "source": [
    "### 2. Concatenate string elements.  Try it as a function\n",
    "Strings can be concatenated with the '+' operator.  Non-strings must be\n",
    "converted first. "
   ]
  },
  {
   "cell_type": "code",
   "execution_count": 15,
   "metadata": {},
   "outputs": [],
   "source": [
    "data_dir = 'data'\n",
    "project_name = 'chr12'\n",
    "annotations_file_name = 'annotations'\n",
    "annotations_file_version = 1\n",
    "annotations_file_ext = 'txt'"
   ]
  },
  {
   "cell_type": "code",
   "execution_count": 16,
   "metadata": {},
   "outputs": [
    {
     "data": {
      "text/plain": [
       "2"
      ]
     },
     "execution_count": 16,
     "metadata": {},
     "output_type": "execute_result"
    }
   ],
   "source": [
    "1 + 1"
   ]
  },
  {
   "cell_type": "code",
   "execution_count": 19,
   "metadata": {},
   "outputs": [
    {
     "data": {
      "text/plain": [
       "'data/chr12/annotations.1.txt'"
      ]
     },
     "execution_count": 19,
     "metadata": {},
     "output_type": "execute_result"
    }
   ],
   "source": [
    "file_name = data_dir + '/' + project_name + '/' + annotations_file_name + '.' + str(annotations_file_version) + '.' + annotations_file_ext\n",
    "file_name"
   ]
  },
  {
   "cell_type": "markdown",
   "metadata": {},
   "source": [
    "Let's make a function out of it"
   ]
  },
  {
   "cell_type": "code",
   "execution_count": 30,
   "metadata": {},
   "outputs": [],
   "source": [
    "def get_annotation_file_name(data_dir, project_name, annotations_file_version, annotations_file_name='annotations', annotations_file_ext='txt'):\n",
    "    '''Concatenates data_dir and project_name for path.  \"annotations.<version>.<extension>\" is the file name.'''\n",
    "    return data_dir + '/' + project_name + '/' + annotations_file_name + '.' + str(annotations_file_version) + '.' + annotations_file_ext"
   ]
  },
  {
   "cell_type": "code",
   "execution_count": 23,
   "metadata": {},
   "outputs": [
    {
     "data": {
      "text/plain": [
       "'data/chr12/annotations.1.txt'"
      ]
     },
     "execution_count": 23,
     "metadata": {},
     "output_type": "execute_result"
    }
   ],
   "source": [
    "get_annotation_file_name(data_dir, project_name, annotations_file_version)"
   ]
  },
  {
   "cell_type": "code",
   "execution_count": 24,
   "metadata": {},
   "outputs": [
    {
     "data": {
      "text/plain": [
       "'data/chr12/anothername.1.txt'"
      ]
     },
     "execution_count": 24,
     "metadata": {},
     "output_type": "execute_result"
    }
   ],
   "source": [
    "get_annotation_file_name(data_dir, project_name, annotations_file_version, annotations_file_name='anothername')"
   ]
  },
  {
   "cell_type": "code",
   "execution_count": 26,
   "metadata": {},
   "outputs": [
    {
     "data": {
      "text/plain": [
       "'data/chr12/anothername.2.txt'"
      ]
     },
     "execution_count": 26,
     "metadata": {},
     "output_type": "execute_result"
    }
   ],
   "source": [
    "get_annotation_file_name(data_dir, project_name, 2, annotations_file_name='anothername')"
   ]
  },
  {
   "cell_type": "code",
   "execution_count": 27,
   "metadata": {},
   "outputs": [
    {
     "data": {
      "text/plain": [
       "'chr12/chr12/annotations.2.txt'"
      ]
     },
     "execution_count": 27,
     "metadata": {},
     "output_type": "execute_result"
    }
   ],
   "source": [
    "get_annotation_file_name(project_name, project_name, 2)"
   ]
  },
  {
   "cell_type": "code",
   "execution_count": 28,
   "metadata": {},
   "outputs": [
    {
     "data": {
      "text/plain": [
       "'data/chr13/annotations.3.csv'"
      ]
     },
     "execution_count": 28,
     "metadata": {},
     "output_type": "execute_result"
    }
   ],
   "source": [
    "get_annotation_file_name(annotations_file_ext='csv', data_dir=data_dir, annotations_file_version=3, project_name='chr13')"
   ]
  },
  {
   "cell_type": "code",
   "execution_count": 29,
   "metadata": {},
   "outputs": [
    {
     "ename": "TypeError",
     "evalue": "get_annotation_file_name() missing 1 required positional argument: 'data_dir'",
     "output_type": "error",
     "traceback": [
      "\u001b[0;31m---------------------------------------------------------------------------\u001b[0m",
      "\u001b[0;31mTypeError\u001b[0m                                 Traceback (most recent call last)",
      "\u001b[0;32m<ipython-input-29-68944fa91d74>\u001b[0m in \u001b[0;36m<module>\u001b[0;34m\u001b[0m\n\u001b[0;32m----> 1\u001b[0;31m \u001b[0mget_annotation_file_name\u001b[0m\u001b[0;34m(\u001b[0m\u001b[0mannotations_file_ext\u001b[0m\u001b[0;34m=\u001b[0m\u001b[0;34m'csv'\u001b[0m\u001b[0;34m,\u001b[0m \u001b[0mannotations_file_version\u001b[0m\u001b[0;34m=\u001b[0m\u001b[0;36m3\u001b[0m\u001b[0;34m,\u001b[0m \u001b[0mproject_name\u001b[0m\u001b[0;34m=\u001b[0m\u001b[0;34m'chr13'\u001b[0m\u001b[0;34m)\u001b[0m\u001b[0;34m\u001b[0m\u001b[0;34m\u001b[0m\u001b[0m\n\u001b[0m",
      "\u001b[0;31mTypeError\u001b[0m: get_annotation_file_name() missing 1 required positional argument: 'data_dir'"
     ]
    }
   ],
   "source": [
    "get_annotation_file_name(annotations_file_ext='csv', annotations_file_version=3, project_name='chr13')"
   ]
  },
  {
   "cell_type": "code",
   "execution_count": 31,
   "metadata": {},
   "outputs": [
    {
     "name": "stdout",
     "output_type": "stream",
     "text": [
      "Help on function get_annotation_file_name in module __main__:\n",
      "\n",
      "get_annotation_file_name(data_dir, project_name, annotations_file_version, annotations_file_name='annotations', annotations_file_ext='txt')\n",
      "    Concatenates data_dir and project_name for path.  \"annotations.<version>.<extension>\" is the file name.\n",
      "\n"
     ]
    }
   ],
   "source": [
    "help(get_annotation_file_name)"
   ]
  },
  {
   "cell_type": "markdown",
   "metadata": {},
   "source": [
    "### 3. Formatted strings\n",
    "Python supports both positional and named string template substitution.  See the\n",
    "[Pyformat page](https://pyformat.info/) for details"
   ]
  },
  {
   "cell_type": "markdown",
   "metadata": {},
   "source": [
    "#### String concatentation is expensive because Python strings are immutable"
   ]
  },
  {
   "cell_type": "code",
   "execution_count": 32,
   "metadata": {},
   "outputs": [],
   "source": [
    "file_name = get_annotation_file_name(data_dir, project_name, annotations_file_version)"
   ]
  },
  {
   "cell_type": "code",
   "execution_count": 33,
   "metadata": {},
   "outputs": [
    {
     "ename": "TypeError",
     "evalue": "'str' object does not support item assignment",
     "output_type": "error",
     "traceback": [
      "\u001b[0;31m---------------------------------------------------------------------------\u001b[0m",
      "\u001b[0;31mTypeError\u001b[0m                                 Traceback (most recent call last)",
      "\u001b[0;32m<ipython-input-33-60185d1d2510>\u001b[0m in \u001b[0;36m<module>\u001b[0;34m\u001b[0m\n\u001b[0;32m----> 1\u001b[0;31m \u001b[0mfile_name\u001b[0m\u001b[0;34m[\u001b[0m\u001b[0;36m0\u001b[0m\u001b[0;34m]\u001b[0m \u001b[0;34m=\u001b[0m \u001b[0;34m'a'\u001b[0m\u001b[0;34m\u001b[0m\u001b[0;34m\u001b[0m\u001b[0m\n\u001b[0m",
      "\u001b[0;31mTypeError\u001b[0m: 'str' object does not support item assignment"
     ]
    }
   ],
   "source": [
    "file_name[0] = 'a'"
   ]
  },
  {
   "cell_type": "markdown",
   "metadata": {},
   "source": [
    "#### Old style string formatting is common"
   ]
  },
  {
   "cell_type": "code",
   "execution_count": 34,
   "metadata": {},
   "outputs": [],
   "source": [
    "def get_annotation_file_name(data_dir, project_name, annotations_file_version, annotations_file_name='annotations', annotations_file_ext='txt'):\n",
    "    '''Concatenates data_dir and project_name for path.  \"annotations.<version>.<extension>\" is the file name.'''\n",
    "    \n",
    "    return '%s/%s/%s.%d.%s' % (data_dir, project_name, annotations_file_name, annotations_file_version, annotations_file_ext)"
   ]
  },
  {
   "cell_type": "code",
   "execution_count": 35,
   "metadata": {},
   "outputs": [
    {
     "data": {
      "text/plain": [
       "'data/chr12/annotations.1.txt'"
      ]
     },
     "execution_count": 35,
     "metadata": {},
     "output_type": "execute_result"
    }
   ],
   "source": [
    "file_name = get_annotation_file_name(data_dir, project_name, annotations_file_version)\n",
    "file_name"
   ]
  },
  {
   "cell_type": "markdown",
   "metadata": {},
   "source": [
    "#### format function is more readable and powerful"
   ]
  },
  {
   "cell_type": "markdown",
   "metadata": {},
   "source": [
    "The format function of strings allows for positional substitution like old style\n",
    "formatting, but also supports named place holders and rich formatting options"
   ]
  },
  {
   "cell_type": "code",
   "execution_count": 38,
   "metadata": {},
   "outputs": [
    {
     "data": {
      "text/plain": [
       "'data/chr12/annotations.1.txt'"
      ]
     },
     "execution_count": 38,
     "metadata": {},
     "output_type": "execute_result"
    }
   ],
   "source": [
    "'{}/{}/{}.{}.{}'.format(data_dir, project_name, annotations_file_name, annotations_file_version, annotations_file_ext)"
   ]
  },
  {
   "cell_type": "code",
   "execution_count": 50,
   "metadata": {},
   "outputs": [
    {
     "data": {
      "text/plain": [
       "'data/chr12/annotations.1.txt'"
      ]
     },
     "execution_count": 50,
     "metadata": {},
     "output_type": "execute_result"
    }
   ],
   "source": [
    "'{}/{}/{}.{:d}.{}'.format(data_dir, project_name, annotations_file_name, annotations_file_version, annotations_file_ext)"
   ]
  },
  {
   "cell_type": "code",
   "execution_count": 51,
   "metadata": {},
   "outputs": [
    {
     "data": {
      "text/plain": [
       "'data/chr12/annot.1.txt'"
      ]
     },
     "execution_count": 51,
     "metadata": {},
     "output_type": "execute_result"
    }
   ],
   "source": [
    "'{}/{}/{:.5}.{:d}.{}'.format(data_dir, project_name, annotations_file_name, annotations_file_version, annotations_file_ext)"
   ]
  },
  {
   "cell_type": "code",
   "execution_count": 53,
   "metadata": {},
   "outputs": [
    {
     "data": {
      "text/plain": [
       "'data/chr12/annotations.1.txt'"
      ]
     },
     "execution_count": 53,
     "metadata": {},
     "output_type": "execute_result"
    }
   ],
   "source": [
    "'{data_dir}/{project_name}/{annotations_file_name}.{annotations_file_version:d}.{annotations_file_ext}'.format(\n",
    "    annotations_file_name=annotations_file_name, \n",
    "    annotations_file_version=1, \n",
    "    annotations_file_ext=annotations_file_ext,\n",
    "    data_dir=data_dir, \n",
    "    project_name=project_name, \n",
    ")"
   ]
  },
  {
   "cell_type": "markdown",
   "metadata": {},
   "source": [
    "### A brief interlude about classes, functions, and objects in Python\n",
    "_format()_ is a good example of functions that are part of defined on object-oriented \n",
    "\"classes\" and used on instances called \"objects\""
   ]
  },
  {
   "cell_type": "markdown",
   "metadata": {},
   "source": [
    "### 4. Joining list elements\n",
    "A list of elements can be joined.  This is best done with os.path.join."
   ]
  },
  {
   "cell_type": "markdown",
   "metadata": {},
   "source": [
    "#### Like arrays in other languages, Python lists are a group of items that can be indexed by an integer"
   ]
  },
  {
   "cell_type": "markdown",
   "metadata": {},
   "source": [
    "Lists are initialized with [] or list() and indexing starts with zero"
   ]
  },
  {
   "cell_type": "code",
   "execution_count": 140,
   "metadata": {},
   "outputs": [],
   "source": [
    "path_elements = ['micro-course', 'python', 'data','chr12']"
   ]
  },
  {
   "cell_type": "code",
   "execution_count": 90,
   "metadata": {},
   "outputs": [
    {
     "data": {
      "text/plain": [
       "'micro-course'"
      ]
     },
     "execution_count": 90,
     "metadata": {},
     "output_type": "execute_result"
    }
   ],
   "source": [
    "path_elements[0]"
   ]
  },
  {
   "cell_type": "markdown",
   "metadata": {},
   "source": [
    "Check the length with _len()_"
   ]
  },
  {
   "cell_type": "code",
   "execution_count": 141,
   "metadata": {},
   "outputs": [
    {
     "data": {
      "text/plain": [
       "4"
      ]
     },
     "execution_count": 141,
     "metadata": {},
     "output_type": "execute_result"
    }
   ],
   "source": [
    "len(path_elements)"
   ]
  },
  {
   "cell_type": "markdown",
   "metadata": {},
   "source": [
    "You can use negative indexes"
   ]
  },
  {
   "cell_type": "code",
   "execution_count": 96,
   "metadata": {},
   "outputs": [
    {
     "data": {
      "text/plain": [
       "'annotations.1.txt'"
      ]
     },
     "execution_count": 96,
     "metadata": {},
     "output_type": "execute_result"
    }
   ],
   "source": [
    "path_elements[-1]"
   ]
  },
  {
   "cell_type": "markdown",
   "metadata": {},
   "source": [
    "Slices can be taken from lists.  Don't forget that the upper bound index is not included."
   ]
  },
  {
   "cell_type": "code",
   "execution_count": 91,
   "metadata": {},
   "outputs": [
    {
     "data": {
      "text/plain": [
       "['micro-course', 'python']"
      ]
     },
     "execution_count": 91,
     "metadata": {},
     "output_type": "execute_result"
    }
   ],
   "source": [
    "path_elements[0:2]"
   ]
  },
  {
   "cell_type": "markdown",
   "metadata": {},
   "source": [
    "And you can slice with negative indexes"
   ]
  },
  {
   "cell_type": "code",
   "execution_count": 97,
   "metadata": {},
   "outputs": [
    {
     "data": {
      "text/plain": [
       "['chr12']"
      ]
     },
     "execution_count": 97,
     "metadata": {},
     "output_type": "execute_result"
    }
   ],
   "source": [
    "path_elements[-2:-1]"
   ]
  },
  {
   "cell_type": "markdown",
   "metadata": {},
   "source": [
    "Lists can be appended to"
   ]
  },
  {
   "cell_type": "code",
   "execution_count": 95,
   "metadata": {},
   "outputs": [
    {
     "data": {
      "text/plain": [
       "['micro-course', 'python', 'data', 'chr12', 'annotations.1.txt']"
      ]
     },
     "execution_count": 95,
     "metadata": {},
     "output_type": "execute_result"
    }
   ],
   "source": [
    "path_elements.append('annotations.1.txt')\n",
    "path_elements"
   ]
  },
  {
   "cell_type": "markdown",
   "metadata": {},
   "source": [
    "And lists are mutable"
   ]
  },
  {
   "cell_type": "code",
   "execution_count": 109,
   "metadata": {},
   "outputs": [
    {
     "data": {
      "text/plain": [
       "['micro-course', 'R', 'data', 'chr12', 'annotations.1.txt']"
      ]
     },
     "execution_count": 109,
     "metadata": {},
     "output_type": "execute_result"
    }
   ],
   "source": [
    "path_elements[1] = 'R'\n",
    "path_elements"
   ]
  },
  {
   "cell_type": "markdown",
   "metadata": {},
   "source": [
    "Strings act like lists, but are immutable"
   ]
  },
  {
   "cell_type": "code",
   "execution_count": 110,
   "metadata": {},
   "outputs": [
    {
     "data": {
      "text/plain": [
       "'a'"
      ]
     },
     "execution_count": 110,
     "metadata": {},
     "output_type": "execute_result"
    }
   ],
   "source": [
    "data_dir[-1]"
   ]
  },
  {
   "cell_type": "code",
   "execution_count": 111,
   "metadata": {},
   "outputs": [
    {
     "ename": "TypeError",
     "evalue": "'str' object does not support item assignment",
     "output_type": "error",
     "traceback": [
      "\u001b[0;31m---------------------------------------------------------------------------\u001b[0m",
      "\u001b[0;31mTypeError\u001b[0m                                 Traceback (most recent call last)",
      "\u001b[0;32m<ipython-input-111-c7e443f5c84b>\u001b[0m in \u001b[0;36m<module>\u001b[0;34m\u001b[0m\n\u001b[0;32m----> 1\u001b[0;31m \u001b[0mdata_dir\u001b[0m\u001b[0;34m[\u001b[0m\u001b[0;34m-\u001b[0m\u001b[0;36m1\u001b[0m\u001b[0;34m]\u001b[0m \u001b[0;34m=\u001b[0m \u001b[0;34m'x'\u001b[0m\u001b[0;34m\u001b[0m\u001b[0;34m\u001b[0m\u001b[0m\n\u001b[0m",
      "\u001b[0;31mTypeError\u001b[0m: 'str' object does not support item assignment"
     ]
    }
   ],
   "source": [
    "data_dir[-1] = 'x'"
   ]
  },
  {
   "cell_type": "markdown",
   "metadata": {},
   "source": [
    "#### We can redefine the function to join the list of path elements"
   ]
  },
  {
   "cell_type": "markdown",
   "metadata": {},
   "source": [
    "The string _join()_ function allows you to combine list elements into a string"
   ]
  },
  {
   "cell_type": "code",
   "execution_count": 98,
   "metadata": {},
   "outputs": [
    {
     "data": {
      "text/plain": [
       "'micro-course/python/data/chr12/annotations.1.txt'"
      ]
     },
     "execution_count": 98,
     "metadata": {},
     "output_type": "execute_result"
    }
   ],
   "source": [
    "'/'.join(path_elements)"
   ]
  },
  {
   "cell_type": "code",
   "execution_count": 99,
   "metadata": {},
   "outputs": [],
   "source": [
    "def get_annotation_file_name(data_dir, project_name, annotations_file_version, annotations_file_name='annotations', annotations_file_ext='txt'):\n",
    "    '''Concatenates data_dir and project_name for path.  \"annotations.<version>.<extension>\" is the file name.'''\n",
    "    \n",
    "    path_elements = [data_dir, project_name, '{}.{:d}.{}'.format(annotations_file_name, annotations_file_version, annotations_file_ext)]\n",
    "    \n",
    "    return '/'.join(path_elements)"
   ]
  },
  {
   "cell_type": "code",
   "execution_count": 100,
   "metadata": {},
   "outputs": [
    {
     "data": {
      "text/plain": [
       "'data/chr12/annotations.1.txt'"
      ]
     },
     "execution_count": 100,
     "metadata": {},
     "output_type": "execute_result"
    }
   ],
   "source": [
    "file_name = get_annotation_file_name(data_dir, project_name, annotations_file_version)\n",
    "file_name"
   ]
  },
  {
   "cell_type": "markdown",
   "metadata": {},
   "source": [
    "### 5. Joining list elements with os.path.join\n",
    "The _os_ module must be imported and contains functions that are sensitive to the operating system"
   ]
  },
  {
   "cell_type": "code",
   "execution_count": 101,
   "metadata": {},
   "outputs": [
    {
     "ename": "NameError",
     "evalue": "name 'os' is not defined",
     "output_type": "error",
     "traceback": [
      "\u001b[0;31m---------------------------------------------------------------------------\u001b[0m",
      "\u001b[0;31mNameError\u001b[0m                                 Traceback (most recent call last)",
      "\u001b[0;32m<ipython-input-101-470d1fe61ce0>\u001b[0m in \u001b[0;36m<module>\u001b[0;34m\u001b[0m\n\u001b[0;32m----> 1\u001b[0;31m \u001b[0mos\u001b[0m\u001b[0;34m.\u001b[0m\u001b[0mpath\u001b[0m\u001b[0;34m.\u001b[0m\u001b[0mjoin\u001b[0m\u001b[0;34m(\u001b[0m\u001b[0;34m)\u001b[0m\u001b[0;34m\u001b[0m\u001b[0;34m\u001b[0m\u001b[0m\n\u001b[0m",
      "\u001b[0;31mNameError\u001b[0m: name 'os' is not defined"
     ]
    }
   ],
   "source": [
    "os.path.join()"
   ]
  },
  {
   "cell_type": "markdown",
   "metadata": {},
   "source": [
    "Everything you use in a Python script must either be a built-in (e.g. __return__), defined in your code (e.g. _file_name_, _get_annotation_file_name_) or imported"
   ]
  },
  {
   "cell_type": "code",
   "execution_count": 102,
   "metadata": {},
   "outputs": [],
   "source": [
    "import os"
   ]
  },
  {
   "cell_type": "code",
   "execution_count": 103,
   "metadata": {},
   "outputs": [
    {
     "name": "stdout",
     "output_type": "stream",
     "text": [
      "Help on function join in module posixpath:\n",
      "\n",
      "join(a, *p)\n",
      "    Join two or more pathname components, inserting '/' as needed.\n",
      "    If any component is an absolute path, all previous path components\n",
      "    will be discarded.  An empty last part will result in a path that\n",
      "    ends with a separator.\n",
      "\n"
     ]
    }
   ],
   "source": [
    "help(os.path.join)"
   ]
  },
  {
   "cell_type": "code",
   "execution_count": 105,
   "metadata": {},
   "outputs": [
    {
     "data": {
      "text/plain": [
       "'data/chr12/annotations.1.txt'"
      ]
     },
     "execution_count": 105,
     "metadata": {},
     "output_type": "execute_result"
    }
   ],
   "source": [
    "os.path.join(data_dir, project_name, '{}.{:d}.{}'.format(annotations_file_name, annotations_file_version, annotations_file_ext))"
   ]
  },
  {
   "cell_type": "code",
   "execution_count": 106,
   "metadata": {},
   "outputs": [],
   "source": [
    "def get_annotation_file_name(data_dir, project_name, annotations_file_version, annotations_file_name='annotations', annotations_file_ext='txt'):\n",
    "    '''Concatenates data_dir and project_name for path.  \"annotations.<version>.<extension>\" is the file name.'''\n",
    "    \n",
    "    path = os.path.join(data_dir, project_name, '{}.{:d}.{}'.format(annotations_file_name, annotations_file_version, annotations_file_ext))\n",
    "    \n",
    "    return path"
   ]
  },
  {
   "cell_type": "code",
   "execution_count": 107,
   "metadata": {},
   "outputs": [
    {
     "data": {
      "text/plain": [
       "'data/chr12/annotations.1.txt'"
      ]
     },
     "execution_count": 107,
     "metadata": {},
     "output_type": "execute_result"
    }
   ],
   "source": [
    "file_name = get_annotation_file_name(data_dir, project_name, annotations_file_version)\n",
    "file_name"
   ]
  },
  {
   "cell_type": "markdown",
   "metadata": {},
   "source": [
    "## Interacting with files\n",
    "This section shows how to read, write and process files"
   ]
  },
  {
   "cell_type": "markdown",
   "metadata": {},
   "source": [
    "#### There are lots of ways to read a text file."
   ]
  },
  {
   "cell_type": "markdown",
   "metadata": {},
   "source": [
    "In Python you interact with a file by opening a file handle in a particular mode, in this case 'read'.  The file handle is a lot like a pointer to the next part of the file that you're going to read."
   ]
  },
  {
   "cell_type": "code",
   "execution_count": 117,
   "metadata": {},
   "outputs": [],
   "source": [
    "fileh = open(file_name, 'r')"
   ]
  },
  {
   "cell_type": "markdown",
   "metadata": {},
   "source": [
    "Read it all into a single string using _read()_"
   ]
  },
  {
   "cell_type": "code",
   "execution_count": 118,
   "metadata": {},
   "outputs": [
    {
     "data": {
      "text/plain": [
       "'Accession\\tOrganism\\tGene name\\tSeq type\\tReference\\tLength\\najk1\\tHomo sapiens\\tacrosin binding protein\\tmRNA\\tNM_032489.3\\t1905\\najk2\\tPan troglodytes\\tpotassium voltage-gated channel subfamily A member 1 \\tmRNA\\tXM_003313436.4\\t7990\\najk3\\tHomo sapiens\\tinhibitor of growth family member 4\\tmRNA\\tXM_011520964.2\\t1321\\najk4\\tMacaca mulatta\\tNOP2 nucleolar protein\\tmRNA\\tXM_015150909.2\\t2759\\n'"
      ]
     },
     "execution_count": 118,
     "metadata": {},
     "output_type": "execute_result"
    }
   ],
   "source": [
    "fileh.read()"
   ]
  },
  {
   "cell_type": "markdown",
   "metadata": {},
   "source": [
    "Read it into a list of lines using _readlines()_.  You'll need to re-open the file, because the fileh is now pointing to the end."
   ]
  },
  {
   "cell_type": "code",
   "execution_count": 119,
   "metadata": {},
   "outputs": [
    {
     "data": {
      "text/plain": [
       "[]"
      ]
     },
     "execution_count": 119,
     "metadata": {},
     "output_type": "execute_result"
    }
   ],
   "source": [
    "fileh.readlines()"
   ]
  },
  {
   "cell_type": "code",
   "execution_count": 125,
   "metadata": {},
   "outputs": [],
   "source": [
    "fileh = open(file_name, 'r')"
   ]
  },
  {
   "cell_type": "code",
   "execution_count": 126,
   "metadata": {},
   "outputs": [
    {
     "data": {
      "text/plain": [
       "['Accession\\tOrganism\\tGene name\\tSeq type\\tReference\\tLength\\n',\n",
       " 'ajk1\\tHomo sapiens\\tacrosin binding protein\\tmRNA\\tNM_032489.3\\t1905\\n',\n",
       " 'ajk2\\tPan troglodytes\\tpotassium voltage-gated channel subfamily A member 1 \\tmRNA\\tXM_003313436.4\\t7990\\n',\n",
       " 'ajk3\\tHomo sapiens\\tinhibitor of growth family member 4\\tmRNA\\tXM_011520964.2\\t1321\\n',\n",
       " 'ajk4\\tMacaca mulatta\\tNOP2 nucleolar protein\\tmRNA\\tXM_015150909.2\\t2759\\n']"
      ]
     },
     "execution_count": 126,
     "metadata": {},
     "output_type": "execute_result"
    }
   ],
   "source": [
    "lines = fileh.readlines()\n",
    "lines"
   ]
  },
  {
   "cell_type": "markdown",
   "metadata": {},
   "source": [
    "Or, especially if your file is large, you can read one line at a time using _for_.  Using print() will convert the \\t and \\n into tabs and newlines respectively"
   ]
  },
  {
   "cell_type": "code",
   "execution_count": 122,
   "metadata": {},
   "outputs": [],
   "source": [
    "fileh = open(file_name, 'r')"
   ]
  },
  {
   "cell_type": "code",
   "execution_count": 123,
   "metadata": {},
   "outputs": [
    {
     "name": "stdout",
     "output_type": "stream",
     "text": [
      "Accession\tOrganism\tGene name\tSeq type\tReference\tLength\n",
      "ajk1\tHomo sapiens\tacrosin binding protein\tmRNA\tNM_032489.3\t1905\n",
      "ajk2\tPan troglodytes\tpotassium voltage-gated channel subfamily A member 1 \tmRNA\tXM_003313436.4\t7990\n",
      "ajk3\tHomo sapiens\tinhibitor of growth family member 4\tmRNA\tXM_011520964.2\t1321\n",
      "ajk4\tMacaca mulatta\tNOP2 nucleolar protein\tmRNA\tXM_015150909.2\t2759\n"
     ]
    }
   ],
   "source": [
    "for line in fileh:\n",
    "    print(line.strip())"
   ]
  },
  {
   "cell_type": "markdown",
   "metadata": {},
   "source": [
    "_for_ isn't just for file handles.  It's mostly used for iterating over lists (or, more precisely, _iterables_). Don't forget to indent."
   ]
  },
  {
   "cell_type": "code",
   "execution_count": 129,
   "metadata": {},
   "outputs": [
    {
     "name": "stdout",
     "output_type": "stream",
     "text": [
      "\t- Accession\tOrganism\tGene name\tSeq type\tReference\tLength\n",
      "\t- ajk1\tHomo sapiens\tacrosin binding protein\tmRNA\tNM_032489.3\t1905\n",
      "\t- ajk2\tPan troglodytes\tpotassium voltage-gated channel subfamily A member 1 \tmRNA\tXM_003313436.4\t7990\n",
      "\t- ajk3\tHomo sapiens\tinhibitor of growth family member 4\tmRNA\tXM_011520964.2\t1321\n",
      "\t- ajk4\tMacaca mulatta\tNOP2 nucleolar protein\tmRNA\tXM_015150909.2\t2759\n"
     ]
    }
   ],
   "source": [
    "for line in lines:\n",
    "    print('\\t- %s' % line.strip())"
   ]
  },
  {
   "cell_type": "markdown",
   "metadata": {},
   "source": [
    "You can get the item index using _enumerate_"
   ]
  },
  {
   "cell_type": "code",
   "execution_count": 132,
   "metadata": {},
   "outputs": [
    {
     "name": "stdout",
     "output_type": "stream",
     "text": [
      "0. Accession\tOrganism\tGene name\tSeq type\tReference\tLength\n",
      "1. ajk1\tHomo sapiens\tacrosin binding protein\tmRNA\tNM_032489.3\t1905\n",
      "2. ajk2\tPan troglodytes\tpotassium voltage-gated channel subfamily A member 1 \tmRNA\tXM_003313436.4\t7990\n",
      "3. ajk3\tHomo sapiens\tinhibitor of growth family member 4\tmRNA\tXM_011520964.2\t1321\n",
      "4. ajk4\tMacaca mulatta\tNOP2 nucleolar protein\tmRNA\tXM_015150909.2\t2759\n"
     ]
    }
   ],
   "source": [
    "for i, line in enumerate(lines):\n",
    "    print('%d. %s' % (i, line.strip()))"
   ]
  },
  {
   "cell_type": "markdown",
   "metadata": {},
   "source": [
    "Using a context manager (_with_ _as_) is a good way to ensure that the file will close when you're done with it."
   ]
  },
  {
   "cell_type": "code",
   "execution_count": 133,
   "metadata": {},
   "outputs": [],
   "source": [
    "lines = []\n",
    "with open(file_name, 'r') as fileh:\n",
    "    for line in fileh:\n",
    "        lines.append(line.strip())"
   ]
  },
  {
   "cell_type": "code",
   "execution_count": 138,
   "metadata": {},
   "outputs": [
    {
     "data": {
      "text/plain": [
       "True"
      ]
     },
     "execution_count": 138,
     "metadata": {},
     "output_type": "execute_result"
    }
   ],
   "source": [
    "fileh.closed"
   ]
  },
  {
   "cell_type": "code",
   "execution_count": 142,
   "metadata": {},
   "outputs": [
    {
     "name": "stdout",
     "output_type": "stream",
     "text": [
      "['Accession\\tOrganism\\tGene name\\tSeq type\\tReference\\tLength', 'ajk1\\tHomo sapiens\\tacrosin binding protein\\tmRNA\\tNM_032489.3\\t1905', 'ajk2\\tPan troglodytes\\tpotassium voltage-gated channel subfamily A member 1 \\tmRNA\\tXM_003313436.4\\t7990', 'ajk3\\tHomo sapiens\\tinhibitor of growth family member 4\\tmRNA\\tXM_011520964.2\\t1321', 'ajk4\\tMacaca mulatta\\tNOP2 nucleolar protein\\tmRNA\\tXM_015150909.2\\t2759']\n"
     ]
    }
   ],
   "source": [
    "print(lines)"
   ]
  },
  {
   "cell_type": "markdown",
   "metadata": {},
   "source": [
    "#### Stash the header line by itself using _if_"
   ]
  },
  {
   "cell_type": "code",
   "execution_count": 181,
   "metadata": {},
   "outputs": [
    {
     "data": {
      "text/plain": [
       "['sample1\\tHomo sapiens\\tacrosin binding protein\\tmRNA\\tNM_032489.3\\t1905',\n",
       " 'sample2\\tPan troglodytes\\tpotassium voltage-gated channel subfamily A member 1 \\tmRNA\\tXM_003313436.4\\t7990',\n",
       " 'sample3\\tHomo sapiens\\tinhibitor of growth family member 4\\tmRNA\\tXM_011520964.2\\t1321',\n",
       " 'sample4\\tMacaca mulatta\\tNOP2 nucleolar protein\\tmRNA\\tXM_015150909.2\\t2759']"
      ]
     },
     "execution_count": 181,
     "metadata": {},
     "output_type": "execute_result"
    }
   ],
   "source": [
    "lines = []\n",
    "header_line = ''\n",
    "with open(file_name, 'r') as fileh:\n",
    "    for line in fileh:\n",
    "        line = line.strip()\n",
    "        if line.startswith('Accession'):\n",
    "            header_line = line\n",
    "        else:\n",
    "            lines.append(line)\n",
    "lines"
   ]
  },
  {
   "cell_type": "markdown",
   "metadata": {},
   "source": [
    "#### Writing to files"
   ]
  },
  {
   "cell_type": "markdown",
   "metadata": {},
   "source": [
    "### Processing data"
   ]
  },
  {
   "cell_type": "markdown",
   "metadata": {},
   "source": [
    "#### Convert the lines into lists of data fields using _split()_.  Add them to a list to make a 2D matrix."
   ]
  },
  {
   "cell_type": "code",
   "execution_count": 182,
   "metadata": {},
   "outputs": [
    {
     "data": {
      "text/plain": [
       "[['sample1',\n",
       "  'Homo sapiens',\n",
       "  'acrosin binding protein',\n",
       "  'mRNA',\n",
       "  'NM_032489.3',\n",
       "  '1905'],\n",
       " ['sample2',\n",
       "  'Pan troglodytes',\n",
       "  'potassium voltage-gated channel subfamily A member 1 ',\n",
       "  'mRNA',\n",
       "  'XM_003313436.4',\n",
       "  '7990'],\n",
       " ['sample3',\n",
       "  'Homo sapiens',\n",
       "  'inhibitor of growth family member 4',\n",
       "  'mRNA',\n",
       "  'XM_011520964.2',\n",
       "  '1321'],\n",
       " ['sample4',\n",
       "  'Macaca mulatta',\n",
       "  'NOP2 nucleolar protein',\n",
       "  'mRNA',\n",
       "  'XM_015150909.2',\n",
       "  '2759']]"
      ]
     },
     "execution_count": 182,
     "metadata": {},
     "output_type": "execute_result"
    }
   ],
   "source": [
    "data = []\n",
    "for line in lines:\n",
    "    field_list = line.split('\\t')\n",
    "    data.append(field_list)\n",
    "data"
   ]
  },
  {
   "cell_type": "code",
   "execution_count": 146,
   "metadata": {},
   "outputs": [
    {
     "data": {
      "text/plain": [
       "['ajk1',\n",
       " 'Homo sapiens',\n",
       " 'acrosin binding protein',\n",
       " 'mRNA',\n",
       " 'NM_032489.3',\n",
       " '1905']"
      ]
     },
     "execution_count": 146,
     "metadata": {},
     "output_type": "execute_result"
    }
   ],
   "source": [
    "data[0]"
   ]
  },
  {
   "cell_type": "code",
   "execution_count": 147,
   "metadata": {},
   "outputs": [
    {
     "data": {
      "text/plain": [
       "'Homo sapiens'"
      ]
     },
     "execution_count": 147,
     "metadata": {},
     "output_type": "execute_result"
    }
   ],
   "source": [
    "data[0][1]"
   ]
  },
  {
   "cell_type": "markdown",
   "metadata": {},
   "source": [
    "#### Report out the unique organism common names using a list"
   ]
  },
  {
   "cell_type": "code",
   "execution_count": 183,
   "metadata": {},
   "outputs": [
    {
     "data": {
      "text/plain": [
       "['Human', 'Chimp', 'Macaque']"
      ]
     },
     "execution_count": 183,
     "metadata": {},
     "output_type": "execute_result"
    }
   ],
   "source": [
    "common_names = []\n",
    "for row in data:\n",
    "    org = row[1]\n",
    "    common_name = ''\n",
    "    if org == 'Homo sapiens':\n",
    "        common_name = 'Human'\n",
    "    elif org == 'Pan troglodytes':\n",
    "        common_name = 'Chimp'\n",
    "    elif org == 'Macaca mulatta':\n",
    "        common_name = 'Macaque'\n",
    "    else:\n",
    "        print('Unknown organism %s' % org)\n",
    "        common_name = org\n",
    "        \n",
    "    if common_name not in common_names:\n",
    "        common_names.append(common_name)\n",
    "common_names"
   ]
  },
  {
   "cell_type": "markdown",
   "metadata": {},
   "source": [
    "#### Report out the unique organism common names using a _set()_"
   ]
  },
  {
   "cell_type": "code",
   "execution_count": 151,
   "metadata": {},
   "outputs": [
    {
     "data": {
      "text/plain": [
       "{'Chimp', 'Human', 'Macaque'}"
      ]
     },
     "execution_count": 151,
     "metadata": {},
     "output_type": "execute_result"
    }
   ],
   "source": [
    "common_names = set()\n",
    "for row in data:\n",
    "    org = row[1]\n",
    "    common_name = ''\n",
    "    if org == 'Homo sapiens':\n",
    "        common_name = 'Human'\n",
    "    elif org == 'Pan troglodytes':\n",
    "        common_name = 'Chimp'\n",
    "    elif org == 'Macaca mulatta':\n",
    "        common_name = 'Macaque'\n",
    "    else:\n",
    "        print('Unknown organism %s' % org)\n",
    "        common_name = org\n",
    "        \n",
    "    common_names.add(common_name)\n",
    "common_names"
   ]
  },
  {
   "cell_type": "markdown",
   "metadata": {},
   "source": [
    "#### Use a dictionary to map the common names"
   ]
  },
  {
   "cell_type": "markdown",
   "metadata": {},
   "source": [
    "Python dictionaries (analogous to hashes or maps in other languages) are really just arrays with named indexes called 'keys'.  They can be initialized with curly braces (or dict()) and are generally mutable."
   ]
  },
  {
   "cell_type": "code",
   "execution_count": 184,
   "metadata": {},
   "outputs": [
    {
     "data": {
      "text/plain": [
       "{'Homo sapiens': 'Human', 'Pan troglodytes': 'Chimp'}"
      ]
     },
     "execution_count": 184,
     "metadata": {},
     "output_type": "execute_result"
    }
   ],
   "source": [
    "org_name_map = {\n",
    "    'Homo sapiens': 'Human',\n",
    "    'Pan troglodytes': 'Chimp'\n",
    "}\n",
    "org_name_map"
   ]
  },
  {
   "cell_type": "code",
   "execution_count": 185,
   "metadata": {},
   "outputs": [
    {
     "data": {
      "text/plain": [
       "{'Homo sapiens': 'Human',\n",
       " 'Pan troglodytes': 'Chimp',\n",
       " 'Macaca mulatta': 'Macaque'}"
      ]
     },
     "execution_count": 185,
     "metadata": {},
     "output_type": "execute_result"
    }
   ],
   "source": [
    "org_name_map['Macaca mulatta'] = 'Macaque'\n",
    "org_name_map"
   ]
  },
  {
   "cell_type": "markdown",
   "metadata": {},
   "source": [
    "You can access individual elements by key"
   ]
  },
  {
   "cell_type": "code",
   "execution_count": 157,
   "metadata": {},
   "outputs": [
    {
     "data": {
      "text/plain": [
       "'Human'"
      ]
     },
     "execution_count": 157,
     "metadata": {},
     "output_type": "execute_result"
    }
   ],
   "source": [
    "org_name_map['Homo sapiens']"
   ]
  },
  {
   "cell_type": "markdown",
   "metadata": {},
   "source": [
    "It's an error to access a key that isn't there."
   ]
  },
  {
   "cell_type": "code",
   "execution_count": 159,
   "metadata": {},
   "outputs": [
    {
     "ename": "KeyError",
     "evalue": "'Mus musculus'",
     "output_type": "error",
     "traceback": [
      "\u001b[0;31m---------------------------------------------------------------------------\u001b[0m",
      "\u001b[0;31mKeyError\u001b[0m                                  Traceback (most recent call last)",
      "\u001b[0;32m<ipython-input-159-f4f7a0145fb7>\u001b[0m in \u001b[0;36m<module>\u001b[0;34m\u001b[0m\n\u001b[0;32m----> 1\u001b[0;31m \u001b[0morg_name_map\u001b[0m\u001b[0;34m[\u001b[0m\u001b[0;34m'Mus musculus'\u001b[0m\u001b[0;34m]\u001b[0m\u001b[0;34m\u001b[0m\u001b[0;34m\u001b[0m\u001b[0m\n\u001b[0m",
      "\u001b[0;31mKeyError\u001b[0m: 'Mus musculus'"
     ]
    }
   ],
   "source": [
    "org_name_map['Mus musculus']"
   ]
  },
  {
   "cell_type": "markdown",
   "metadata": {},
   "source": [
    "But you can use the _get()_ function to safely return a default value"
   ]
  },
  {
   "cell_type": "code",
   "execution_count": 160,
   "metadata": {},
   "outputs": [
    {
     "data": {
      "text/plain": [
       "'Not found'"
      ]
     },
     "execution_count": 160,
     "metadata": {},
     "output_type": "execute_result"
    }
   ],
   "source": [
    "org_name_map.get('Mus musculus', 'Not found')"
   ]
  },
  {
   "cell_type": "markdown",
   "metadata": {},
   "source": [
    "You can iterate over a dictionary with _for_ using the _items()_ function"
   ]
  },
  {
   "cell_type": "code",
   "execution_count": 158,
   "metadata": {},
   "outputs": [
    {
     "name": "stdout",
     "output_type": "stream",
     "text": [
      "Homo sapiens (Human)\n",
      "Pan troglodytes (Chimp)\n",
      "Macaca mulatta (Macaque)\n"
     ]
    }
   ],
   "source": [
    "for org, common in org_name_map.items():\n",
    "    print('%s (%s)' % (org, common))"
   ]
  },
  {
   "cell_type": "code",
   "execution_count": 186,
   "metadata": {},
   "outputs": [
    {
     "data": {
      "text/plain": [
       "{'Chimp', 'Human', 'Macaque'}"
      ]
     },
     "execution_count": 186,
     "metadata": {},
     "output_type": "execute_result"
    }
   ],
   "source": [
    "common_names = set()\n",
    "for row in data:\n",
    "    org = row[1]\n",
    "    common_name = org_name_map.get(org, org)\n",
    "    common_names.add(common_name)\n",
    "\n",
    "common_names"
   ]
  },
  {
   "cell_type": "markdown",
   "metadata": {},
   "source": [
    "#### Now that we know what dicts are, wouldn't it be great if we could access our data row elements by the column headers?"
   ]
  },
  {
   "cell_type": "code",
   "execution_count": 164,
   "metadata": {},
   "outputs": [
    {
     "data": {
      "text/plain": [
       "'Accession\\tOrganism\\tGene name\\tSeq type\\tReference\\tLength'"
      ]
     },
     "execution_count": 164,
     "metadata": {},
     "output_type": "execute_result"
    }
   ],
   "source": [
    "header_line"
   ]
  },
  {
   "cell_type": "code",
   "execution_count": 165,
   "metadata": {},
   "outputs": [
    {
     "data": {
      "text/plain": [
       "['Accession', 'Organism', 'Gene name', 'Seq type', 'Reference', 'Length']"
      ]
     },
     "execution_count": 165,
     "metadata": {},
     "output_type": "execute_result"
    }
   ],
   "source": [
    "col_names = header_line.split('\\t')\n",
    "col_names"
   ]
  },
  {
   "cell_type": "markdown",
   "metadata": {},
   "source": [
    "You can do it by iterating through the column headers and row values simultaneously"
   ]
  },
  {
   "cell_type": "code",
   "execution_count": 187,
   "metadata": {},
   "outputs": [
    {
     "data": {
      "text/plain": [
       "[{'Accession': 'sample1',\n",
       "  'Organism': 'Homo sapiens',\n",
       "  'Gene name': 'acrosin binding protein',\n",
       "  'Seq type': 'mRNA',\n",
       "  'Reference': 'NM_032489.3',\n",
       "  'Length': '1905'},\n",
       " {'Accession': 'sample2',\n",
       "  'Organism': 'Pan troglodytes',\n",
       "  'Gene name': 'potassium voltage-gated channel subfamily A member 1 ',\n",
       "  'Seq type': 'mRNA',\n",
       "  'Reference': 'XM_003313436.4',\n",
       "  'Length': '7990'},\n",
       " {'Accession': 'sample3',\n",
       "  'Organism': 'Homo sapiens',\n",
       "  'Gene name': 'inhibitor of growth family member 4',\n",
       "  'Seq type': 'mRNA',\n",
       "  'Reference': 'XM_011520964.2',\n",
       "  'Length': '1321'},\n",
       " {'Accession': 'sample4',\n",
       "  'Organism': 'Macaca mulatta',\n",
       "  'Gene name': 'NOP2 nucleolar protein',\n",
       "  'Seq type': 'mRNA',\n",
       "  'Reference': 'XM_015150909.2',\n",
       "  'Length': '2759'}]"
      ]
     },
     "execution_count": 187,
     "metadata": {},
     "output_type": "execute_result"
    }
   ],
   "source": [
    "labeled_data = []\n",
    "for row in data:\n",
    "    labeled_row = {}\n",
    "    for i, col_name in enumerate(col_names):\n",
    "        labeled_row[col_name] = row[i]\n",
    "    labeled_data.append(labeled_row)\n",
    "labeled_data\n",
    "    "
   ]
  },
  {
   "cell_type": "markdown",
   "metadata": {},
   "source": [
    "Or use the very cool _zip()_ function to combine them in a couple of lines"
   ]
  },
  {
   "cell_type": "code",
   "execution_count": 188,
   "metadata": {},
   "outputs": [
    {
     "data": {
      "text/plain": [
       "[{'Accession': 'sample1',\n",
       "  'Organism': 'Homo sapiens',\n",
       "  'Gene name': 'acrosin binding protein',\n",
       "  'Seq type': 'mRNA',\n",
       "  'Reference': 'NM_032489.3',\n",
       "  'Length': '1905'},\n",
       " {'Accession': 'sample2',\n",
       "  'Organism': 'Pan troglodytes',\n",
       "  'Gene name': 'potassium voltage-gated channel subfamily A member 1 ',\n",
       "  'Seq type': 'mRNA',\n",
       "  'Reference': 'XM_003313436.4',\n",
       "  'Length': '7990'},\n",
       " {'Accession': 'sample3',\n",
       "  'Organism': 'Homo sapiens',\n",
       "  'Gene name': 'inhibitor of growth family member 4',\n",
       "  'Seq type': 'mRNA',\n",
       "  'Reference': 'XM_011520964.2',\n",
       "  'Length': '1321'},\n",
       " {'Accession': 'sample4',\n",
       "  'Organism': 'Macaca mulatta',\n",
       "  'Gene name': 'NOP2 nucleolar protein',\n",
       "  'Seq type': 'mRNA',\n",
       "  'Reference': 'XM_015150909.2',\n",
       "  'Length': '2759'}]"
      ]
     },
     "execution_count": 188,
     "metadata": {},
     "output_type": "execute_result"
    }
   ],
   "source": [
    "labeled_data = []\n",
    "for row in data:\n",
    "    labeled_row = zip(col_names, row)\n",
    "    labeled_data.append(dict(labeled_row))\n",
    "labeled_data"
   ]
  },
  {
   "cell_type": "markdown",
   "metadata": {},
   "source": [
    "### Sort the records by length"
   ]
  },
  {
   "cell_type": "markdown",
   "metadata": {},
   "source": [
    "#### Python sorts lists by 'natural' order, either in place..."
   ]
  },
  {
   "cell_type": "code",
   "execution_count": 169,
   "metadata": {},
   "outputs": [
    {
     "data": {
      "text/plain": [
       "['a', 't', 'x']"
      ]
     },
     "execution_count": 169,
     "metadata": {},
     "output_type": "execute_result"
    }
   ],
   "source": [
    "letters = ['a','x','t']\n",
    "letters.sort()\n",
    "letters"
   ]
  },
  {
   "cell_type": "code",
   "execution_count": 170,
   "metadata": {},
   "outputs": [
    {
     "data": {
      "text/plain": [
       "[1, 1.5, 5, 20]"
      ]
     },
     "execution_count": 170,
     "metadata": {},
     "output_type": "execute_result"
    }
   ],
   "source": [
    "numbers  = [1, 5, 20, 1.5]\n",
    "numbers.sort()\n",
    "numbers"
   ]
  },
  {
   "cell_type": "code",
   "execution_count": 171,
   "metadata": {},
   "outputs": [
    {
     "data": {
      "text/plain": [
       "['1', '100', '150', '2']"
      ]
     },
     "execution_count": 171,
     "metadata": {},
     "output_type": "execute_result"
    }
   ],
   "source": [
    "numberchars = ['1', '2', '100', '150']\n",
    "numberchars.sort()\n",
    "numberchars"
   ]
  },
  {
   "cell_type": "markdown",
   "metadata": {},
   "source": [
    "#### ... or as new list"
   ]
  },
  {
   "cell_type": "code",
   "execution_count": 172,
   "metadata": {},
   "outputs": [
    {
     "data": {
      "text/plain": [
       "[1, 5, 3, 8]"
      ]
     },
     "execution_count": 172,
     "metadata": {},
     "output_type": "execute_result"
    }
   ],
   "source": [
    "numbers = [1,5,3,8]\n",
    "sortednumbers = sorted(numbers)\n",
    "numbers"
   ]
  },
  {
   "cell_type": "code",
   "execution_count": 173,
   "metadata": {},
   "outputs": [
    {
     "data": {
      "text/plain": [
       "[1, 3, 5, 8]"
      ]
     },
     "execution_count": 173,
     "metadata": {},
     "output_type": "execute_result"
    }
   ],
   "source": [
    "sortednumbers"
   ]
  },
  {
   "cell_type": "markdown",
   "metadata": {},
   "source": [
    "#### Reversing the direction is easy"
   ]
  },
  {
   "cell_type": "code",
   "execution_count": 175,
   "metadata": {},
   "outputs": [
    {
     "data": {
      "text/plain": [
       "[8, 5, 3, 1]"
      ]
     },
     "execution_count": 175,
     "metadata": {},
     "output_type": "execute_result"
    }
   ],
   "source": [
    "sortednumbers.sort(reverse=True)\n",
    "sortednumbers"
   ]
  },
  {
   "cell_type": "markdown",
   "metadata": {},
   "source": [
    "#### A key function provides flexibility"
   ]
  },
  {
   "cell_type": "code",
   "execution_count": 176,
   "metadata": {},
   "outputs": [
    {
     "data": {
      "text/plain": [
       "['But', 'and', 'or']"
      ]
     },
     "execution_count": 176,
     "metadata": {},
     "output_type": "execute_result"
    }
   ],
   "source": [
    "def case_insensitive(item):\n",
    "    return item.lower()\n",
    "\n",
    "words = ['and', 'or', 'But']\n",
    "sortedwords = sorted(words)\n",
    "sortedwords"
   ]
  },
  {
   "cell_type": "code",
   "execution_count": 177,
   "metadata": {},
   "outputs": [
    {
     "data": {
      "text/plain": [
       "['and', 'But', 'or']"
      ]
     },
     "execution_count": 177,
     "metadata": {},
     "output_type": "execute_result"
    }
   ],
   "source": [
    "sortedwords = sorted(words, key=case_insensitive)\n",
    "sortedwords"
   ]
  },
  {
   "cell_type": "code",
   "execution_count": 189,
   "metadata": {},
   "outputs": [
    {
     "data": {
      "text/plain": [
       "[{'Accession': 'sample2',\n",
       "  'Organism': 'Pan troglodytes',\n",
       "  'Gene name': 'potassium voltage-gated channel subfamily A member 1 ',\n",
       "  'Seq type': 'mRNA',\n",
       "  'Reference': 'XM_003313436.4',\n",
       "  'Length': '7990'},\n",
       " {'Accession': 'sample4',\n",
       "  'Organism': 'Macaca mulatta',\n",
       "  'Gene name': 'NOP2 nucleolar protein',\n",
       "  'Seq type': 'mRNA',\n",
       "  'Reference': 'XM_015150909.2',\n",
       "  'Length': '2759'},\n",
       " {'Accession': 'sample1',\n",
       "  'Organism': 'Homo sapiens',\n",
       "  'Gene name': 'acrosin binding protein',\n",
       "  'Seq type': 'mRNA',\n",
       "  'Reference': 'NM_032489.3',\n",
       "  'Length': '1905'},\n",
       " {'Accession': 'sample3',\n",
       "  'Organism': 'Homo sapiens',\n",
       "  'Gene name': 'inhibitor of growth family member 4',\n",
       "  'Seq type': 'mRNA',\n",
       "  'Reference': 'XM_011520964.2',\n",
       "  'Length': '1321'}]"
      ]
     },
     "execution_count": 189,
     "metadata": {},
     "output_type": "execute_result"
    }
   ],
   "source": [
    "def seq_length(item):\n",
    "    return int(item['Length'])\n",
    "\n",
    "sorted_labeled_data = sorted(labeled_data, key=seq_length, reverse=True)\n",
    "sorted_labeled_data"
   ]
  },
  {
   "cell_type": "markdown",
   "metadata": {},
   "source": [
    "## Map FASTA records to a reference sequences using minimap2\n",
    "In this part of the exercise, we'll be using various methods in Python to execute tools via the shell.  In particular,\n",
    "we will be taking sequence records, enhancing them with the data we parsed in the previous section, and executing\n",
    "the minimap2 tool to map them against a human chr12 reference sequence.  "
   ]
  },
  {
   "cell_type": "markdown",
   "metadata": {},
   "source": [
    "### FASTA records have two parts, a description line, starting with '>', and the sequence, e.g.\n",
    "\n",
    "    >NC_000012.12 Homo sapiens chromosome 12, GRCh38.p13 Primary Assembly     <-- Description line\n",
    "    ATCGAGACCATCCTGGCCAACATAGTGAAAACCTTTCTCTACTAAAAATACAAAAATTAGCCAGGTATGG    <-- Sequence (DNA in this case)\n",
    "    TCGAGAGGCTGAGGCAGGAGGATCGCTTAAACCTGGGAGGTAGAGGTTCCAGTGAGCTGAGATTGCGACA\n",
    "    ...\n",
    "    >NC_000013.12 Homo sapiens chromosome 13, GRCh38.p13 Primary Assembly\n",
    "\n",
    "In this example, the first line is the description line, starting with a '>' and the second line starts the DNA sequence.\n",
    "There can be multiple lines of sequence separated by newlines or just a single line.\n",
    "\n",
    "The description line has further structure in that the characters between the '>' and the first whitespace are \n",
    "treated as the sequence record identifier, in this case NC_000012.12 or NC_000013.12\n",
    "\n",
    "More than one FASTA record may be in a FASTA file.\n"
   ]
  },
  {
   "cell_type": "markdown",
   "metadata": {},
   "source": [
    "### Read FASTA records and set a more informative description line"
   ]
  },
  {
   "cell_type": "markdown",
   "metadata": {},
   "source": [
    "First, let's look at the description lines in our samples.fa sequence file"
   ]
  },
  {
   "cell_type": "code",
   "execution_count": 180,
   "metadata": {},
   "outputs": [
    {
     "name": "stdout",
     "output_type": "stream",
     "text": [
      ">sample1\n",
      ">sample2\n",
      ">sample3\n",
      ">sample4\n"
     ]
    }
   ],
   "source": [
    "sample_file = 'data/chr12/samples.fa'\n",
    "fileh = open(sample_file, 'r')\n",
    "for line in fileh:\n",
    "    line = line.strip()\n",
    "    if line.startswith('>'):\n",
    "        print(line)"
   ]
  },
  {
   "cell_type": "markdown",
   "metadata": {},
   "source": [
    "Next, let's read them into a list of dictionaries so that we can make changes before we write them out. \n",
    "\n",
    "We'll need to create a new dictionary for each record (each time we see '>')\n",
    "\n",
    "There are multiple lines of DNA sequence for each record that should get saved"
   ]
  },
  {
   "cell_type": "code",
   "execution_count": 194,
   "metadata": {},
   "outputs": [],
   "source": [
    "fasta_records = []\n",
    "sample_file = 'data/chr12/samples.fa'\n",
    "fileh = open(sample_file, 'r')\n",
    "current_description = None\n",
    "current_sequence_lines = []\n",
    "for line in fileh:\n",
    "    line = line.strip()\n",
    "    if line.startswith('>'):\n",
    "        if current_description is not None:\n",
    "            new_record = {'description': current_description, 'sequence_lines': current_sequence_lines}\n",
    "            fasta_records.append(new_record)\n",
    "        current_description = line\n",
    "        current_sequence_lines = []\n",
    "    else:\n",
    "        current_sequence_lines.append(line)\n",
    "fasta_records.append({'description': current_description, 'sequence_lines': current_sequence_lines})\n",
    "    "
   ]
  },
  {
   "cell_type": "code",
   "execution_count": 195,
   "metadata": {},
   "outputs": [
    {
     "data": {
      "text/plain": [
       "[{'description': '>sample1',\n",
       "  'sequence_lines': ['CTCTCTGCGGCTTGGCCCGTTAGAGGCGGCTTGTGTCCACGGGACGCGGGCGGATCTTCTCCGGCCATGA',\n",
       "   'GGAAGCCAGCCGCTGGCTTCCTTCCCTCACTCCTGAAGGTGCTGCTCCTGCCTCTGGCACCTGCCGCAGC',\n",
       "   'CCAGGATTCGACTCAGGCCTCCACTCCAGGCAGCCCTCTCTCTCCTACCGAATACGAACGCTTCTTCGCA',\n",
       "   'CTGCTGACTCCAACCTGGAAGGCAGAGACTACCTGCCGTCTCCGTGCAACCCACGGCTGCCGGAATCCCA',\n",
       "   'CACTCGTCCAGCTGGACCAATATGAAAACCACGGCTTAGTGCCCGATGGTGCTGTCTGCTCCAACCTCCC',\n",
       "   'TTATGCCTCCTGGTTTGAGTCTTTCTGCCAGTTCACTCACTACCGTTGCTCCAACCACGTCTACTATGCC',\n",
       "   'AAGAGAGTCCTGTGTTCCCAGCCAGTCTCTATTCTCTCACCTAACACTCTCAAGGAGATAGAAGCTTCAG',\n",
       "   'CTGAAGTCTCACCCACCACGATGACCTCCCCCATCTCACCCCACTTCACAGTGACAGAACGCCAGACCTT',\n",
       "   'CCAGCCCTGGCCTGAGAGGCTCAGCAACAACGTGGAAGAGCTCCTACAATCCTCCTTGTCCCTGGGAGGC',\n",
       "   'CAGGAGCAAGCGCCAGAGCACAAGCAGGAGCAAGGAGTGGAGCACAGGCAGGAGCCGACACAAGAACACA',\n",
       "   'AGCAGGAAGAGGGGCAGAAACAGGAAGAGCAAGAAGAGGAACAGGAAGAGGAGGGAAAGCAGGAAGAAGG',\n",
       "   'ACAGGGGACTAAGGAGGGACGGGAGGCTGTGTCTCAGCTGCAGACAGACTCAGAGCCCAAGTTTCACTCT',\n",
       "   'GAATCTCTATCTTCTAACCCTTCCTCTTTTGCTCCCCGGGTACGAGAAGTAGAGTCTACTCCTATGATAA',\n",
       "   'TGGAGAACATCCAGGAGCTCATTCGATCAGCCCAGGAAATAGATGAAATGAATGAAATATATGATGAGAA',\n",
       "   'CTCCTACTGGAGAAACCAAAACCCTGGCAGCCTCCTGCAGCTGCCCCACACAGAGGCCTTGCTGGTGCTG',\n",
       "   'TGCTATTCGATCGTGGAGAATACCTGCATCATAACCCCCACAGCCAAGGCCTGGAAGTACATGGAGGAGG',\n",
       "   'AGATCCTTGGTTTCGGGAAGTCGGTCTGTGACAGCCTTGGGCGGCGACACATGTCTACCTGTGCCCTCTG',\n",
       "   'TGACTTCTGCTCCTTGAAGCTGGAGCAGTGCCACTCAGAGGCCAGCCTGCAGCGGCAACAATGCGACACC',\n",
       "   'TCCCACAAGACTCCCTTTGTCAGCCCCTTGCTTGCCTCCCAGAGCCTGTCCATCGGCAACCAGGTAGGGT',\n",
       "   'CCCCAGAATCAGGCCGCTTTTACGGGCTGGATTTGTACGGTGGGCTCCACATGGACTTCTGGTGTGCCCG',\n",
       "   'GCTTGCCACGAAAGGCTGTGAAGATGTCCGAGTCTCTGGGTGGCTCCAGACTGAGTTCCTTAGCTTCCAG',\n",
       "   'GATGGGGATTTCCCTACCAAGATTTGTGACACAGACTATATCCAGTACCCAAACTACTGTTCCTTCAAAA',\n",
       "   'GCCAGCAGTGTCTGATGAGAAACCGCAATCGGAAGGTGTCCCGCATGAGATGTCTGCAGAATGAGACTTA',\n",
       "   'CAGTGCGCTGAGCCCTGGCAAAAGTGAGGACGTTGTGCTTCGATGGAGCCAGGAGTTCAGCACCTTGACT',\n",
       "   'CTAGGCCAGTTCGGATGAGCTGGCGTCTATTCTGCCCACACCCCAGCCCAACCTGCCCACGTTCTCTATT',\n",
       "   'GTTTTGAGACCCCATTGCTTTCAGGCTGCCCCTTCTGGGTCTGTTACTCGGCCCCTACTCACATTTCCTT',\n",
       "   'GGGTTGGAGCAACAGTCCCAGAGAGGGCCACGGTGGGAGCTGCGCCCTCCTTAAAAGATGACTTTACATA',\n",
       "   'AAATGTTGATCTTCA']},\n",
       " {'description': '>sample2',\n",
       "  'sequence_lines': ['AAATGGACCGAGCGGACCCGCCGCCGCACGCACCCTGCTCCACTCCAAGCTCCTAAGGGCTCCTGGCGCG',\n",
       "   'CCGCGTAGCCTTGGCGAGGTCCGCGCTGGGGTGCGGAGAGCGAAGGGAACTGGAGAGCCATGTAGATCCA',\n",
       "   'GGCTCTTGCCCGCCCGCCTCCTTCGGGATCGAATCAAGGGCTCCCATAGTGTTAGGAGGGGGCGAGAGTG',\n",
       "   'CTGTTTATCGTCATTTGCCTCGGAGCTTCGAGAAAGGGTGGTATTTTGCTTTTCCGCCCCGCATCCTCCG',\n",
       "   'GAACTCCCTGCACCGGAGAGAGGACGGCGTCTCCAGGTTGCTGGCAACCGGTGAGAATGGGGGTAGGGAA',\n",
       "   'TGAACATTTTCGCCGTAGCTGCTCGGTAAAGCGATTGTCCAACTGAGAGGGGCGTCGGACGAGTGGACCA',\n",
       "   'GGGCGGCGAGTTTGCCCGGCGCGTCTCGGATGCTGCTGCGGCGGCCGCCGCGGCTCCCGCCAGGGCACTG',\n",
       "   'CAAAGGCGACCTGCCGCATTCCCACTCGGGCTCTCCGCCGACTCAGCACCGCCCCTGCGCCAAGCCAGCC',\n",
       "   'GGCCAGCGTGCATCGATCGCCCTGGTGGGAGCTTAGAAGGCGGCAGGCGAAGAGGGGTAGGAGGGGGGAG',\n",
       "   'AGCCGAGGAGAAGCAGAGAGGGTGGCAGGCGTGGGGATCTGCTGAGCCGGCACTGCACCGGGTCCTAGGA',\n",
       "   'AGGCTCTCGGAGGGGAGGGGAGGCCAGGGCGACCCCCGAAGCAATGGCCCAGTCCGCTAGAACGGCACTG',\n",
       "   'CGTTAAGGCACCTGGGATCAGGAAGAAATTTATAAACAACAACAACAACAAAATCCAACAAACCCCCAAA',\n",
       "   'CCCAAACGCAACCCTCTGCAAAAAGCTGCACCCGGCCCGCAGGCAAGGGGGATTCCAAATTGAGTAAAAG',\n",
       "   'GCAGGGTGGAGGGGAAGGCCGCGAGAGGCAAAGTCGCAGATCTCCCGACCTGCTCGTTTTGAAGCACCTC',\n",
       "   'CCCCTGGGCGTGAGGGAGACGCGCGCTCCGGTGGGGGGGCCGCTTGGGTCCCCCCCACCCCTGGTCCCTG',\n",
       "   'GCTGTTTCCCACCCCGGGCTCTCTCCTGGCCTCCCACCCCCGCGCCCGGCTTCCACCATGACGGTGATGT',\n",
       "   'CTGGGGAGAACGTGGACGAGGCTTCGGCCGCCCCGGGCCACCCCCAGGATGGCAGCTACCCCCGGCAGGC',\n",
       "   'CGACCACGACGACCACGAGTGCTGCGAGCGCGTGGTGATCAACATCTCCGGGCTGCGCTTCGAGACGCAG',\n",
       "   'CTCAAGACGCTGGCGCAGTTCCCCAACACGCTGCTGGGCAACCCTAAGAAACGCATGCGCTACTTCGACC',\n",
       "   'CCCTGAGGAACGAGTACTTCTTTGACCGCAACCGGCCCAGCTTCGACGCCATCCTCTACTACTACCAGTC',\n",
       "   'CGGCGGCCGCCTGCGGAGGCCGGTCAACGTGCCCCTGGACATGTTCTCCGAGGAGATCAAGTTTTACGAG',\n",
       "   'TTGGGCGAGGAGGCCATGGAGAAGTTCCGGGAGGACGAGGGCTTCATCAAGGAGGAGGAGCGCCCCCTAC',\n",
       "   'CGGAGAAGGAGTACCAGCGCCAGGTGTGGCTGCTCTTCGAGTACCCCGAGAGCTCGGGGCCCGCCAGGGT',\n",
       "   'CATCGCCATCGTCTCCGTCATGGTCATCCTCATCTCCATCGTCATCTTTTGCCTGGAGACGCTCCCCGAA',\n",
       "   'CTGAAGGATGACAAGGACTTCACGGGCACCGTCCACCGCATCGACAACACCACGGTCATCTACAATTCCA',\n",
       "   'ACATCTTCACAGACCCCTTCTTCATCGTGGAAACGCTGTGTATCATCTGGTTCTCCTTCGAGCTGGTGGT',\n",
       "   'GCGCTTCTTCGCCTGCCCCAGCAAGACGGACTTCTTCAAAAACATCATGAACTTCATAGACATTGTGGCC',\n",
       "   'ATCATTCCTTATTTCATCACCCTGGGCACCGAGATAGCTGAGCAGGAAGGAAACCAGAAGGGCGAGCAGG',\n",
       "   'CCACCTCCCTGGCCATCCTCAGGGTCATCCGCTTGGTAAGGGTTTTTAGAATCTTCAAGCTCTCCCGCCA',\n",
       "   'CTCTAAGGGCCTCCAGATCCTGGGCCAGACCCTCAAAGCTAGTATGAGAGAGCTAGGGCTGCTCATCTTT',\n",
       "   'TTCCTCTTCATCGGGGTCATCCTGTTTTCTAGTGCAGTGTACTTTGCCGAGGCGGAAGAAGCTGAGTCGC',\n",
       "   'ACTTCTCCAGTATCCCCGATGCTTTCTGGTGGGCGGTGGTGTCCATGACCACTGTAGGATACGGTGACAT',\n",
       "   'GTACCCTGTGACAATTGGAGGCAAGATCGTGGGCTCCTTGTGTGCCATCGCTGGTGTGCTAACAATTGCC',\n",
       "   'CTGCCCGTACCTGTCATTGTGTCCAATTTCAACTATTTCTACCACCGAGAAACTGAGGGGGAAGAGCAGG',\n",
       "   'CTCAGTTGCTCCACGTCAGTTCCCCTAACTTAGCCTCTGACAGTGACCTCAGTCGCCGCAGTTCCTCTAC',\n",
       "   'TATGAGCAAGTCTGAGTACATGGAGATCGAAGAGGATATGAATAATAGCATAGCCCATTATAGACAGGTC',\n",
       "   'AATATCAGAACTGGCAATTGCACCACAGCTAACCAAAACTGCGTTAATAAGAGCAAGCTACTGACCGATG',\n",
       "   'TTTAAAAAACAAAAGCAAGCAAACAAAAAAGCCCCACTTAGCAGCTCAAAAGACTTAAAAAACAAAACAG',\n",
       "   'AAAACCTAGTGACTCATGTCACGCTTTGTAGATACTTTACTAAGTAGACTTGGAATGCTCTATTTAACTG',\n",
       "   'TCAATGCGTTGTTGCATTGAGGATTTTGGGGGTGGTGAACCAGAAGCTTTCAAGATCCATGACAAAATAA',\n",
       "   'ACTATTTTCCTTTTATTAAAAAATGGGAAAAGAGAGAGTATTTTCTAAAACTGGCTTAAAAAGATTCAGT',\n",
       "   'CCACGAACTAGTCTAGGTAAAATAATAATCATATGCTTCCCCAAACTGAAACATTTTTAATGCTTTGGTT',\n",
       "   'TCTTTAACTTTTTTAAAAACTCAGAACAAGATGATCATTTAGAAATATAAAATTGAAATTTGCATGGGAC',\n",
       "   'TCCAGTAAAACATCTTTGCAAACTGCGTAGCACATTGAAGACAGTGCATCAGATGTATTATATGTAACAT',\n",
       "   'GATAGACCAGCCAAAATGGACAATGAATAGATATTTTTATTTCGATCAACTGAACTGCATATTACAAGGT',\n",
       "   'GAAAAAAGAAAACTCCGATTACTTAAGACTGGTTCACAAAGCACCTTATAAATTGGATACTGGTCCTGAT',\n",
       "   'CTGTAGGGATTTCCCCCTGGGCCCATTCTCTTTCTAATCCAGATTATTCTCTAAGAAAAAGTTAACTGAA',\n",
       "   'TTAAATTAATTGATTCTTCTGCAGTGCTGCTAAATTGTCTCAACTGCAGATGAGCCAAATACAGGTCTTT',\n",
       "   'TCTCACCAGGCCTGCACTCCGACCCCTGGCTTTCAGAACTGGATGTAAAACCTTAGCCTCCTTATTGCAA',\n",
       "   'GAGAGCACAAATGAAGTTAAATGTAAGCATGTTTGAATCTGATACAATTTATTTTATAATCGCATGCTGA',\n",
       "   'GAAGTTAACCCAGACAATAGGGGATAAGCTTAAGTTGAAATCGATTCTTCTAAAAATAGATCCTTTTTCA',\n",
       "   'TTTGCATTCACCAAAAGTGCACTCCTCCATTTATTAACTATTTTATTAGTAAATAAAGTACTGTATTTAA',\n",
       "   'GTGCATATGTTAGTCAGATGGGAACAATAACTTTTTGGAGCTCAAAGCATGTTCTCTTATTCAGCATTAT',\n",
       "   'GGCCTATTTGACTAAGATGTACCTTGAATTAATTAATGCATGATTTCAGTAATAAAAATTTTAAAAGTAA',\n",
       "   'TAAAAATTACAAGTCTGTGGGGTGAAAGGCCCAATAGAAATTATGGGGGGTGGGGGTGGGGGCACTCAGT',\n",
       "   'CAATTTTCCTGCCTTTGCTCAGGGAAATACCAGGTTTTTGTGCAGGTATAGGCGGAGAGAGGACCAATAT',\n",
       "   'GCCCATCCCTTAAAGGGAAGCCATGTGAAAAACTCAATAAGTCATCAAAGTATATATAGCAACACCTAAG',\n",
       "   'AACAAGTATTCTTTCTAGCTGAAGACAAACACAAGCAACACAAACAAGCAAACAAACAAACAAACAAAAA',\n",
       "   'GGTGCAATACTGCATGTTTTTTGGTGCATTCTTAGGATGTAAATGAAAATGTTTCTCTATTATATGCATC',\n",
       "   'CGAAGCAGAGCTGATTTTTTTTTTCTTTGCAGTCATTCTTTGAAGTCTGTAGAGACTTCAGCCCTCCCCT',\n",
       "   'TGAGGCTCCCTGAAGAAACTAAACCAATTGATTTAATAGTTGCTTAGTGCCTTTATCCTGTACCCACAGT',\n",
       "   'GAACTGCAGAAAGTGCCTCCTTAACACAGCTGAGAAGTTAGGTAGCAAAAGTGGGGAAGGGTTGGGGCAC',\n",
       "   'AGACCTTTTGCTTTTTCTTTTTCCATTCTCGCTCTCTCATTTCACCACTGTGAGAAGACCACACCACCCT',\n",
       "   'AAACCCTGGAGAGGAGAGACCCAGGAGGGTGCTGTCTCTCTGGCCATCTACTAGCATTGTCCCTTTGACA',\n",
       "   'GCCTGACGCTGGATGTGAACTGAGACCCATCTTTGAACTGGACATGAACTGTGAACTTGTTTTTTCCTCT',\n",
       "   'CTCCACCAGAAGCCAAGATAAACTTTTTGGGAATTTGTTCCCTATCGAGGGCCACTTTGGACTCACAAGG',\n",
       "   'CTTCCTCAGGTCCAGTGTAGTGCTCCTGGCACCTTTCCTTATTTTTTTCTCTGTCGGTAACAGCACTTTG',\n",
       "   'CAAATCTCTCTGACGGTCCAGTCTTTTCAGGCATTGTTGCGGATGTGGGAACACTCAGTTCATAATAACC',\n",
       "   'TTTCCTAGGCCTTCCCTCCTGGTCTACCCCTTTCAGATATTTCCTGATGCCCCTATGATCTTCCCACCTG',\n",
       "   'GCAGTCACTTCACAGGTTGAACATCTAACTTCTGCTGCCCCCGTTACCCAGCCCAGAGAATGGTGGGGAC',\n",
       "   'CCTGTTCCTGGCTGAAAGAGAGCCACGGAACACAGGCCTCTGGAGCTCGGCAGCTGCCCACCGGTGGAGA',\n",
       "   'GGTACTCACAGCCTTTTAAAGGACCCTGAGGTGGGGAATCTTCATTCTGCACTTAGCATGTGGCTGCCTG',\n",
       "   'TTACCTGACATTCTGGCCCAGCTTCTTCTGAAAATCTGTTCTGTTTCTCCCACCCCTTTCCCCCATCCTG',\n",
       "   'TCCTAGAACTAGCAGTGAGGCAATCACCCTAGAAACTCGAGTTACACCCATTCTGGCTAACTCGATTAAA',\n",
       "   'AGAAAGAACATGGATATCTTATTTTCCTATGTGACTTTTGTGAATCTGTGAGATGAACACAACACACATC',\n",
       "   'GTGGAAGATGAGGGGCCGAGAACTGCACAGCATCCGACTACAGGGCATTAAACCCTCCCATGTGATGTCT',\n",
       "   'CCTTCTCGTCTGAACCTTAACTCATTCTGGCGATTCCTTTCCTACTTGCTTAAAAACCCCCAATTAGGAA',\n",
       "   'AAAAATGCCAACCTCCTCCCAGGCTTGGGGTTATCTTGATCTTTCATTTCAACGTTGAGGTCTAGGGCAC',\n",
       "   'ACAGAACTTCAAACACCGCACTCTGTCAACAGCAATAATCCACTCAGTACTGTGGGATGGATGGGTTAAT',\n",
       "   'GGATGAGAAAACGGCACCAAGACTGACTTTGGGTACTTGGTATATTTACCGTGGTTACACCCTGGACTGG',\n",
       "   'TTGATTCTTCTGCATGTGATATAGAAAAAAGTGCTGCATGCGGTGAACCTGTCAGCCTGGGACTGGGGAT',\n",
       "   'GAGTTGTTGTTATGAGTTTGGGGTGGTGTGAGGAAAATGAATGCTGCTTAGCTCATCTGTAGCTCATTGC',\n",
       "   'AATGAATTCAGTAAGAATGGAGTACAGGGATTATCTGTGTAGCATAGGCATGCAATGTTTGACCAAGCTC',\n",
       "   'TTACCCTCGCACTGTAATGTGTTGAAATGTCTTTGTAGACCTGAAGGTGCACTTAACAAAACTGCCTATT',\n",
       "   'AAGGGATGACTATTTTTTGGTTTACTTATTCATATTTATTTTAGCAGCCTTTTTACCTTTTCTTCCCCTT',\n",
       "   'CCTAGGCATGGAGCTGTAACAGCTCATGTCCTGACTATCTGTTTTCTCCAGAAGGAGAAGACTTCTGATG',\n",
       "   'TGCTGATAGCCATAATTCCTCTCTTCCAGTCTATTGGGGCCCTAGTTCAATAGGGTGGCAATAGAAGGGT',\n",
       "   'TGGTCACACCAGGGCTGTTAGCCATCCCAGAATCTCTGAAGTGGTTAACTCACCTGAAGTGATCTGAATC',\n",
       "   'AGAGAGACCAAAGACATTCATTTCCTCTGTCCTCAGATTTCTAGAAGACAAATTCTAGCCAGGAAAACTT',\n",
       "   'TCTGTTTTTGCATCTCCCTTTTCCCATTTGTGCCCAACTCCCCTTGCACTCCCTGGAGACTTGAGTTCTG',\n",
       "   'ATTTTCAGTTATATCAGTTCATTGGGAGTGTGTTCGTGGGTGAGCCTTGCAGAATCAGATAAACCAACAG',\n",
       "   'CAAGTCCTTCTCCAGGATTCTGGCCAGTGGGCAGTCATTTCCCTGAAATGAATTGGAGGGCAGGTTTAGA',\n",
       "   'TTCCACTATGGTGGACCTGAAGCACAGGCGGTGTCACAATCTTGATTTGCTTGAGAATTAAAAAAAATAC',\n",
       "   'ATGTAAATGGTAAATGAGGAATACATTTTTTAAAGTAGAAATTTGATTTAGCCTATAAAAGGCCTTCTTC',\n",
       "   'ACATTGTGTATAGTTACACATTTTTCAAATTAGTTACCATCTAAAAGTCAATAAAAATAGTTTCCTAGCC',\n",
       "   'CTCTCATTTAATATAGGAGACCTCAAAACACATGCTTTTTAACAATTTTACATTTTAATTCTTAGTTTGG',\n",
       "   'TAGACTGGATTGAAAGAAAGGAGAAAGAACATTAGCAGAAGGCACTTTCCCATTTTCTTCCAGGAATGAC',\n",
       "   'TTATTCCTGGGGTGGTGAGAATTGGTGGGTGGTAACCATCCATAGTATAAAATTGTTAGAAAGAATACAA',\n",
       "   'ACTGCCAAACAAGCATGTTATCTTCAGGCTTTTCCAAGCAAGAATGAAGTCTTTTGATGTTTATGTTCAT',\n",
       "   'TTTAAGAAGACAAACAAACTAAAATTTTAAGACCAGACACAACCCAAGTTGAATTGTGATCTCAGGAGGT',\n",
       "   'GACCTCTCATTCACCATGTGGCATATTACTACTTGTATTTATATCATGGAATTTCAGGGTATATGTGAAC',\n",
       "   'ATGTCTAGTATGACTCAGGTAAACCTTTAAAGAATGTATGTTACTTACCATTTTTGTAAAGAAGCAAACA',\n",
       "   'GGAGCTGAATTGTTAACCAAAACTGTTCCATTACCTTGGGTCACTGTGCAAACTAATTCAGGGTATAGAT',\n",
       "   'ATAAAGTTTAGAAGCCTTGGGATTAAATGCCAGCCTCTTTGCTCAGGCCAAATGACCCTGGGCTTTCTTG',\n",
       "   'GGAAGTCCAGCATGTGTGTAAGGGGTGAGGCCCTGCTGACCTCAGGGTTATTCGCTTTAAGGAGATTAAC',\n",
       "   'CCTAGTCACAGTGATTTTTCATTTAGGAGCTAACTAGGAGTTTACTCTTTATGACGTGAAACTTCAAAGA',\n",
       "   'GTATAGAAAACTTTTGTACCACAATCAAAGAAGAAGAAATGGTGTATGGAAAGAAAACAAAACAAAACAA',\n",
       "   'GAAATCTCTTGTAAAATATTCCAGGTCAAAGTTGTCTCCTCTCCAAACCTTGCAGAAGCACCTTTCTTCT',\n",
       "   'CTTCAGCGCACTGTTTTGGGACTGTGTATGCAGCAGATGTAAGTAGACAAGACAACATGGACTCCATGTG',\n",
       "   'ACATGCCTCTAATAGTAAAGATAAAGTATTACTGAGGTTAAAAATAAAAATCGAGTAGTATTAATTTAAA',\n",
       "   'GTGCACCATCAGGACAACAAACCATTTAAGCTGAAAAAACGCTATTTTATTTCTTGAGTTTGCCAGTTGC',\n",
       "   'TTCCACCTTGAGTTAAGGACGTGTCTCATCTTCACCTACTGTGCATTCTCCCTTCTCTAACTGTGTGATA',\n",
       "   'TGTCAGGTCAAGGACATTGAATGTTATGAATTGAGAACCTAATTGATGCGCATAGTTTTCATCTATGCAA',\n",
       "   'TTTTACTTGCTTCTGTCACTTTACGATCTGTTCATATTTGGCATCAATTAAAGATAATTTTTAAGGATCT',\n",
       "   'TATCAAGGAA']},\n",
       " {'description': '>sample3',\n",
       "  'sequence_lines': ['CACTTCCGGGGCGGATCGGAAGTTGCTTTGTTTTGCTTCGAGATGGCTGCGGGGATGTATTTGGAACATT',\n",
       "   'ATCTGGACAACCTGAAGGCTGAAATTGACAAGTTGGCCACTGAGTATATGAGTAGTGCCCGCAGCCTGAG',\n",
       "   'CTCCGAGGAAAAATTGGCCCTTCTCAAACAGATCCAGGAAGCCTATGGCAAGTGCAAGGAATTTGGTGAC',\n",
       "   'GACAAGGTGCAGCTTGCCATGCAGACCTATGAGATGGTGGACAAACACATTCGGCGGCTGGACACAGACC',\n",
       "   'TGGCCCGTTTTGAGGCTGATCTCAAGGAGAAACAGATTGAGTCAAGTGACTATGACAGCTCTTCCAGCAA',\n",
       "   'AGGCAAAAAGAGCCGGACTCAAAAGGAGAAGAAAGCTGCTCGTGCTCGTTCCAAAGGGAAAAACTCGGAT',\n",
       "   'GAAGAAGCCCCCAAGACTGCCCAGAAGAAGTTAAAGCTCGTGCGCACAAGTCCTGAGTATGGGATGCCCT',\n",
       "   'CAGTGACCTTTGGCAGTGTCCACCCCTCTGATGTGTTGGATATGCCTGTGGATCCCAACGAACCCACCTA',\n",
       "   'TTGCCTTTGTCACCAGGTCTCCTATGGAGAGATGATTGGCTGTGACAACCCTGATTGTTCCATTGAGTGG',\n",
       "   'TTCCATTTTGCCTGTGTGGGGCTGACAACCAAGCCTCGGGGGAAATGGTTTTGCCCACGCTGCTCCCAAG',\n",
       "   'AACGGAAGAAGAAATAGATAAGGGCCTTGGATTCCAACACAGTTTCTTCCACATCCCCTGACTTGGGCTA',\n",
       "   'GTGGGCAGAGGAATGCCTGTGCTGGGGCCAGGGGTTCAGGGAGGAGTGGATGGCACAGTGCTGTCATCCC',\n",
       "   'TTCTCCTCCCCTCTCCCCACTCCCGGTGCTGAGGCTGCATCAGACCCTGGTAGGGAGGGGTGCCGCAGCC',\n",
       "   'ACTAACGGTATGTGCTCTCCTTCAGCCCTCTCCCTTCGGAGGGACGTGGTCTTGCCCACTGTCCTTTTGC',\n",
       "   'CTCCATGCTGAGGTCGGTGCTGTATTTCAGAGGGAGGGTCCTTTTCATTCTCCTTGCTTTGTATTTAAGG',\n",
       "   'ACTGGGGCATAGCATGGGGGCAGTCCCCCAGACCTCTTCATTCCCCCTCCTGTGGTGAGGGCTAGGTGTG',\n",
       "   'ATCAACACTTTTCTTCTCCATTCCCTTCCTGCTTTTTTCATGGTGGGGGATCCACCAGGTCATCTAGGCT',\n",
       "   'CTGGCCCTAGTTGAAGGGGCACCCCTTCCTCTGTGCCAAGAGGATTCATCCTGGGAGAGGGGGCAAGGTG',\n",
       "   'GAATGCAGATAACTCACATGTAAAAGGAACTTGGGTAGGTAAATAAAAGCTATACATGTTG']},\n",
       " {'description': '>sample4',\n",
       "  'sequence_lines': ['GCGGGGCCGCGAGGCTAGCGTTACCCTTGCGCCTGCGTGGAAGGACTCTGTGGCGAGTGGCGGCCGAAAG',\n",
       "   'CTAGCTGCGGAGTGCACGTGGAGCGCGGCCCCAAGGGCAGTCTCGGGCCTTAACCCGCATTCTGTACGCC',\n",
       "   'AAGCCTGCGTTCTGCCGTTTCCTCCGGCACGCGCGACGCCACCTTCTCACATTTCTGTCTGCCATAGTAC',\n",
       "   'TATGGGGCGCAAATTGGACCCTACAAAGAAGGAGAAGCGGGGGCCAGGCCGAAAGGCCCGGAAGCAGAAG',\n",
       "   'GGTGCCGAGACAGAACTCGCCAGATTCTTGCCTGCAGTAAGTGACGAAAATTCCAAGAGGCTGTCTAGTC',\n",
       "   'GTGCTCGAAAGAGGGCAGCCAAGAGGAGGCTGGGTTCTGCTGAAGTCCCTAAGACAAATAAGTCCCCTGA',\n",
       "   'GGCCAAACCATTGCCTGGAAAGCTACCAAAAGGAGCTGTCCAGACAGCTGGTAAGAAGGGACCCCAGTCC',\n",
       "   'CTATTTAATGCTGCTCAAGGCAAGAAGCGCCCAGCACCTAGCAGTGATGAGGAAGAGGAGGAGGAAGACT',\n",
       "   'CTGAAGAAGATGATGTGGTGAACCAGGGGGACCTCTGGGGCTCCGAGGATGATGCTGATATGGTAGATGA',\n",
       "   'CTATGGAGCTGACTCCAACTCTGAGGATGAGGAGGAAGGTGAAGAGCTGCTGCCCATTGAAAGAGCTGCT',\n",
       "   'CGGAAGCAGAAGGTCCGGGAAGCTGCTGCTGGGGTCCAGTGGAGTGAAGAGGAGACGGAGGATGAGGAGG',\n",
       "   'AAGAAGTGACCCCTGAGTCCGGCCCCTCAAAGGAGGAGGAGGCAGATGGGGGCCTGCAGATCAATGTGGA',\n",
       "   'TGAGGAACCATTTGTGCTGCCCCCTGCCGGGGAGATGGAGCAGGATGCCCAGGCTCCAGACCTGCAACGA',\n",
       "   'GTTCACAAGCGGATCCAGGATATCGTGGGAATTCTGCGTGATTTTGGGGCTCAGCGGGAGGAAGGGCGGT',\n",
       "   'CTCGTTCTGAATACCTGAACCGGCTCAAGAAGGATCTGGCCACTTACTACTCCTATGGAGACTTCCTGCT',\n",
       "   'TGGCAAGCTCATGGACCTCTTCCCTCTGTCTGAGCTGGTGGAGTTCTTAGAAGCTAATGAGGTGCCTCGG',\n",
       "   'CCCGTCACCCTCCGGACCAATACCTTGAAAACCCGACGCCGAGACCTTGCCCAGGCTCTAATCAATCGTG',\n",
       "   'GGGTTAATCTGGATCCCCTGGGCAAGTGGTCAAAGACTGGACTAGTGGTATATGATTCTTCTGTGCCCAT',\n",
       "   'TGGTGCCACCCCCGAGTACCTGGCTGGGCACTACATGCTGCAGGGAGCCTCCAGCATGCTGCCCGTCATG',\n",
       "   'GCCTTGGCACCCCAGGAACATGAGCGGATCCTGGACATGTGTTGTGCCCCTGGAGGAAAGACCAGCTACA',\n",
       "   'TGGCCCAGTTGATGAAGAATACGGGTGTGATCCTTGCCAATGACGCCAATGCTGAGCGGCTTAAGAGTGT',\n",
       "   'TGTGGGCAACTTGCACCGGCTGGGAGTCACCAACACCGTTATCAGTCACTATGATGGGCGCCAGTTCCCC',\n",
       "   'AAGGTGGTGGGGGGCTTTGACCGAGTGCTGCTGGATGCTCCCTGCAGTGGCACTGGGGTCATCTCCAAGG',\n",
       "   'ACCCAACCGTGAAGACTAACAAGGATGAGAAGGACATCCTGCGCTGTGCTCACCTCCAGAAGGAGTTGCT',\n",
       "   'TCTGAGTGCTATTGACTCTGTGAATGCCACCTCCAAGACAGGAGGCTACCTTGTTTACTGCACCTGTTCT',\n",
       "   'ATCATGGTGGAAGAGAATGAGTGGGTGGTAGACTATGCTCTGAAAAAGAGGAATGTGCGACTGGTGCCCA',\n",
       "   'CAGGCCTAGACTTTGGCCAGGAGGGTTTTACCCGCTTTCGAGAAAGGCGCTTCCACCCCAGTCTGCGTTC',\n",
       "   'TGCCCGACGCTTCTACCCTCATACCCACAATATGGATGGGTTCTTCATTGCCAAGTTCAAGAAATTCTCC',\n",
       "   'AATTCTATCCCTCAGTCCGAGACAGGAAATTCTGAAACAGCCACACCTAAAAATGTAGACTTGCCTCAGG',\n",
       "   'TCATCCCCAAGTCTGAGAACAGCAGCCAGCCAGCCAAAAAGGCCAAGGGGGCTGCAAAGACAAAGCAGCA',\n",
       "   'GCTGCAGAAACAGCAACGTCCCAAGAAGGCCTCCTTCCAGAAGCCGAATGGCACCTCTAAAGGGGCAGAC',\n",
       "   'TCAGAATTGTCCACTGTACCTTCTGTCAGAAAGACCCAAGCTTCCTCCAGGTGCCAGGATAGCAGTCAGC',\n",
       "   'CAGCTGGAAAAGCCGAAGGGATCAGGGAGTCCAAGGTGACTGGGAAGCTAAAGCAACGATCGCCTAAATT',\n",
       "   'ACAGTCCTCCAAGAAAGTTGCCTTCCTCAAGCAGAATGCCCCTCCCAAGGGCACAGACACAGAAACACCG',\n",
       "   'GCTGTGTTATCCCCATCCAAGACTCAGGCCACCCTGAAACCTAAGGACCATCATCACCCCCTTGGAAGGG',\n",
       "   'CCAAGGGGGTTGAGAAGCAGCAGTTGCCAGAGCAGCCTTTCAAGAAAGCTGCCTTCCAGAAACAGAATGA',\n",
       "   'CACCCCCAAGGGGCCTCAGCCTCCGACTGTGTCTCCCATCAGTTCCAGCCGCCCCCCACCAGCAAAGAGG',\n",
       "   'AAGAAATCTCAGTCCAGGGGCAATGGCCAGCTGCTCCTGTCTTAGATGGTTGAAAACTAGACTGGGGTGG',\n",
       "   'CTCACTGCCATTGTCACCGGGTTGGAACTCTTGCCTCTATGAGGATGCCTTCTCCACTGTGCATACCCAT',\n",
       "   'GAAATTTAATACACATTTTACAACCTCTG']}]"
      ]
     },
     "execution_count": 195,
     "metadata": {},
     "output_type": "execute_result"
    }
   ],
   "source": [
    "fasta_records"
   ]
  },
  {
   "cell_type": "markdown",
   "metadata": {},
   "source": [
    "Change the description lines to include the gene name, organism and sequence type so that sample1, for example, looks like this:\n",
    "\n",
    "    >sample1 Homo sapiens acrosin binding protein, mRNA\n",
    "    \n",
    "The .format() function should work well."
   ]
  },
  {
   "cell_type": "markdown",
   "metadata": {},
   "source": [
    "First, make a dictionary out of our annotations data, keyed by the sample name\n",
    "    "
   ]
  },
  {
   "cell_type": "code",
   "execution_count": 197,
   "metadata": {},
   "outputs": [
    {
     "data": {
      "text/plain": [
       "{'sample2': {'Accession': 'sample2',\n",
       "  'Organism': 'Pan troglodytes',\n",
       "  'Gene name': 'potassium voltage-gated channel subfamily A member 1 ',\n",
       "  'Seq type': 'mRNA',\n",
       "  'Reference': 'XM_003313436.4',\n",
       "  'Length': '7990'},\n",
       " 'sample4': {'Accession': 'sample4',\n",
       "  'Organism': 'Macaca mulatta',\n",
       "  'Gene name': 'NOP2 nucleolar protein',\n",
       "  'Seq type': 'mRNA',\n",
       "  'Reference': 'XM_015150909.2',\n",
       "  'Length': '2759'},\n",
       " 'sample1': {'Accession': 'sample1',\n",
       "  'Organism': 'Homo sapiens',\n",
       "  'Gene name': 'acrosin binding protein',\n",
       "  'Seq type': 'mRNA',\n",
       "  'Reference': 'NM_032489.3',\n",
       "  'Length': '1905'},\n",
       " 'sample3': {'Accession': 'sample3',\n",
       "  'Organism': 'Homo sapiens',\n",
       "  'Gene name': 'inhibitor of growth family member 4',\n",
       "  'Seq type': 'mRNA',\n",
       "  'Reference': 'XM_011520964.2',\n",
       "  'Length': '1321'}}"
      ]
     },
     "execution_count": 197,
     "metadata": {},
     "output_type": "execute_result"
    }
   ],
   "source": [
    "labeled_data_dict = {}\n",
    "for record in sorted_labeled_data:\n",
    "    labeled_data_dict[record['Accession']] = record\n",
    "labeled_data_dict"
   ]
  },
  {
   "cell_type": "code",
   "execution_count": null,
   "metadata": {},
   "outputs": [],
   "source": [
    "for fasta_record in fasta_records:\n",
    "    key = fasta_record['description'][1:]\n",
    "    record = labeled_data_dict[key]\n",
    "    new_description = '>{accession} {organism} {gene_name}, {seq_type}'.format(\n",
    "        accession=record['Accession'],\n",
    "        organism=record['Organism'],\n",
    "        gene_name=record['Gene name'],\n",
    "        seq_type=record['Seq type'],\n",
    "    )\n",
    "    fasta_record['description'] = new_description\n",
    "fasta_records\n",
    "    "
   ]
  },
  {
   "cell_type": "markdown",
   "metadata": {},
   "source": [
    "Use the write function of the file handle to write to the new file.  Don't forget to add newlines."
   ]
  },
  {
   "cell_type": "code",
   "execution_count": 210,
   "metadata": {},
   "outputs": [],
   "source": [
    "annotated_sample_file = 'data/chr12/annotated-samples.fa'\n",
    "fileh = open(annotated_sample_file, 'w')\n",
    "for fasta_record in fasta_records:\n",
    "    fileh.write('%s\\n' % fasta_record['description'])\n",
    "    fileh.write('%s\\n' % '\\n'.join(fasta_record['sequence_lines']))\n",
    "fileh.close()"
   ]
  },
  {
   "cell_type": "markdown",
   "metadata": {},
   "source": [
    "### Run minimap2 using annotated-samples.fa as the query and chr12.fa as the reference sequence\n",
    "minimap2 is a command line tool for mapping query sequences to a reference.  This is useful for characterizing \n",
    "query sequences, SNP detection, finding orthologs (from close relatives), etc.  Command line usage is described \n",
    "as follows:\n",
    "\n",
    "    Usage: minimap2 [options] <target.fa>|<target.idx> [query.fa] [...]\n",
    "\n",
    "where 'target' is the reference sequence (chr12.fa for us)"
   ]
  },
  {
   "cell_type": "code",
   "execution_count": 208,
   "metadata": {},
   "outputs": [],
   "source": [
    "target_file = 'data/chr12/chr12.fa'"
   ]
  },
  {
   "cell_type": "code",
   "execution_count": 211,
   "metadata": {},
   "outputs": [],
   "source": [
    "cmd = './minimap2 {} {}'.format(target_file, annotated_sample_file)"
   ]
  },
  {
   "cell_type": "code",
   "execution_count": 212,
   "metadata": {},
   "outputs": [
    {
     "data": {
      "text/plain": [
       "'./minimap2 data/chr12/chr12.fa data/chr12/annotated-samples.fa'"
      ]
     },
     "execution_count": 212,
     "metadata": {},
     "output_type": "execute_result"
    }
   ],
   "source": [
    "cmd"
   ]
  },
  {
   "cell_type": "markdown",
   "metadata": {},
   "source": [
    "#### The most convenient way to run a shell command is _os.system()_\n",
    "\n",
    "_os.system_ runs a command in a bash shell and outputs stderr and stdout to the console.  It returns the shell return code (e.g. zero for success)\n",
    "\n",
    "Because it goes to the console, your Python code does not capture the output.\n",
    "\n",
    "Execution is synchronous, so your program has to wait until it's done.\n",
    "\n",
    "Bash shell (or whatever your current shell is) interpolation is done so PATH is honored, redirection works, etc."
   ]
  },
  {
   "cell_type": "code",
   "execution_count": 213,
   "metadata": {},
   "outputs": [
    {
     "data": {
      "text/plain": [
       "0"
      ]
     },
     "execution_count": 213,
     "metadata": {},
     "output_type": "execute_result"
    }
   ],
   "source": [
    "os.system(cmd)"
   ]
  },
  {
   "cell_type": "markdown",
   "metadata": {},
   "source": [
    "You can check the return code for non-zero-ness"
   ]
  },
  {
   "cell_type": "code",
   "execution_count": 214,
   "metadata": {},
   "outputs": [],
   "source": [
    "cmd = './minimap2 --non-existent-switch {} {}'.format(target_file, annotated_sample_file)"
   ]
  },
  {
   "cell_type": "code",
   "execution_count": 215,
   "metadata": {},
   "outputs": [
    {
     "name": "stdout",
     "output_type": "stream",
     "text": [
      "Fail!\n"
     ]
    }
   ],
   "source": [
    "if os.system(cmd) != 0:\n",
    "    print('Fail!')\n",
    "else:\n",
    "    print('Success!')"
   ]
  },
  {
   "cell_type": "markdown",
   "metadata": {},
   "source": [
    "But you need to capture stderr to find out what happened"
   ]
  },
  {
   "cell_type": "code",
   "execution_count": 216,
   "metadata": {},
   "outputs": [],
   "source": [
    "cmd = './minimap2 --non-existent-switch {} {} 2> stderr 1> stdout'.format(target_file, annotated_sample_file)"
   ]
  },
  {
   "cell_type": "code",
   "execution_count": 219,
   "metadata": {},
   "outputs": [
    {
     "name": "stdout",
     "output_type": "stream",
     "text": [
      "[ERROR] unknown option in \"--non-existent-switch\"\n",
      "\n"
     ]
    }
   ],
   "source": [
    "if os.system(cmd) != 0:\n",
    "    stderrh = open('stderr', 'r')\n",
    "    print(stderrh.read())"
   ]
  },
  {
   "cell_type": "markdown",
   "metadata": {},
   "source": [
    "#### The subprocess _Popen()_ constructor allows more flexibility and power in the execution of shell commands.\n",
    "The _Popen()_ constructor creates a process handle that can be used to capture stderr, stdout or pipe data into\n",
    "stdin.\n",
    "\n",
    "Run a process using Popen just like _os.system()_"
   ]
  },
  {
   "cell_type": "code",
   "execution_count": 3,
   "metadata": {},
   "outputs": [],
   "source": [
    "import subprocess"
   ]
  },
  {
   "cell_type": "code",
   "execution_count": 271,
   "metadata": {},
   "outputs": [],
   "source": [
    "cmd = './minimap2 -a {} {}'.format(target_file, annotated_sample_file)"
   ]
  },
  {
   "cell_type": "code",
   "execution_count": 230,
   "metadata": {},
   "outputs": [
    {
     "data": {
      "text/plain": [
       "1"
      ]
     },
     "execution_count": 230,
     "metadata": {},
     "output_type": "execute_result"
    }
   ],
   "source": [
    "proc = subprocess.Popen(cmd, shell=True)\n",
    "proc.wait()"
   ]
  },
  {
   "cell_type": "markdown",
   "metadata": {},
   "source": [
    "To capture stderr and stdout, use _PIPE_ and _.communicate()_"
   ]
  },
  {
   "cell_type": "code",
   "execution_count": 264,
   "metadata": {},
   "outputs": [],
   "source": [
    "proc = subprocess.Popen(cmd, shell=True, stdout=subprocess.PIPE, stderr=subprocess.PIPE)"
   ]
  },
  {
   "cell_type": "code",
   "execution_count": 233,
   "metadata": {},
   "outputs": [
    {
     "name": "stdout",
     "output_type": "stream",
     "text": [
      "b'sample1\\t1905\\t540\\t1140\\t-\\tNC_000012.12\\t133275309\\t6643541\\t6644606\\t600\\t1065\\t60\\ttp:A:P\\tcm:i:111\\ts1:i:527\\ts2:i:0\\tdv:f:0.0018\\trl:i:0\\nsample1\\t1905\\t1146\\t1491\\t-\\tNC_000012.12\\t133275309\\t6640059\\t6640519\\t345\\t460\\t60\\ttp:A:P\\tcm:i:57\\ts1:i:325\\ts2:i:0\\tdv:f:0.0034\\trl:i:0\\nsample1\\t1905\\t1573\\t1898\\t-\\tNC_000012.12\\t133275309\\t6638081\\t6638406\\t325\\t325\\t60\\ttp:A:P\\tcm:i:58\\ts1:i:325\\ts2:i:0\\tdv:f:0.0023\\trl:i:0\\nsample1\\t1905\\t7\\t422\\t-\\tNC_000012.12\\t133275309\\t6646483\\t6647425\\t406\\t942\\t60\\ttp:A:P\\tcm:i:71\\ts1:i:321\\ts2:i:0\\tdv:f:0.0054\\trl:i:0\\nsample1\\t1905\\t427\\t540\\t-\\tNC_000012.12\\t133275309\\t6645220\\t6645333\\t113\\t113\\t60\\ttp:A:P\\tcm:i:19\\ts1:i:113\\ts2:i:0\\tdv:f:0.0067\\trl:i:0\\nsample1\\t1905\\t1491\\t1577\\t-\\tNC_000012.12\\t133275309\\t6638951\\t6639037\\t86\\t86\\t60\\ttp:A:P\\tcm:i:15\\ts1:i:86\\ts2:i:0\\tdv:f:0.0083\\trl:i:0\\nsample2\\t7990\\t4\\t7984\\t+\\tNC_000012.12\\t133275309\\t4909910\\t4918250\\t7302\\t8351\\t60\\ttp:A:P\\tcm:i:1263\\ts1:i:7242\\ts2:i:189\\tdv:f:0.0108\\trl:i:64\\nsample3\\t1321\\t80\\t1313\\t-\\tNC_000012.12\\t133275309\\t6650598\\t6653395\\t1194\\t2797\\t60\\ttp:A:P\\tcm:i:220\\ts1:i:1082\\ts2:i:0\\tdv:f:0.0041\\trl:i:0\\nsample3\\t1321\\t7\\t78\\t-\\tNC_000012.12\\t133275309\\t6663065\\t6663136\\t71\\t71\\t52\\ttp:A:P\\tcm:i:15\\ts1:i:71\\ts2:i:0\\tdv:f:0.0043\\trl:i:0\\nsample4\\t2759\\t1983\\t2749\\t-\\tNC_000012.12\\t133275309\\t6556880\\t6557644\\t598\\t766\\t60\\ttp:A:P\\tcm:i:81\\ts1:i:598\\ts2:i:0\\tdv:f:0.0411\\trl:i:0\\nsample4\\t2759\\t1421\\t1974\\t-\\tNC_000012.12\\t133275309\\t6560108\\t6561052\\t408\\t944\\t60\\ttp:A:P\\tcm:i:52\\ts1:i:341\\ts2:i:0\\tdv:f:0.0481\\trl:i:0\\nsample4\\t2759\\t679\\t1170\\t-\\tNC_000012.12\\t133275309\\t6563084\\t6563943\\t377\\t859\\t60\\ttp:A:P\\tcm:i:53\\ts1:i:315\\ts2:i:0\\tdv:f:0.0323\\trl:i:0\\nsample4\\t2759\\t321\\t671\\t-\\tNC_000012.12\\t133275309\\t6566105\\t6566818\\t235\\t713\\t60\\ttp:A:P\\tcm:i:31\\ts1:i:176\\ts2:i:0\\tdv:f:0.0514\\trl:i:0\\nsample4\\t2759\\t1175\\t1400\\t-\\tNC_000012.12\\t133275309\\t6561666\\t6561970\\t184\\t304\\t60\\ttp:A:P\\tcm:i:28\\ts1:i:170\\ts2:i:0\\tdv:f:0.0254\\trl:i:0\\nsample4\\t2759\\t244\\t293\\t-\\tNC_000012.12\\t133275309\\t6567839\\t6567888\\t49\\t49\\t14\\ttp:A:P\\tcm:i:6\\ts1:i:49\\ts2:i:0\\tdv:f:0.0192\\trl:i:0\\n'\n"
     ]
    }
   ],
   "source": [
    "stdout, stderr = proc.communicate()\n",
    "if proc.returncode == 0:\n",
    "    print(stdout)\n",
    "else:\n",
    "    print('Fail %s' % stderr)"
   ]
  },
  {
   "cell_type": "markdown",
   "metadata": {},
   "source": [
    "In Python 3, shell output is returned as a bytearray that must be decoded"
   ]
  },
  {
   "cell_type": "code",
   "execution_count": 245,
   "metadata": {},
   "outputs": [
    {
     "name": "stdout",
     "output_type": "stream",
     "text": [
      "sample1\t1905\t540\t1140\t-\tNC_000012.12\t133275309\t6643541\t6644606\t600\t1065\t60\ttp:A:P\tcm:i:111\ts1:i:527\ts2:i:0\tdv:f:0.0018\trl:i:0\n",
      "sample1\t1905\t1146\t1491\t-\tNC_000012.12\t133275309\t6640059\t6640519\t345\t460\t60\ttp:A:P\tcm:i:57\ts1:i:325\ts2:i:0\tdv:f:0.0034\trl:i:0\n",
      "sample1\t1905\t1573\t1898\t-\tNC_000012.12\t133275309\t6638081\t6638406\t325\t325\t60\ttp:A:P\tcm:i:58\ts1:i:325\ts2:i:0\tdv:f:0.0023\trl:i:0\n",
      "sample1\t1905\t7\t422\t-\tNC_000012.12\t133275309\t6646483\t6647425\t406\t942\t60\ttp:A:P\tcm:i:71\ts1:i:321\ts2:i:0\tdv:f:0.0054\trl:i:0\n",
      "sample1\t1905\t427\t540\t-\tNC_000012.12\t133275309\t6645220\t6645333\t113\t113\t60\ttp:A:P\tcm:i:19\ts1:i:113\ts2:i:0\tdv:f:0.0067\trl:i:0\n",
      "sample1\t1905\t1491\t1577\t-\tNC_000012.12\t133275309\t6638951\t6639037\t86\t86\t60\ttp:A:P\tcm:i:15\ts1:i:86\ts2:i:0\tdv:f:0.0083\trl:i:0\n",
      "sample2\t7990\t4\t7984\t+\tNC_000012.12\t133275309\t4909910\t4918250\t7302\t8351\t60\ttp:A:P\tcm:i:1263\ts1:i:7242\ts2:i:189\tdv:f:0.0108\trl:i:64\n",
      "sample3\t1321\t80\t1313\t-\tNC_000012.12\t133275309\t6650598\t6653395\t1194\t2797\t60\ttp:A:P\tcm:i:220\ts1:i:1082\ts2:i:0\tdv:f:0.0041\trl:i:0\n",
      "sample3\t1321\t7\t78\t-\tNC_000012.12\t133275309\t6663065\t6663136\t71\t71\t52\ttp:A:P\tcm:i:15\ts1:i:71\ts2:i:0\tdv:f:0.0043\trl:i:0\n",
      "sample4\t2759\t1983\t2749\t-\tNC_000012.12\t133275309\t6556880\t6557644\t598\t766\t60\ttp:A:P\tcm:i:81\ts1:i:598\ts2:i:0\tdv:f:0.0411\trl:i:0\n",
      "sample4\t2759\t1421\t1974\t-\tNC_000012.12\t133275309\t6560108\t6561052\t408\t944\t60\ttp:A:P\tcm:i:52\ts1:i:341\ts2:i:0\tdv:f:0.0481\trl:i:0\n",
      "sample4\t2759\t679\t1170\t-\tNC_000012.12\t133275309\t6563084\t6563943\t377\t859\t60\ttp:A:P\tcm:i:53\ts1:i:315\ts2:i:0\tdv:f:0.0323\trl:i:0\n",
      "sample4\t2759\t321\t671\t-\tNC_000012.12\t133275309\t6566105\t6566818\t235\t713\t60\ttp:A:P\tcm:i:31\ts1:i:176\ts2:i:0\tdv:f:0.0514\trl:i:0\n",
      "sample4\t2759\t1175\t1400\t-\tNC_000012.12\t133275309\t6561666\t6561970\t184\t304\t60\ttp:A:P\tcm:i:28\ts1:i:170\ts2:i:0\tdv:f:0.0254\trl:i:0\n",
      "sample4\t2759\t244\t293\t-\tNC_000012.12\t133275309\t6567839\t6567888\t49\t49\t14\ttp:A:P\tcm:i:6\ts1:i:49\ts2:i:0\tdv:f:0.0192\trl:i:0\n",
      "\n"
     ]
    }
   ],
   "source": [
    "stdout, stderr = proc.communicate()\n",
    "if proc.returncode == 0:\n",
    "    print(stdout.decode('ascii'))\n",
    "else:\n",
    "    print('Fail %s' % stderr)"
   ]
  },
  {
   "cell_type": "markdown",
   "metadata": {},
   "source": [
    "A runcmd function can be handy"
   ]
  },
  {
   "cell_type": "code",
   "execution_count": 4,
   "metadata": {},
   "outputs": [],
   "source": [
    "def runcmd(cmd, stdout=subprocess.PIPE, stderr=subprocess.PIPE):\n",
    "    proc = subprocess.Popen(cmd, shell=True, stdout=stdout, stderr=stderr)\n",
    "    stdout, stderr = proc.communicate()\n",
    "    return {'returncode': proc.returncode, 'stdout': stdout.decode('utf-8'), 'stderr': stderr.decode('utf-8')}"
   ]
  },
  {
   "cell_type": "code",
   "execution_count": 272,
   "metadata": {},
   "outputs": [],
   "source": [
    "result = runcmd(cmd)"
   ]
  },
  {
   "cell_type": "code",
   "execution_count": 273,
   "metadata": {},
   "outputs": [
    {
     "name": "stdout",
     "output_type": "stream",
     "text": [
      "0 \n",
      " ['@SQ\\tSN:NC_000012.12\\tLN:133275309', '@PG\\tID:minimap2\\tPN:minimap2\\tVN:2.17-r954-dirty\\tCL:minimap2 -a data/chr12/chr12.fa data/chr12/annotated-samples.fa', 'sample1\\t16\\tNC_000012.12\\t6644137\\t60\\t895S471M539S\\t*\\t0\\t0\\tTGAAGATCAACATTTTATGTAAAGTCATCTTTTAAGGAGGGCGCAGCTCCCACCGTGGCCCTCTCTGGGACTGTTGCTCCAACCCAAGGAAATGTGAGTAGGGGCCGAGTAACAGACCCAGAAGGGGCAGCCTGAAAGCAATGGGGTCTCAAAACAATAGAGAACGTGGGCAGGTTGGGCTGGGGTGTGGGCAGAATAGACGCCAGCTCATCCGAACTGGCCTAGAGTCAAGGTGCTGAACTCCTGGCTCCATCGAAGCACAACGTCCTCACTTTTGCCAGGGCTCAGCGCACTGTAAGTCTCATTCTGCAGACATCTCATGCGGGACACCTTCCGATTGCGGTTTCTCATCAGACACTGCTGGCTTTTGAAGGAACAGTAGTTTGGGTACTGGATATAGTCTGTGTCACAAATCTTGGTAGGGAAATCCCCATCCTGGAAGCTAAGGAACTCAGTCTGGAGCCACCCAGAGACTCGGACATCTTCACAGCCTTTCGTGGCAAGCCGGGCACACCAGAAGTCCATGTGGAGCCCACCGTACAAATCCAGCCCGTAAAAGCGGCCTGATTCTGGGGACCCTACCTGGTTGCCGATGGACAGGCTCTGGGAGGCAAGCAAGGGGCTGACAAAGGGAGTCTTGTGGGAGGTGTCGCATTGTTGCCGCTGCAGGCTGGCCTCTGAGTGGCACTGCTCCAGCTTCAAGGAGCAGAAGTCACAGAGGGCACAGGTAGACATGTGTCGCCGCCCAAGGCTGTCACAGACCGACTTCCCGAAACCAAGGATCTCCTCCTCCATGTACTTCCAGGCCTTGGCTGTGGGGGTTATGATGCAGGTATTCTCCACGATCGAATAGCACAGCACCAGCAAGGCCTCTGTGTGGGGCAGCTGCAGGAGGCTGCCAGGGTTTTGGTTTCTCCAGTAGGAGTTCTCATCATATATTTCATTCATTTCATCTATTTCCTGGGCTGATCGAATGAGCTCCTGGATGTTCTCCATTATCATAGGAGTAGACTCTACTTCTCGTACCCGGGGAGCAAAAGAGGAAGGGTTAGAAGATAGAGATTCAGAGTGAAACTTGGGCTCTGAGTCTGTCTGCAGCTGAGACACAGCCTCCCGTCCCTCCTTAGTCCCCTGTCCTTCTTCCTGCTTTCCCTCCTCTTCCTGTTCCTCTTCTTGCTCTTCCTGTTTCTGCCCCTCTTCCTGCTTGTGTTCTTGTGTCGGCTCCTGCCTGTGCTCCACTCCTTGCTCCTGCTTGTGCTCTGGCGCTTGCTCCTGGCCTCCCAGGGACAAGGAGGATTGTAGGAGCTCTTCCACGTTGTTGCTGAGCCTCTCAGGCCAGGGCTGGAAGGTCTGGCGTTCTGTCACTGTGAAGTGGGGTGAGATGGGGGAGGTCATCGTGGTGGGTGAGACTTCAGCTGAAGCTTCTATCTCCTTGAGAGTGTTAGGTGAGAGAATAGAGACTGGCTGGGAACACAGGACTCTCTTGGCATAGTAGACGTGGTTGGAGCAACGGTAGTGAGTGAACTGGCAGAAAGACTCAAACCAGGAGGCATAAGGGAGGTTGGAGCAGACAGCACCATCGGGCACTAAGCCGTGGTTTTCATATTGGTCCAGCTGGACGAGTGTGGGATTCCGGCAGCCGTGGGTTGCACGGAGACGGCAGGTAGTCTCTGCCTTCCAGGTTGGAGTCAGCAGTGCGAAGAAGCGTTCGTATTCGGTAGGAGAGAGAGGGCTGCCTGGAGTGGAGGCCTGAGTCGAATCCTGGGCTGCGGCAGGTGCCAGAGGCAGGAGCAGCACCTTCAGGAGTGAGGGAAGGAAGCCAGCGGCTGGCTTCCTCATGGCCGGAGAAGATCCGCCCGCGTCCCGTGGACACAAGCCGCCTCTAACGGGCCAAGCCGCAGAGAG\\t*\\tNM:i:0\\tms:i:942\\tAS:i:942\\tnn:i:0\\ttp:A:P\\tcm:i:111\\ts1:i:527\\ts2:i:0\\tde:f:0\\tSA:Z:NC_000012.12,6638075,-,332M1573S,60,0;NC_000012.12,6640060,-,414S349M115D1142S,60,115;NC_000012.12,6646791,-,1574S223M108S,60,0;NC_000012.12,6645220,-,1364S120M421S,60,0;NC_000012.12,6638951,-,327S89M1489S,60,0;\\trl:i:0', 'sample1\\t2064\\tNC_000012.12\\t6638075\\t60\\t332M1573H\\t*\\t0\\t0\\tTGAAGATCAACATTTTATGTAAAGTCATCTTTTAAGGAGGGCGCAGCTCCCACCGTGGCCCTCTCTGGGACTGTTGCTCCAACCCAAGGAAATGTGAGTAGGGGCCGAGTAACAGACCCAGAAGGGGCAGCCTGAAAGCAATGGGGTCTCAAAACAATAGAGAACGTGGGCAGGTTGGGCTGGGGTGTGGGCAGAATAGACGCCAGCTCATCCGAACTGGCCTAGAGTCAAGGTGCTGAACTCCTGGCTCCATCGAAGCACAACGTCCTCACTTTTGCCAGGGCTCAGCGCACTGTAAGTCTCATTCTGCAGACATCTCATGCGGGACACCT\\t*\\tNM:i:0\\tms:i:664\\tAS:i:664\\tnn:i:0\\ttp:A:P\\tcm:i:58\\ts1:i:325\\ts2:i:0\\tde:f:0\\tSA:Z:NC_000012.12,6644137,-,895S471M539S,60,0;NC_000012.12,6640060,-,414S349M115D1142S,60,115;NC_000012.12,6646791,-,1574S223M108S,60,0;NC_000012.12,6645220,-,1364S120M421S,60,0;NC_000012.12,6638951,-,327S89M1489S,60,0;\\trl:i:0', 'sample1\\t2064\\tNC_000012.12\\t6640060\\t60\\t414H165M115D184M1142H\\t*\\t0\\t0\\tCTTGGTAGGGAAATCCCCATCCTGGAAGCTAAGGAACTCAGTCTGGAGCCACCCAGAGACTCGGACATCTTCACAGCCTTTCGTGGCAAGCCGGGCACACCAGAAGTCCATGTGGAGCCCACCGTACAAATCCAGCCCGTAAAAGCGGCCTGATTCTGGGGACCCTACCTGGTTGCCGATGGACAGGCTCTGGGAGGCAAGCAAGGGGCTGACAAAGGGAGTCTTGTGGGAGGTGTCGCATTGTTGCCGCTGCAGGCTGGCCTCTGAGTGGCACTGCTCCAGCTTCAAGGAGCAGAAGTCACAGAGGGCACAGGTAGACATGTGTCGCCGCCCAAGGCTGTCACAGACC\\t*\\tNM:i:115\\tms:i:464\\tAS:i:559\\tnn:i:0\\ttp:A:P\\tcm:i:57\\ts1:i:325\\ts2:i:0\\tde:f:0.0029\\tSA:Z:NC_000012.12,6644137,-,895S471M539S,60,0;NC_000012.12,6638075,-,332M1573S,60,0;NC_000012.12,6646791,-,1574S223M108S,60,0;NC_000012.12,6645220,-,1364S120M421S,60,0;NC_000012.12,6638951,-,327S89M1489S,60,0;\\trl:i:0', 'sample1\\t2064\\tNC_000012.12\\t6646791\\t60\\t1574H223M108H\\t*\\t0\\t0\\tCACCATCGGGCACTAAGCCGTGGTTTTCATATTGGTCCAGCTGGACGAGTGTGGGATTCCGGCAGCCGTGGGTTGCACGGAGACGGCAGGTAGTCTCTGCCTTCCAGGTTGGAGTCAGCAGTGCGAAGAAGCGTTCGTATTCGGTAGGAGAGAGAGGGCTGCCTGGAGTGGAGGCCTGAGTCGAATCCTGGGCTGCGGCAGGTGCCAGAGGCAGGAGCAGCAC\\t*\\tNM:i:0\\tms:i:446\\tAS:i:446\\tnn:i:0\\ttp:A:P\\tcm:i:71\\ts1:i:321\\ts2:i:0\\tde:f:0\\tSA:Z:NC_000012.12,6644137,-,895S471M539S,60,0;NC_000012.12,6638075,-,332M1573S,60,0;NC_000012.12,6640060,-,414S349M115D1142S,60,115;NC_000012.12,6645220,-,1364S120M421S,60,0;NC_000012.12,6638951,-,327S89M1489S,60,0;\\trl:i:0', 'sample1\\t2064\\tNC_000012.12\\t6645220\\t60\\t1364H120M421H\\t*\\t0\\t0\\tCTGTGAAGTGGGGTGAGATGGGGGAGGTCATCGTGGTGGGTGAGACTTCAGCTGAAGCTTCTATCTCCTTGAGAGTGTTAGGTGAGAGAATAGAGACTGGCTGGGAACACAGGACTCTCT\\t*\\tNM:i:0\\tms:i:240\\tAS:i:240\\tnn:i:0\\ttp:A:P\\tcm:i:19\\ts1:i:113\\ts2:i:0\\tde:f:0\\tSA:Z:NC_000012.12,6644137,-,895S471M539S,60,0;NC_000012.12,6638075,-,332M1573S,60,0;NC_000012.12,6640060,-,414S349M115D1142S,60,115;NC_000012.12,6646791,-,1574S223M108S,60,0;NC_000012.12,6638951,-,327S89M1489S,60,0;\\trl:i:0', 'sample1\\t2064\\tNC_000012.12\\t6638951\\t60\\t327H89M1489H\\t*\\t0\\t0\\tCACCTTCCGATTGCGGTTTCTCATCAGACACTGCTGGCTTTTGAAGGAACAGTAGTTTGGGTACTGGATATAGTCTGTGTCACAAATCT\\t*\\tNM:i:0\\tms:i:178\\tAS:i:178\\tnn:i:0\\ttp:A:P\\tcm:i:15\\ts1:i:86\\ts2:i:0\\tde:f:0\\tSA:Z:NC_000012.12,6644137,-,895S471M539S,60,0;NC_000012.12,6638075,-,332M1573S,60,0;NC_000012.12,6640060,-,414S349M115D1142S,60,115;NC_000012.12,6646791,-,1574S223M108S,60,0;NC_000012.12,6645220,-,1364S120M421S,60,0;\\trl:i:0', 'sample2\\t0\\tNC_000012.12\\t4909907\\t60\\t563M367D253M1I6M1I3320M1I323M1D90M1I308M2D1632M1I35M1D829M1I239M5I381M\\t*\\t0\\t0\\tAAATGGACCGAGCGGACCCGCCGCCGCACGCACCCTGCTCCACTCCAAGCTCCTAAGGGCTCCTGGCGCGCCGCGTAGCCTTGGCGAGGTCCGCGCTGGGGTGCGGAGAGCGAAGGGAACTGGAGAGCCATGTAGATCCAGGCTCTTGCCCGCCCGCCTCCTTCGGGATCGAATCAAGGGCTCCCATAGTGTTAGGAGGGGGCGAGAGTGCTGTTTATCGTCATTTGCCTCGGAGCTTCGAGAAAGGGTGGTATTTTGCTTTTCCGCCCCGCATCCTCCGGAACTCCCTGCACCGGAGAGAGGACGGCGTCTCCAGGTTGCTGGCAACCGGTGAGAATGGGGGTAGGGAATGAACATTTTCGCCGTAGCTGCTCGGTAAAGCGATTGTCCAACTGAGAGGGGCGTCGGACGAGTGGACCAGGGCGGCGAGTTTGCCCGGCGCGTCTCGGATGCTGCTGCGGCGGCCGCCGCGGCTCCCGCCAGGGCACTGCAAAGGCGACCTGCCGCATTCCCACTCGGGCTCTCCGCCGACTCAGCACCGCCCCTGCGCCAAGCCAGCCGGCCAGCGTGCATCGATCGCCCTGGTGGGAGCTTAGAAGGCGGCAGGCGAAGAGGGGTAGGAGGGGGGAGAGCCGAGGAGAAGCAGAGAGGGTGGCAGGCGTGGGGATCTGCTGAGCCGGCACTGCACCGGGTCCTAGGAAGGCTCTCGGAGGGGAGGGGAGGCCAGGGCGACCCCCGAAGCAATGGCCCAGTCCGCTAGAACGGCACTGCGTTAAGGCACCTGGGATCAGGAAGAAATTTATAAACAACAACAACAACAAAATCCAACAAACCCCCAAACCCAAACGCAACCCTCTGCAAAAAGCTGCACCCGGCCCGCAGGCAAGGGGGATTCCAAATTGAGTAAAAGGCAGGGTGGAGGGGAAGGCCGCGAGAGGCAAAGTCGCAGATCTCCCGACCTGCTCGTTTTGAAGCACCTCCCCCTGGGCGTGAGGGAGACGCGCGCTCCGGTGGGGGGGCCGCTTGGGTCCCCCCCACCCCTGGTCCCTGGCTGTTTCCCACCCCGGGCTCTCTCCTGGCCTCCCACCCCCGCGCCCGGCTTCCACCATGACGGTGATGTCTGGGGAGAACGTGGACGAGGCTTCGGCCGCCCCGGGCCACCCCCAGGATGGCAGCTACCCCCGGCAGGCCGACCACGACGACCACGAGTGCTGCGAGCGCGTGGTGATCAACATCTCCGGGCTGCGCTTCGAGACGCAGCTCAAGACGCTGGCGCAGTTCCCCAACACGCTGCTGGGCAACCCTAAGAAACGCATGCGCTACTTCGACCCCCTGAGGAACGAGTACTTCTTTGACCGCAACCGGCCCAGCTTCGACGCCATCCTCTACTACTACCAGTCCGGCGGCCGCCTGCGGAGGCCGGTCAACGTGCCCCTGGACATGTTCTCCGAGGAGATCAAGTTTTACGAGTTGGGCGAGGAGGCCATGGAGAAGTTCCGGGAGGACGAGGGCTTCATCAAGGAGGAGGAGCGCCCCCTACCGGAGAAGGAGTACCAGCGCCAGGTGTGGCTGCTCTTCGAGTACCCCGAGAGCTCGGGGCCCGCCAGGGTCATCGCCATCGTCTCCGTCATGGTCATCCTCATCTCCATCGTCATCTTTTGCCTGGAGACGCTCCCCGAACTGAAGGATGACAAGGACTTCACGGGCACCGTCCACCGCATCGACAACACCACGGTCATCTACAATTCCAACATCTTCACAGACCCCTTCTTCATCGTGGAAACGCTGTGTATCATCTGGTTCTCCTTCGAGCTGGTGGTGCGCTTCTTCGCCTGCCCCAGCAAGACGGACTTCTTCAAAAACATCATGAACTTCATAGACATTGTGGCCATCATTCCTTATTTCATCACCCTGGGCACCGAGATAGCTGAGCAGGAAGGAAACCAGAAGGGCGAGCAGGCCACCTCCCTGGCCATCCTCAGGGTCATCCGCTTGGTAAGGGTTTTTAGAATCTTCAAGCTCTCCCGCCACTCTAAGGGCCTCCAGATCCTGGGCCAGACCCTCAAAGCTAGTATGAGAGAGCTAGGGCTGCTCATCTTTTTCCTCTTCATCGGGGTCATCCTGTTTTCTAGTGCAGTGTACTTTGCCGAGGCGGAAGAAGCTGAGTCGCACTTCTCCAGTATCCCCGATGCTTTCTGGTGGGCGGTGGTGTCCATGACCACTGTAGGATACGGTGACATGTACCCTGTGACAATTGGAGGCAAGATCGTGGGCTCCTTGTGTGCCATCGCTGGTGTGCTAACAATTGCCCTGCCCGTACCTGTCATTGTGTCCAATTTCAACTATTTCTACCACCGAGAAACTGAGGGGGAAGAGCAGGCTCAGTTGCTCCACGTCAGTTCCCCTAACTTAGCCTCTGACAGTGACCTCAGTCGCCGCAGTTCCTCTACTATGAGCAAGTCTGAGTACATGGAGATCGAAGAGGATATGAATAATAGCATAGCCCATTATAGACAGGTCAATATCAGAACTGGCAATTGCACCACAGCTAACCAAAACTGCGTTAATAAGAGCAAGCTACTGACCGATGTTTAAAAAACAAAAGCAAGCAAACAAAAAAGCCCCACTTAGCAGCTCAAAAGACTTAAAAAACAAAACAGAAAACCTAGTGACTCATGTCACGCTTTGTAGATACTTTACTAAGTAGACTTGGAATGCTCTATTTAACTGTCAATGCGTTGTTGCATTGAGGATTTTGGGGGTGGTGAACCAGAAGCTTTCAAGATCCATGACAAAATAAACTATTTTCCTTTTATTAAAAAATGGGAAAAGAGAGAGTATTTTCTAAAACTGGCTTAAAAAGATTCAGTCCACGAACTAGTCTAGGTAAAATAATAATCATATGCTTCCCCAAACTGAAACATTTTTAATGCTTTGGTTTCTTTAACTTTTTTAAAAACTCAGAACAAGATGATCATTTAGAAATATAAAATTGAAATTTGCATGGGACTCCAGTAAAACATCTTTGCAAACTGCGTAGCACATTGAAGACAGTGCATCAGATGTATTATATGTAACATGATAGACCAGCCAAAATGGACAATGAATAGATATTTTTATTTCGATCAACTGAACTGCATATTACAAGGTGAAAAAAGAAAACTCCGATTACTTAAGACTGGTTCACAAAGCACCTTATAAATTGGATACTGGTCCTGATCTGTAGGGATTTCCCCCTGGGCCCATTCTCTTTCTAATCCAGATTATTCTCTAAGAAAAAGTTAACTGAATTAAATTAATTGATTCTTCTGCAGTGCTGCTAAATTGTCTCAACTGCAGATGAGCCAAATACAGGTCTTTTCTCACCAGGCCTGCACTCCGACCCCTGGCTTTCAGAACTGGATGTAAAACCTTAGCCTCCTTATTGCAAGAGAGCACAAATGAAGTTAAATGTAAGCATGTTTGAATCTGATACAATTTATTTTATAATCGCATGCTGAGAAGTTAACCCAGACAATAGGGGATAAGCTTAAGTTGAAATCGATTCTTCTAAAAATAGATCCTTTTTCATTTGCATTCACCAAAAGTGCACTCCTCCATTTATTAACTATTTTATTAGTAAATAAAGTACTGTATTTAAGTGCATATGTTAGTCAGATGGGAACAATAACTTTTTGGAGCTCAAAGCATGTTCTCTTATTCAGCATTATGGCCTATTTGACTAAGATGTACCTTGAATTAATTAATGCATGATTTCAGTAATAAAAATTTTAAAAGTAATAAAAATTACAAGTCTGTGGGGTGAAAGGCCCAATAGAAATTATGGGGGGTGGGGGTGGGGGCACTCAGTCAATTTTCCTGCCTTTGCTCAGGGAAATACCAGGTTTTTGTGCAGGTATAGGCGGAGAGAGGACCAATATGCCCATCCCTTAAAGGGAAGCCATGTGAAAAACTCAATAAGTCATCAAAGTATATATAGCAACACCTAAGAACAAGTATTCTTTCTAGCTGAAGACAAACACAAGCAACACAAACAAGCAAACAAACAAACAAACAAAAAGGTGCAATACTGCATGTTTTTTGGTGCATTCTTAGGATGTAAATGAAAATGTTTCTCTATTATATGCATCCGAAGCAGAGCTGATTTTTTTTTTCTTTGCAGTCATTCTTTGAAGTCTGTAGAGACTTCAGCCCTCCCCTTGAGGCTCCCTGAAGAAACTAAACCAATTGATTTAATAGTTGCTTAGTGCCTTTATCCTGTACCCACAGTGAACTGCAGAAAGTGCCTCCTTAACACAGCTGAGAAGTTAGGTAGCAAAAGTGGGGAAGGGTTGGGGCACAGACCTTTTGCTTTTTCTTTTTCCATTCTCGCTCTCTCATTTCACCACTGTGAGAAGACCACACCACCCTAAACCCTGGAGAGGAGAGACCCAGGAGGGTGCTGTCTCTCTGGCCATCTACTAGCATTGTCCCTTTGACAGCCTGACGCTGGATGTGAACTGAGACCCATCTTTGAACTGGACATGAACTGTGAACTTGTTTTTTCCTCTCTCCACCAGAAGCCAAGATAAACTTTTTGGGAATTTGTTCCCTATCGAGGGCCACTTTGGACTCACAAGGCTTCCTCAGGTCCAGTGTAGTGCTCCTGGCACCTTTCCTTATTTTTTTCTCTGTCGGTAACAGCACTTTGCAAATCTCTCTGACGGTCCAGTCTTTTCAGGCATTGTTGCGGATGTGGGAACACTCAGTTCATAATAACCTTTCCTAGGCCTTCCCTCCTGGTCTACCCCTTTCAGATATTTCCTGATGCCCCTATGATCTTCCCACCTGGCAGTCACTTCACAGGTTGAACATCTAACTTCTGCTGCCCCCGTTACCCAGCCCAGAGAATGGTGGGGACCCTGTTCCTGGCTGAAAGAGAGCCACGGAACACAGGCCTCTGGAGCTCGGCAGCTGCCCACCGGTGGAGAGGTACTCACAGCCTTTTAAAGGACCCTGAGGTGGGGAATCTTCATTCTGCACTTAGCATGTGGCTGCCTGTTACCTGACATTCTGGCCCAGCTTCTTCTGAAAATCTGTTCTGTTTCTCCCACCCCTTTCCCCCATCCTGTCCTAGAACTAGCAGTGAGGCAATCACCCTAGAAACTCGAGTTACACCCATTCTGGCTAACTCGATTAAAAGAAAGAACATGGATATCTTATTTTCCTATGTGACTTTTGTGAATCTGTGAGATGAACACAACACACATCGTGGAAGATGAGGGGCCGAGAACTGCACAGCATCCGACTACAGGGCATTAAACCCTCCCATGTGATGTCTCCTTCTCGTCTGAACCTTAACTCATTCTGGCGATTCCTTTCCTACTTGCTTAAAAACCCCCAATTAGGAAAAAAATGCCAACCTCCTCCCAGGCTTGGGGTTATCTTGATCTTTCATTTCAACGTTGAGGTCTAGGGCACACAGAACTTCAAACACCGCACTCTGTCAACAGCAATAATCCACTCAGTACTGTGGGATGGATGGGTTAATGGATGAGAAAACGGCACCAAGACTGACTTTGGGTACTTGGTATATTTACCGTGGTTACACCCTGGACTGGTTGATTCTTCTGCATGTGATATAGAAAAAAGTGCTGCATGCGGTGAACCTGTCAGCCTGGGACTGGGGATGAGTTGTTGTTATGAGTTTGGGGTGGTGTGAGGAAAATGAATGCTGCTTAGCTCATCTGTAGCTCATTGCAATGAATTCAGTAAGAATGGAGTACAGGGATTATCTGTGTAGCATAGGCATGCAATGTTTGACCAAGCTCTTACCCTCGCACTGTAATGTGTTGAAATGTCTTTGTAGACCTGAAGGTGCACTTAACAAAACTGCCTATTAAGGGATGACTATTTTTTGGTTTACTTATTCATATTTATTTTAGCAGCCTTTTTACCTTTTCTTCCCCTTCCTAGGCATGGAGCTGTAACAGCTCATGTCCTGACTATCTGTTTTCTCCAGAAGGAGAAGACTTCTGATGTGCTGATAGCCATAATTCCTCTCTTCCAGTCTATTGGGGCCCTAGTTCAATAGGGTGGCAATAGAAGGGTTGGTCACACCAGGGCTGTTAGCCATCCCAGAATCTCTGAAGTGGTTAACTCACCTGAAGTGATCTGAATCAGAGAGACCAAAGACATTCATTTCCTCTGTCCTCAGATTTCTAGAAGACAAATTCTAGCCAGGAAAACTTTCTGTTTTTGCATCTCCCTTTTCCCATTTGTGCCCAACTCCCCTTGCACTCCCTGGAGACTTGAGTTCTGATTTTCAGTTATATCAGTTCATTGGGAGTGTGTTCGTGGGTGAGCCTTGCAGAATCAGATAAACCAACAGCAAGTCCTTCTCCAGGATTCTGGCCAGTGGGCAGTCATTTCCCTGAAATGAATTGGAGGGCAGGTTTAGATTCCACTATGGTGGACCTGAAGCACAGGCGGTGTCACAATCTTGATTTGCTTGAGAATTAAAAAAAATACATGTAAATGGTAAATGAGGAATACATTTTTTAAAGTAGAAATTTGATTTAGCCTATAAAAGGCCTTCTTCACATTGTGTATAGTTACACATTTTTCAAATTAGTTACCATCTAAAAGTCAATAAAAATAGTTTCCTAGCCCTCTCATTTAATATAGGAGACCTCAAAACACATGCTTTTTAACAATTTTACATTTTAATTCTTAGTTTGGTAGACTGGATTGAAAGAAAGGAGAAAGAACATTAGCAGAAGGCACTTTCCCATTTTCTTCCAGGAATGACTTATTCCTGGGGTGGTGAGAATTGGTGGGTGGTAACCATCCATAGTATAAAATTGTTAGAAAGAATACAAACTGCCAAACAAGCATGTTATCTTCAGGCTTTTCCAAGCAAGAATGAAGTCTTTTGATGTTTATGTTCATTTTAAGAAGACAAACAAACTAAAATTTTAAGACCAGACACAACCCAAGTTGAATTGTGATCTCAGGAGGTGACCTCTCATTCACCATGTGGCATATTACTACTTGTATTTATATCATGGAATTTCAGGGTATATGTGAACATGTCTAGTATGACTCAGGTAAACCTTTAAAGAATGTATGTTACTTACCATTTTTGTAAAGAAGCAAACAGGAGCTGAATTGTTAACCAAAACTGTTCCATTACCTTGGGTCACTGTGCAAACTAATTCAGGGTATAGATATAAAGTTTAGAAGCCTTGGGATTAAATGCCAGCCTCTTTGCTCAGGCCAAATGACCCTGGGCTTTCTTGGGAAGTCCAGCATGTGTGTAAGGGGTGAGGCCCTGCTGACCTCAGGGTTATTCGCTTTAAGGAGATTAACCCTAGTCACAGTGATTTTTCATTTAGGAGCTAACTAGGAGTTTACTCTTTATGACGTGAAACTTCAAAGAGTATAGAAAACTTTTGTACCACAATCAAAGAAGAAGAAATGGTGTATGGAAAGAAAACAAAACAAAACAAGAAATCTCTTGTAAAATATTCCAGGTCAAAGTTGTCTCCTCTCCAAACCTTGCAGAAGCACCTTTCTTCTCTTCAGCGCACTGTTTTGGGACTGTGTATGCAGCAGATGTAAGTAGACAAGACAACATGGACTCCATGTGACATGCCTCTAATAGTAAAGATAAAGTATTACTGAGGTTAAAAATAAAAATCGAGTAGTATTAATTTAAAGTGCACCATCAGGACAACAAACCATTTAAGCTGAAAAAACGCTATTTTATTTCTTGAGTTTGCCAGTTGCTTCCACCTTGAGTTAAGGACGTGTCTCATCTTCACCTACTGTGCATTCTCCCTTCTCTAACTGTGTGATATGTCAGGTCAAGGACATTGAATGTTATGAATTGAGAACCTAATTGATGCGCATAGTTTTCATCTATGCAATTTTACTTGCTTCTGTCACTTTACGATCTGTTCATATTTGGCATCAATTAAAGATAATTTTTAAGGATCTTATCAAGGAA\\t*\\tNM:i:457\\tms:i:14700\\tAS:i:15047\\tnn:i:0\\ttp:A:P\\tcm:i:1263\\ts1:i:7242\\ts2:i:189\\tde:f:0.0108\\trl:i:64', 'sample3\\t16\\tNC_000012.12\\t6650591\\t60\\t642M89D64M885D148M243D105M168D114M179D168M80S\\t*\\t0\\t0\\tCAACATGTATAGCTTTTATTTACCTACCCAAGTTCCTTTTACATGTGAGTTATCTGCATTCCACCTTGCCCCCTCTCCCAGGATGAATCCTCTTGGCACAGAGGAAGGGGTGCCCCTTCAACTAGGGCCAGAGCCTAGATGACCTGGTGGATCCCCCACCATGAAAAAAGCAGGAAGGGAATGGAGAAGAAAAGTGTTGATCACACCTAGCCCTCACCACAGGAGGGGGAATGAAGAGGTCTGGGGGACTGCCCCCATGCTATGCCCCAGTCCTTAAATACAAAGCAAGGAGAATGAAAAGGACCCTCCCTCTGAAATACAGCACCGACCTCAGCATGGAGGCAAAAGGACAGTGGGCAAGACCACGTCCCTCCGAAGGGAGAGGGCTGAAGGAGAGCACATACCGTTAGTGGCTGCGGCACCCCTCCCTACCAGGGTCTGATGCAGCCTCAGCACCGGGAGTGGGGAGAGGGGAGGAGAAGGGATGACAGCACTGTGCCATCCACTCCTCCCTGAACCCCTGGCCCCAGCACAGGCATTCCTCTGCCCACTAGCCCAAGTCAGGGGATGTGGAAGAAACTGTGTTGGAATCCAAGGCCCTTATCTATTTCTTCTTCCGTTCTTGGGAGCAGCGTGGGCAAAACCATTTCCCCCGAGGCTTGGTTGTCAGCCCCACACAGGCAAAATGGAACCACTCAATGGAACAATCAGGGTTGTCACAGCCAATCATCTCTCCATAGGAGACCTGGTGACAAAGGCAATAGGTGGGTTCGTTGGGATCCACAGGCATATCCAACACATCAGAGGGGTGGACACTGCCAAAGGTCACTGAGGGCATCCCATACTCAGGACTTGTGCGCACGAGCTTTAACTTCTTCTGGGCAGTCTTGGGGGCTTCTTCATCCGAGTTTTTCCCTTTGGAACGAGCACGAGCAGCTTTCTTCTCCTTTTGAGTCCGGCTCTTTTTGCCTTTGCTGGAAGAGCTGTCATAGTCACTTGACTCAATCTGTTTCTCCTTGAGATCAGCCTCAAAACGGGCCAGGTCTGTGTCCAGCCGCCGAATGTGTTTGTCCACCATCTCATAGGTCTGCATGGCAAGCTGCACCTTGTCGTCACCAAATTCCTTGCACTTGCCATAGGCTTCCTGGATCTGTTTGAGAAGGGCCAATTTTTCCTCGGAGCTCAGGCTGCGGGCACTACTCATATACTCAGTGGCCAACTTGTCAATTTCAGCCTTCAGGTTGTCCAGATAATGTTCCAAATACATCCCCGCAGCCATCTCGAAGCAAAACAAAGCAACTTCCGATCCGCCCCGGAAGTG\\t*\\tNM:i:1564\\tms:i:1284\\tAS:i:798\\tnn:i:0\\ttp:A:P\\tcm:i:220\\ts1:i:1082\\ts2:i:0\\tde:f:0.0040\\tSA:Z:NC_000012.12,6663065,-,1242S79M,54,0;\\trl:i:0'] \n",
      " [M::mm_idx_gen::5.130*0.96] collected minimizers\n",
      "[M::mm_idx_gen::5.994*1.23] sorted minimizers\n",
      "[M::main::5.994*1.23] loaded/built the index for 1 target sequence(s)\n",
      "[M::mm_mapopt_update::6.289*1.22] mid_occ = 188\n",
      "[M::mm_idx_stat] kmer size: 15; skip: 10; is_hpc: 0; #seq: 1\n",
      "[M::mm_idx_stat::6.491*1.21] distinct minimizers: 15811443 (80.14% are singletons); average occurrences: 1.587; average spacing: 5.312\n",
      "[M::worker_pipeline::6.519*1.21] mapped 4 sequences\n",
      "[M::main] Version: 2.17-r954-dirty\n",
      "[M::main] CMD: ./minimap2 -a data/chr12/chr12.fa data/chr12/annotated-samples.fa\n",
      "[M::main] Real time: 6.761 sec; CPU: 8.127 sec; Peak RSS: 1.217 GB\n",
      "\n"
     ]
    }
   ],
   "source": [
    "print(result['returncode'], \"\\n\", result['stdout'].split(\"\\n\")[:10], \"\\n\", result['stderr'])"
   ]
  },
  {
   "cell_type": "code",
   "execution_count": 275,
   "metadata": {},
   "outputs": [
    {
     "data": {
      "text/plain": [
       "'./minimap2 -a data/chr12/chr12.fa data/chr12/annotated-samples.fa'"
      ]
     },
     "execution_count": 275,
     "metadata": {},
     "output_type": "execute_result"
    }
   ],
   "source": [
    "cmd"
   ]
  },
  {
   "cell_type": "code",
   "execution_count": 7,
   "metadata": {},
   "outputs": [
    {
     "data": {
      "text/plain": [
       "0"
      ]
     },
     "execution_count": 7,
     "metadata": {},
     "output_type": "execute_result"
    }
   ],
   "source": [
    "import os\n",
    "os.system('./minimap2 -a data/chr12/chr12.fa data/chr12/annotated-samples.fa > data/chr12/out.sam')"
   ]
  },
  {
   "cell_type": "code",
   "execution_count": 5,
   "metadata": {},
   "outputs": [
    {
     "ename": "KeyboardInterrupt",
     "evalue": "",
     "output_type": "error",
     "traceback": [
      "\u001b[0;31m---------------------------------------------------------------------------\u001b[0m",
      "\u001b[0;31mKeyboardInterrupt\u001b[0m                         Traceback (most recent call last)",
      "\u001b[0;32m<ipython-input-5-48bd39dfa9b6>\u001b[0m in \u001b[0;36m<module>\u001b[0;34m\u001b[0m\n\u001b[0;32m----> 1\u001b[0;31m \u001b[0mresult\u001b[0m \u001b[0;34m=\u001b[0m \u001b[0mruncmd\u001b[0m\u001b[0;34m(\u001b[0m\u001b[0;34m'samtools tview -p NC_000012.12:6563080 data/chr12/out.sorted.bam'\u001b[0m\u001b[0;34m)\u001b[0m\u001b[0;34m\u001b[0m\u001b[0;34m\u001b[0m\u001b[0m\n\u001b[0m",
      "\u001b[0;32m<ipython-input-4-6823ef3d0f52>\u001b[0m in \u001b[0;36mruncmd\u001b[0;34m(cmd, stdout, stderr)\u001b[0m\n\u001b[1;32m      1\u001b[0m \u001b[0;32mdef\u001b[0m \u001b[0mruncmd\u001b[0m\u001b[0;34m(\u001b[0m\u001b[0mcmd\u001b[0m\u001b[0;34m,\u001b[0m \u001b[0mstdout\u001b[0m\u001b[0;34m=\u001b[0m\u001b[0msubprocess\u001b[0m\u001b[0;34m.\u001b[0m\u001b[0mPIPE\u001b[0m\u001b[0;34m,\u001b[0m \u001b[0mstderr\u001b[0m\u001b[0;34m=\u001b[0m\u001b[0msubprocess\u001b[0m\u001b[0;34m.\u001b[0m\u001b[0mPIPE\u001b[0m\u001b[0;34m)\u001b[0m\u001b[0;34m:\u001b[0m\u001b[0;34m\u001b[0m\u001b[0;34m\u001b[0m\u001b[0m\n\u001b[1;32m      2\u001b[0m     \u001b[0mproc\u001b[0m \u001b[0;34m=\u001b[0m \u001b[0msubprocess\u001b[0m\u001b[0;34m.\u001b[0m\u001b[0mPopen\u001b[0m\u001b[0;34m(\u001b[0m\u001b[0mcmd\u001b[0m\u001b[0;34m,\u001b[0m \u001b[0mshell\u001b[0m\u001b[0;34m=\u001b[0m\u001b[0;32mTrue\u001b[0m\u001b[0;34m,\u001b[0m \u001b[0mstdout\u001b[0m\u001b[0;34m=\u001b[0m\u001b[0mstdout\u001b[0m\u001b[0;34m,\u001b[0m \u001b[0mstderr\u001b[0m\u001b[0;34m=\u001b[0m\u001b[0mstderr\u001b[0m\u001b[0;34m)\u001b[0m\u001b[0;34m\u001b[0m\u001b[0;34m\u001b[0m\u001b[0m\n\u001b[0;32m----> 3\u001b[0;31m     \u001b[0mstdout\u001b[0m\u001b[0;34m,\u001b[0m \u001b[0mstderr\u001b[0m \u001b[0;34m=\u001b[0m \u001b[0mproc\u001b[0m\u001b[0;34m.\u001b[0m\u001b[0mcommunicate\u001b[0m\u001b[0;34m(\u001b[0m\u001b[0;34m)\u001b[0m\u001b[0;34m\u001b[0m\u001b[0;34m\u001b[0m\u001b[0m\n\u001b[0m\u001b[1;32m      4\u001b[0m     \u001b[0;32mreturn\u001b[0m \u001b[0;34m{\u001b[0m\u001b[0;34m'returncode'\u001b[0m\u001b[0;34m:\u001b[0m \u001b[0mproc\u001b[0m\u001b[0;34m.\u001b[0m\u001b[0mreturncode\u001b[0m\u001b[0;34m,\u001b[0m \u001b[0;34m'stdout'\u001b[0m\u001b[0;34m:\u001b[0m \u001b[0mstdout\u001b[0m\u001b[0;34m.\u001b[0m\u001b[0mdecode\u001b[0m\u001b[0;34m(\u001b[0m\u001b[0;34m'utf-8'\u001b[0m\u001b[0;34m)\u001b[0m\u001b[0;34m,\u001b[0m \u001b[0;34m'stderr'\u001b[0m\u001b[0;34m:\u001b[0m \u001b[0mstderr\u001b[0m\u001b[0;34m.\u001b[0m\u001b[0mdecode\u001b[0m\u001b[0;34m(\u001b[0m\u001b[0;34m'utf-8'\u001b[0m\u001b[0;34m)\u001b[0m\u001b[0;34m}\u001b[0m\u001b[0;34m\u001b[0m\u001b[0;34m\u001b[0m\u001b[0m\n",
      "\u001b[0;32m~/miniconda3/lib/python3.6/subprocess.py\u001b[0m in \u001b[0;36mcommunicate\u001b[0;34m(self, input, timeout)\u001b[0m\n\u001b[1;32m    841\u001b[0m \u001b[0;34m\u001b[0m\u001b[0m\n\u001b[1;32m    842\u001b[0m             \u001b[0;32mtry\u001b[0m\u001b[0;34m:\u001b[0m\u001b[0;34m\u001b[0m\u001b[0;34m\u001b[0m\u001b[0m\n\u001b[0;32m--> 843\u001b[0;31m                 \u001b[0mstdout\u001b[0m\u001b[0;34m,\u001b[0m \u001b[0mstderr\u001b[0m \u001b[0;34m=\u001b[0m \u001b[0mself\u001b[0m\u001b[0;34m.\u001b[0m\u001b[0m_communicate\u001b[0m\u001b[0;34m(\u001b[0m\u001b[0minput\u001b[0m\u001b[0;34m,\u001b[0m \u001b[0mendtime\u001b[0m\u001b[0;34m,\u001b[0m \u001b[0mtimeout\u001b[0m\u001b[0;34m)\u001b[0m\u001b[0;34m\u001b[0m\u001b[0;34m\u001b[0m\u001b[0m\n\u001b[0m\u001b[1;32m    844\u001b[0m             \u001b[0;32mfinally\u001b[0m\u001b[0;34m:\u001b[0m\u001b[0;34m\u001b[0m\u001b[0;34m\u001b[0m\u001b[0m\n\u001b[1;32m    845\u001b[0m                 \u001b[0mself\u001b[0m\u001b[0;34m.\u001b[0m\u001b[0m_communication_started\u001b[0m \u001b[0;34m=\u001b[0m \u001b[0;32mTrue\u001b[0m\u001b[0;34m\u001b[0m\u001b[0;34m\u001b[0m\u001b[0m\n",
      "\u001b[0;32m~/miniconda3/lib/python3.6/subprocess.py\u001b[0m in \u001b[0;36m_communicate\u001b[0;34m(self, input, endtime, orig_timeout)\u001b[0m\n\u001b[1;32m   1512\u001b[0m                         \u001b[0;32mraise\u001b[0m \u001b[0mTimeoutExpired\u001b[0m\u001b[0;34m(\u001b[0m\u001b[0mself\u001b[0m\u001b[0;34m.\u001b[0m\u001b[0margs\u001b[0m\u001b[0;34m,\u001b[0m \u001b[0morig_timeout\u001b[0m\u001b[0;34m)\u001b[0m\u001b[0;34m\u001b[0m\u001b[0;34m\u001b[0m\u001b[0m\n\u001b[1;32m   1513\u001b[0m \u001b[0;34m\u001b[0m\u001b[0m\n\u001b[0;32m-> 1514\u001b[0;31m                     \u001b[0mready\u001b[0m \u001b[0;34m=\u001b[0m \u001b[0mselector\u001b[0m\u001b[0;34m.\u001b[0m\u001b[0mselect\u001b[0m\u001b[0;34m(\u001b[0m\u001b[0mtimeout\u001b[0m\u001b[0;34m)\u001b[0m\u001b[0;34m\u001b[0m\u001b[0;34m\u001b[0m\u001b[0m\n\u001b[0m\u001b[1;32m   1515\u001b[0m                     \u001b[0mself\u001b[0m\u001b[0;34m.\u001b[0m\u001b[0m_check_timeout\u001b[0m\u001b[0;34m(\u001b[0m\u001b[0mendtime\u001b[0m\u001b[0;34m,\u001b[0m \u001b[0morig_timeout\u001b[0m\u001b[0;34m)\u001b[0m\u001b[0;34m\u001b[0m\u001b[0;34m\u001b[0m\u001b[0m\n\u001b[1;32m   1516\u001b[0m \u001b[0;34m\u001b[0m\u001b[0m\n",
      "\u001b[0;32m~/miniconda3/lib/python3.6/selectors.py\u001b[0m in \u001b[0;36mselect\u001b[0;34m(self, timeout)\u001b[0m\n\u001b[1;32m    374\u001b[0m             \u001b[0mready\u001b[0m \u001b[0;34m=\u001b[0m \u001b[0;34m[\u001b[0m\u001b[0;34m]\u001b[0m\u001b[0;34m\u001b[0m\u001b[0;34m\u001b[0m\u001b[0m\n\u001b[1;32m    375\u001b[0m             \u001b[0;32mtry\u001b[0m\u001b[0;34m:\u001b[0m\u001b[0;34m\u001b[0m\u001b[0;34m\u001b[0m\u001b[0m\n\u001b[0;32m--> 376\u001b[0;31m                 \u001b[0mfd_event_list\u001b[0m \u001b[0;34m=\u001b[0m \u001b[0mself\u001b[0m\u001b[0;34m.\u001b[0m\u001b[0m_poll\u001b[0m\u001b[0;34m.\u001b[0m\u001b[0mpoll\u001b[0m\u001b[0;34m(\u001b[0m\u001b[0mtimeout\u001b[0m\u001b[0;34m)\u001b[0m\u001b[0;34m\u001b[0m\u001b[0;34m\u001b[0m\u001b[0m\n\u001b[0m\u001b[1;32m    377\u001b[0m             \u001b[0;32mexcept\u001b[0m \u001b[0mInterruptedError\u001b[0m\u001b[0;34m:\u001b[0m\u001b[0;34m\u001b[0m\u001b[0;34m\u001b[0m\u001b[0m\n\u001b[1;32m    378\u001b[0m                 \u001b[0;32mreturn\u001b[0m \u001b[0mready\u001b[0m\u001b[0;34m\u001b[0m\u001b[0;34m\u001b[0m\u001b[0m\n",
      "\u001b[0;31mKeyboardInterrupt\u001b[0m: "
     ]
    }
   ],
   "source": [
    "result = runcmd('samtools tview -p NC_000012.12:6563080 data/chr12/out.sorted.bam')"
   ]
  },
  {
   "cell_type": "markdown",
   "metadata": {},
   "source": [
    "## A Pool from the multiprocessing module can support parallel execution\n",
    "Python cannot do real, parallel multithreading due to the [GIL](https://realpython.com/python-gil/).  The multiprocessing module simulates a threading library, but uses forked processes."
   ]
  },
  {
   "cell_type": "markdown",
   "metadata": {},
   "source": [
    "#### A module is a file with Python definitions and statements.  The _import_ statement allows you to use those definitions in your code\n",
    "The creation of modules is how Python libraries are made and shared.\n",
    "\n",
    "For example, if you're doing several projects with DNA sequence, you might like a module that had common DNA sequence manipulations.  In a file called dna.py you could define several functions and data that you might use repeatedly:\n",
    "\n",
    "```python\n",
    "DNA_COMPLEMENT = {\n",
    "    'A': 'T',\n",
    "    'T': 'A',\n",
    "    'C': 'G',\n",
    "    'G': 'C',\n",
    "}\n",
    "\n",
    "def reverse_complement(dna):\n",
    "    '''\n",
    "    Return the reverse complement of the DNA sequence\n",
    "    '''\n",
    "    complement = []\n",
    "    for base in reversed(dna):\n",
    "        complement.append(DNA_COMPLEMENT[base.upper()])\n",
    "    return complement\n",
    "\n",
    "\n",
    "def translate(dna, frame=0):\n",
    "    '''\n",
    "    Translate a string of dna sequence into protein sequence using the given frame\n",
    "    '''\n",
    "    protein_sequence = []\n",
    "    for i in range(frame, len(dna), 3):\n",
    "        ...\n",
    "    return ''.join(protein_sequence)\n",
    "\n",
    "def transcribe(dna):\n",
    "    '''\n",
    "    Convert DNA into RNA\n",
    "    '''\n",
    "    return dna.replace('T', 'U')\n",
    "```\n",
    "\n",
    "\n",
    "To use the functions in this file, you would have to either import the entire module and use the functions (via the dot operator):\n",
    "\n",
    "```python\n",
    "import dna\n",
    "\n",
    "transcript_sequence = 'TACGATCGATCGATCGATTATCGATCAGTCA'\n",
    "protein_sequence = dna.translate(transcript_sequence)\n",
    "```\n",
    "\n",
    "Or you could import specific functions from the file\n",
    "\n",
    "```python\n",
    "from dna import translate\n",
    "\n",
    "protein_sequence = translate('TACGATCGATCGATCGATTATCGATCAGTCA')\n",
    "``` \n",
    "    \n",
    "The _from_ keyword will get you to the thing you want to import, but the import is what you're allowed to use in your code"
   ]
  },
  {
   "cell_type": "markdown",
   "metadata": {},
   "source": [
    "#### Python modules can be organized in directories traversed by _from_\n",
    "If the _dna.py_ file described above is placed under a path, e.g. _seqlib/seq/nuc/dna.py_, functions could be accessed using the _from_ keyword with dots replacing the path separator.\n",
    "\n",
    "```python\n",
    "from seqlib.seq.nuc.dna import transcribe\n",
    "```\n",
    "    \n",
    "This will work, but a file named \\_\\_init\\_\\_.py must be present in each of the directories"
   ]
  },
  {
   "cell_type": "markdown",
   "metadata": {},
   "source": [
    "#### Python starts looking for modules based on the value of _sys.path_, which may include PYTHONPATH, the current directory, and ~/.local"
   ]
  },
  {
   "cell_type": "markdown",
   "metadata": {},
   "source": [
    "    [akitzmiller@bioinf01 ~]$ echo $PYTHONPATH\n",
    "    /odyssey/rc_admin/sw/admin/rcpy:\n",
    "\n",
    "    [akitzmiller@bioinf01 ~]$ pwd\n",
    "    /n/home_rc/akitzmiller\n",
    "\n",
    "    [akitzmiller@bioinf01 ~]$ python\n",
    "    Python 2.7.5 (default, Apr  9 2019, 14:30:50) \n",
    "    [GCC 4.8.5 20150623 (Red Hat 4.8.5-36)] on linux2\n",
    "    Type \"help\", \"copyright\", \"credits\" or \"license\" for more information.\n",
    "    \n",
    "    >>> import sys, os\n",
    "    \n",
    "    >>> os.environ['PYTHONPATH']\n",
    "    '/odyssey/rc_admin/sw/admin/rcpy:'\n",
    "    \n",
    "    >>> print '\\n'.join(sys.path)\n",
    "\n",
    "    /odyssey/rc_admin/sw/admin/rcpy\n",
    "    /n/home_rc/akitzmiller\n",
    "    /usr/lib64/python27.zip\n",
    "    /usr/lib64/python2.7\n",
    "    /usr/lib64/python2.7/plat-linux2\n",
    "    /usr/lib64/python2.7/lib-tk\n",
    "    /usr/lib64/python2.7/lib-old\n",
    "    /usr/lib64/python2.7/lib-dynload\n",
    "    /usr/lib64/python2.7/site-packages\n",
    "    /usr/lib64/python2.7/site-packages/gtk-2.0\n",
    "    /usr/lib/python2.7/site-packages\n",
    "    >>> \n"
   ]
  },
  {
   "cell_type": "markdown",
   "metadata": {},
   "source": [
    "#### You can find where a module comes from using the \\_\\_file\\_\\_ property of the module\n",
    "Seriously, everything is an object"
   ]
  },
  {
   "cell_type": "code",
   "execution_count": 8,
   "metadata": {},
   "outputs": [
    {
     "data": {
      "text/plain": [
       "'/Users/akitzmiller/miniconda3/lib/python3.6/os.py'"
      ]
     },
     "execution_count": 8,
     "metadata": {},
     "output_type": "execute_result"
    }
   ],
   "source": [
    "os.__file__"
   ]
  },
  {
   "cell_type": "markdown",
   "metadata": {},
   "source": [
    "#### sys.path is setup relative to the interpreter path, which is why virtual environments work"
   ]
  },
  {
   "cell_type": "code",
   "execution_count": 10,
   "metadata": {},
   "outputs": [
    {
     "name": "stdout",
     "output_type": "stream",
     "text": [
      "/Users/akitzmiller/miniconda3/lib/python36.zip\n",
      "/Users/akitzmiller/miniconda3/lib/python3.6\n",
      "/Users/akitzmiller/miniconda3/lib/python3.6/lib-dynload\n",
      "\n",
      "/Users/akitzmiller/miniconda3/lib/python3.6/site-packages\n",
      "/Users/akitzmiller/miniconda3/lib/python3.6/site-packages/ifxuser-0.0.1-py3.6.egg\n",
      "/Users/akitzmiller/miniconda3/lib/python3.6/site-packages/pytz-2018.7-py3.6.egg\n",
      "/Users/akitzmiller/miniconda3/lib/python3.6/site-packages/ifxmail.client-0.1.0-py3.6.egg\n",
      "/Users/akitzmiller/miniconda3/lib/python3.6/site-packages/ifxurls-1.0.0-py3.6.egg\n",
      "/Users/akitzmiller/miniconda3/lib/python3.6/site-packages/tqdm-4.7.2-py3.6.egg\n",
      "/Users/akitzmiller/miniconda3/lib/python3.6/site-packages/IPython/extensions\n",
      "/Users/akitzmiller/.ipython\n"
     ]
    }
   ],
   "source": [
    "import sys\n",
    "print('\\n'.join(sys.path))"
   ]
  },
  {
   "cell_type": "markdown",
   "metadata": {},
   "source": [
    "### A multiprocessing Pool allows you to manage parallel processes easily\n",
    "##### The _map_ function applies a set of values to a single argument function"
   ]
  },
  {
   "cell_type": "markdown",
   "metadata": {},
   "source": [
    "```python\n",
    "from multiprocessing import Pool\n",
    "import os\n",
    "\n",
    "def echo(echoable):\n",
    "    os.system('echo %s && sleep 10' % echoable)\n",
    "    \n",
    "echoables = [\n",
    "    'ajk',\n",
    "    '123',\n",
    "    'qwerty',\n",
    "    'uiop',\n",
    "    'lkjdsa',\n",
    "]\n",
    "\n",
    "numprocs = 3\n",
    "pool = Pool(numprocs)\n",
    "result = pool.map(echo,echoables)\n",
    "```\n",
    "\n",
    "_123_ <br/>\n",
    "_ajk_ <br/>\n",
    "_qwerty_ <br/>\n",
    "_lkjdsa_ <br/>\n",
    "_uiop_ <br/>\n"
   ]
  },
  {
   "cell_type": "markdown",
   "metadata": {},
   "source": [
    "##### The _apply_async_ function allows you to apply many arguments and returns a 'handle' for interacting with the process."
   ]
  },
  {
   "cell_type": "markdown",
   "metadata": {},
   "source": [
    "```python\n",
    "from multiprocessing import Pool\n",
    "import os\n",
    "def greet(name, message):\n",
    "    os.system('echo \"Hi %s, %s\" && sleep 10' % (name,message))\n",
    "    return '%s was greeted' % name\n",
    "\n",
    "greetings = [\n",
    "    ('Aaron', \"What's up?\"),\n",
    "    ('Bert', \"Where's Ernie?\"),\n",
    "    ('Donald', \"What're you thinking?\"),\n",
    "    ('folks', 'Sup!'),\n",
    "]\n",
    "numprocs = 3\n",
    "pool = Pool(numprocs)\n",
    "results = []\n",
    "for greeting in greetings:\n",
    "    result = pool.apply_async(greet, greeting)\n",
    "    results.append(result)\n",
    "```\n",
    "\n",
    "_Hi Bert, Where's Ernie?_ <br/>\n",
    "_Hi Aaron, What's up?_ <br/>\n",
    "_Hi Donald, What're you thinking?_ <br/>\n",
    "_Hi folks, Sup!_ <br/>\n",
    "    \n",
    "```python\n",
    "for result in results:\n",
    "    print(result.get())\n",
    "```\n",
    "\n",
    "_Aaron was greeted_ <br/>\n",
    "_Bert was greeted_ <br/>\n",
    "_Donald was greeted_ <br/>\n",
    "_folks was greeted_ <br/>\n"
   ]
  },
  {
   "cell_type": "markdown",
   "metadata": {},
   "source": [
    "#### Run several minimap2 processes in parallel\n",
    "Create a function that runs minimap2"
   ]
  },
  {
   "cell_type": "code",
   "execution_count": 19,
   "metadata": {},
   "outputs": [],
   "source": [
    "def minimap2(target_file, query_file):\n",
    "    cmd = './minimap2 {} {}'.format(target_file, query_file)\n",
    "    return runcmd(cmd)"
   ]
  },
  {
   "cell_type": "code",
   "execution_count": 21,
   "metadata": {},
   "outputs": [],
   "source": [
    "queries = [\n",
    "    'data/chr12/annotated-samples.fa',\n",
    "    'data/chr12/mouse.fa',\n",
    "    'data/chr12/zebrafish.fa',\n",
    "]\n",
    "target = 'data/chr12/chr12.fa'"
   ]
  },
  {
   "cell_type": "code",
   "execution_count": 22,
   "metadata": {},
   "outputs": [
    {
     "name": "stdout",
     "output_type": "stream",
     "text": [
      "Finished applying to Pool\n",
      "[M::mm_idx_gen::6.227*0.84] collected minimizers\n",
      "[M::mm_idx_gen::7.756*1.02] sorted minimizers\n",
      "[M::main::7.756*1.02] loaded/built the index for 1 target sequence(s)\n",
      "[M::mm_mapopt_update::8.085*1.01] mid_occ = 188\n",
      "[M::mm_idx_stat] kmer size: 15; skip: 10; is_hpc: 0; #seq: 1\n",
      "[M::mm_idx_stat::8.317*1.01] distinct minimizers: 15811443 (80.14% are singletons); average occurrences: 1.587; average spacing: 5.312\n",
      "[M::worker_pipeline::8.327*1.01] mapped 4 sequences\n",
      "[M::main] Version: 2.17-r954-dirty\n",
      "[M::main] CMD: ./minimap2 data/chr12/chr12.fa data/chr12/annotated-samples.fa\n",
      "[M::main] Real time: 8.548 sec; CPU: 8.616 sec; Peak RSS: 1.214 GB\n",
      "\n",
      "[M::mm_idx_gen::6.318*0.82] collected minimizers\n",
      "[M::mm_idx_gen::7.791*1.01] sorted minimizers\n",
      "[M::main::7.791*1.01] loaded/built the index for 1 target sequence(s)\n",
      "[M::mm_mapopt_update::8.110*1.00] mid_occ = 188\n",
      "[M::mm_idx_stat] kmer size: 15; skip: 10; is_hpc: 0; #seq: 1\n",
      "[M::mm_idx_stat::8.329*1.00] distinct minimizers: 15811443 (80.14% are singletons); average occurrences: 1.587; average spacing: 5.312\n",
      "[M::worker_pipeline::8.349*1.00] mapped 4 sequences\n",
      "[M::main] Version: 2.17-r954-dirty\n",
      "[M::main] CMD: ./minimap2 data/chr12/chr12.fa data/chr12/mouse.fa\n",
      "[M::main] Real time: 8.580 sec; CPU: 8.577 sec; Peak RSS: 1.152 GB\n",
      "\n",
      "[M::mm_idx_gen::5.427*0.89] collected minimizers\n",
      "[M::mm_idx_gen::6.467*1.14] sorted minimizers\n",
      "[M::main::6.467*1.14] loaded/built the index for 1 target sequence(s)\n",
      "[M::mm_mapopt_update::6.794*1.13] mid_occ = 188\n",
      "[M::mm_idx_stat] kmer size: 15; skip: 10; is_hpc: 0; #seq: 1\n",
      "[M::mm_idx_stat::7.011*1.13] distinct minimizers: 15811443 (80.14% are singletons); average occurrences: 1.587; average spacing: 5.312\n",
      "[M::worker_pipeline::7.038*1.12] mapped 1 sequences\n",
      "[M::main] Version: 2.17-r954-dirty\n",
      "[M::main] CMD: ./minimap2 data/chr12/chr12.fa data/chr12/zebrafish.fa\n",
      "[M::main] Real time: 7.278 sec; CPU: 8.134 sec; Peak RSS: 1.183 GB\n",
      "\n"
     ]
    }
   ],
   "source": []
  },
  {
   "cell_type": "markdown",
   "metadata": {},
   "source": [
    "Running in series will be pretty slow"
   ]
  },
  {
   "cell_type": "code",
   "execution_count": 23,
   "metadata": {},
   "outputs": [
    {
     "name": "stdout",
     "output_type": "stream",
     "text": [
      "[M::mm_idx_gen::5.642*0.85] collected minimizers\n",
      "[M::mm_idx_gen::6.475*1.11] sorted minimizers\n",
      "[M::main::6.475*1.11] loaded/built the index for 1 target sequence(s)\n",
      "[M::mm_mapopt_update::6.800*1.10] mid_occ = 188\n",
      "[M::mm_idx_stat] kmer size: 15; skip: 10; is_hpc: 0; #seq: 1\n",
      "[M::mm_idx_stat::7.013*1.10] distinct minimizers: 15811443 (80.14% are singletons); average occurrences: 1.587; average spacing: 5.312\n",
      "[M::worker_pipeline::7.015*1.10] mapped 4 sequences\n",
      "[M::main] Version: 2.17-r954-dirty\n",
      "[M::main] CMD: ./minimap2 data/chr12/chr12.fa data/chr12/annotated-samples.fa\n",
      "[M::main] Real time: 7.227 sec; CPU: 7.890 sec; Peak RSS: 1.152 GB\n",
      "\n",
      "[M::mm_idx_gen::4.974*0.93] collected minimizers\n",
      "[M::mm_idx_gen::5.815*1.21] sorted minimizers\n",
      "[M::main::5.815*1.21] loaded/built the index for 1 target sequence(s)\n",
      "[M::mm_mapopt_update::6.132*1.19] mid_occ = 188\n",
      "[M::mm_idx_stat] kmer size: 15; skip: 10; is_hpc: 0; #seq: 1\n",
      "[M::mm_idx_stat::6.340*1.19] distinct minimizers: 15811443 (80.14% are singletons); average occurrences: 1.587; average spacing: 5.312\n",
      "[M::worker_pipeline::6.342*1.19] mapped 4 sequences\n",
      "[M::main] Version: 2.17-r954-dirty\n",
      "[M::main] CMD: ./minimap2 data/chr12/chr12.fa data/chr12/mouse.fa\n",
      "[M::main] Real time: 6.551 sec; CPU: 7.729 sec; Peak RSS: 1.184 GB\n",
      "\n",
      "[M::mm_idx_gen::4.646*0.96] collected minimizers\n",
      "[M::mm_idx_gen::5.554*1.24] sorted minimizers\n",
      "[M::main::5.554*1.24] loaded/built the index for 1 target sequence(s)\n",
      "[M::mm_mapopt_update::5.851*1.23] mid_occ = 188\n",
      "[M::mm_idx_stat] kmer size: 15; skip: 10; is_hpc: 0; #seq: 1\n",
      "[M::mm_idx_stat::6.082*1.21] distinct minimizers: 15811443 (80.14% are singletons); average occurrences: 1.587; average spacing: 5.312\n",
      "[M::worker_pipeline::6.084*1.22] mapped 4 sequences\n",
      "[M::main] Version: 2.17-r954-dirty\n",
      "[M::main] CMD: ./minimap2 data/chr12/chr12.fa data/chr12/mouse.fa\n",
      "[M::main] Real time: 6.300 sec; CPU: 7.604 sec; Peak RSS: 1.153 GB\n",
      "\n",
      "20 seconds elapsed\n"
     ]
    }
   ],
   "source": [
    "import time\n",
    "\n",
    "starttime = time.time()\n",
    "for query in [query1, query2, query2]:\n",
    "    output = minimap2(target, query)\n",
    "    print(output['stderr'])\n",
    "elapsed = time.time() - starttime\n",
    "print('%d seconds elapsed' % elapsed)"
   ]
  },
  {
   "cell_type": "markdown",
   "metadata": {},
   "source": [
    "But in parallel"
   ]
  },
  {
   "cell_type": "code",
   "execution_count": 25,
   "metadata": {},
   "outputs": [
    {
     "name": "stdout",
     "output_type": "stream",
     "text": [
      "Finished applying to Pool\n",
      "[M::mm_idx_gen::5.556*0.91] collected minimizers\n",
      "[M::mm_idx_gen::7.032*1.09] sorted minimizers\n",
      "[M::main::7.032*1.09] loaded/built the index for 1 target sequence(s)\n",
      "[M::mm_mapopt_update::7.343*1.09] mid_occ = 188\n",
      "[M::mm_idx_stat] kmer size: 15; skip: 10; is_hpc: 0; #seq: 1\n",
      "[M::mm_idx_stat::7.577*1.08] distinct minimizers: 15811443 (80.14% are singletons); average occurrences: 1.587; average spacing: 5.312\n",
      "[M::worker_pipeline::7.579*1.08] mapped 4 sequences\n",
      "[M::main] Version: 2.17-r954-dirty\n",
      "[M::main] CMD: ./minimap2 data/chr12/chr12.fa data/chr12/annotated-samples.fa\n",
      "[M::main] Real time: 7.808 sec; CPU: 8.413 sec; Peak RSS: 1.152 GB\n",
      "\n",
      "[M::mm_idx_gen::5.604*0.91] collected minimizers\n",
      "[M::mm_idx_gen::7.097*1.08] sorted minimizers\n",
      "[M::main::7.097*1.08] loaded/built the index for 1 target sequence(s)\n",
      "[M::mm_mapopt_update::7.393*1.08] mid_occ = 188\n",
      "[M::mm_idx_stat] kmer size: 15; skip: 10; is_hpc: 0; #seq: 1\n",
      "[M::mm_idx_stat::7.617*1.08] distinct minimizers: 15811443 (80.14% are singletons); average occurrences: 1.587; average spacing: 5.312\n",
      "[M::worker_pipeline::7.619*1.08] mapped 4 sequences\n",
      "[M::main] Version: 2.17-r954-dirty\n",
      "[M::main] CMD: ./minimap2 data/chr12/chr12.fa data/chr12/mouse.fa\n",
      "[M::main] Real time: 7.852 sec; CPU: 8.420 sec; Peak RSS: 1.152 GB\n",
      "\n",
      "[M::mm_idx_gen::4.904*0.94] collected minimizers\n",
      "[M::mm_idx_gen::5.756*1.21] sorted minimizers\n",
      "[M::main::5.756*1.21] loaded/built the index for 1 target sequence(s)\n",
      "[M::mm_mapopt_update::6.045*1.20] mid_occ = 188\n",
      "[M::mm_idx_stat] kmer size: 15; skip: 10; is_hpc: 0; #seq: 1\n",
      "[M::mm_idx_stat::6.253*1.19] distinct minimizers: 15811443 (80.14% are singletons); average occurrences: 1.587; average spacing: 5.312\n",
      "[M::worker_pipeline::6.253*1.19] mapped 1 sequences\n",
      "[M::main] Version: 2.17-r954-dirty\n",
      "[M::main] CMD: ./minimap2 data/chr12/chr12.fa data/chr12/zebrafish.fa\n",
      "[M::main] Real time: 6.461 sec; CPU: 7.663 sec; Peak RSS: 1.217 GB\n",
      "\n",
      "14 seconds elapsed\n"
     ]
    }
   ],
   "source": [
    "from multiprocessing import Pool\n",
    "\n",
    "numprocs = 2\n",
    "pool = Pool(numprocs)\n",
    "results = []\n",
    "starttime = time.time()\n",
    "for query in queries:\n",
    "    result = pool.apply_async(minimap2, [target, query])\n",
    "    results.append(result)\n",
    "\n",
    "print('Finished applying to Pool')\n",
    "\n",
    "for result in results:\n",
    "    output = result.get()\n",
    "    print(output['stderr'])\n",
    "elapsed = time.time() - starttime\n",
    "print('%d seconds elapsed' % elapsed)"
   ]
  },
  {
   "cell_type": "code",
   "execution_count": null,
   "metadata": {},
   "outputs": [],
   "source": []
  }
 ],
 "metadata": {
  "kernelspec": {
   "display_name": "Python 3",
   "language": "python",
   "name": "python3"
  },
  "language_info": {
   "codemirror_mode": {
    "name": "ipython",
    "version": 3
   },
   "file_extension": ".py",
   "mimetype": "text/x-python",
   "name": "python",
   "nbconvert_exporter": "python",
   "pygments_lexer": "ipython3",
   "version": "3.6.7"
  }
 },
 "nbformat": 4,
 "nbformat_minor": 4
}
